{
 "cells": [
  {
   "cell_type": "markdown",
   "metadata": {},
   "source": [
    "# Проект для «Викишоп»"
   ]
  },
  {
   "cell_type": "markdown",
   "metadata": {},
   "source": [
    "Интернет-магазин «Викишоп» запускает новый сервис. Теперь пользователи могут редактировать и дополнять описания товаров, как в вики-сообществах. То есть клиенты предлагают свои правки и комментируют изменения других. Магазину нужен инструмент, который будет искать токсичные комментарии и отправлять их на модерацию. \n",
    "\n",
    "Задача: \n",
    "\n",
    "Обучить модель классифицировать комментарии на позитивные и негативные. В нашем распоряжении набор данных с разметкой о токсичности правок. Построить модель со значением метрики качества *F1* не меньше 0.75. \n",
    "\n",
    "**Инструкция по выполнению проекта**\n",
    "\n",
    "1. Загрузить и подготовить данные.\n",
    "2. Обучить разные модели. \n",
    "3. Сделайть выводы."
   ]
  },
  {
   "cell_type": "code",
   "execution_count": 1,
   "metadata": {},
   "outputs": [],
   "source": [
    "import time\n",
    "import re\n",
    "import pandas as pd\n",
    "import nltk\n",
    "from nltk.corpus import stopwords\n",
    "\n",
    "from nltk.corpus import wordnet\n",
    "from nltk.stem import WordNetLemmatizer\n",
    "\n",
    "from sklearn.linear_model import LogisticRegression, SGDClassifier\n",
    "from sklearn.ensemble import RandomForestClassifier\n",
    "from sklearn.metrics import f1_score\n",
    "from sklearn.model_selection import train_test_split, GridSearchCV, cross_val_score\n",
    "from sklearn.feature_extraction.text import TfidfVectorizer"
   ]
  },
  {
   "cell_type": "code",
   "execution_count": 2,
   "metadata": {
    "scrolled": true
   },
   "outputs": [
    {
     "name": "stderr",
     "output_type": "stream",
     "text": [
      "[nltk_data] Downloading package averaged_perceptron_tagger to\n",
      "[nltk_data]     /home/jovyan/nltk_data...\n",
      "[nltk_data]   Package averaged_perceptron_tagger is already up-to-\n",
      "[nltk_data]       date!\n",
      "[nltk_data] Downloading package wordnet to /home/jovyan/nltk_data...\n",
      "[nltk_data]   Package wordnet is already up-to-date!\n",
      "[nltk_data] Downloading package omw-1.4 to /home/jovyan/nltk_data...\n",
      "[nltk_data]   Package omw-1.4 is already up-to-date!\n",
      "[nltk_data] Downloading package stopwords to /home/jovyan/nltk_data...\n",
      "[nltk_data]   Package stopwords is already up-to-date!\n"
     ]
    },
    {
     "data": {
      "text/plain": [
       "True"
      ]
     },
     "execution_count": 2,
     "metadata": {},
     "output_type": "execute_result"
    }
   ],
   "source": [
    "nltk.download('averaged_perceptron_tagger')\n",
    "nltk.download('wordnet')\n",
    "nltk.download('omw-1.4')\n",
    "nltk.download('stopwords')"
   ]
  },
  {
   "cell_type": "markdown",
   "metadata": {},
   "source": [
    "## Подготовка"
   ]
  },
  {
   "cell_type": "code",
   "execution_count": 3,
   "metadata": {},
   "outputs": [
    {
     "data": {
      "text/html": [
       "<div>\n",
       "<style scoped>\n",
       "    .dataframe tbody tr th:only-of-type {\n",
       "        vertical-align: middle;\n",
       "    }\n",
       "\n",
       "    .dataframe tbody tr th {\n",
       "        vertical-align: top;\n",
       "    }\n",
       "\n",
       "    .dataframe thead th {\n",
       "        text-align: right;\n",
       "    }\n",
       "</style>\n",
       "<table border=\"1\" class=\"dataframe\">\n",
       "  <thead>\n",
       "    <tr style=\"text-align: right;\">\n",
       "      <th></th>\n",
       "      <th>Unnamed: 0</th>\n",
       "      <th>text</th>\n",
       "      <th>toxic</th>\n",
       "    </tr>\n",
       "  </thead>\n",
       "  <tbody>\n",
       "    <tr>\n",
       "      <th>0</th>\n",
       "      <td>0</td>\n",
       "      <td>Explanation\\nWhy the edits made under my usern...</td>\n",
       "      <td>0</td>\n",
       "    </tr>\n",
       "    <tr>\n",
       "      <th>1</th>\n",
       "      <td>1</td>\n",
       "      <td>D'aww! He matches this background colour I'm s...</td>\n",
       "      <td>0</td>\n",
       "    </tr>\n",
       "    <tr>\n",
       "      <th>2</th>\n",
       "      <td>2</td>\n",
       "      <td>Hey man, I'm really not trying to edit war. It...</td>\n",
       "      <td>0</td>\n",
       "    </tr>\n",
       "    <tr>\n",
       "      <th>3</th>\n",
       "      <td>3</td>\n",
       "      <td>\"\\nMore\\nI can't make any real suggestions on ...</td>\n",
       "      <td>0</td>\n",
       "    </tr>\n",
       "    <tr>\n",
       "      <th>4</th>\n",
       "      <td>4</td>\n",
       "      <td>You, sir, are my hero. Any chance you remember...</td>\n",
       "      <td>0</td>\n",
       "    </tr>\n",
       "  </tbody>\n",
       "</table>\n",
       "</div>"
      ],
      "text/plain": [
       "   Unnamed: 0                                               text  toxic\n",
       "0           0  Explanation\\nWhy the edits made under my usern...      0\n",
       "1           1  D'aww! He matches this background colour I'm s...      0\n",
       "2           2  Hey man, I'm really not trying to edit war. It...      0\n",
       "3           3  \"\\nMore\\nI can't make any real suggestions on ...      0\n",
       "4           4  You, sir, are my hero. Any chance you remember...      0"
      ]
     },
     "execution_count": 3,
     "metadata": {},
     "output_type": "execute_result"
    }
   ],
   "source": [
    "df = pd.read_csv('...')\n",
    "df.head()"
   ]
  },
  {
   "cell_type": "code",
   "execution_count": 4,
   "metadata": {},
   "outputs": [],
   "source": [
    "#уберем лишний столбец Unnamed 0\n",
    "df = df.drop(columns=[\"Unnamed: 0\"])"
   ]
  },
  {
   "cell_type": "code",
   "execution_count": 5,
   "metadata": {},
   "outputs": [
    {
     "data": {
      "text/plain": [
       "Index(['text', 'toxic'], dtype='object')"
      ]
     },
     "execution_count": 5,
     "metadata": {},
     "output_type": "execute_result"
    }
   ],
   "source": [
    "df.columns"
   ]
  },
  {
   "cell_type": "code",
   "execution_count": 6,
   "metadata": {},
   "outputs": [
    {
     "data": {
      "text/html": [
       "<div>\n",
       "<style scoped>\n",
       "    .dataframe tbody tr th:only-of-type {\n",
       "        vertical-align: middle;\n",
       "    }\n",
       "\n",
       "    .dataframe tbody tr th {\n",
       "        vertical-align: top;\n",
       "    }\n",
       "\n",
       "    .dataframe thead th {\n",
       "        text-align: right;\n",
       "    }\n",
       "</style>\n",
       "<table border=\"1\" class=\"dataframe\">\n",
       "  <thead>\n",
       "    <tr style=\"text-align: right;\">\n",
       "      <th></th>\n",
       "      <th>text</th>\n",
       "      <th>toxic</th>\n",
       "    </tr>\n",
       "  </thead>\n",
       "  <tbody>\n",
       "    <tr>\n",
       "      <th>0</th>\n",
       "      <td>Explanation\\nWhy the edits made under my usern...</td>\n",
       "      <td>0</td>\n",
       "    </tr>\n",
       "    <tr>\n",
       "      <th>1</th>\n",
       "      <td>D'aww! He matches this background colour I'm s...</td>\n",
       "      <td>0</td>\n",
       "    </tr>\n",
       "    <tr>\n",
       "      <th>2</th>\n",
       "      <td>Hey man, I'm really not trying to edit war. It...</td>\n",
       "      <td>0</td>\n",
       "    </tr>\n",
       "    <tr>\n",
       "      <th>3</th>\n",
       "      <td>\"\\nMore\\nI can't make any real suggestions on ...</td>\n",
       "      <td>0</td>\n",
       "    </tr>\n",
       "    <tr>\n",
       "      <th>4</th>\n",
       "      <td>You, sir, are my hero. Any chance you remember...</td>\n",
       "      <td>0</td>\n",
       "    </tr>\n",
       "  </tbody>\n",
       "</table>\n",
       "</div>"
      ],
      "text/plain": [
       "                                                text  toxic\n",
       "0  Explanation\\nWhy the edits made under my usern...      0\n",
       "1  D'aww! He matches this background colour I'm s...      0\n",
       "2  Hey man, I'm really not trying to edit war. It...      0\n",
       "3  \"\\nMore\\nI can't make any real suggestions on ...      0\n",
       "4  You, sir, are my hero. Any chance you remember...      0"
      ]
     },
     "execution_count": 6,
     "metadata": {},
     "output_type": "execute_result"
    }
   ],
   "source": [
    "df.head()"
   ]
  },
  {
   "cell_type": "code",
   "execution_count": 7,
   "metadata": {
    "scrolled": true
   },
   "outputs": [
    {
     "name": "stdout",
     "output_type": "stream",
     "text": [
      "<class 'pandas.core.frame.DataFrame'>\n",
      "RangeIndex: 159292 entries, 0 to 159291\n",
      "Data columns (total 2 columns):\n",
      " #   Column  Non-Null Count   Dtype \n",
      "---  ------  --------------   ----- \n",
      " 0   text    159292 non-null  object\n",
      " 1   toxic   159292 non-null  int64 \n",
      "dtypes: int64(1), object(1)\n",
      "memory usage: 2.4+ MB\n"
     ]
    }
   ],
   "source": [
    "df.info()"
   ]
  },
  {
   "cell_type": "code",
   "execution_count": 8,
   "metadata": {},
   "outputs": [
    {
     "data": {
      "text/plain": [
       "0    143106\n",
       "1     16186\n",
       "Name: toxic, dtype: int64"
      ]
     },
     "execution_count": 8,
     "metadata": {},
     "output_type": "execute_result"
    }
   ],
   "source": [
    "#найдем уникальные значения для столбца \"toxic\", который будет у нас целевым признаком\n",
    "df['toxic'].value_counts()"
   ]
  },
  {
   "cell_type": "markdown",
   "metadata": {},
   "source": [
    "Выявлен сильный дисбаланс классов целевого признака, учтем это при обучении моделей "
   ]
  },
  {
   "cell_type": "code",
   "execution_count": 9,
   "metadata": {},
   "outputs": [
    {
     "data": {
      "text/plain": [
       "0"
      ]
     },
     "execution_count": 9,
     "metadata": {},
     "output_type": "execute_result"
    }
   ],
   "source": [
    "#проверим на дубликаты\n",
    "df.duplicated().sum()"
   ]
  },
  {
   "cell_type": "code",
   "execution_count": 10,
   "metadata": {},
   "outputs": [],
   "source": [
    "#инициализация лемматайзера\n",
    "lemmatizer = WordNetLemmatizer()"
   ]
  },
  {
   "cell_type": "code",
   "execution_count": 11,
   "metadata": {},
   "outputs": [],
   "source": [
    "#функция для определения POS-тегов\n",
    "def get_wordnet_pos(word):\n",
    "    tag = nltk.pos_tag([word])[0][1][0].upper()\n",
    "    tag_dict = {\"J\": wordnet.ADJ,\n",
    "                \"N\": wordnet.NOUN,\n",
    "                \"V\": wordnet.VERB,\n",
    "                \"R\": wordnet.ADV}\n",
    "    return tag_dict.get(tag, wordnet.NOUN)"
   ]
  },
  {
   "cell_type": "code",
   "execution_count": 12,
   "metadata": {},
   "outputs": [],
   "source": [
    "#функция для очистки и лемматизации текста\n",
    "def cleaning(text):\n",
    "    text = re.sub(r\"(?:\\n|\\r)\", \" \", text)  \n",
    "    text = re.sub(r\"[^a-zA-Z ]+\", \"\", text).strip() \n",
    "    text = text.lower()\n",
    "    words = text.split()\n",
    "    lemmatized_text = \" \".join(lemmatizer.lemmatize(word, get_wordnet_pos(word)) for word in words)\n",
    "    return lemmatized_text"
   ]
  },
  {
   "cell_type": "code",
   "execution_count": 13,
   "metadata": {
    "scrolled": true
   },
   "outputs": [],
   "source": [
    "# применение функции к столбцу \"text\"\n",
    "df['lemmatized_text'] = df['text'].apply(cleaning)"
   ]
  },
  {
   "cell_type": "code",
   "execution_count": 14,
   "metadata": {},
   "outputs": [],
   "source": [
    "stopwords = set(stopwords.words('english'))"
   ]
  },
  {
   "cell_type": "code",
   "execution_count": 15,
   "metadata": {
    "scrolled": true
   },
   "outputs": [
    {
     "data": {
      "text/html": [
       "<div>\n",
       "<style scoped>\n",
       "    .dataframe tbody tr th:only-of-type {\n",
       "        vertical-align: middle;\n",
       "    }\n",
       "\n",
       "    .dataframe tbody tr th {\n",
       "        vertical-align: top;\n",
       "    }\n",
       "\n",
       "    .dataframe thead th {\n",
       "        text-align: right;\n",
       "    }\n",
       "</style>\n",
       "<table border=\"1\" class=\"dataframe\">\n",
       "  <thead>\n",
       "    <tr style=\"text-align: right;\">\n",
       "      <th></th>\n",
       "      <th>text</th>\n",
       "      <th>toxic</th>\n",
       "      <th>lemmatized_text</th>\n",
       "    </tr>\n",
       "  </thead>\n",
       "  <tbody>\n",
       "    <tr>\n",
       "      <th>0</th>\n",
       "      <td>Explanation\\nWhy the edits made under my usern...</td>\n",
       "      <td>0</td>\n",
       "      <td>explanation why the edits make under my userna...</td>\n",
       "    </tr>\n",
       "    <tr>\n",
       "      <th>1</th>\n",
       "      <td>D'aww! He matches this background colour I'm s...</td>\n",
       "      <td>0</td>\n",
       "      <td>daww he match this background colour im seemin...</td>\n",
       "    </tr>\n",
       "    <tr>\n",
       "      <th>2</th>\n",
       "      <td>Hey man, I'm really not trying to edit war. It...</td>\n",
       "      <td>0</td>\n",
       "      <td>hey man im really not try to edit war it just ...</td>\n",
       "    </tr>\n",
       "    <tr>\n",
       "      <th>3</th>\n",
       "      <td>\"\\nMore\\nI can't make any real suggestions on ...</td>\n",
       "      <td>0</td>\n",
       "      <td>more i cant make any real suggestion on improv...</td>\n",
       "    </tr>\n",
       "    <tr>\n",
       "      <th>4</th>\n",
       "      <td>You, sir, are my hero. Any chance you remember...</td>\n",
       "      <td>0</td>\n",
       "      <td>you sir be my hero any chance you remember wha...</td>\n",
       "    </tr>\n",
       "  </tbody>\n",
       "</table>\n",
       "</div>"
      ],
      "text/plain": [
       "                                                text  toxic  \\\n",
       "0  Explanation\\nWhy the edits made under my usern...      0   \n",
       "1  D'aww! He matches this background colour I'm s...      0   \n",
       "2  Hey man, I'm really not trying to edit war. It...      0   \n",
       "3  \"\\nMore\\nI can't make any real suggestions on ...      0   \n",
       "4  You, sir, are my hero. Any chance you remember...      0   \n",
       "\n",
       "                                     lemmatized_text  \n",
       "0  explanation why the edits make under my userna...  \n",
       "1  daww he match this background colour im seemin...  \n",
       "2  hey man im really not try to edit war it just ...  \n",
       "3  more i cant make any real suggestion on improv...  \n",
       "4  you sir be my hero any chance you remember wha...  "
      ]
     },
     "execution_count": 15,
     "metadata": {},
     "output_type": "execute_result"
    }
   ],
   "source": [
    "#просмотр результата\n",
    "df.head()"
   ]
  },
  {
   "cell_type": "markdown",
   "metadata": {},
   "source": [
    "Промежуточный вывод: \n",
    "Данные были успешно прочитаны и подготовлены, удалён лишний столбец Unnamed: 0. Данные лемматизировали - привели слова к начальным формам, перезаписали столбец с текстом. "
   ]
  },
  {
   "cell_type": "markdown",
   "metadata": {},
   "source": [
    "## Обучение"
   ]
  },
  {
   "cell_type": "code",
   "execution_count": 16,
   "metadata": {},
   "outputs": [],
   "source": [
    "#разделим данные на признаки и целевой столбец\n",
    "X = df['lemmatized_text']\n",
    "y = df['toxic'].values\n",
    "\n",
    "#разделение на тренировочную и тестовую выборки в соотношении 70:30\n",
    "X_train, X_test, y_train, y_test = train_test_split(X, y, test_size=0.2, random_state=42)"
   ]
  },
  {
   "cell_type": "code",
   "execution_count": 17,
   "metadata": {},
   "outputs": [],
   "source": [
    "count_tf_idf = TfidfVectorizer()"
   ]
  },
  {
   "cell_type": "code",
   "execution_count": 18,
   "metadata": {},
   "outputs": [],
   "source": [
    "#векторизация текста\n",
    "tfidf = TfidfVectorizer(stop_words=stopwords, max_features=10000)  \n",
    "\n",
    "#преобразуем тренировочные и тестовые данные\n",
    "X_train_tfidf = tfidf.fit_transform(X_train)\n",
    "X_test_tfidf = tfidf.transform(X_test)"
   ]
  },
  {
   "cell_type": "code",
   "execution_count": 19,
   "metadata": {},
   "outputs": [
    {
     "name": "stdout",
     "output_type": "stream",
     "text": [
      "Fitting 3 folds for each of 12 candidates, totalling 36 fits\n"
     ]
    },
    {
     "name": "stderr",
     "output_type": "stream",
     "text": [
      "/opt/conda/lib/python3.9/site-packages/sklearn/linear_model/_sag.py:328: ConvergenceWarning: The max_iter was reached which means the coef_ did not converge\n",
      "  warnings.warn(\"The max_iter was reached which means \"\n",
      "/opt/conda/lib/python3.9/site-packages/sklearn/linear_model/_sag.py:328: ConvergenceWarning: The max_iter was reached which means the coef_ did not converge\n",
      "  warnings.warn(\"The max_iter was reached which means \"\n"
     ]
    },
    {
     "name": "stdout",
     "output_type": "stream",
     "text": [
      "\n",
      "Лучшие гиперпараметры: {'C': 10, 'penalty': 'l2', 'solver': 'saga'}\n",
      "Среднее F1 Score на тренировочной выборке (кросс-валидация): 0.7653394751438393\n",
      "Время обучения с подбором гиперпараметров: 4089.626240968704\n"
     ]
    }
   ],
   "source": [
    "#обучение модели LogisticRegression\n",
    "model_lr = LogisticRegression(max_iter=1000,\n",
    "                              random_state=42,\n",
    "                              class_weight='balanced')\n",
    "\n",
    "#подбор гиперпараметров\n",
    "param_grid = {\n",
    "    'C': [0.1, 1, 10],\n",
    "    'penalty': ['l1', 'l2'],\n",
    "    'solver': ['liblinear', 'saga']\n",
    "}\n",
    "\n",
    "grid_search = GridSearchCV(model_lr, param_grid, cv=3, scoring='f1', verbose=1, n_jobs=-1)\n",
    "\n",
    "start = time.time()\n",
    "grid_search.fit(X_train_tfidf, y_train) \n",
    "end = time.time()\n",
    "\n",
    "\n",
    "best_model = grid_search.best_estimator_\n",
    "best_params = grid_search.best_params_\n",
    "\n",
    "#средний F1 по кросс-валидации\n",
    "f1_lr = grid_search.best_score_  \n",
    "\n",
    "print(\"\\nЛучшие гиперпараметры:\", best_params)\n",
    "print(\"Среднее F1 Score на тренировочной выборке (кросс-валидация):\", f1_lr)\n",
    "print(\"Время обучения с подбором гиперпараметров:\", end - start)"
   ]
  },
  {
   "cell_type": "code",
   "execution_count": 20,
   "metadata": {},
   "outputs": [
    {
     "name": "stdout",
     "output_type": "stream",
     "text": [
      "Random Forest:\n",
      "Время обучения:(c учетом кросс-валидации) 1141.9850716590881\n",
      "F1 Score: 0.6776274110209461\n"
     ]
    }
   ],
   "source": [
    "#обучение модели RandomForestClassifier\n",
    "model_rf = RandomForestClassifier(n_estimators=100, random_state=42, class_weight='balanced')\n",
    "\n",
    "#оценка модели с использованием кросс-валидации\n",
    "start = time.time()\n",
    "cv_scores_rf = cross_val_score(model_rf, X_train_tfidf, y_train, cv=5, scoring='f1', n_jobs=-1)\n",
    "end = time.time()\n",
    "\n",
    "f1_rf = cv_scores_rf.mean()\n",
    "\n",
    "print(\"Random Forest:\")\n",
    "print(\"Время обучения:(c учетом кросс-валидации)\", end - start)\n",
    "print(\"F1 Score:\", f1_rf)"
   ]
  },
  {
   "cell_type": "code",
   "execution_count": 21,
   "metadata": {},
   "outputs": [
    {
     "name": "stdout",
     "output_type": "stream",
     "text": [
      "SGDClassifier:\n",
      "Среднее F1 Score (кросс-валидация): 0.7190087557090854\n",
      "Время обучения с кросс-валидацией: 1.6156809329986572 секунд\n"
     ]
    }
   ],
   "source": [
    "#обучение модели SGDClassifier\n",
    "model_sgd = SGDClassifier(random_state=42, class_weight='balanced')\n",
    "\n",
    "#оценка модели с использованием кросс-валидации\n",
    "start = time.time()\n",
    "cv_scores_sgd = cross_val_score(model_sgd, X_train_tfidf, y_train, cv=5, scoring='f1')\n",
    "end = time.time()\n",
    "\n",
    "f1_sgd = cv_scores_sgd.mean()\n",
    "\n",
    "# Вывод результатов\n",
    "print(\"SGDClassifier:\")\n",
    "print(\"Среднее F1 Score (кросс-валидация):\", f1_sgd)\n",
    "print(\"Время обучения с кросс-валидацией:\", end - start, \"секунд\")"
   ]
  },
  {
   "cell_type": "code",
   "execution_count": 22,
   "metadata": {},
   "outputs": [
    {
     "data": {
      "text/html": [
       "<div>\n",
       "<style scoped>\n",
       "    .dataframe tbody tr th:only-of-type {\n",
       "        vertical-align: middle;\n",
       "    }\n",
       "\n",
       "    .dataframe tbody tr th {\n",
       "        vertical-align: top;\n",
       "    }\n",
       "\n",
       "    .dataframe thead th {\n",
       "        text-align: right;\n",
       "    }\n",
       "</style>\n",
       "<table border=\"1\" class=\"dataframe\">\n",
       "  <thead>\n",
       "    <tr style=\"text-align: right;\">\n",
       "      <th></th>\n",
       "      <th>Model</th>\n",
       "      <th>F1 Score</th>\n",
       "    </tr>\n",
       "  </thead>\n",
       "  <tbody>\n",
       "    <tr>\n",
       "      <th>0</th>\n",
       "      <td>Logistic Regression</td>\n",
       "      <td>0.765339</td>\n",
       "    </tr>\n",
       "    <tr>\n",
       "      <th>2</th>\n",
       "      <td>SGDClassifier</td>\n",
       "      <td>0.719009</td>\n",
       "    </tr>\n",
       "    <tr>\n",
       "      <th>1</th>\n",
       "      <td>Random Forest</td>\n",
       "      <td>0.677627</td>\n",
       "    </tr>\n",
       "  </tbody>\n",
       "</table>\n",
       "</div>"
      ],
      "text/plain": [
       "                 Model  F1 Score\n",
       "0  Logistic Regression  0.765339\n",
       "2        SGDClassifier  0.719009\n",
       "1        Random Forest  0.677627"
      ]
     },
     "execution_count": 22,
     "metadata": {},
     "output_type": "execute_result"
    }
   ],
   "source": [
    "results = pd.DataFrame({\n",
    "    'Model': ['Logistic Regression', 'Random Forest', 'SGDClassifier'],\n",
    "    'F1 Score': [f1_lr, f1_rf, f1_sgd]\n",
    "})\n",
    "\n",
    "results.sort_values(by='F1 Score', ascending=False)"
   ]
  },
  {
   "cell_type": "markdown",
   "metadata": {},
   "source": [
    "## Выводы"
   ]
  },
  {
   "cell_type": "code",
   "execution_count": 23,
   "metadata": {},
   "outputs": [
    {
     "name": "stdout",
     "output_type": "stream",
     "text": [
      "F1 Score на тестовой выборке: 0.7748691099476439\n"
     ]
    }
   ],
   "source": [
    "#финальная проверка одной модели на тестовой выборке\n",
    "y_pred_test = best_model.predict(X_test_tfidf)\n",
    "f1_test = f1_score(y_test, y_pred_test)\n",
    "\n",
    "print(\"F1 Score на тестовой выборке:\", f1_test)"
   ]
  },
  {
   "cell_type": "markdown",
   "metadata": {},
   "source": [
    "Модель, удовлетворяющая требованию (F1 > 0.75), была найдена: значение F1 на тестовой выборке составило 0.775. В данных отсутствуют пропуски и дубликаты. Лучшая модель использует алгоритм Logistic Regression."
   ]
  }
 ],
 "metadata": {
  "ExecuteTimeLog": [
   {
    "duration": 416,
    "start_time": "2024-11-28T23:16:57.475Z"
   },
   {
    "duration": 1232,
    "start_time": "2024-11-28T23:17:19.801Z"
   },
   {
    "duration": 25,
    "start_time": "2024-11-28T23:18:49.990Z"
   },
   {
    "duration": 64,
    "start_time": "2024-11-28T23:29:58.465Z"
   },
   {
    "duration": 6,
    "start_time": "2024-11-28T23:30:06.770Z"
   },
   {
    "duration": 3,
    "start_time": "2024-11-28T23:31:32.448Z"
   },
   {
    "duration": 6,
    "start_time": "2024-11-28T23:32:41.477Z"
   },
   {
    "duration": 3,
    "start_time": "2024-11-28T23:32:42.045Z"
   },
   {
    "duration": 22,
    "start_time": "2024-11-28T23:32:43.090Z"
   },
   {
    "duration": 803,
    "start_time": "2024-11-28T23:32:48.100Z"
   },
   {
    "duration": 6,
    "start_time": "2024-11-28T23:33:04.797Z"
   },
   {
    "duration": 398,
    "start_time": "2024-11-28T23:33:12.967Z"
   },
   {
    "duration": 894,
    "start_time": "2024-11-28T23:33:13.367Z"
   },
   {
    "duration": 5,
    "start_time": "2024-11-28T23:33:14.263Z"
   },
   {
    "duration": 35,
    "start_time": "2024-11-28T23:33:14.269Z"
   },
   {
    "duration": 13,
    "start_time": "2024-11-28T23:33:14.306Z"
   },
   {
    "duration": 28,
    "start_time": "2024-11-28T23:33:14.321Z"
   },
   {
    "duration": 229,
    "start_time": "2024-11-28T23:33:49.252Z"
   },
   {
    "duration": 399,
    "start_time": "2024-11-30T02:03:00.084Z"
   },
   {
    "duration": 1240,
    "start_time": "2024-11-30T02:03:01.465Z"
   },
   {
    "duration": 6,
    "start_time": "2024-11-30T02:03:02.707Z"
   },
   {
    "duration": 61,
    "start_time": "2024-11-30T02:03:02.714Z"
   },
   {
    "duration": 6,
    "start_time": "2024-11-30T02:03:02.949Z"
   },
   {
    "duration": 23,
    "start_time": "2024-11-30T02:03:03.724Z"
   },
   {
    "duration": 227,
    "start_time": "2024-11-30T02:03:04.374Z"
   },
   {
    "duration": 95,
    "start_time": "2024-11-30T02:03:09.162Z"
   },
   {
    "duration": 222,
    "start_time": "2024-11-30T02:03:09.868Z"
   },
   {
    "duration": 6,
    "start_time": "2024-11-30T02:03:17.422Z"
   },
   {
    "duration": 399,
    "start_time": "2024-12-03T15:05:44.843Z"
   },
   {
    "duration": 1252,
    "start_time": "2024-12-03T15:05:46.250Z"
   },
   {
    "duration": 6,
    "start_time": "2024-12-03T15:05:47.504Z"
   },
   {
    "duration": 15,
    "start_time": "2024-12-03T15:05:47.511Z"
   },
   {
    "duration": 11,
    "start_time": "2024-12-03T15:05:47.528Z"
   },
   {
    "duration": 29,
    "start_time": "2024-12-03T15:05:47.540Z"
   },
   {
    "duration": 225,
    "start_time": "2024-12-03T15:05:49.777Z"
   },
   {
    "duration": 5,
    "start_time": "2024-12-03T15:05:51.402Z"
   },
   {
    "duration": 211,
    "start_time": "2024-12-03T15:05:51.982Z"
   },
   {
    "duration": 72,
    "start_time": "2024-12-03T15:09:04.636Z"
   },
   {
    "duration": 3,
    "start_time": "2024-12-03T15:09:05.133Z"
   },
   {
    "duration": 394,
    "start_time": "2024-12-03T15:09:10.769Z"
   },
   {
    "duration": 921,
    "start_time": "2024-12-03T15:09:11.164Z"
   },
   {
    "duration": 6,
    "start_time": "2024-12-03T15:09:12.087Z"
   },
   {
    "duration": 17,
    "start_time": "2024-12-03T15:09:12.095Z"
   },
   {
    "duration": 16,
    "start_time": "2024-12-03T15:09:12.113Z"
   },
   {
    "duration": 28,
    "start_time": "2024-12-03T15:09:12.130Z"
   },
   {
    "duration": 223,
    "start_time": "2024-12-03T15:09:12.160Z"
   },
   {
    "duration": 6,
    "start_time": "2024-12-03T15:09:12.384Z"
   },
   {
    "duration": 231,
    "start_time": "2024-12-03T15:09:12.391Z"
   },
   {
    "duration": 1107,
    "start_time": "2024-12-03T15:31:48.030Z"
   },
   {
    "duration": 4,
    "start_time": "2024-12-03T15:32:25.356Z"
   },
   {
    "duration": 3,
    "start_time": "2024-12-03T15:32:25.907Z"
   },
   {
    "duration": 488,
    "start_time": "2024-12-03T15:32:26.442Z"
   },
   {
    "duration": 1404,
    "start_time": "2024-12-03T15:34:52.171Z"
   },
   {
    "duration": 4,
    "start_time": "2024-12-03T15:34:57.452Z"
   },
   {
    "duration": 3,
    "start_time": "2024-12-03T15:34:57.877Z"
   },
   {
    "duration": 791878,
    "start_time": "2024-12-03T15:34:58.239Z"
   },
   {
    "duration": 1508,
    "start_time": "2024-12-03T17:30:16.411Z"
   },
   {
    "duration": 864,
    "start_time": "2024-12-03T17:30:17.921Z"
   },
   {
    "duration": 8,
    "start_time": "2024-12-03T17:30:18.787Z"
   },
   {
    "duration": 12,
    "start_time": "2024-12-03T17:30:18.797Z"
   },
   {
    "duration": 9,
    "start_time": "2024-12-03T17:30:18.810Z"
   },
   {
    "duration": 34,
    "start_time": "2024-12-03T17:30:18.820Z"
   },
   {
    "duration": 233,
    "start_time": "2024-12-03T17:30:18.855Z"
   },
   {
    "duration": 6,
    "start_time": "2024-12-03T17:30:19.089Z"
   },
   {
    "duration": 236,
    "start_time": "2024-12-03T17:30:19.096Z"
   },
   {
    "duration": 6,
    "start_time": "2024-12-03T17:30:19.335Z"
   },
   {
    "duration": 8,
    "start_time": "2024-12-03T17:30:19.343Z"
   },
   {
    "duration": 9,
    "start_time": "2024-12-03T17:30:19.353Z"
   },
   {
    "duration": 1012600,
    "start_time": "2024-12-03T17:30:19.364Z"
   },
   {
    "duration": 7,
    "start_time": "2024-12-03T17:47:11.965Z"
   },
   {
    "duration": 106,
    "start_time": "2024-12-03T17:49:05.514Z"
   },
   {
    "duration": 3,
    "start_time": "2024-12-03T17:49:32.455Z"
   },
   {
    "duration": 34,
    "start_time": "2024-12-03T17:49:33.227Z"
   },
   {
    "duration": 3,
    "start_time": "2024-12-03T17:53:17.116Z"
   },
   {
    "duration": 14,
    "start_time": "2024-12-03T17:53:17.838Z"
   },
   {
    "duration": 7083,
    "start_time": "2024-12-03T17:54:37.279Z"
   },
   {
    "duration": 23,
    "start_time": "2024-12-03T17:57:29.822Z"
   },
   {
    "duration": 2,
    "start_time": "2024-12-03T17:58:16.447Z"
   },
   {
    "duration": 45021,
    "start_time": "2024-12-03T17:58:17.195Z"
   },
   {
    "duration": 21,
    "start_time": "2024-12-03T18:04:25.557Z"
   },
   {
    "duration": 1653,
    "start_time": "2024-12-03T18:04:51.771Z"
   },
   {
    "duration": 940,
    "start_time": "2024-12-03T18:04:53.426Z"
   },
   {
    "duration": 8,
    "start_time": "2024-12-03T18:04:54.367Z"
   },
   {
    "duration": 21,
    "start_time": "2024-12-03T18:04:54.377Z"
   },
   {
    "duration": 12,
    "start_time": "2024-12-03T18:04:54.400Z"
   },
   {
    "duration": 53,
    "start_time": "2024-12-03T18:04:54.414Z"
   },
   {
    "duration": 237,
    "start_time": "2024-12-03T18:04:54.468Z"
   },
   {
    "duration": 6,
    "start_time": "2024-12-03T18:04:54.707Z"
   },
   {
    "duration": 242,
    "start_time": "2024-12-03T18:04:54.715Z"
   },
   {
    "duration": 3,
    "start_time": "2024-12-03T18:04:54.959Z"
   },
   {
    "duration": 25,
    "start_time": "2024-12-03T18:04:54.963Z"
   },
   {
    "duration": 22,
    "start_time": "2024-12-03T18:04:54.990Z"
   },
   {
    "duration": 1009035,
    "start_time": "2024-12-03T18:04:55.014Z"
   },
   {
    "duration": 7,
    "start_time": "2024-12-03T18:21:44.050Z"
   },
   {
    "duration": 33,
    "start_time": "2024-12-03T18:21:44.059Z"
   },
   {
    "duration": 2,
    "start_time": "2024-12-03T18:21:44.094Z"
   },
   {
    "duration": 28,
    "start_time": "2024-12-03T18:21:44.097Z"
   },
   {
    "duration": 7080,
    "start_time": "2024-12-03T18:21:44.127Z"
   },
   {
    "duration": 2431,
    "start_time": "2024-12-04T15:32:15.133Z"
   },
   {
    "duration": 3927,
    "start_time": "2024-12-04T15:32:17.565Z"
   },
   {
    "duration": 11,
    "start_time": "2024-12-04T15:32:21.493Z"
   },
   {
    "duration": 47,
    "start_time": "2024-12-04T15:32:21.505Z"
   },
   {
    "duration": 29,
    "start_time": "2024-12-04T15:32:21.554Z"
   },
   {
    "duration": 31,
    "start_time": "2024-12-04T15:32:21.584Z"
   },
   {
    "duration": 239,
    "start_time": "2024-12-04T15:32:21.617Z"
   },
   {
    "duration": 5,
    "start_time": "2024-12-04T15:32:21.858Z"
   },
   {
    "duration": 283,
    "start_time": "2024-12-04T15:32:21.864Z"
   },
   {
    "duration": 2,
    "start_time": "2024-12-04T15:32:22.149Z"
   },
   {
    "duration": 4,
    "start_time": "2024-12-04T15:32:22.152Z"
   },
   {
    "duration": 10,
    "start_time": "2024-12-04T15:32:22.158Z"
   },
   {
    "duration": 1578,
    "start_time": "2024-12-04T15:47:06.544Z"
   },
   {
    "duration": 960,
    "start_time": "2024-12-04T15:47:08.124Z"
   },
   {
    "duration": 14,
    "start_time": "2024-12-04T15:47:09.086Z"
   },
   {
    "duration": 11,
    "start_time": "2024-12-04T15:47:09.101Z"
   },
   {
    "duration": 12,
    "start_time": "2024-12-04T15:47:09.114Z"
   },
   {
    "duration": 42,
    "start_time": "2024-12-04T15:47:09.128Z"
   },
   {
    "duration": 228,
    "start_time": "2024-12-04T15:47:09.172Z"
   },
   {
    "duration": 5,
    "start_time": "2024-12-04T15:47:09.402Z"
   },
   {
    "duration": 294,
    "start_time": "2024-12-04T15:47:09.408Z"
   },
   {
    "duration": 3,
    "start_time": "2024-12-04T15:47:09.703Z"
   },
   {
    "duration": 13,
    "start_time": "2024-12-04T15:47:09.707Z"
   },
   {
    "duration": 26,
    "start_time": "2024-12-04T15:47:09.722Z"
   },
   {
    "duration": 1526,
    "start_time": "2024-12-04T16:20:06.130Z"
   },
   {
    "duration": 963,
    "start_time": "2024-12-04T16:20:07.658Z"
   },
   {
    "duration": 10,
    "start_time": "2024-12-04T16:20:08.622Z"
   },
   {
    "duration": 18,
    "start_time": "2024-12-04T16:20:08.633Z"
   },
   {
    "duration": 9,
    "start_time": "2024-12-04T16:20:08.652Z"
   },
   {
    "duration": 43,
    "start_time": "2024-12-04T16:20:08.662Z"
   },
   {
    "duration": 214,
    "start_time": "2024-12-04T16:20:08.707Z"
   },
   {
    "duration": 5,
    "start_time": "2024-12-04T16:20:08.922Z"
   },
   {
    "duration": 332,
    "start_time": "2024-12-04T16:20:08.929Z"
   },
   {
    "duration": 2,
    "start_time": "2024-12-04T16:20:09.264Z"
   },
   {
    "duration": 6,
    "start_time": "2024-12-04T16:20:09.268Z"
   },
   {
    "duration": 35,
    "start_time": "2024-12-04T16:20:09.275Z"
   },
   {
    "duration": 1032982,
    "start_time": "2024-12-04T16:20:09.312Z"
   },
   {
    "duration": 7,
    "start_time": "2024-12-04T16:37:22.295Z"
   },
   {
    "duration": 55,
    "start_time": "2024-12-04T16:37:22.303Z"
   },
   {
    "duration": 3,
    "start_time": "2024-12-04T16:37:22.359Z"
   },
   {
    "duration": 58,
    "start_time": "2024-12-04T16:37:22.363Z"
   },
   {
    "duration": 7915,
    "start_time": "2024-12-04T16:37:22.423Z"
   },
   {
    "duration": 128,
    "start_time": "2024-12-04T16:37:30.340Z"
   },
   {
    "duration": 2882,
    "start_time": "2024-12-05T15:15:08.593Z"
   },
   {
    "duration": 1345,
    "start_time": "2024-12-05T15:15:19.106Z"
   },
   {
    "duration": 16,
    "start_time": "2024-12-05T15:15:57.360Z"
   },
   {
    "duration": 6,
    "start_time": "2024-12-05T15:15:58.077Z"
   },
   {
    "duration": 7,
    "start_time": "2024-12-05T15:16:00.248Z"
   },
   {
    "duration": 33,
    "start_time": "2024-12-05T15:16:02.821Z"
   },
   {
    "duration": 241,
    "start_time": "2024-12-05T15:16:06.539Z"
   },
   {
    "duration": 6,
    "start_time": "2024-12-05T15:16:12.798Z"
   },
   {
    "duration": 296,
    "start_time": "2024-12-05T15:16:47.209Z"
   },
   {
    "duration": 1831,
    "start_time": "2024-12-05T15:22:51.687Z"
   },
   {
    "duration": 1063,
    "start_time": "2024-12-05T15:22:53.520Z"
   },
   {
    "duration": 18,
    "start_time": "2024-12-05T15:22:54.586Z"
   },
   {
    "duration": 37,
    "start_time": "2024-12-05T15:22:54.607Z"
   },
   {
    "duration": 10,
    "start_time": "2024-12-05T15:22:54.648Z"
   },
   {
    "duration": 37,
    "start_time": "2024-12-05T15:22:54.660Z"
   },
   {
    "duration": 347,
    "start_time": "2024-12-05T15:22:54.699Z"
   },
   {
    "duration": 6,
    "start_time": "2024-12-05T15:22:55.048Z"
   },
   {
    "duration": 401,
    "start_time": "2024-12-05T15:22:55.056Z"
   },
   {
    "duration": 3,
    "start_time": "2024-12-05T15:22:55.459Z"
   },
   {
    "duration": 5,
    "start_time": "2024-12-05T15:22:55.464Z"
   },
   {
    "duration": 4,
    "start_time": "2024-12-05T15:22:55.471Z"
   },
   {
    "duration": 1161836,
    "start_time": "2024-12-05T15:22:55.477Z"
   },
   {
    "duration": 10,
    "start_time": "2024-12-05T15:42:17.317Z"
   },
   {
    "duration": 50,
    "start_time": "2024-12-05T15:42:17.328Z"
   },
   {
    "duration": 3,
    "start_time": "2024-12-05T15:42:17.380Z"
   },
   {
    "duration": 8398,
    "start_time": "2024-12-05T15:42:17.385Z"
   },
   {
    "duration": 16177,
    "start_time": "2024-12-05T15:42:25.784Z"
   },
   {
    "duration": 291325,
    "start_time": "2024-12-05T15:46:56.827Z"
   },
   {
    "duration": 124,
    "start_time": "2024-12-05T16:08:42.331Z"
   },
   {
    "duration": 59,
    "start_time": "2024-12-05T16:08:47.416Z"
   },
   {
    "duration": 1098678,
    "start_time": "2024-12-05T16:08:51.678Z"
   },
   {
    "duration": 2019712,
    "start_time": "2024-12-05T16:27:10.359Z"
   },
   {
    "duration": 12,
    "start_time": "2024-12-05T17:01:08.216Z"
   },
   {
    "duration": 2138,
    "start_time": "2024-12-05T17:03:06.420Z"
   },
   {
    "duration": 1061,
    "start_time": "2024-12-05T17:03:08.560Z"
   },
   {
    "duration": 12,
    "start_time": "2024-12-05T17:03:09.622Z"
   },
   {
    "duration": 58,
    "start_time": "2024-12-05T17:03:09.636Z"
   },
   {
    "duration": 87,
    "start_time": "2024-12-05T17:03:09.697Z"
   },
   {
    "duration": 35,
    "start_time": "2024-12-05T17:03:09.786Z"
   },
   {
    "duration": 270,
    "start_time": "2024-12-05T17:03:09.823Z"
   },
   {
    "duration": 7,
    "start_time": "2024-12-05T17:03:10.094Z"
   },
   {
    "duration": 322,
    "start_time": "2024-12-05T17:03:10.102Z"
   },
   {
    "duration": 3,
    "start_time": "2024-12-05T17:03:10.426Z"
   },
   {
    "duration": 20,
    "start_time": "2024-12-05T17:03:10.430Z"
   },
   {
    "duration": 11,
    "start_time": "2024-12-05T17:03:10.452Z"
   },
   {
    "duration": 41273,
    "start_time": "2024-12-05T17:03:10.465Z"
   },
   {
    "duration": 0,
    "start_time": "2024-12-05T17:03:51.740Z"
   },
   {
    "duration": 0,
    "start_time": "2024-12-05T17:03:51.742Z"
   },
   {
    "duration": 0,
    "start_time": "2024-12-05T17:03:51.743Z"
   },
   {
    "duration": 0,
    "start_time": "2024-12-05T17:03:51.745Z"
   },
   {
    "duration": 0,
    "start_time": "2024-12-05T17:03:51.746Z"
   },
   {
    "duration": 0,
    "start_time": "2024-12-05T17:03:51.748Z"
   },
   {
    "duration": 0,
    "start_time": "2024-12-05T17:03:51.750Z"
   },
   {
    "duration": 1676,
    "start_time": "2024-12-05T17:04:25.337Z"
   },
   {
    "duration": 1025,
    "start_time": "2024-12-05T17:04:27.015Z"
   },
   {
    "duration": 22,
    "start_time": "2024-12-05T17:04:28.042Z"
   },
   {
    "duration": 17,
    "start_time": "2024-12-05T17:04:28.066Z"
   },
   {
    "duration": 14,
    "start_time": "2024-12-05T17:04:28.085Z"
   },
   {
    "duration": 46,
    "start_time": "2024-12-05T17:04:28.100Z"
   },
   {
    "duration": 255,
    "start_time": "2024-12-05T17:04:28.147Z"
   },
   {
    "duration": 6,
    "start_time": "2024-12-05T17:04:28.403Z"
   },
   {
    "duration": 343,
    "start_time": "2024-12-05T17:04:28.411Z"
   },
   {
    "duration": 3,
    "start_time": "2024-12-05T17:04:28.756Z"
   },
   {
    "duration": 22,
    "start_time": "2024-12-05T17:04:28.761Z"
   },
   {
    "duration": 6,
    "start_time": "2024-12-05T17:04:28.785Z"
   },
   {
    "duration": 138943,
    "start_time": "2024-12-05T17:04:28.793Z"
   },
   {
    "duration": 0,
    "start_time": "2024-12-05T17:06:47.738Z"
   },
   {
    "duration": 0,
    "start_time": "2024-12-05T17:06:47.739Z"
   },
   {
    "duration": 0,
    "start_time": "2024-12-05T17:06:47.740Z"
   },
   {
    "duration": 0,
    "start_time": "2024-12-05T17:06:47.741Z"
   },
   {
    "duration": 0,
    "start_time": "2024-12-05T17:06:47.743Z"
   },
   {
    "duration": 0,
    "start_time": "2024-12-05T17:06:47.744Z"
   },
   {
    "duration": 0,
    "start_time": "2024-12-05T17:06:47.745Z"
   },
   {
    "duration": 441,
    "start_time": "2024-12-05T17:06:51.046Z"
   },
   {
    "duration": 436,
    "start_time": "2024-12-05T17:06:59.927Z"
   },
   {
    "duration": 983583,
    "start_time": "2024-12-05T17:07:38.345Z"
   },
   {
    "duration": 1538,
    "start_time": "2024-12-05T17:25:22.124Z"
   },
   {
    "duration": 232,
    "start_time": "2024-12-05T17:25:23.664Z"
   },
   {
    "duration": 1057,
    "start_time": "2024-12-05T17:25:23.897Z"
   },
   {
    "duration": 12,
    "start_time": "2024-12-05T17:25:24.956Z"
   },
   {
    "duration": 34,
    "start_time": "2024-12-05T17:25:24.971Z"
   },
   {
    "duration": 45,
    "start_time": "2024-12-05T17:25:25.007Z"
   },
   {
    "duration": 57,
    "start_time": "2024-12-05T17:25:25.054Z"
   },
   {
    "duration": 274,
    "start_time": "2024-12-05T17:25:25.113Z"
   },
   {
    "duration": 8,
    "start_time": "2024-12-05T17:25:25.389Z"
   },
   {
    "duration": 337,
    "start_time": "2024-12-05T17:25:25.400Z"
   },
   {
    "duration": 11,
    "start_time": "2024-12-05T17:25:25.739Z"
   },
   {
    "duration": 19,
    "start_time": "2024-12-05T17:25:25.751Z"
   },
   {
    "duration": 1017655,
    "start_time": "2024-12-05T17:25:25.772Z"
   },
   {
    "duration": 0,
    "start_time": "2024-12-05T17:42:23.430Z"
   },
   {
    "duration": 0,
    "start_time": "2024-12-05T17:42:23.431Z"
   },
   {
    "duration": 0,
    "start_time": "2024-12-05T17:42:23.432Z"
   },
   {
    "duration": 0,
    "start_time": "2024-12-05T17:42:23.433Z"
   },
   {
    "duration": 0,
    "start_time": "2024-12-05T17:42:23.435Z"
   },
   {
    "duration": 0,
    "start_time": "2024-12-05T17:42:23.436Z"
   },
   {
    "duration": 0,
    "start_time": "2024-12-05T17:42:23.437Z"
   },
   {
    "duration": 0,
    "start_time": "2024-12-05T17:42:23.438Z"
   },
   {
    "duration": 0,
    "start_time": "2024-12-05T17:42:23.450Z"
   },
   {
    "duration": 0,
    "start_time": "2024-12-05T17:42:23.452Z"
   },
   {
    "duration": 0,
    "start_time": "2024-12-05T17:42:23.453Z"
   },
   {
    "duration": 2818,
    "start_time": "2024-12-05T17:42:33.341Z"
   },
   {
    "duration": 6,
    "start_time": "2024-12-05T17:42:53.117Z"
   },
   {
    "duration": 2311,
    "start_time": "2024-12-05T17:43:32.526Z"
   },
   {
    "duration": 6,
    "start_time": "2024-12-05T17:43:59.624Z"
   },
   {
    "duration": 5,
    "start_time": "2024-12-05T17:44:01.240Z"
   },
   {
    "duration": 1561,
    "start_time": "2024-12-05T17:44:16.579Z"
   },
   {
    "duration": 410,
    "start_time": "2024-12-05T17:44:18.142Z"
   },
   {
    "duration": 1386,
    "start_time": "2024-12-05T17:44:18.554Z"
   },
   {
    "duration": 11,
    "start_time": "2024-12-05T17:44:19.942Z"
   },
   {
    "duration": 32,
    "start_time": "2024-12-05T17:44:19.954Z"
   },
   {
    "duration": 7,
    "start_time": "2024-12-05T17:44:19.987Z"
   },
   {
    "duration": 41,
    "start_time": "2024-12-05T17:44:19.996Z"
   },
   {
    "duration": 265,
    "start_time": "2024-12-05T17:44:20.038Z"
   },
   {
    "duration": 7,
    "start_time": "2024-12-05T17:44:20.304Z"
   },
   {
    "duration": 2766,
    "start_time": "2024-12-05T17:44:20.314Z"
   },
   {
    "duration": 5,
    "start_time": "2024-12-05T17:44:23.082Z"
   },
   {
    "duration": 25,
    "start_time": "2024-12-05T17:44:23.089Z"
   },
   {
    "duration": 3137,
    "start_time": "2024-12-05T17:44:23.116Z"
   },
   {
    "duration": 3,
    "start_time": "2024-12-05T17:44:26.255Z"
   },
   {
    "duration": 8,
    "start_time": "2024-12-05T17:44:26.259Z"
   },
   {
    "duration": 1484,
    "start_time": "2024-12-05T17:47:27.166Z"
   },
   {
    "duration": 322,
    "start_time": "2024-12-05T17:47:28.652Z"
   },
   {
    "duration": 1053,
    "start_time": "2024-12-05T17:47:28.976Z"
   },
   {
    "duration": 19,
    "start_time": "2024-12-05T17:47:30.032Z"
   },
   {
    "duration": 130,
    "start_time": "2024-12-05T17:47:30.053Z"
   },
   {
    "duration": 72,
    "start_time": "2024-12-05T17:47:30.185Z"
   },
   {
    "duration": 76,
    "start_time": "2024-12-05T17:47:30.259Z"
   },
   {
    "duration": 338,
    "start_time": "2024-12-05T17:47:30.337Z"
   },
   {
    "duration": 6,
    "start_time": "2024-12-05T17:47:30.677Z"
   },
   {
    "duration": 2730,
    "start_time": "2024-12-05T17:47:30.686Z"
   },
   {
    "duration": 6,
    "start_time": "2024-12-05T17:47:33.418Z"
   },
   {
    "duration": 83,
    "start_time": "2024-12-05T17:47:33.426Z"
   },
   {
    "duration": 3111,
    "start_time": "2024-12-05T17:47:33.511Z"
   },
   {
    "duration": 156,
    "start_time": "2024-12-05T17:47:36.624Z"
   },
   {
    "duration": 0,
    "start_time": "2024-12-05T17:47:36.782Z"
   },
   {
    "duration": 0,
    "start_time": "2024-12-05T17:47:36.784Z"
   },
   {
    "duration": 0,
    "start_time": "2024-12-05T17:47:36.786Z"
   },
   {
    "duration": 0,
    "start_time": "2024-12-05T17:47:36.788Z"
   },
   {
    "duration": 0,
    "start_time": "2024-12-05T17:47:36.789Z"
   },
   {
    "duration": 0,
    "start_time": "2024-12-05T17:47:36.790Z"
   },
   {
    "duration": 0,
    "start_time": "2024-12-05T17:47:36.791Z"
   },
   {
    "duration": 8,
    "start_time": "2024-12-05T17:48:07.354Z"
   },
   {
    "duration": 10,
    "start_time": "2024-12-05T17:48:10.679Z"
   },
   {
    "duration": 7,
    "start_time": "2024-12-05T17:50:02.829Z"
   },
   {
    "duration": 5,
    "start_time": "2024-12-05T17:50:12.643Z"
   },
   {
    "duration": 11,
    "start_time": "2024-12-05T17:50:25.175Z"
   },
   {
    "duration": 66,
    "start_time": "2024-12-05T17:52:12.654Z"
   },
   {
    "duration": 3,
    "start_time": "2024-12-05T17:52:13.129Z"
   },
   {
    "duration": 7531,
    "start_time": "2024-12-05T17:52:13.365Z"
   },
   {
    "duration": 20974,
    "start_time": "2024-12-05T17:52:20.898Z"
   },
   {
    "duration": 0,
    "start_time": "2024-12-05T17:52:41.875Z"
   },
   {
    "duration": 0,
    "start_time": "2024-12-05T17:52:41.877Z"
   },
   {
    "duration": 22738,
    "start_time": "2024-12-05T17:53:32.016Z"
   },
   {
    "duration": 292923,
    "start_time": "2024-12-05T17:53:57.655Z"
   },
   {
    "duration": 1503,
    "start_time": "2024-12-05T18:01:17.407Z"
   },
   {
    "duration": 708,
    "start_time": "2024-12-05T18:01:18.912Z"
   },
   {
    "duration": 1388,
    "start_time": "2024-12-05T18:01:19.622Z"
   },
   {
    "duration": 11,
    "start_time": "2024-12-05T18:01:21.012Z"
   },
   {
    "duration": 32,
    "start_time": "2024-12-05T18:01:21.025Z"
   },
   {
    "duration": 34,
    "start_time": "2024-12-05T18:01:21.059Z"
   },
   {
    "duration": 69,
    "start_time": "2024-12-05T18:01:21.095Z"
   },
   {
    "duration": 259,
    "start_time": "2024-12-05T18:01:21.166Z"
   },
   {
    "duration": 6,
    "start_time": "2024-12-05T18:01:21.428Z"
   },
   {
    "duration": 2758,
    "start_time": "2024-12-05T18:01:21.437Z"
   },
   {
    "duration": 5,
    "start_time": "2024-12-05T18:01:24.197Z"
   },
   {
    "duration": 59,
    "start_time": "2024-12-05T18:01:24.204Z"
   },
   {
    "duration": 3087,
    "start_time": "2024-12-05T18:01:24.265Z"
   },
   {
    "duration": 6,
    "start_time": "2024-12-05T18:01:27.354Z"
   },
   {
    "duration": 9,
    "start_time": "2024-12-05T18:01:27.362Z"
   },
   {
    "duration": 83,
    "start_time": "2024-12-05T18:01:27.373Z"
   },
   {
    "duration": 3,
    "start_time": "2024-12-05T18:01:27.458Z"
   },
   {
    "duration": 7398,
    "start_time": "2024-12-05T18:01:27.462Z"
   },
   {
    "duration": 22692,
    "start_time": "2024-12-05T18:01:34.861Z"
   },
   {
    "duration": 292359,
    "start_time": "2024-12-05T18:01:57.555Z"
   },
   {
    "duration": 1497,
    "start_time": "2024-12-05T18:43:25.857Z"
   },
   {
    "duration": 148,
    "start_time": "2024-12-05T18:43:27.356Z"
   },
   {
    "duration": 1396,
    "start_time": "2024-12-05T18:43:27.506Z"
   },
   {
    "duration": 11,
    "start_time": "2024-12-05T18:43:28.904Z"
   },
   {
    "duration": 6,
    "start_time": "2024-12-05T18:43:28.918Z"
   },
   {
    "duration": 11,
    "start_time": "2024-12-05T18:43:28.925Z"
   },
   {
    "duration": 41,
    "start_time": "2024-12-05T18:43:28.937Z"
   },
   {
    "duration": 250,
    "start_time": "2024-12-05T18:43:28.979Z"
   },
   {
    "duration": 5,
    "start_time": "2024-12-05T18:43:29.231Z"
   },
   {
    "duration": 2700,
    "start_time": "2024-12-05T18:43:29.238Z"
   },
   {
    "duration": 11,
    "start_time": "2024-12-05T18:43:31.940Z"
   },
   {
    "duration": 3182,
    "start_time": "2024-12-05T18:43:31.953Z"
   },
   {
    "duration": 13,
    "start_time": "2024-12-05T18:43:35.137Z"
   },
   {
    "duration": 9,
    "start_time": "2024-12-05T18:43:35.153Z"
   },
   {
    "duration": 65,
    "start_time": "2024-12-05T18:43:35.164Z"
   },
   {
    "duration": 20,
    "start_time": "2024-12-05T18:43:35.230Z"
   },
   {
    "duration": 7325,
    "start_time": "2024-12-05T18:43:35.252Z"
   },
   {
    "duration": 22571,
    "start_time": "2024-12-05T18:43:42.579Z"
   },
   {
    "duration": 288926,
    "start_time": "2024-12-05T18:44:05.152Z"
   },
   {
    "duration": 287,
    "start_time": "2024-12-05T18:48:54.080Z"
   },
   {
    "duration": 13,
    "start_time": "2024-12-05T18:49:06.346Z"
   },
   {
    "duration": 1475,
    "start_time": "2024-12-05T18:52:46.964Z"
   },
   {
    "duration": 173,
    "start_time": "2024-12-05T18:52:48.441Z"
   },
   {
    "duration": 1026,
    "start_time": "2024-12-05T18:52:48.616Z"
   },
   {
    "duration": 16,
    "start_time": "2024-12-05T18:52:49.643Z"
   },
   {
    "duration": 51,
    "start_time": "2024-12-05T18:52:49.662Z"
   },
   {
    "duration": 7,
    "start_time": "2024-12-05T18:52:49.715Z"
   },
   {
    "duration": 42,
    "start_time": "2024-12-05T18:52:49.724Z"
   },
   {
    "duration": 254,
    "start_time": "2024-12-05T18:52:49.768Z"
   },
   {
    "duration": 7,
    "start_time": "2024-12-05T18:52:50.024Z"
   },
   {
    "duration": 2722,
    "start_time": "2024-12-05T18:52:50.033Z"
   },
   {
    "duration": 5,
    "start_time": "2024-12-05T18:52:52.757Z"
   },
   {
    "duration": 3101,
    "start_time": "2024-12-05T18:52:52.764Z"
   },
   {
    "duration": 6,
    "start_time": "2024-12-05T18:52:55.867Z"
   },
   {
    "duration": 122,
    "start_time": "2024-12-05T18:52:55.876Z"
   },
   {
    "duration": 80,
    "start_time": "2024-12-05T18:52:56.000Z"
   },
   {
    "duration": 3,
    "start_time": "2024-12-05T18:52:56.082Z"
   },
   {
    "duration": 7267,
    "start_time": "2024-12-05T18:52:56.086Z"
   },
   {
    "duration": 1517,
    "start_time": "2024-12-05T18:53:27.733Z"
   },
   {
    "duration": 154,
    "start_time": "2024-12-05T18:53:29.252Z"
   },
   {
    "duration": 1042,
    "start_time": "2024-12-05T18:53:29.408Z"
   },
   {
    "duration": 12,
    "start_time": "2024-12-05T18:53:30.452Z"
   },
   {
    "duration": 63,
    "start_time": "2024-12-05T18:53:30.466Z"
   },
   {
    "duration": 43,
    "start_time": "2024-12-05T18:53:30.531Z"
   },
   {
    "duration": 51,
    "start_time": "2024-12-05T18:53:30.576Z"
   },
   {
    "duration": 250,
    "start_time": "2024-12-05T18:53:30.629Z"
   },
   {
    "duration": 7,
    "start_time": "2024-12-05T18:53:30.881Z"
   },
   {
    "duration": 590,
    "start_time": "2024-12-05T18:53:30.889Z"
   },
   {
    "duration": 0,
    "start_time": "2024-12-05T18:53:31.481Z"
   },
   {
    "duration": 0,
    "start_time": "2024-12-05T18:53:31.483Z"
   },
   {
    "duration": 0,
    "start_time": "2024-12-05T18:53:31.485Z"
   },
   {
    "duration": 0,
    "start_time": "2024-12-05T18:53:31.486Z"
   },
   {
    "duration": 0,
    "start_time": "2024-12-05T18:53:31.488Z"
   },
   {
    "duration": 0,
    "start_time": "2024-12-05T18:53:31.490Z"
   },
   {
    "duration": 0,
    "start_time": "2024-12-05T18:53:31.492Z"
   },
   {
    "duration": 0,
    "start_time": "2024-12-05T18:53:31.493Z"
   },
   {
    "duration": 0,
    "start_time": "2024-12-05T18:53:31.495Z"
   },
   {
    "duration": 0,
    "start_time": "2024-12-05T18:53:31.497Z"
   },
   {
    "duration": 0,
    "start_time": "2024-12-05T18:53:31.498Z"
   },
   {
    "duration": 1526,
    "start_time": "2024-12-05T18:53:43.946Z"
   },
   {
    "duration": 215,
    "start_time": "2024-12-05T18:53:45.474Z"
   },
   {
    "duration": 1049,
    "start_time": "2024-12-05T18:53:45.690Z"
   },
   {
    "duration": 18,
    "start_time": "2024-12-05T18:53:46.741Z"
   },
   {
    "duration": 8,
    "start_time": "2024-12-05T18:53:46.761Z"
   },
   {
    "duration": 17,
    "start_time": "2024-12-05T18:53:46.771Z"
   },
   {
    "duration": 44,
    "start_time": "2024-12-05T18:53:46.790Z"
   },
   {
    "duration": 262,
    "start_time": "2024-12-05T18:53:46.836Z"
   },
   {
    "duration": 7,
    "start_time": "2024-12-05T18:53:47.099Z"
   },
   {
    "duration": 2860,
    "start_time": "2024-12-05T18:53:47.108Z"
   },
   {
    "duration": 5,
    "start_time": "2024-12-05T18:53:49.970Z"
   },
   {
    "duration": 3155,
    "start_time": "2024-12-05T18:53:49.977Z"
   },
   {
    "duration": 16,
    "start_time": "2024-12-05T18:53:53.134Z"
   },
   {
    "duration": 12,
    "start_time": "2024-12-05T18:53:53.153Z"
   },
   {
    "duration": 97,
    "start_time": "2024-12-05T18:53:53.168Z"
   },
   {
    "duration": 4,
    "start_time": "2024-12-05T18:53:53.267Z"
   },
   {
    "duration": 7562,
    "start_time": "2024-12-05T18:53:53.273Z"
   },
   {
    "duration": 22717,
    "start_time": "2024-12-05T18:54:00.837Z"
   },
   {
    "duration": 294511,
    "start_time": "2024-12-05T18:54:23.556Z"
   },
   {
    "duration": 267,
    "start_time": "2024-12-05T18:59:18.069Z"
   },
   {
    "duration": 13,
    "start_time": "2024-12-05T18:59:18.338Z"
   },
   {
    "duration": 36,
    "start_time": "2024-12-05T19:00:44.028Z"
   },
   {
    "duration": 5,
    "start_time": "2024-12-05T19:03:29.522Z"
   },
   {
    "duration": 155,
    "start_time": "2024-12-05T19:03:36.028Z"
   },
   {
    "duration": 1510,
    "start_time": "2024-12-05T19:04:42.808Z"
   },
   {
    "duration": 213,
    "start_time": "2024-12-05T19:04:44.321Z"
   },
   {
    "duration": 1097,
    "start_time": "2024-12-05T19:04:44.536Z"
   },
   {
    "duration": 16,
    "start_time": "2024-12-05T19:04:45.636Z"
   },
   {
    "duration": 6,
    "start_time": "2024-12-05T19:04:45.655Z"
   },
   {
    "duration": 10,
    "start_time": "2024-12-05T19:04:45.663Z"
   },
   {
    "duration": 42,
    "start_time": "2024-12-05T19:04:45.675Z"
   },
   {
    "duration": 301,
    "start_time": "2024-12-05T19:04:45.719Z"
   },
   {
    "duration": 2930,
    "start_time": "2024-12-05T19:04:46.022Z"
   },
   {
    "duration": 5,
    "start_time": "2024-12-05T19:04:48.955Z"
   },
   {
    "duration": 819,
    "start_time": "2024-12-05T19:04:48.962Z"
   },
   {
    "duration": 7,
    "start_time": "2024-12-05T19:04:49.785Z"
   },
   {
    "duration": 25,
    "start_time": "2024-12-05T19:04:49.794Z"
   },
   {
    "duration": 92,
    "start_time": "2024-12-05T19:04:49.824Z"
   },
   {
    "duration": 3,
    "start_time": "2024-12-05T19:04:49.918Z"
   },
   {
    "duration": 7744,
    "start_time": "2024-12-05T19:04:49.923Z"
   },
   {
    "duration": 17989,
    "start_time": "2024-12-05T19:04:57.669Z"
   },
   {
    "duration": 1566,
    "start_time": "2024-12-05T19:05:47.156Z"
   },
   {
    "duration": 132,
    "start_time": "2024-12-05T19:05:48.725Z"
   },
   {
    "duration": 1086,
    "start_time": "2024-12-05T19:05:48.859Z"
   },
   {
    "duration": 11,
    "start_time": "2024-12-05T19:05:49.950Z"
   },
   {
    "duration": 116,
    "start_time": "2024-12-05T19:05:49.963Z"
   },
   {
    "duration": 25,
    "start_time": "2024-12-05T19:05:50.081Z"
   },
   {
    "duration": 117,
    "start_time": "2024-12-05T19:05:50.107Z"
   },
   {
    "duration": 269,
    "start_time": "2024-12-05T19:05:50.225Z"
   },
   {
    "duration": 2808,
    "start_time": "2024-12-05T19:05:50.495Z"
   },
   {
    "duration": 6,
    "start_time": "2024-12-05T19:05:53.304Z"
   },
   {
    "duration": 750,
    "start_time": "2024-12-05T19:05:53.313Z"
   },
   {
    "duration": 5,
    "start_time": "2024-12-05T19:05:54.065Z"
   },
   {
    "duration": 21,
    "start_time": "2024-12-05T19:05:54.072Z"
   },
   {
    "duration": 76,
    "start_time": "2024-12-05T19:05:54.095Z"
   },
   {
    "duration": 4,
    "start_time": "2024-12-05T19:05:54.173Z"
   },
   {
    "duration": 7896,
    "start_time": "2024-12-05T19:05:54.179Z"
   },
   {
    "duration": 16276,
    "start_time": "2024-12-05T19:06:02.077Z"
   },
   {
    "duration": 1564,
    "start_time": "2024-12-05T19:11:01.235Z"
   },
   {
    "duration": 148,
    "start_time": "2024-12-05T19:11:02.801Z"
   },
   {
    "duration": 1104,
    "start_time": "2024-12-05T19:11:02.952Z"
   },
   {
    "duration": 18,
    "start_time": "2024-12-05T19:11:04.058Z"
   },
   {
    "duration": 34,
    "start_time": "2024-12-05T19:11:04.079Z"
   },
   {
    "duration": 45,
    "start_time": "2024-12-05T19:11:04.115Z"
   },
   {
    "duration": 135,
    "start_time": "2024-12-05T19:11:04.162Z"
   },
   {
    "duration": 242,
    "start_time": "2024-12-05T19:11:04.299Z"
   },
   {
    "duration": 2856,
    "start_time": "2024-12-05T19:11:04.543Z"
   },
   {
    "duration": 5,
    "start_time": "2024-12-05T19:11:07.401Z"
   },
   {
    "duration": 845,
    "start_time": "2024-12-05T19:11:07.407Z"
   },
   {
    "duration": 3,
    "start_time": "2024-12-05T19:11:08.255Z"
   },
   {
    "duration": 86,
    "start_time": "2024-12-05T19:11:08.260Z"
   },
   {
    "duration": 0,
    "start_time": "2024-12-05T19:11:08.348Z"
   },
   {
    "duration": 0,
    "start_time": "2024-12-05T19:11:08.350Z"
   },
   {
    "duration": 0,
    "start_time": "2024-12-05T19:11:08.351Z"
   },
   {
    "duration": 0,
    "start_time": "2024-12-05T19:11:08.353Z"
   },
   {
    "duration": 0,
    "start_time": "2024-12-05T19:11:08.354Z"
   },
   {
    "duration": 1,
    "start_time": "2024-12-05T19:11:08.355Z"
   },
   {
    "duration": 0,
    "start_time": "2024-12-05T19:11:08.357Z"
   },
   {
    "duration": 0,
    "start_time": "2024-12-05T19:11:08.358Z"
   },
   {
    "duration": 4523,
    "start_time": "2024-12-05T19:11:22.244Z"
   },
   {
    "duration": 11,
    "start_time": "2024-12-05T19:11:42.384Z"
   },
   {
    "duration": 91,
    "start_time": "2024-12-05T19:12:34.680Z"
   },
   {
    "duration": 126,
    "start_time": "2024-12-05T19:12:42.284Z"
   },
   {
    "duration": 1348,
    "start_time": "2024-12-05T19:14:47.596Z"
   },
   {
    "duration": 161,
    "start_time": "2024-12-05T19:14:48.946Z"
   },
   {
    "duration": 1042,
    "start_time": "2024-12-05T19:14:49.109Z"
   },
   {
    "duration": 17,
    "start_time": "2024-12-05T19:14:50.153Z"
   },
   {
    "duration": 116,
    "start_time": "2024-12-05T19:14:50.174Z"
   },
   {
    "duration": 38,
    "start_time": "2024-12-05T19:14:50.291Z"
   },
   {
    "duration": 56,
    "start_time": "2024-12-05T19:14:50.330Z"
   },
   {
    "duration": 379,
    "start_time": "2024-12-05T19:14:50.387Z"
   },
   {
    "duration": 2686,
    "start_time": "2024-12-05T19:14:50.768Z"
   },
   {
    "duration": 5,
    "start_time": "2024-12-05T19:14:53.456Z"
   },
   {
    "duration": 767,
    "start_time": "2024-12-05T19:14:53.464Z"
   },
   {
    "duration": 3,
    "start_time": "2024-12-05T19:14:54.233Z"
   },
   {
    "duration": 4448,
    "start_time": "2024-12-05T19:14:54.238Z"
   },
   {
    "duration": 12,
    "start_time": "2024-12-05T19:14:58.688Z"
   },
   {
    "duration": 37,
    "start_time": "2024-12-05T19:14:58.702Z"
   },
   {
    "duration": 10,
    "start_time": "2024-12-05T19:14:58.740Z"
   },
   {
    "duration": 140,
    "start_time": "2024-12-05T19:14:58.752Z"
   },
   {
    "duration": 0,
    "start_time": "2024-12-05T19:14:58.895Z"
   },
   {
    "duration": 0,
    "start_time": "2024-12-05T19:14:58.896Z"
   },
   {
    "duration": 0,
    "start_time": "2024-12-05T19:14:58.898Z"
   },
   {
    "duration": 0,
    "start_time": "2024-12-05T19:14:58.899Z"
   },
   {
    "duration": 1461,
    "start_time": "2024-12-05T19:15:36.510Z"
   },
   {
    "duration": 153,
    "start_time": "2024-12-05T19:15:37.973Z"
   },
   {
    "duration": 1078,
    "start_time": "2024-12-05T19:15:38.127Z"
   },
   {
    "duration": 13,
    "start_time": "2024-12-05T19:15:39.206Z"
   },
   {
    "duration": 6,
    "start_time": "2024-12-05T19:15:39.221Z"
   },
   {
    "duration": 26,
    "start_time": "2024-12-05T19:15:39.228Z"
   },
   {
    "duration": 44,
    "start_time": "2024-12-05T19:15:39.256Z"
   },
   {
    "duration": 258,
    "start_time": "2024-12-05T19:15:39.302Z"
   },
   {
    "duration": 2667,
    "start_time": "2024-12-05T19:15:39.563Z"
   },
   {
    "duration": 6,
    "start_time": "2024-12-05T19:15:42.232Z"
   },
   {
    "duration": 801,
    "start_time": "2024-12-05T19:15:42.240Z"
   },
   {
    "duration": 6,
    "start_time": "2024-12-05T19:15:43.049Z"
   },
   {
    "duration": 14,
    "start_time": "2024-12-05T19:15:43.057Z"
   },
   {
    "duration": 85,
    "start_time": "2024-12-05T19:15:43.075Z"
   },
   {
    "duration": 3,
    "start_time": "2024-12-05T19:15:43.161Z"
   },
   {
    "duration": 7666,
    "start_time": "2024-12-05T19:15:43.166Z"
   },
   {
    "duration": 18527,
    "start_time": "2024-12-05T19:15:50.834Z"
   },
   {
    "duration": 1550,
    "start_time": "2024-12-05T19:16:40.751Z"
   },
   {
    "duration": 214,
    "start_time": "2024-12-05T19:16:42.303Z"
   },
   {
    "duration": 1181,
    "start_time": "2024-12-05T19:16:42.520Z"
   },
   {
    "duration": 12,
    "start_time": "2024-12-05T19:16:43.703Z"
   },
   {
    "duration": 6,
    "start_time": "2024-12-05T19:16:43.718Z"
   },
   {
    "duration": 31,
    "start_time": "2024-12-05T19:16:43.726Z"
   },
   {
    "duration": 113,
    "start_time": "2024-12-05T19:16:43.760Z"
   },
   {
    "duration": 292,
    "start_time": "2024-12-05T19:16:43.875Z"
   },
   {
    "duration": 2881,
    "start_time": "2024-12-05T19:16:44.169Z"
   },
   {
    "duration": 5,
    "start_time": "2024-12-05T19:16:47.052Z"
   },
   {
    "duration": 79594,
    "start_time": "2024-12-05T19:16:47.059Z"
   },
   {
    "duration": 4,
    "start_time": "2024-12-05T19:18:06.655Z"
   },
   {
    "duration": 11,
    "start_time": "2024-12-05T19:18:06.661Z"
   },
   {
    "duration": 51,
    "start_time": "2024-12-05T19:18:06.676Z"
   },
   {
    "duration": 3,
    "start_time": "2024-12-05T19:18:06.729Z"
   },
   {
    "duration": 8148,
    "start_time": "2024-12-05T19:18:06.734Z"
   },
   {
    "duration": 15767,
    "start_time": "2024-12-05T19:18:14.885Z"
   },
   {
    "duration": 3180,
    "start_time": "2024-12-05T19:18:30.654Z"
   },
   {
    "duration": 0,
    "start_time": "2024-12-05T19:18:33.836Z"
   },
   {
    "duration": 0,
    "start_time": "2024-12-05T19:18:33.837Z"
   },
   {
    "duration": 24,
    "start_time": "2024-12-05T19:18:56.516Z"
   },
   {
    "duration": 1633,
    "start_time": "2024-12-05T19:19:04.351Z"
   },
   {
    "duration": 238,
    "start_time": "2024-12-05T19:19:05.986Z"
   },
   {
    "duration": 1119,
    "start_time": "2024-12-05T19:19:06.227Z"
   },
   {
    "duration": 12,
    "start_time": "2024-12-05T19:19:07.348Z"
   },
   {
    "duration": 33,
    "start_time": "2024-12-05T19:19:07.365Z"
   },
   {
    "duration": 61,
    "start_time": "2024-12-05T19:19:07.401Z"
   },
   {
    "duration": 46,
    "start_time": "2024-12-05T19:19:07.464Z"
   },
   {
    "duration": 340,
    "start_time": "2024-12-05T19:19:07.512Z"
   },
   {
    "duration": 3155,
    "start_time": "2024-12-05T19:19:07.854Z"
   },
   {
    "duration": 6,
    "start_time": "2024-12-05T19:19:11.011Z"
   },
   {
    "duration": 77699,
    "start_time": "2024-12-05T19:19:11.019Z"
   },
   {
    "duration": 5,
    "start_time": "2024-12-05T19:20:28.719Z"
   },
   {
    "duration": 25,
    "start_time": "2024-12-05T19:20:28.725Z"
   },
   {
    "duration": 44,
    "start_time": "2024-12-05T19:20:28.754Z"
   },
   {
    "duration": 4,
    "start_time": "2024-12-05T19:20:28.799Z"
   },
   {
    "duration": 8344,
    "start_time": "2024-12-05T19:20:28.805Z"
   },
   {
    "duration": 18102,
    "start_time": "2024-12-05T19:20:37.152Z"
   },
   {
    "duration": 289586,
    "start_time": "2024-12-05T19:20:55.256Z"
   },
   {
    "duration": 309,
    "start_time": "2024-12-05T19:25:44.844Z"
   },
   {
    "duration": 8,
    "start_time": "2024-12-05T19:25:45.155Z"
   },
   {
    "duration": 1465,
    "start_time": "2024-12-05T19:38:50.872Z"
   },
   {
    "duration": 132,
    "start_time": "2024-12-05T19:38:52.339Z"
   },
   {
    "duration": 1055,
    "start_time": "2024-12-05T19:38:52.472Z"
   },
   {
    "duration": 12,
    "start_time": "2024-12-05T19:38:53.529Z"
   },
   {
    "duration": 18,
    "start_time": "2024-12-05T19:38:53.551Z"
   },
   {
    "duration": 38,
    "start_time": "2024-12-05T19:38:53.571Z"
   },
   {
    "duration": 52,
    "start_time": "2024-12-05T19:38:53.610Z"
   },
   {
    "duration": 265,
    "start_time": "2024-12-05T19:38:53.664Z"
   },
   {
    "duration": 2830,
    "start_time": "2024-12-05T19:38:53.932Z"
   },
   {
    "duration": 9,
    "start_time": "2024-12-05T19:38:56.766Z"
   },
   {
    "duration": 71559,
    "start_time": "2024-12-05T19:38:56.778Z"
   },
   {
    "duration": 5,
    "start_time": "2024-12-05T19:40:08.339Z"
   },
   {
    "duration": 33,
    "start_time": "2024-12-05T19:40:08.349Z"
   },
   {
    "duration": 33,
    "start_time": "2024-12-05T19:40:08.386Z"
   },
   {
    "duration": 3,
    "start_time": "2024-12-05T19:40:08.421Z"
   },
   {
    "duration": 8535,
    "start_time": "2024-12-05T19:40:08.426Z"
   },
   {
    "duration": 18288,
    "start_time": "2024-12-05T19:40:16.963Z"
   },
   {
    "duration": 291625,
    "start_time": "2024-12-05T19:40:35.253Z"
   },
   {
    "duration": 283,
    "start_time": "2024-12-05T19:45:26.880Z"
   },
   {
    "duration": 9,
    "start_time": "2024-12-05T19:45:27.165Z"
   },
   {
    "duration": 1445,
    "start_time": "2024-12-05T19:50:36.486Z"
   },
   {
    "duration": 227,
    "start_time": "2024-12-05T19:50:37.934Z"
   },
   {
    "duration": 1074,
    "start_time": "2024-12-05T19:50:38.162Z"
   },
   {
    "duration": 16,
    "start_time": "2024-12-05T19:50:39.238Z"
   },
   {
    "duration": 6,
    "start_time": "2024-12-05T19:50:39.256Z"
   },
   {
    "duration": 15,
    "start_time": "2024-12-05T19:50:39.264Z"
   },
   {
    "duration": 48,
    "start_time": "2024-12-05T19:50:39.281Z"
   },
   {
    "duration": 251,
    "start_time": "2024-12-05T19:50:39.331Z"
   },
   {
    "duration": 2681,
    "start_time": "2024-12-05T19:50:39.584Z"
   },
   {
    "duration": 5,
    "start_time": "2024-12-05T19:50:42.267Z"
   },
   {
    "duration": 72632,
    "start_time": "2024-12-05T19:50:42.273Z"
   },
   {
    "duration": 6,
    "start_time": "2024-12-05T19:51:54.907Z"
   },
   {
    "duration": 9,
    "start_time": "2024-12-05T19:51:54.915Z"
   },
   {
    "duration": 47,
    "start_time": "2024-12-05T19:51:54.927Z"
   },
   {
    "duration": 3,
    "start_time": "2024-12-05T19:51:54.975Z"
   },
   {
    "duration": 8346,
    "start_time": "2024-12-05T19:51:54.980Z"
   },
   {
    "duration": 18428,
    "start_time": "2024-12-05T19:52:03.328Z"
   },
   {
    "duration": 289899,
    "start_time": "2024-12-05T19:52:21.758Z"
   },
   {
    "duration": 270,
    "start_time": "2024-12-05T19:57:11.659Z"
   },
   {
    "duration": 7,
    "start_time": "2024-12-05T19:57:11.931Z"
   },
   {
    "duration": 13,
    "start_time": "2024-12-05T19:59:19.975Z"
   },
   {
    "duration": 6,
    "start_time": "2024-12-05T20:50:41.744Z"
   },
   {
    "duration": 4,
    "start_time": "2024-12-05T21:11:21.580Z"
   },
   {
    "duration": 1363,
    "start_time": "2024-12-05T21:11:26.080Z"
   },
   {
    "duration": 534,
    "start_time": "2024-12-05T21:11:27.449Z"
   },
   {
    "duration": 5,
    "start_time": "2024-12-05T21:11:27.985Z"
   },
   {
    "duration": 1082,
    "start_time": "2024-12-05T21:11:27.992Z"
   },
   {
    "duration": 12,
    "start_time": "2024-12-05T21:11:29.076Z"
   },
   {
    "duration": 11,
    "start_time": "2024-12-05T21:11:29.089Z"
   },
   {
    "duration": 9,
    "start_time": "2024-12-05T21:11:29.101Z"
   },
   {
    "duration": 52,
    "start_time": "2024-12-05T21:11:29.111Z"
   },
   {
    "duration": 31,
    "start_time": "2024-12-05T21:11:29.165Z"
   },
   {
    "duration": 241,
    "start_time": "2024-12-05T21:11:29.198Z"
   },
   {
    "duration": 9,
    "start_time": "2024-12-05T21:11:29.441Z"
   },
   {
    "duration": 3,
    "start_time": "2024-12-05T21:11:29.452Z"
   },
   {
    "duration": 4,
    "start_time": "2024-12-05T21:11:29.457Z"
   },
   {
    "duration": 1048590,
    "start_time": "2024-12-05T21:11:29.464Z"
   },
   {
    "duration": 6,
    "start_time": "2024-12-05T21:28:58.056Z"
   },
   {
    "duration": 12,
    "start_time": "2024-12-05T21:28:58.064Z"
   },
   {
    "duration": 9,
    "start_time": "2024-12-05T21:28:58.078Z"
   },
   {
    "duration": 13,
    "start_time": "2024-12-05T21:28:58.088Z"
   },
   {
    "duration": 32,
    "start_time": "2024-12-05T21:28:58.102Z"
   },
   {
    "duration": 3,
    "start_time": "2024-12-05T21:28:58.149Z"
   },
   {
    "duration": 7732,
    "start_time": "2024-12-05T21:28:58.153Z"
   },
   {
    "duration": 17967,
    "start_time": "2024-12-05T21:29:05.887Z"
   },
   {
    "duration": 269304,
    "start_time": "2024-12-05T21:29:23.856Z"
   },
   {
    "duration": 285,
    "start_time": "2024-12-05T21:33:53.161Z"
   },
   {
    "duration": 9,
    "start_time": "2024-12-05T21:33:53.450Z"
   },
   {
    "duration": 15,
    "start_time": "2024-12-05T21:35:34.877Z"
   },
   {
    "duration": 26,
    "start_time": "2024-12-05T21:35:35.412Z"
   },
   {
    "duration": 6,
    "start_time": "2024-12-05T21:35:35.863Z"
   },
   {
    "duration": 35,
    "start_time": "2024-12-05T21:35:58.639Z"
   },
   {
    "duration": 3,
    "start_time": "2024-12-05T21:35:59.242Z"
   },
   {
    "duration": 7106,
    "start_time": "2024-12-05T21:35:59.702Z"
   },
   {
    "duration": 18263,
    "start_time": "2024-12-05T21:36:07.397Z"
   },
   {
    "duration": 126,
    "start_time": "2024-12-05T21:44:47.023Z"
   },
   {
    "duration": 4,
    "start_time": "2024-12-05T21:45:20.210Z"
   },
   {
    "duration": 108047,
    "start_time": "2024-12-05T21:45:28.403Z"
   },
   {
    "duration": 59802,
    "start_time": "2024-12-05T21:48:42.453Z"
   },
   {
    "duration": 59491,
    "start_time": "2024-12-05T21:50:09.269Z"
   },
   {
    "duration": 53736,
    "start_time": "2024-12-05T21:52:08.534Z"
   },
   {
    "duration": 290805,
    "start_time": "2024-12-05T21:58:54.555Z"
   },
   {
    "duration": 131134,
    "start_time": "2024-12-05T22:06:59.522Z"
   },
   {
    "duration": 1019287,
    "start_time": "2024-12-05T22:09:15.027Z"
   },
   {
    "duration": 1320,
    "start_time": "2024-12-05T23:26:19.582Z"
   },
   {
    "duration": 216,
    "start_time": "2024-12-05T23:26:20.904Z"
   },
   {
    "duration": 5,
    "start_time": "2024-12-05T23:26:21.122Z"
   },
   {
    "duration": 972,
    "start_time": "2024-12-05T23:26:21.129Z"
   },
   {
    "duration": 12,
    "start_time": "2024-12-05T23:26:22.103Z"
   },
   {
    "duration": 8,
    "start_time": "2024-12-05T23:26:22.117Z"
   },
   {
    "duration": 27,
    "start_time": "2024-12-05T23:26:22.127Z"
   },
   {
    "duration": 54,
    "start_time": "2024-12-05T23:26:22.156Z"
   },
   {
    "duration": 22,
    "start_time": "2024-12-05T23:26:22.212Z"
   },
   {
    "duration": 231,
    "start_time": "2024-12-05T23:26:22.236Z"
   },
   {
    "duration": 2,
    "start_time": "2024-12-05T23:26:22.469Z"
   },
   {
    "duration": 5,
    "start_time": "2024-12-05T23:26:22.472Z"
   },
   {
    "duration": 4,
    "start_time": "2024-12-05T23:26:22.478Z"
   },
   {
    "duration": 1033659,
    "start_time": "2024-12-05T23:26:22.485Z"
   },
   {
    "duration": 5,
    "start_time": "2024-12-05T23:43:36.145Z"
   },
   {
    "duration": 8,
    "start_time": "2024-12-05T23:43:36.151Z"
   },
   {
    "duration": 5,
    "start_time": "2024-12-05T23:43:36.161Z"
   },
   {
    "duration": 42,
    "start_time": "2024-12-05T23:43:36.167Z"
   },
   {
    "duration": 70,
    "start_time": "2024-12-05T23:43:36.211Z"
   },
   {
    "duration": 2,
    "start_time": "2024-12-05T23:43:36.283Z"
   },
   {
    "duration": 6790,
    "start_time": "2024-12-05T23:43:36.287Z"
   },
   {
    "duration": 284083,
    "start_time": "2024-12-05T23:43:43.079Z"
   },
   {
    "duration": 3,
    "start_time": "2024-12-05T23:48:27.165Z"
   },
   {
    "duration": 991181,
    "start_time": "2024-12-05T23:48:27.252Z"
   },
   {
    "duration": 0,
    "start_time": "2024-12-06T00:04:58.435Z"
   },
   {
    "duration": 0,
    "start_time": "2024-12-06T00:04:58.436Z"
   },
   {
    "duration": 1334,
    "start_time": "2024-12-06T00:23:31.647Z"
   },
   {
    "duration": 201,
    "start_time": "2024-12-06T00:23:32.983Z"
   },
   {
    "duration": 6,
    "start_time": "2024-12-06T00:23:33.186Z"
   },
   {
    "duration": 1029,
    "start_time": "2024-12-06T00:23:33.194Z"
   },
   {
    "duration": 13,
    "start_time": "2024-12-06T00:23:34.226Z"
   },
   {
    "duration": 14,
    "start_time": "2024-12-06T00:23:34.249Z"
   },
   {
    "duration": 50,
    "start_time": "2024-12-06T00:23:34.265Z"
   },
   {
    "duration": 44,
    "start_time": "2024-12-06T00:23:34.317Z"
   },
   {
    "duration": 7,
    "start_time": "2024-12-06T00:23:34.363Z"
   },
   {
    "duration": 259,
    "start_time": "2024-12-06T00:23:34.372Z"
   },
   {
    "duration": 2,
    "start_time": "2024-12-06T00:23:34.633Z"
   },
   {
    "duration": 15,
    "start_time": "2024-12-06T00:23:34.638Z"
   },
   {
    "duration": 5,
    "start_time": "2024-12-06T00:23:34.655Z"
   },
   {
    "duration": 1035102,
    "start_time": "2024-12-06T00:23:34.663Z"
   },
   {
    "duration": 2,
    "start_time": "2024-12-06T00:40:49.767Z"
   },
   {
    "duration": 6,
    "start_time": "2024-12-06T00:40:49.771Z"
   },
   {
    "duration": 5,
    "start_time": "2024-12-06T00:40:49.778Z"
   },
   {
    "duration": 19,
    "start_time": "2024-12-06T00:40:49.785Z"
   },
   {
    "duration": 93,
    "start_time": "2024-12-06T00:40:49.806Z"
   },
   {
    "duration": 3,
    "start_time": "2024-12-06T00:40:49.900Z"
   },
   {
    "duration": 6746,
    "start_time": "2024-12-06T00:40:49.904Z"
   },
   {
    "duration": 154213,
    "start_time": "2024-12-06T00:40:56.651Z"
   },
   {
    "duration": 4,
    "start_time": "2024-12-06T00:43:30.952Z"
   },
   {
    "duration": 445690,
    "start_time": "2024-12-06T00:43:30.959Z"
   },
   {
    "duration": 1430,
    "start_time": "2024-12-06T00:50:56.651Z"
   },
   {
    "duration": 10,
    "start_time": "2024-12-06T00:50:58.083Z"
   },
   {
    "duration": 22,
    "start_time": "2024-12-06T01:00:54.557Z"
   },
   {
    "duration": 1143455,
    "start_time": "2024-12-06T01:05:03.567Z"
   },
   {
    "duration": 37,
    "start_time": "2024-12-06T01:24:07.024Z"
   },
   {
    "duration": 0,
    "start_time": "2024-12-06T01:30:44.481Z"
   },
   {
    "duration": 1288,
    "start_time": "2024-12-06T16:46:57.448Z"
   },
   {
    "duration": 1869,
    "start_time": "2024-12-06T16:46:58.738Z"
   },
   {
    "duration": 5,
    "start_time": "2024-12-06T16:47:00.608Z"
   },
   {
    "duration": 3869,
    "start_time": "2024-12-06T16:47:00.615Z"
   },
   {
    "duration": 10,
    "start_time": "2024-12-06T16:47:04.487Z"
   },
   {
    "duration": 29,
    "start_time": "2024-12-06T16:47:04.499Z"
   },
   {
    "duration": 29,
    "start_time": "2024-12-06T16:47:04.530Z"
   },
   {
    "duration": 35,
    "start_time": "2024-12-06T16:47:04.561Z"
   },
   {
    "duration": 49,
    "start_time": "2024-12-06T16:47:04.597Z"
   },
   {
    "duration": 289,
    "start_time": "2024-12-06T16:47:04.647Z"
   },
   {
    "duration": 3,
    "start_time": "2024-12-06T16:47:04.938Z"
   },
   {
    "duration": 6,
    "start_time": "2024-12-06T16:47:04.943Z"
   },
   {
    "duration": 7,
    "start_time": "2024-12-06T16:47:04.950Z"
   },
   {
    "duration": 1034572,
    "start_time": "2024-12-06T16:47:04.960Z"
   },
   {
    "duration": 2,
    "start_time": "2024-12-06T17:04:19.534Z"
   },
   {
    "duration": 9,
    "start_time": "2024-12-06T17:04:19.538Z"
   },
   {
    "duration": 10,
    "start_time": "2024-12-06T17:04:19.548Z"
   },
   {
    "duration": 15,
    "start_time": "2024-12-06T17:04:19.559Z"
   },
   {
    "duration": 125,
    "start_time": "2024-12-06T17:04:19.575Z"
   },
   {
    "duration": 0,
    "start_time": "2024-12-06T17:04:19.702Z"
   },
   {
    "duration": 0,
    "start_time": "2024-12-06T17:04:19.703Z"
   },
   {
    "duration": 0,
    "start_time": "2024-12-06T17:04:19.707Z"
   },
   {
    "duration": 0,
    "start_time": "2024-12-06T17:04:19.708Z"
   },
   {
    "duration": 0,
    "start_time": "2024-12-06T17:04:19.710Z"
   },
   {
    "duration": 0,
    "start_time": "2024-12-06T17:04:19.711Z"
   },
   {
    "duration": 0,
    "start_time": "2024-12-06T17:04:19.712Z"
   },
   {
    "duration": 0,
    "start_time": "2024-12-06T17:04:19.714Z"
   },
   {
    "duration": 0,
    "start_time": "2024-12-06T17:04:19.715Z"
   },
   {
    "duration": 0,
    "start_time": "2024-12-06T17:04:19.717Z"
   },
   {
    "duration": 31,
    "start_time": "2024-12-06T17:04:47.094Z"
   },
   {
    "duration": 3,
    "start_time": "2024-12-06T17:04:47.746Z"
   },
   {
    "duration": 6823,
    "start_time": "2024-12-06T17:04:48.765Z"
   },
   {
    "duration": 285712,
    "start_time": "2024-12-06T17:04:55.591Z"
   },
   {
    "duration": 20,
    "start_time": "2024-12-06T17:10:21.833Z"
   },
   {
    "duration": 12,
    "start_time": "2024-12-06T17:23:12.714Z"
   },
   {
    "duration": 56,
    "start_time": "2024-12-06T17:23:34.068Z"
   },
   {
    "duration": 88836,
    "start_time": "2024-12-06T17:23:35.380Z"
   },
   {
    "duration": 12,
    "start_time": "2024-12-06T17:25:40.738Z"
   },
   {
    "duration": 3,
    "start_time": "2024-12-06T17:25:44.679Z"
   },
   {
    "duration": 0,
    "start_time": "2024-12-06T17:57:31.523Z"
   },
   {
    "duration": 5032,
    "start_time": "2024-12-06T17:57:34.479Z"
   },
   {
    "duration": 3079998,
    "start_time": "2024-12-06T17:57:48.186Z"
   },
   {
    "duration": 644365,
    "start_time": "2024-12-06T18:50:36.703Z"
   },
   {
    "duration": 51,
    "start_time": "2024-12-06T19:03:51.280Z"
   },
   {
    "duration": 32,
    "start_time": "2024-12-06T19:04:01.327Z"
   },
   {
    "duration": 2551,
    "start_time": "2024-12-06T19:05:09.008Z"
   },
   {
    "duration": 81703,
    "start_time": "2024-12-06T19:05:46.913Z"
   },
   {
    "duration": 1297,
    "start_time": "2024-12-07T00:53:00.740Z"
   },
   {
    "duration": 1306,
    "start_time": "2024-12-07T00:53:02.039Z"
   },
   {
    "duration": 4,
    "start_time": "2024-12-07T00:53:03.347Z"
   },
   {
    "duration": 1338,
    "start_time": "2024-12-07T00:53:03.353Z"
   },
   {
    "duration": 11,
    "start_time": "2024-12-07T00:53:04.695Z"
   },
   {
    "duration": 28,
    "start_time": "2024-12-07T00:53:04.708Z"
   },
   {
    "duration": 19,
    "start_time": "2024-12-07T00:53:04.738Z"
   },
   {
    "duration": 41,
    "start_time": "2024-12-07T00:53:04.759Z"
   },
   {
    "duration": 34,
    "start_time": "2024-12-07T00:53:04.802Z"
   },
   {
    "duration": 226,
    "start_time": "2024-12-07T00:53:04.838Z"
   },
   {
    "duration": 3,
    "start_time": "2024-12-07T00:53:05.065Z"
   },
   {
    "duration": 40,
    "start_time": "2024-12-07T00:53:05.069Z"
   },
   {
    "duration": 33,
    "start_time": "2024-12-07T00:53:05.110Z"
   },
   {
    "duration": 1041881,
    "start_time": "2024-12-07T00:53:05.146Z"
   },
   {
    "duration": 3,
    "start_time": "2024-12-07T01:10:27.028Z"
   },
   {
    "duration": 20,
    "start_time": "2024-12-07T01:10:27.032Z"
   },
   {
    "duration": 16,
    "start_time": "2024-12-07T01:10:27.054Z"
   },
   {
    "duration": 8,
    "start_time": "2024-12-07T01:10:27.071Z"
   },
   {
    "duration": 36,
    "start_time": "2024-12-07T01:10:27.080Z"
   },
   {
    "duration": 3,
    "start_time": "2024-12-07T01:10:27.117Z"
   },
   {
    "duration": 6672,
    "start_time": "2024-12-07T01:10:27.121Z"
   },
   {
    "duration": 252104,
    "start_time": "2024-12-07T01:10:33.794Z"
   },
   {
    "duration": 336999,
    "start_time": "2024-12-07T01:14:45.990Z"
   },
   {
    "duration": 56,
    "start_time": "2024-12-07T01:20:22.991Z"
   },
   {
    "duration": 1351769,
    "start_time": "2024-12-07T01:20:23.049Z"
   },
   {
    "duration": 0,
    "start_time": "2024-12-07T01:42:54.820Z"
   },
   {
    "duration": 0,
    "start_time": "2024-12-07T01:42:54.823Z"
   },
   {
    "duration": 0,
    "start_time": "2024-12-07T01:42:54.824Z"
   },
   {
    "duration": 0,
    "start_time": "2024-12-07T01:42:54.825Z"
   },
   {
    "duration": 0,
    "start_time": "2024-12-07T01:42:54.826Z"
   },
   {
    "duration": 0,
    "start_time": "2024-12-07T01:42:54.827Z"
   },
   {
    "duration": 0,
    "start_time": "2024-12-07T01:42:54.828Z"
   },
   {
    "duration": 0,
    "start_time": "2024-12-07T01:42:54.829Z"
   },
   {
    "duration": 11,
    "start_time": "2024-12-07T01:43:00.580Z"
   },
   {
    "duration": 32,
    "start_time": "2024-12-07T01:43:04.811Z"
   },
   {
    "duration": 3,
    "start_time": "2024-12-07T01:43:06.410Z"
   },
   {
    "duration": 6732,
    "start_time": "2024-12-07T01:43:06.915Z"
   },
   {
    "duration": 359846,
    "start_time": "2024-12-07T01:43:13.649Z"
   },
   {
    "duration": 15,
    "start_time": "2024-12-07T01:49:34.180Z"
   },
   {
    "duration": 1291,
    "start_time": "2024-12-10T14:40:02.466Z"
   },
   {
    "duration": 2557,
    "start_time": "2024-12-10T14:40:03.759Z"
   },
   {
    "duration": 5,
    "start_time": "2024-12-10T14:40:06.318Z"
   },
   {
    "duration": 1253,
    "start_time": "2024-12-10T14:40:07.995Z"
   },
   {
    "duration": 10,
    "start_time": "2024-12-10T14:40:09.250Z"
   },
   {
    "duration": 8,
    "start_time": "2024-12-10T14:40:09.261Z"
   },
   {
    "duration": 8,
    "start_time": "2024-12-10T14:40:10.191Z"
   },
   {
    "duration": 31,
    "start_time": "2024-12-10T14:40:12.612Z"
   },
   {
    "duration": 6,
    "start_time": "2024-12-10T14:40:14.055Z"
   },
   {
    "duration": 218,
    "start_time": "2024-12-10T14:40:17.337Z"
   },
   {
    "duration": 183,
    "start_time": "2024-12-10T14:40:19.497Z"
   },
   {
    "duration": 3,
    "start_time": "2024-12-10T14:40:22.060Z"
   },
   {
    "duration": 3,
    "start_time": "2024-12-10T14:40:22.761Z"
   },
   {
    "duration": 3,
    "start_time": "2024-12-10T14:40:25.576Z"
   },
   {
    "duration": 1085526,
    "start_time": "2024-12-10T14:40:26.258Z"
   },
   {
    "duration": 3,
    "start_time": "2024-12-10T15:03:06.371Z"
   },
   {
    "duration": 9,
    "start_time": "2024-12-10T15:03:06.987Z"
   },
   {
    "duration": 31,
    "start_time": "2024-12-10T15:03:13.562Z"
   },
   {
    "duration": 3,
    "start_time": "2024-12-10T15:03:14.355Z"
   },
   {
    "duration": 7129,
    "start_time": "2024-12-10T15:03:15.178Z"
   },
   {
    "duration": 123,
    "start_time": "2024-12-10T15:06:02.986Z"
   },
   {
    "duration": 47982,
    "start_time": "2024-12-10T15:07:29.048Z"
   },
   {
    "duration": 50034,
    "start_time": "2024-12-10T15:08:30.306Z"
   },
   {
    "duration": 0,
    "start_time": "2024-12-10T16:09:21.174Z"
   },
   {
    "duration": 0,
    "start_time": "2024-12-10T16:09:21.177Z"
   },
   {
    "duration": 0,
    "start_time": "2024-12-10T16:09:21.178Z"
   },
   {
    "duration": 53,
    "start_time": "2024-12-10T16:09:26.807Z"
   },
   {
    "duration": 18,
    "start_time": "2024-12-10T16:09:27.302Z"
   },
   {
    "duration": 293294,
    "start_time": "2024-12-10T16:10:02.787Z"
   },
   {
    "duration": 347744,
    "start_time": "2024-12-10T16:17:13.960Z"
   },
   {
    "duration": 0,
    "start_time": "2024-12-10T16:24:14.473Z"
   },
   {
    "duration": 0,
    "start_time": "2024-12-10T16:24:14.474Z"
   },
   {
    "duration": 348848,
    "start_time": "2024-12-10T16:24:17.971Z"
   },
   {
    "duration": 1102344,
    "start_time": "2024-12-10T16:30:32.631Z"
   },
   {
    "duration": 7920,
    "start_time": "2024-12-10T17:05:18.372Z"
   },
   {
    "duration": 606959,
    "start_time": "2024-12-10T17:05:31.351Z"
   },
   {
    "duration": 741635,
    "start_time": "2024-12-10T19:44:47.358Z"
   },
   {
    "duration": 2302592,
    "start_time": "2024-12-10T20:01:52.164Z"
   },
   {
    "duration": 1530,
    "start_time": "2024-12-11T22:17:47.600Z"
   },
   {
    "duration": 1353,
    "start_time": "2024-12-11T22:17:49.132Z"
   },
   {
    "duration": 5,
    "start_time": "2024-12-11T22:17:50.486Z"
   },
   {
    "duration": 1327,
    "start_time": "2024-12-11T22:17:53.853Z"
   },
   {
    "duration": 11,
    "start_time": "2024-12-11T22:17:55.182Z"
   },
   {
    "duration": 5,
    "start_time": "2024-12-11T22:17:55.195Z"
   },
   {
    "duration": 15,
    "start_time": "2024-12-11T22:17:55.202Z"
   },
   {
    "duration": 42,
    "start_time": "2024-12-11T22:17:55.219Z"
   },
   {
    "duration": 8,
    "start_time": "2024-12-11T22:17:55.883Z"
   },
   {
    "duration": 236,
    "start_time": "2024-12-11T22:17:56.449Z"
   },
   {
    "duration": 2,
    "start_time": "2024-12-11T22:17:56.701Z"
   },
   {
    "duration": 3,
    "start_time": "2024-12-11T22:17:57.013Z"
   },
   {
    "duration": 3,
    "start_time": "2024-12-11T22:17:57.372Z"
   },
   {
    "duration": 1052761,
    "start_time": "2024-12-11T22:17:58.189Z"
   },
   {
    "duration": 4,
    "start_time": "2024-12-11T22:35:30.951Z"
   },
   {
    "duration": 10,
    "start_time": "2024-12-11T22:35:30.957Z"
   },
   {
    "duration": 31,
    "start_time": "2024-12-11T22:38:04.294Z"
   },
   {
    "duration": 2,
    "start_time": "2024-12-11T22:38:05.310Z"
   },
   {
    "duration": 6978,
    "start_time": "2024-12-11T22:38:06.642Z"
   },
   {
    "duration": 758609,
    "start_time": "2024-12-11T22:40:34.996Z"
   },
   {
    "duration": 2310,
    "start_time": "2024-12-11T23:13:05.161Z"
   },
   {
    "duration": 2253,
    "start_time": "2024-12-11T23:13:16.459Z"
   },
   {
    "duration": 2238,
    "start_time": "2024-12-11T23:13:23.446Z"
   },
   {
    "duration": 2531,
    "start_time": "2024-12-11T23:13:33.996Z"
   },
   {
    "duration": 2201,
    "start_time": "2024-12-11T23:13:49.536Z"
   },
   {
    "duration": 1220739,
    "start_time": "2024-12-11T23:15:39.206Z"
   },
   {
    "duration": 1339,
    "start_time": "2024-12-12T00:21:26.094Z"
   },
   {
    "duration": 219,
    "start_time": "2024-12-12T00:21:27.436Z"
   },
   {
    "duration": 5,
    "start_time": "2024-12-12T00:21:27.657Z"
   },
   {
    "duration": 953,
    "start_time": "2024-12-12T00:21:27.664Z"
   },
   {
    "duration": 10,
    "start_time": "2024-12-12T00:21:28.618Z"
   },
   {
    "duration": 4,
    "start_time": "2024-12-12T00:21:28.637Z"
   },
   {
    "duration": 7,
    "start_time": "2024-12-12T00:21:28.643Z"
   },
   {
    "duration": 32,
    "start_time": "2024-12-12T00:21:28.651Z"
   },
   {
    "duration": 14,
    "start_time": "2024-12-12T00:21:28.685Z"
   },
   {
    "duration": 239,
    "start_time": "2024-12-12T00:21:28.701Z"
   },
   {
    "duration": 3,
    "start_time": "2024-12-12T00:21:28.942Z"
   },
   {
    "duration": 16,
    "start_time": "2024-12-12T00:21:28.947Z"
   },
   {
    "duration": 5,
    "start_time": "2024-12-12T00:21:28.965Z"
   },
   {
    "duration": 1021536,
    "start_time": "2024-12-12T00:21:28.971Z"
   },
   {
    "duration": 2,
    "start_time": "2024-12-12T00:38:30.509Z"
   },
   {
    "duration": 33,
    "start_time": "2024-12-12T00:38:30.513Z"
   },
   {
    "duration": 19,
    "start_time": "2024-12-12T00:38:30.548Z"
   },
   {
    "duration": 41,
    "start_time": "2024-12-12T00:38:30.569Z"
   },
   {
    "duration": 57,
    "start_time": "2024-12-12T00:38:30.612Z"
   },
   {
    "duration": 3,
    "start_time": "2024-12-12T00:38:30.670Z"
   },
   {
    "duration": 6805,
    "start_time": "2024-12-12T00:38:30.675Z"
   },
   {
    "duration": 1125489,
    "start_time": "2024-12-12T00:38:37.482Z"
   },
   {
    "duration": 3,
    "start_time": "2024-12-12T00:57:22.973Z"
   },
   {
    "duration": 1214039,
    "start_time": "2024-12-12T00:57:22.977Z"
   },
   {
    "duration": 1670,
    "start_time": "2024-12-12T01:17:37.017Z"
   },
   {
    "duration": 96482,
    "start_time": "2024-12-12T01:17:38.688Z"
   },
   {
    "duration": 11,
    "start_time": "2024-12-12T01:19:15.172Z"
   },
   {
    "duration": 24,
    "start_time": "2024-12-12T01:19:15.186Z"
   },
   {
    "duration": 88,
    "start_time": "2024-12-12T01:47:32.044Z"
   },
   {
    "duration": 1371,
    "start_time": "2024-12-12T02:01:47.421Z"
   },
   {
    "duration": 233,
    "start_time": "2024-12-12T02:01:48.794Z"
   },
   {
    "duration": 9,
    "start_time": "2024-12-12T02:01:49.029Z"
   },
   {
    "duration": 966,
    "start_time": "2024-12-12T02:01:49.039Z"
   },
   {
    "duration": 11,
    "start_time": "2024-12-12T02:01:50.007Z"
   },
   {
    "duration": 46,
    "start_time": "2024-12-12T02:01:50.020Z"
   },
   {
    "duration": 28,
    "start_time": "2024-12-12T02:01:50.068Z"
   },
   {
    "duration": 41,
    "start_time": "2024-12-12T02:01:50.097Z"
   },
   {
    "duration": 26,
    "start_time": "2024-12-12T02:01:50.140Z"
   },
   {
    "duration": 239,
    "start_time": "2024-12-12T02:01:50.168Z"
   },
   {
    "duration": 3,
    "start_time": "2024-12-12T02:01:50.409Z"
   },
   {
    "duration": 19,
    "start_time": "2024-12-12T02:01:50.413Z"
   },
   {
    "duration": 13,
    "start_time": "2024-12-12T02:01:50.434Z"
   },
   {
    "duration": 1012476,
    "start_time": "2024-12-12T02:01:50.450Z"
   },
   {
    "duration": 2,
    "start_time": "2024-12-12T02:18:42.928Z"
   },
   {
    "duration": 2,
    "start_time": "2024-12-12T02:18:42.937Z"
   },
   {
    "duration": 11,
    "start_time": "2024-12-12T02:18:42.941Z"
   },
   {
    "duration": 21,
    "start_time": "2024-12-12T02:18:42.954Z"
   },
   {
    "duration": 32,
    "start_time": "2024-12-12T02:18:42.977Z"
   },
   {
    "duration": 4,
    "start_time": "2024-12-12T02:18:43.010Z"
   },
   {
    "duration": 6782,
    "start_time": "2024-12-12T02:18:43.015Z"
   },
   {
    "duration": 0,
    "start_time": "2024-12-12T02:36:24.635Z"
   },
   {
    "duration": 0,
    "start_time": "2024-12-12T02:36:24.637Z"
   },
   {
    "duration": 0,
    "start_time": "2024-12-12T02:36:24.638Z"
   },
   {
    "duration": 0,
    "start_time": "2024-12-12T02:36:24.639Z"
   },
   {
    "duration": 0,
    "start_time": "2024-12-12T02:36:24.640Z"
   },
   {
    "duration": 0,
    "start_time": "2024-12-12T02:36:24.641Z"
   },
   {
    "duration": 1337,
    "start_time": "2024-12-12T02:48:24.153Z"
   },
   {
    "duration": 305,
    "start_time": "2024-12-12T02:48:25.492Z"
   },
   {
    "duration": 975,
    "start_time": "2024-12-12T02:48:25.799Z"
   },
   {
    "duration": 11,
    "start_time": "2024-12-12T02:48:26.776Z"
   },
   {
    "duration": 11,
    "start_time": "2024-12-12T02:48:26.790Z"
   },
   {
    "duration": 7,
    "start_time": "2024-12-12T02:48:26.802Z"
   },
   {
    "duration": 49,
    "start_time": "2024-12-12T02:48:26.810Z"
   },
   {
    "duration": 9,
    "start_time": "2024-12-12T02:48:26.861Z"
   },
   {
    "duration": 251,
    "start_time": "2024-12-12T02:48:26.871Z"
   },
   {
    "duration": 3,
    "start_time": "2024-12-12T02:48:27.124Z"
   },
   {
    "duration": 5,
    "start_time": "2024-12-12T02:48:27.137Z"
   },
   {
    "duration": 6,
    "start_time": "2024-12-12T02:48:27.144Z"
   },
   {
    "duration": 1297,
    "start_time": "2024-12-12T03:00:55.194Z"
   },
   {
    "duration": 258,
    "start_time": "2024-12-12T03:00:56.493Z"
   },
   {
    "duration": 997,
    "start_time": "2024-12-12T03:00:56.753Z"
   },
   {
    "duration": 11,
    "start_time": "2024-12-12T03:00:57.752Z"
   },
   {
    "duration": 17,
    "start_time": "2024-12-12T03:00:57.765Z"
   },
   {
    "duration": 19,
    "start_time": "2024-12-12T03:00:57.784Z"
   },
   {
    "duration": 40,
    "start_time": "2024-12-12T03:00:57.804Z"
   },
   {
    "duration": 11,
    "start_time": "2024-12-12T03:00:57.846Z"
   },
   {
    "duration": 245,
    "start_time": "2024-12-12T03:00:57.858Z"
   },
   {
    "duration": 3,
    "start_time": "2024-12-12T03:00:58.105Z"
   },
   {
    "duration": 6,
    "start_time": "2024-12-12T03:00:58.109Z"
   },
   {
    "duration": 7,
    "start_time": "2024-12-12T03:00:58.117Z"
   },
   {
    "duration": 1375,
    "start_time": "2024-12-12T03:17:08.899Z"
   },
   {
    "duration": 302,
    "start_time": "2024-12-12T03:17:10.276Z"
   },
   {
    "duration": 976,
    "start_time": "2024-12-12T03:17:10.579Z"
   },
   {
    "duration": 10,
    "start_time": "2024-12-12T03:17:11.557Z"
   },
   {
    "duration": 9,
    "start_time": "2024-12-12T03:17:11.570Z"
   },
   {
    "duration": 18,
    "start_time": "2024-12-12T03:17:11.581Z"
   },
   {
    "duration": 41,
    "start_time": "2024-12-12T03:17:11.601Z"
   },
   {
    "duration": 6,
    "start_time": "2024-12-12T03:17:11.643Z"
   },
   {
    "duration": 244,
    "start_time": "2024-12-12T03:17:11.651Z"
   },
   {
    "duration": 2,
    "start_time": "2024-12-12T03:17:11.897Z"
   },
   {
    "duration": 8,
    "start_time": "2024-12-12T03:17:11.901Z"
   },
   {
    "duration": 4,
    "start_time": "2024-12-12T03:17:11.911Z"
   },
   {
    "duration": 1282,
    "start_time": "2024-12-12T03:23:32.376Z"
   },
   {
    "duration": 299,
    "start_time": "2024-12-12T03:23:33.660Z"
   },
   {
    "duration": 972,
    "start_time": "2024-12-12T03:23:33.960Z"
   },
   {
    "duration": 11,
    "start_time": "2024-12-12T03:23:34.936Z"
   },
   {
    "duration": 26,
    "start_time": "2024-12-12T03:23:34.949Z"
   },
   {
    "duration": 24,
    "start_time": "2024-12-12T03:23:34.977Z"
   },
   {
    "duration": 35,
    "start_time": "2024-12-12T03:23:35.003Z"
   },
   {
    "duration": 6,
    "start_time": "2024-12-12T03:23:35.040Z"
   },
   {
    "duration": 244,
    "start_time": "2024-12-12T03:23:35.048Z"
   },
   {
    "duration": 3,
    "start_time": "2024-12-12T03:23:35.294Z"
   },
   {
    "duration": 29,
    "start_time": "2024-12-12T03:23:35.298Z"
   },
   {
    "duration": 9,
    "start_time": "2024-12-12T03:23:35.329Z"
   },
   {
    "duration": 1342,
    "start_time": "2024-12-12T03:32:11.329Z"
   },
   {
    "duration": 204,
    "start_time": "2024-12-12T03:32:12.673Z"
   },
   {
    "duration": 973,
    "start_time": "2024-12-12T03:32:12.879Z"
   },
   {
    "duration": 11,
    "start_time": "2024-12-12T03:32:13.854Z"
   },
   {
    "duration": 6,
    "start_time": "2024-12-12T03:32:13.867Z"
   },
   {
    "duration": 7,
    "start_time": "2024-12-12T03:32:13.875Z"
   },
   {
    "duration": 57,
    "start_time": "2024-12-12T03:32:13.883Z"
   },
   {
    "duration": 11,
    "start_time": "2024-12-12T03:32:13.942Z"
   },
   {
    "duration": 245,
    "start_time": "2024-12-12T03:32:13.955Z"
   },
   {
    "duration": 2,
    "start_time": "2024-12-12T03:32:14.202Z"
   },
   {
    "duration": 6,
    "start_time": "2024-12-12T03:32:14.206Z"
   },
   {
    "duration": 7,
    "start_time": "2024-12-12T03:32:14.213Z"
   },
   {
    "duration": 1301,
    "start_time": "2024-12-12T03:37:19.470Z"
   },
   {
    "duration": 312,
    "start_time": "2024-12-12T03:37:20.773Z"
   },
   {
    "duration": 972,
    "start_time": "2024-12-12T03:37:21.087Z"
   },
   {
    "duration": 11,
    "start_time": "2024-12-12T03:37:22.060Z"
   },
   {
    "duration": 10,
    "start_time": "2024-12-12T03:37:22.073Z"
   },
   {
    "duration": 18,
    "start_time": "2024-12-12T03:37:22.085Z"
   },
   {
    "duration": 41,
    "start_time": "2024-12-12T03:37:22.104Z"
   },
   {
    "duration": 6,
    "start_time": "2024-12-12T03:37:22.147Z"
   },
   {
    "duration": 244,
    "start_time": "2024-12-12T03:37:22.154Z"
   },
   {
    "duration": 3,
    "start_time": "2024-12-12T03:37:22.400Z"
   },
   {
    "duration": 19,
    "start_time": "2024-12-12T03:37:22.404Z"
   },
   {
    "duration": 35,
    "start_time": "2024-12-12T03:37:22.425Z"
   },
   {
    "duration": 1016044,
    "start_time": "2024-12-12T03:37:22.462Z"
   },
   {
    "duration": 3,
    "start_time": "2024-12-12T03:54:18.508Z"
   },
   {
    "duration": 3,
    "start_time": "2024-12-12T03:54:18.512Z"
   },
   {
    "duration": 4,
    "start_time": "2024-12-12T03:54:18.517Z"
   },
   {
    "duration": 17,
    "start_time": "2024-12-12T03:54:18.522Z"
   },
   {
    "duration": 37,
    "start_time": "2024-12-12T03:54:18.541Z"
   },
   {
    "duration": 3,
    "start_time": "2024-12-12T03:54:18.579Z"
   },
   {
    "duration": 6712,
    "start_time": "2024-12-12T03:54:18.583Z"
   },
   {
    "duration": 1298,
    "start_time": "2024-12-12T04:10:59.495Z"
   },
   {
    "duration": 212,
    "start_time": "2024-12-12T04:11:00.795Z"
   },
   {
    "duration": 973,
    "start_time": "2024-12-12T04:11:01.009Z"
   },
   {
    "duration": 10,
    "start_time": "2024-12-12T04:11:01.984Z"
   },
   {
    "duration": 32,
    "start_time": "2024-12-12T04:11:01.996Z"
   },
   {
    "duration": 23,
    "start_time": "2024-12-12T04:11:02.029Z"
   },
   {
    "duration": 52,
    "start_time": "2024-12-12T04:11:02.053Z"
   },
   {
    "duration": 16,
    "start_time": "2024-12-12T04:11:02.106Z"
   },
   {
    "duration": 287,
    "start_time": "2024-12-12T04:11:02.123Z"
   },
   {
    "duration": 3,
    "start_time": "2024-12-12T04:11:02.411Z"
   },
   {
    "duration": 49,
    "start_time": "2024-12-12T04:11:02.415Z"
   },
   {
    "duration": 10,
    "start_time": "2024-12-12T04:11:02.466Z"
   },
   {
    "duration": 713913,
    "start_time": "2024-12-12T04:11:02.478Z"
   },
   {
    "duration": 0,
    "start_time": "2024-12-12T04:22:56.393Z"
   },
   {
    "duration": 0,
    "start_time": "2024-12-12T04:22:56.395Z"
   },
   {
    "duration": 0,
    "start_time": "2024-12-12T04:22:56.396Z"
   },
   {
    "duration": 0,
    "start_time": "2024-12-12T04:22:56.398Z"
   },
   {
    "duration": 0,
    "start_time": "2024-12-12T04:22:56.399Z"
   },
   {
    "duration": 0,
    "start_time": "2024-12-12T04:22:56.401Z"
   },
   {
    "duration": 0,
    "start_time": "2024-12-12T04:22:56.404Z"
   },
   {
    "duration": 0,
    "start_time": "2024-12-12T04:22:56.405Z"
   },
   {
    "duration": 0,
    "start_time": "2024-12-12T04:22:56.407Z"
   },
   {
    "duration": 0,
    "start_time": "2024-12-12T04:22:56.408Z"
   },
   {
    "duration": 0,
    "start_time": "2024-12-12T04:22:56.409Z"
   },
   {
    "duration": 0,
    "start_time": "2024-12-12T04:22:56.411Z"
   },
   {
    "duration": 0,
    "start_time": "2024-12-12T04:22:56.412Z"
   },
   {
    "duration": 1313,
    "start_time": "2025-02-09T19:05:31.882Z"
   },
   {
    "duration": 1556,
    "start_time": "2025-02-09T19:05:33.196Z"
   },
   {
    "duration": 920,
    "start_time": "2025-02-09T19:05:34.753Z"
   },
   {
    "duration": 10,
    "start_time": "2025-02-09T19:05:35.675Z"
   },
   {
    "duration": 65,
    "start_time": "2025-02-09T19:05:35.687Z"
   },
   {
    "duration": 34,
    "start_time": "2025-02-09T19:05:35.754Z"
   },
   {
    "duration": 64,
    "start_time": "2025-02-09T19:05:35.790Z"
   },
   {
    "duration": 58,
    "start_time": "2025-02-09T19:05:35.856Z"
   },
   {
    "duration": 250,
    "start_time": "2025-02-09T19:05:35.916Z"
   },
   {
    "duration": 2,
    "start_time": "2025-02-09T19:05:36.168Z"
   },
   {
    "duration": 88,
    "start_time": "2025-02-09T19:05:36.172Z"
   },
   {
    "duration": 20,
    "start_time": "2025-02-09T19:05:36.262Z"
   },
   {
    "duration": 964303,
    "start_time": "2025-02-09T19:05:36.284Z"
   },
   {
    "duration": 2,
    "start_time": "2025-02-09T19:21:40.590Z"
   },
   {
    "duration": 38,
    "start_time": "2025-02-09T19:21:40.593Z"
   },
   {
    "duration": 6,
    "start_time": "2025-02-09T19:21:40.633Z"
   },
   {
    "duration": 14,
    "start_time": "2025-02-09T19:21:40.640Z"
   },
   {
    "duration": 44,
    "start_time": "2025-02-09T19:21:40.655Z"
   },
   {
    "duration": 2,
    "start_time": "2025-02-09T19:21:40.701Z"
   },
   {
    "duration": 6531,
    "start_time": "2025-02-09T19:21:40.705Z"
   },
   {
    "duration": 1083997,
    "start_time": "2025-02-09T19:21:47.237Z"
   },
   {
    "duration": 2,
    "start_time": "2025-02-09T19:39:51.236Z"
   },
   {
    "duration": 1166284,
    "start_time": "2025-02-09T19:39:51.247Z"
   },
   {
    "duration": 1598,
    "start_time": "2025-02-09T19:59:17.533Z"
   },
   {
    "duration": 23,
    "start_time": "2025-02-09T19:59:19.133Z"
   },
   {
    "duration": 15,
    "start_time": "2025-02-09T19:59:19.158Z"
   },
   {
    "duration": 1273,
    "start_time": "2025-02-09T20:10:12.084Z"
   },
   {
    "duration": 271,
    "start_time": "2025-02-09T20:10:13.359Z"
   },
   {
    "duration": 936,
    "start_time": "2025-02-09T20:10:13.631Z"
   },
   {
    "duration": 10,
    "start_time": "2025-02-09T20:10:14.569Z"
   },
   {
    "duration": 5,
    "start_time": "2025-02-09T20:10:14.580Z"
   },
   {
    "duration": 6,
    "start_time": "2025-02-09T20:10:14.586Z"
   },
   {
    "duration": 38,
    "start_time": "2025-02-09T20:10:14.594Z"
   },
   {
    "duration": 6,
    "start_time": "2025-02-09T20:10:14.647Z"
   },
   {
    "duration": 235,
    "start_time": "2025-02-09T20:10:14.654Z"
   },
   {
    "duration": 3,
    "start_time": "2025-02-09T20:10:14.890Z"
   },
   {
    "duration": 6,
    "start_time": "2025-02-09T20:10:14.894Z"
   },
   {
    "duration": 4,
    "start_time": "2025-02-09T20:10:14.901Z"
   },
   {
    "duration": 987176,
    "start_time": "2025-02-09T20:10:14.906Z"
   },
   {
    "duration": 3,
    "start_time": "2025-02-09T20:26:42.085Z"
   },
   {
    "duration": 9,
    "start_time": "2025-02-09T20:26:42.090Z"
   },
   {
    "duration": 32,
    "start_time": "2025-02-09T20:26:42.101Z"
   },
   {
    "duration": 13,
    "start_time": "2025-02-09T20:26:42.135Z"
   },
   {
    "duration": 6561,
    "start_time": "2025-02-09T20:26:42.150Z"
   },
   {
    "duration": 4089632,
    "start_time": "2025-02-09T20:26:48.712Z"
   },
   {
    "duration": 1141989,
    "start_time": "2025-02-09T21:34:58.348Z"
   },
   {
    "duration": 1621,
    "start_time": "2025-02-09T21:54:00.339Z"
   },
   {
    "duration": 10,
    "start_time": "2025-02-09T21:54:01.962Z"
   },
   {
    "duration": 53,
    "start_time": "2025-02-09T21:54:01.973Z"
   }
  ],
  "kernelspec": {
   "display_name": "Python 3 (ipykernel)",
   "language": "python",
   "name": "python3"
  },
  "language_info": {
   "codemirror_mode": {
    "name": "ipython",
    "version": 3
   },
   "file_extension": ".py",
   "mimetype": "text/x-python",
   "name": "python",
   "nbconvert_exporter": "python",
   "pygments_lexer": "ipython3",
   "version": "3.9.5"
  },
  "toc": {
   "base_numbering": 1,
   "nav_menu": {},
   "number_sections": true,
   "sideBar": true,
   "skip_h1_title": true,
   "title_cell": "Содержание",
   "title_sidebar": "Contents",
   "toc_cell": true,
   "toc_position": {
    "height": "calc(100% - 180px)",
    "left": "10px",
    "top": "150px",
    "width": "302.391px"
   },
   "toc_section_display": true,
   "toc_window_display": false
  }
 },
 "nbformat": 4,
 "nbformat_minor": 2
}
