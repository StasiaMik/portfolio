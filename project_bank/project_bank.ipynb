{
 "cells": [
  {
   "cell_type": "markdown",
   "id": "39716cae",
   "metadata": {},
   "source": [
    "# Исследование надежности заемщиков"
   ]
  },
  {
   "cell_type": "markdown",
   "id": "e1ac1831",
   "metadata": {},
   "source": [
    "**Описание проекта:**\n",
    "\n",
    "Заказчик — кредитный отдел банка. Нужно разобраться, влияет ли семейное положение и количество детей клиента на факт погашения кредита в срок. Входные данные от банка — статистика о платёжеспособности клиентов.\n",
    "Результаты исследования будут учтены при построении модели кредитного скоринга — специальной системы, которая оценивает способность потенциального заёмщика вернуть кредит банку.\n"
   ]
  },
  {
   "cell_type": "code",
   "execution_count": 1,
   "id": "8d4d2f51",
   "metadata": {},
   "outputs": [],
   "source": [
    "#импорт библиотеки\n",
    "import pandas as pd"
   ]
  },
  {
   "cell_type": "markdown",
   "id": "fa18479b",
   "metadata": {},
   "source": [
    "## Загрузка данных"
   ]
  },
  {
   "cell_type": "code",
   "execution_count": 2,
   "id": "de1628b3",
   "metadata": {},
   "outputs": [],
   "source": [
    "#загрузка данных \n",
    "try:\n",
    "    data = pd.read_csv('/.../data.csv')\n",
    "except:\n",
    "    data = pd.read_csv('https://.../data.csv')"
   ]
  },
  {
   "cell_type": "code",
   "execution_count": 3,
   "id": "a2c8067c",
   "metadata": {},
   "outputs": [
    {
     "data": {
      "text/html": [
       "<div>\n",
       "<style scoped>\n",
       "    .dataframe tbody tr th:only-of-type {\n",
       "        vertical-align: middle;\n",
       "    }\n",
       "\n",
       "    .dataframe tbody tr th {\n",
       "        vertical-align: top;\n",
       "    }\n",
       "\n",
       "    .dataframe thead th {\n",
       "        text-align: right;\n",
       "    }\n",
       "</style>\n",
       "<table border=\"1\" class=\"dataframe\">\n",
       "  <thead>\n",
       "    <tr style=\"text-align: right;\">\n",
       "      <th></th>\n",
       "      <th>children</th>\n",
       "      <th>days_employed</th>\n",
       "      <th>dob_years</th>\n",
       "      <th>education</th>\n",
       "      <th>education_id</th>\n",
       "      <th>family_status</th>\n",
       "      <th>family_status_id</th>\n",
       "      <th>gender</th>\n",
       "      <th>income_type</th>\n",
       "      <th>debt</th>\n",
       "      <th>total_income</th>\n",
       "      <th>purpose</th>\n",
       "    </tr>\n",
       "  </thead>\n",
       "  <tbody>\n",
       "    <tr>\n",
       "      <th>0</th>\n",
       "      <td>1</td>\n",
       "      <td>-8437.673028</td>\n",
       "      <td>42</td>\n",
       "      <td>высшее</td>\n",
       "      <td>0</td>\n",
       "      <td>женат / замужем</td>\n",
       "      <td>0</td>\n",
       "      <td>F</td>\n",
       "      <td>сотрудник</td>\n",
       "      <td>0</td>\n",
       "      <td>253875.639453</td>\n",
       "      <td>покупка жилья</td>\n",
       "    </tr>\n",
       "    <tr>\n",
       "      <th>1</th>\n",
       "      <td>1</td>\n",
       "      <td>-4024.803754</td>\n",
       "      <td>36</td>\n",
       "      <td>среднее</td>\n",
       "      <td>1</td>\n",
       "      <td>женат / замужем</td>\n",
       "      <td>0</td>\n",
       "      <td>F</td>\n",
       "      <td>сотрудник</td>\n",
       "      <td>0</td>\n",
       "      <td>112080.014102</td>\n",
       "      <td>приобретение автомобиля</td>\n",
       "    </tr>\n",
       "    <tr>\n",
       "      <th>2</th>\n",
       "      <td>0</td>\n",
       "      <td>-5623.422610</td>\n",
       "      <td>33</td>\n",
       "      <td>Среднее</td>\n",
       "      <td>1</td>\n",
       "      <td>женат / замужем</td>\n",
       "      <td>0</td>\n",
       "      <td>M</td>\n",
       "      <td>сотрудник</td>\n",
       "      <td>0</td>\n",
       "      <td>145885.952297</td>\n",
       "      <td>покупка жилья</td>\n",
       "    </tr>\n",
       "    <tr>\n",
       "      <th>3</th>\n",
       "      <td>3</td>\n",
       "      <td>-4124.747207</td>\n",
       "      <td>32</td>\n",
       "      <td>среднее</td>\n",
       "      <td>1</td>\n",
       "      <td>женат / замужем</td>\n",
       "      <td>0</td>\n",
       "      <td>M</td>\n",
       "      <td>сотрудник</td>\n",
       "      <td>0</td>\n",
       "      <td>267628.550329</td>\n",
       "      <td>дополнительное образование</td>\n",
       "    </tr>\n",
       "    <tr>\n",
       "      <th>4</th>\n",
       "      <td>0</td>\n",
       "      <td>340266.072047</td>\n",
       "      <td>53</td>\n",
       "      <td>среднее</td>\n",
       "      <td>1</td>\n",
       "      <td>гражданский брак</td>\n",
       "      <td>1</td>\n",
       "      <td>F</td>\n",
       "      <td>пенсионер</td>\n",
       "      <td>0</td>\n",
       "      <td>158616.077870</td>\n",
       "      <td>сыграть свадьбу</td>\n",
       "    </tr>\n",
       "    <tr>\n",
       "      <th>5</th>\n",
       "      <td>0</td>\n",
       "      <td>-926.185831</td>\n",
       "      <td>27</td>\n",
       "      <td>высшее</td>\n",
       "      <td>0</td>\n",
       "      <td>гражданский брак</td>\n",
       "      <td>1</td>\n",
       "      <td>M</td>\n",
       "      <td>компаньон</td>\n",
       "      <td>0</td>\n",
       "      <td>255763.565419</td>\n",
       "      <td>покупка жилья</td>\n",
       "    </tr>\n",
       "    <tr>\n",
       "      <th>6</th>\n",
       "      <td>0</td>\n",
       "      <td>-2879.202052</td>\n",
       "      <td>43</td>\n",
       "      <td>высшее</td>\n",
       "      <td>0</td>\n",
       "      <td>женат / замужем</td>\n",
       "      <td>0</td>\n",
       "      <td>F</td>\n",
       "      <td>компаньон</td>\n",
       "      <td>0</td>\n",
       "      <td>240525.971920</td>\n",
       "      <td>операции с жильем</td>\n",
       "    </tr>\n",
       "    <tr>\n",
       "      <th>7</th>\n",
       "      <td>0</td>\n",
       "      <td>-152.779569</td>\n",
       "      <td>50</td>\n",
       "      <td>СРЕДНЕЕ</td>\n",
       "      <td>1</td>\n",
       "      <td>женат / замужем</td>\n",
       "      <td>0</td>\n",
       "      <td>M</td>\n",
       "      <td>сотрудник</td>\n",
       "      <td>0</td>\n",
       "      <td>135823.934197</td>\n",
       "      <td>образование</td>\n",
       "    </tr>\n",
       "    <tr>\n",
       "      <th>8</th>\n",
       "      <td>2</td>\n",
       "      <td>-6929.865299</td>\n",
       "      <td>35</td>\n",
       "      <td>ВЫСШЕЕ</td>\n",
       "      <td>0</td>\n",
       "      <td>гражданский брак</td>\n",
       "      <td>1</td>\n",
       "      <td>F</td>\n",
       "      <td>сотрудник</td>\n",
       "      <td>0</td>\n",
       "      <td>95856.832424</td>\n",
       "      <td>на проведение свадьбы</td>\n",
       "    </tr>\n",
       "    <tr>\n",
       "      <th>9</th>\n",
       "      <td>0</td>\n",
       "      <td>-2188.756445</td>\n",
       "      <td>41</td>\n",
       "      <td>среднее</td>\n",
       "      <td>1</td>\n",
       "      <td>женат / замужем</td>\n",
       "      <td>0</td>\n",
       "      <td>M</td>\n",
       "      <td>сотрудник</td>\n",
       "      <td>0</td>\n",
       "      <td>144425.938277</td>\n",
       "      <td>покупка жилья для семьи</td>\n",
       "    </tr>\n",
       "    <tr>\n",
       "      <th>10</th>\n",
       "      <td>2</td>\n",
       "      <td>-4171.483647</td>\n",
       "      <td>36</td>\n",
       "      <td>высшее</td>\n",
       "      <td>0</td>\n",
       "      <td>женат / замужем</td>\n",
       "      <td>0</td>\n",
       "      <td>M</td>\n",
       "      <td>компаньон</td>\n",
       "      <td>0</td>\n",
       "      <td>113943.491460</td>\n",
       "      <td>покупка недвижимости</td>\n",
       "    </tr>\n",
       "    <tr>\n",
       "      <th>11</th>\n",
       "      <td>0</td>\n",
       "      <td>-792.701887</td>\n",
       "      <td>40</td>\n",
       "      <td>среднее</td>\n",
       "      <td>1</td>\n",
       "      <td>женат / замужем</td>\n",
       "      <td>0</td>\n",
       "      <td>F</td>\n",
       "      <td>сотрудник</td>\n",
       "      <td>0</td>\n",
       "      <td>77069.234271</td>\n",
       "      <td>покупка коммерческой недвижимости</td>\n",
       "    </tr>\n",
       "    <tr>\n",
       "      <th>12</th>\n",
       "      <td>0</td>\n",
       "      <td>NaN</td>\n",
       "      <td>65</td>\n",
       "      <td>среднее</td>\n",
       "      <td>1</td>\n",
       "      <td>гражданский брак</td>\n",
       "      <td>1</td>\n",
       "      <td>M</td>\n",
       "      <td>пенсионер</td>\n",
       "      <td>0</td>\n",
       "      <td>NaN</td>\n",
       "      <td>сыграть свадьбу</td>\n",
       "    </tr>\n",
       "    <tr>\n",
       "      <th>13</th>\n",
       "      <td>0</td>\n",
       "      <td>-1846.641941</td>\n",
       "      <td>54</td>\n",
       "      <td>неоконченное высшее</td>\n",
       "      <td>2</td>\n",
       "      <td>женат / замужем</td>\n",
       "      <td>0</td>\n",
       "      <td>F</td>\n",
       "      <td>сотрудник</td>\n",
       "      <td>0</td>\n",
       "      <td>130458.228857</td>\n",
       "      <td>приобретение автомобиля</td>\n",
       "    </tr>\n",
       "    <tr>\n",
       "      <th>14</th>\n",
       "      <td>0</td>\n",
       "      <td>-1844.956182</td>\n",
       "      <td>56</td>\n",
       "      <td>высшее</td>\n",
       "      <td>0</td>\n",
       "      <td>гражданский брак</td>\n",
       "      <td>1</td>\n",
       "      <td>F</td>\n",
       "      <td>компаньон</td>\n",
       "      <td>1</td>\n",
       "      <td>165127.911772</td>\n",
       "      <td>покупка жилой недвижимости</td>\n",
       "    </tr>\n",
       "    <tr>\n",
       "      <th>15</th>\n",
       "      <td>1</td>\n",
       "      <td>-972.364419</td>\n",
       "      <td>26</td>\n",
       "      <td>среднее</td>\n",
       "      <td>1</td>\n",
       "      <td>женат / замужем</td>\n",
       "      <td>0</td>\n",
       "      <td>F</td>\n",
       "      <td>сотрудник</td>\n",
       "      <td>0</td>\n",
       "      <td>116820.904450</td>\n",
       "      <td>строительство собственной недвижимости</td>\n",
       "    </tr>\n",
       "    <tr>\n",
       "      <th>16</th>\n",
       "      <td>0</td>\n",
       "      <td>-1719.934226</td>\n",
       "      <td>35</td>\n",
       "      <td>среднее</td>\n",
       "      <td>1</td>\n",
       "      <td>женат / замужем</td>\n",
       "      <td>0</td>\n",
       "      <td>F</td>\n",
       "      <td>сотрудник</td>\n",
       "      <td>0</td>\n",
       "      <td>289202.704229</td>\n",
       "      <td>недвижимость</td>\n",
       "    </tr>\n",
       "    <tr>\n",
       "      <th>17</th>\n",
       "      <td>0</td>\n",
       "      <td>-2369.999720</td>\n",
       "      <td>33</td>\n",
       "      <td>высшее</td>\n",
       "      <td>0</td>\n",
       "      <td>гражданский брак</td>\n",
       "      <td>1</td>\n",
       "      <td>M</td>\n",
       "      <td>сотрудник</td>\n",
       "      <td>0</td>\n",
       "      <td>90410.586745</td>\n",
       "      <td>строительство недвижимости</td>\n",
       "    </tr>\n",
       "    <tr>\n",
       "      <th>18</th>\n",
       "      <td>0</td>\n",
       "      <td>400281.136913</td>\n",
       "      <td>53</td>\n",
       "      <td>среднее</td>\n",
       "      <td>1</td>\n",
       "      <td>вдовец / вдова</td>\n",
       "      <td>2</td>\n",
       "      <td>F</td>\n",
       "      <td>пенсионер</td>\n",
       "      <td>0</td>\n",
       "      <td>56823.777243</td>\n",
       "      <td>на покупку подержанного автомобиля</td>\n",
       "    </tr>\n",
       "    <tr>\n",
       "      <th>19</th>\n",
       "      <td>0</td>\n",
       "      <td>-10038.818549</td>\n",
       "      <td>48</td>\n",
       "      <td>СРЕДНЕЕ</td>\n",
       "      <td>1</td>\n",
       "      <td>в разводе</td>\n",
       "      <td>3</td>\n",
       "      <td>F</td>\n",
       "      <td>сотрудник</td>\n",
       "      <td>0</td>\n",
       "      <td>242831.107982</td>\n",
       "      <td>на покупку своего автомобиля</td>\n",
       "    </tr>\n",
       "  </tbody>\n",
       "</table>\n",
       "</div>"
      ],
      "text/plain": [
       "    children  days_employed  dob_years            education  education_id  \\\n",
       "0          1   -8437.673028         42               высшее             0   \n",
       "1          1   -4024.803754         36              среднее             1   \n",
       "2          0   -5623.422610         33              Среднее             1   \n",
       "3          3   -4124.747207         32              среднее             1   \n",
       "4          0  340266.072047         53              среднее             1   \n",
       "5          0    -926.185831         27               высшее             0   \n",
       "6          0   -2879.202052         43               высшее             0   \n",
       "7          0    -152.779569         50              СРЕДНЕЕ             1   \n",
       "8          2   -6929.865299         35               ВЫСШЕЕ             0   \n",
       "9          0   -2188.756445         41              среднее             1   \n",
       "10         2   -4171.483647         36               высшее             0   \n",
       "11         0    -792.701887         40              среднее             1   \n",
       "12         0            NaN         65              среднее             1   \n",
       "13         0   -1846.641941         54  неоконченное высшее             2   \n",
       "14         0   -1844.956182         56               высшее             0   \n",
       "15         1    -972.364419         26              среднее             1   \n",
       "16         0   -1719.934226         35              среднее             1   \n",
       "17         0   -2369.999720         33               высшее             0   \n",
       "18         0  400281.136913         53              среднее             1   \n",
       "19         0  -10038.818549         48              СРЕДНЕЕ             1   \n",
       "\n",
       "       family_status  family_status_id gender income_type  debt  \\\n",
       "0    женат / замужем                 0      F   сотрудник     0   \n",
       "1    женат / замужем                 0      F   сотрудник     0   \n",
       "2    женат / замужем                 0      M   сотрудник     0   \n",
       "3    женат / замужем                 0      M   сотрудник     0   \n",
       "4   гражданский брак                 1      F   пенсионер     0   \n",
       "5   гражданский брак                 1      M   компаньон     0   \n",
       "6    женат / замужем                 0      F   компаньон     0   \n",
       "7    женат / замужем                 0      M   сотрудник     0   \n",
       "8   гражданский брак                 1      F   сотрудник     0   \n",
       "9    женат / замужем                 0      M   сотрудник     0   \n",
       "10   женат / замужем                 0      M   компаньон     0   \n",
       "11   женат / замужем                 0      F   сотрудник     0   \n",
       "12  гражданский брак                 1      M   пенсионер     0   \n",
       "13   женат / замужем                 0      F   сотрудник     0   \n",
       "14  гражданский брак                 1      F   компаньон     1   \n",
       "15   женат / замужем                 0      F   сотрудник     0   \n",
       "16   женат / замужем                 0      F   сотрудник     0   \n",
       "17  гражданский брак                 1      M   сотрудник     0   \n",
       "18    вдовец / вдова                 2      F   пенсионер     0   \n",
       "19         в разводе                 3      F   сотрудник     0   \n",
       "\n",
       "     total_income                                 purpose  \n",
       "0   253875.639453                           покупка жилья  \n",
       "1   112080.014102                 приобретение автомобиля  \n",
       "2   145885.952297                           покупка жилья  \n",
       "3   267628.550329              дополнительное образование  \n",
       "4   158616.077870                         сыграть свадьбу  \n",
       "5   255763.565419                           покупка жилья  \n",
       "6   240525.971920                       операции с жильем  \n",
       "7   135823.934197                             образование  \n",
       "8    95856.832424                   на проведение свадьбы  \n",
       "9   144425.938277                 покупка жилья для семьи  \n",
       "10  113943.491460                    покупка недвижимости  \n",
       "11   77069.234271       покупка коммерческой недвижимости  \n",
       "12            NaN                         сыграть свадьбу  \n",
       "13  130458.228857                 приобретение автомобиля  \n",
       "14  165127.911772              покупка жилой недвижимости  \n",
       "15  116820.904450  строительство собственной недвижимости  \n",
       "16  289202.704229                            недвижимость  \n",
       "17   90410.586745              строительство недвижимости  \n",
       "18   56823.777243      на покупку подержанного автомобиля  \n",
       "19  242831.107982            на покупку своего автомобиля  "
      ]
     },
     "execution_count": 3,
     "metadata": {},
     "output_type": "execute_result"
    }
   ],
   "source": [
    "data.head(20)"
   ]
  },
  {
   "cell_type": "code",
   "execution_count": 4,
   "id": "d3ab1699",
   "metadata": {},
   "outputs": [
    {
     "name": "stdout",
     "output_type": "stream",
     "text": [
      "<class 'pandas.core.frame.DataFrame'>\n",
      "RangeIndex: 21525 entries, 0 to 21524\n",
      "Data columns (total 12 columns):\n",
      " #   Column            Non-Null Count  Dtype  \n",
      "---  ------            --------------  -----  \n",
      " 0   children          21525 non-null  int64  \n",
      " 1   days_employed     19351 non-null  float64\n",
      " 2   dob_years         21525 non-null  int64  \n",
      " 3   education         21525 non-null  object \n",
      " 4   education_id      21525 non-null  int64  \n",
      " 5   family_status     21525 non-null  object \n",
      " 6   family_status_id  21525 non-null  int64  \n",
      " 7   gender            21525 non-null  object \n",
      " 8   income_type       21525 non-null  object \n",
      " 9   debt              21525 non-null  int64  \n",
      " 10  total_income      19351 non-null  float64\n",
      " 11  purpose           21525 non-null  object \n",
      "dtypes: float64(2), int64(5), object(5)\n",
      "memory usage: 2.0+ MB\n"
     ]
    }
   ],
   "source": [
    "data.info()"
   ]
  },
  {
   "cell_type": "code",
   "execution_count": 5,
   "id": "dc30fe5e",
   "metadata": {},
   "outputs": [
    {
     "data": {
      "text/plain": [
       "children               0\n",
       "days_employed       2174\n",
       "dob_years              0\n",
       "education              0\n",
       "education_id           0\n",
       "family_status          0\n",
       "family_status_id       0\n",
       "gender                 0\n",
       "income_type            0\n",
       "debt                   0\n",
       "total_income        2174\n",
       "purpose                0\n",
       "dtype: int64"
      ]
     },
     "execution_count": 5,
     "metadata": {},
     "output_type": "execute_result"
    }
   ],
   "source": [
    "data.isna().sum()"
   ]
  },
  {
   "cell_type": "markdown",
   "id": "8d25a63c",
   "metadata": {},
   "source": [
    "Данные загружены, в days_employed и total_income 2174 пропуска. "
   ]
  },
  {
   "cell_type": "markdown",
   "id": "e4ca5469",
   "metadata": {},
   "source": [
    "## Предобработка данных"
   ]
  },
  {
   "cell_type": "markdown",
   "id": "8d6b009b",
   "metadata": {},
   "source": [
    "### Удаление пропусков"
   ]
  },
  {
   "cell_type": "markdown",
   "id": "511f9a05",
   "metadata": {},
   "source": [
    "Заполним пропуски в `total_income` медианным значением по каждому типу занятости `income_type`"
   ]
  },
  {
   "cell_type": "code",
   "execution_count": 6,
   "id": "309015d7",
   "metadata": {},
   "outputs": [],
   "source": [
    "for t in data['income_type'].unique():\n",
    "    data.loc[(data['income_type'] == t) & (data['total_income'].isna()), 'total_income'] = \\\n",
    "    data.loc[(data['income_type'] == t), 'total_income'].median()"
   ]
  },
  {
   "cell_type": "markdown",
   "id": "fe449432",
   "metadata": {},
   "source": [
    "Заполним пропуски в столбце `days_employed` медианными значениями по каждому типу занятости `income_type`"
   ]
  },
  {
   "cell_type": "code",
   "execution_count": 7,
   "id": "15e9cc4a",
   "metadata": {},
   "outputs": [],
   "source": [
    "for t in data['income_type'].unique():\n",
    "    data.loc[(data['income_type'] == t) & (data['days_employed'].isna()), 'days_employed'] = \\\n",
    "    data.loc[(data['income_type'] == t), 'days_employed'].median()"
   ]
  },
  {
   "cell_type": "code",
   "execution_count": 8,
   "id": "9e7e5856",
   "metadata": {
    "scrolled": false
   },
   "outputs": [
    {
     "data": {
      "text/plain": [
       "children            0\n",
       "days_employed       0\n",
       "dob_years           0\n",
       "education           0\n",
       "education_id        0\n",
       "family_status       0\n",
       "family_status_id    0\n",
       "gender              0\n",
       "income_type         0\n",
       "debt                0\n",
       "total_income        0\n",
       "purpose             0\n",
       "dtype: int64"
      ]
     },
     "execution_count": 8,
     "metadata": {},
     "output_type": "execute_result"
    }
   ],
   "source": [
    "data.isna().sum()"
   ]
  },
  {
   "cell_type": "markdown",
   "id": "45069e7a",
   "metadata": {},
   "source": [
    "### Обработка аномальных значений"
   ]
  },
  {
   "cell_type": "code",
   "execution_count": 9,
   "id": "e3dc6770",
   "metadata": {},
   "outputs": [],
   "source": [
    "#заменим все отрицательные значения положительными\n",
    "data['days_employed'] = data['days_employed'].abs()"
   ]
  },
  {
   "cell_type": "code",
   "execution_count": 10,
   "id": "f077fc98",
   "metadata": {},
   "outputs": [
    {
     "data": {
      "text/plain": [
       "income_type\n",
       "безработный        366413.652744\n",
       "в декрете            3296.759962\n",
       "госслужащий          2689.368353\n",
       "компаньон            1547.382223\n",
       "пенсионер          365213.306266\n",
       "предприниматель       520.848083\n",
       "сотрудник            1574.202821\n",
       "студент               578.751554\n",
       "Name: days_employed, dtype: float64"
      ]
     },
     "execution_count": 10,
     "metadata": {},
     "output_type": "execute_result"
    }
   ],
   "source": [
    "#для каждого типа занятости посчитаем медианное значение трудового стажа `days_employed` в днях\n",
    "data.groupby('income_type')['days_employed'].agg('median')"
   ]
  },
  {
   "cell_type": "markdown",
   "id": "f187ad88",
   "metadata": {},
   "source": [
    "У двух типов (безработные и пенсионеры) получатся аномально большие значения. Возможно, проблема в том, что данные в этих категориях записаны в часах. Оставим данные как есть, так как этот столбец не понадобится нам для исследования"
   ]
  },
  {
   "cell_type": "code",
   "execution_count": 11,
   "id": "87b1d85c",
   "metadata": {},
   "outputs": [
    {
     "data": {
      "text/plain": [
       "array([ 1,  0,  3,  2, -1,  4, 20,  5])"
      ]
     },
     "execution_count": 11,
     "metadata": {},
     "output_type": "execute_result"
    }
   ],
   "source": [
    "#выведем перечень уникальных значений столбца `children`\n",
    "data['children'].unique()"
   ]
  },
  {
   "cell_type": "code",
   "execution_count": 12,
   "id": "325e0314",
   "metadata": {},
   "outputs": [],
   "source": [
    "#удалим аномальные значения\n",
    "data = data[(data['children'] != -1) & (data['children'] != 20)]"
   ]
  },
  {
   "cell_type": "code",
   "execution_count": 13,
   "id": "8b2911aa",
   "metadata": {},
   "outputs": [
    {
     "data": {
      "text/plain": [
       "array([1, 0, 3, 2, 4, 5])"
      ]
     },
     "execution_count": 13,
     "metadata": {},
     "output_type": "execute_result"
    }
   ],
   "source": [
    "data['children'].unique()"
   ]
  },
  {
   "cell_type": "code",
   "execution_count": 14,
   "id": "44c1d5c0",
   "metadata": {},
   "outputs": [],
   "source": [
    "#заменим на целочисленный тип столбец total_income\n",
    "data['total_income'] = data['total_income'].astype(int)"
   ]
  },
  {
   "cell_type": "code",
   "execution_count": 15,
   "id": "c178bc75",
   "metadata": {},
   "outputs": [
    {
     "data": {
      "text/plain": [
       "array(['высшее', 'среднее', 'Среднее', 'СРЕДНЕЕ', 'ВЫСШЕЕ',\n",
       "       'неоконченное высшее', 'начальное', 'Высшее',\n",
       "       'НЕОКОНЧЕННОЕ ВЫСШЕЕ', 'Неоконченное высшее', 'НАЧАЛЬНОЕ',\n",
       "       'Начальное', 'Ученая степень', 'УЧЕНАЯ СТЕПЕНЬ', 'ученая степень'],\n",
       "      dtype=object)"
      ]
     },
     "execution_count": 15,
     "metadata": {},
     "output_type": "execute_result"
    }
   ],
   "source": [
    "data['education'].unique()"
   ]
  },
  {
   "cell_type": "code",
   "execution_count": 16,
   "id": "2de34fc5",
   "metadata": {},
   "outputs": [],
   "source": [
    "#приведем к нижнему регистру столбец education\n",
    "data['education'] = data['education'].str.lower()"
   ]
  },
  {
   "cell_type": "code",
   "execution_count": 17,
   "id": "f86b3255",
   "metadata": {},
   "outputs": [],
   "source": [
    "#удалим дубликаты\n",
    "data = data.drop_duplicates()"
   ]
  },
  {
   "cell_type": "code",
   "execution_count": 18,
   "id": "3dc7df15",
   "metadata": {},
   "outputs": [
    {
     "data": {
      "text/plain": [
       "array(['высшее', 'среднее', 'неоконченное высшее', 'начальное',\n",
       "       'ученая степень'], dtype=object)"
      ]
     },
     "execution_count": 18,
     "metadata": {},
     "output_type": "execute_result"
    }
   ],
   "source": [
    "data['education'].unique()"
   ]
  },
  {
   "cell_type": "markdown",
   "id": "3b098922",
   "metadata": {},
   "source": [
    "### Категоризация данных"
   ]
  },
  {
   "cell_type": "markdown",
   "id": "1a7b3d95",
   "metadata": {},
   "source": [
    "На основании диапазонов, указанных ниже, создадим в датафрейме `data` столбец `total_income_category` с категориями:\n",
    "\n",
    "- 0–30000 — `'E'`;\n",
    "- 30001–50000 — `'D'`;\n",
    "- 50001–200000 — `'C'`;\n",
    "- 200001–1000000 — `'B'`;\n",
    "- 1000001 и выше — `'A'`."
   ]
  },
  {
   "cell_type": "code",
   "execution_count": 19,
   "id": "f3bd112b",
   "metadata": {},
   "outputs": [],
   "source": [
    "def categorize_income(income):\n",
    "    try:\n",
    "        if 0 <= income <= 30000:\n",
    "            return 'E'\n",
    "        elif 30001 <= income <= 50000:\n",
    "            return 'D'\n",
    "        elif 50001 <= income <= 200000:\n",
    "            return 'C'\n",
    "        elif 200001 <= income <= 1000000:\n",
    "            return 'B'\n",
    "        elif income >= 1000001:\n",
    "            return 'A'\n",
    "    except:\n",
    "        pass"
   ]
  },
  {
   "cell_type": "code",
   "execution_count": 20,
   "id": "75e0fd5b",
   "metadata": {},
   "outputs": [],
   "source": [
    "data['total_income_category'] = data['total_income'].apply(categorize_income)"
   ]
  },
  {
   "cell_type": "markdown",
   "id": "42de514b",
   "metadata": {},
   "source": [
    "Сформируем новый столбец purpose_category, в который войдут следующие категории:\n",
    "\n",
    "'операции с автомобилем',\n",
    "'операции с недвижимостью',\n",
    "'проведение свадьбы',\n",
    "'получение образования'."
   ]
  },
  {
   "cell_type": "code",
   "execution_count": 21,
   "id": "d45e9775",
   "metadata": {},
   "outputs": [
    {
     "data": {
      "text/plain": [
       "array(['покупка жилья', 'приобретение автомобиля',\n",
       "       'дополнительное образование', 'сыграть свадьбу',\n",
       "       'операции с жильем', 'образование', 'на проведение свадьбы',\n",
       "       'покупка жилья для семьи', 'покупка недвижимости',\n",
       "       'покупка коммерческой недвижимости', 'покупка жилой недвижимости',\n",
       "       'строительство собственной недвижимости', 'недвижимость',\n",
       "       'строительство недвижимости', 'на покупку подержанного автомобиля',\n",
       "       'на покупку своего автомобиля',\n",
       "       'операции с коммерческой недвижимостью',\n",
       "       'строительство жилой недвижимости', 'жилье',\n",
       "       'операции со своей недвижимостью', 'автомобили',\n",
       "       'заняться образованием', 'сделка с подержанным автомобилем',\n",
       "       'получение образования', 'автомобиль', 'свадьба',\n",
       "       'получение дополнительного образования', 'покупка своего жилья',\n",
       "       'операции с недвижимостью', 'получение высшего образования',\n",
       "       'свой автомобиль', 'сделка с автомобилем',\n",
       "       'профильное образование', 'высшее образование',\n",
       "       'покупка жилья для сдачи', 'на покупку автомобиля', 'ремонт жилью',\n",
       "       'заняться высшим образованием'], dtype=object)"
      ]
     },
     "execution_count": 21,
     "metadata": {},
     "output_type": "execute_result"
    }
   ],
   "source": [
    "#выведем на экран перечень уникальных целей взятия кредита из столбца purpose.\n",
    "data['purpose'].unique()"
   ]
  },
  {
   "cell_type": "code",
   "execution_count": 22,
   "id": "998a9847",
   "metadata": {},
   "outputs": [],
   "source": [
    "def categorize_purpose(row):\n",
    "    try:\n",
    "        if 'автом' in row:\n",
    "            return 'операции с автомобилем'\n",
    "        elif 'жил' in row or 'недвиж' in row:\n",
    "            return 'операции с недвижимостью'\n",
    "        elif 'свад' in row:\n",
    "            return 'проведение свадьбы'\n",
    "        elif 'образов' in row:\n",
    "            return 'получение образования'\n",
    "    except:\n",
    "        return 'нет категории'"
   ]
  },
  {
   "cell_type": "code",
   "execution_count": 23,
   "id": "6300262b",
   "metadata": {},
   "outputs": [],
   "source": [
    "data['purpose_category'] = data['purpose'].apply(categorize_purpose)"
   ]
  },
  {
   "cell_type": "code",
   "execution_count": 24,
   "id": "e2f2cb25",
   "metadata": {},
   "outputs": [
    {
     "data": {
      "text/plain": [
       "операции с недвижимостью    10751\n",
       "операции с автомобилем       4279\n",
       "получение образования        3988\n",
       "проведение свадьбы           2313\n",
       "Name: purpose_category, dtype: int64"
      ]
     },
     "execution_count": 24,
     "metadata": {},
     "output_type": "execute_result"
    }
   ],
   "source": [
    "data['purpose_category'].value_counts()"
   ]
  },
  {
   "cell_type": "markdown",
   "id": "6157d924",
   "metadata": {},
   "source": [
    "## Исследовательский анализ данных"
   ]
  },
  {
   "cell_type": "markdown",
   "id": "c53accb4",
   "metadata": {},
   "source": [
    " - Посмотрим, есть ли зависимость между количеством детей и возвратом кредита в срок"
   ]
  },
  {
   "cell_type": "code",
   "execution_count": 25,
   "id": "f06cccd0",
   "metadata": {},
   "outputs": [
    {
     "data": {
      "text/html": [
       "<div>\n",
       "<style scoped>\n",
       "    .dataframe tbody tr th:only-of-type {\n",
       "        vertical-align: middle;\n",
       "    }\n",
       "\n",
       "    .dataframe tbody tr th {\n",
       "        vertical-align: top;\n",
       "    }\n",
       "\n",
       "    .dataframe thead th {\n",
       "        text-align: right;\n",
       "    }\n",
       "</style>\n",
       "<table border=\"1\" class=\"dataframe\">\n",
       "  <thead>\n",
       "    <tr style=\"text-align: right;\">\n",
       "      <th></th>\n",
       "      <th>mean</th>\n",
       "      <th>sum</th>\n",
       "      <th>count</th>\n",
       "    </tr>\n",
       "    <tr>\n",
       "      <th>children</th>\n",
       "      <th></th>\n",
       "      <th></th>\n",
       "      <th></th>\n",
       "    </tr>\n",
       "  </thead>\n",
       "  <tbody>\n",
       "    <tr>\n",
       "      <th>0</th>\n",
       "      <td>7.54</td>\n",
       "      <td>1063</td>\n",
       "      <td>14091</td>\n",
       "    </tr>\n",
       "    <tr>\n",
       "      <th>1</th>\n",
       "      <td>9.23</td>\n",
       "      <td>444</td>\n",
       "      <td>4808</td>\n",
       "    </tr>\n",
       "    <tr>\n",
       "      <th>2</th>\n",
       "      <td>9.45</td>\n",
       "      <td>194</td>\n",
       "      <td>2052</td>\n",
       "    </tr>\n",
       "    <tr>\n",
       "      <th>3</th>\n",
       "      <td>8.18</td>\n",
       "      <td>27</td>\n",
       "      <td>330</td>\n",
       "    </tr>\n",
       "    <tr>\n",
       "      <th>4</th>\n",
       "      <td>9.76</td>\n",
       "      <td>4</td>\n",
       "      <td>41</td>\n",
       "    </tr>\n",
       "    <tr>\n",
       "      <th>5</th>\n",
       "      <td>0.00</td>\n",
       "      <td>0</td>\n",
       "      <td>9</td>\n",
       "    </tr>\n",
       "  </tbody>\n",
       "</table>\n",
       "</div>"
      ],
      "text/plain": [
       "          mean   sum  count\n",
       "children                   \n",
       "0         7.54  1063  14091\n",
       "1         9.23   444   4808\n",
       "2         9.45   194   2052\n",
       "3         8.18    27    330\n",
       "4         9.76     4     41\n",
       "5         0.00     0      9"
      ]
     },
     "execution_count": 25,
     "metadata": {},
     "output_type": "execute_result"
    }
   ],
   "source": [
    "result_1 = data.groupby('children')['debt'].agg(mean=('mean'), sum=('sum'), count=len)\n",
    "result_1['mean'] = (result_1['mean'] * 100).round(2)\n",
    "result_1"
   ]
  },
  {
   "cell_type": "markdown",
   "id": "26320b5d",
   "metadata": {},
   "source": [
    "**Вывод:**  Зависимость между количеством детей и возвратом кредита в срок есть, так как меньшая доля должников находится в группе людей, не имеющих детей (за исключением людей с 5 детьми, у которых нет задолженности по кредиту, но эту категорию можно не учитывать, так как она самая малочисленная, и у людей с 4 детьми - самая высокая доля задолженности)."
   ]
  },
  {
   "cell_type": "markdown",
   "id": "3d71d7d1",
   "metadata": {},
   "source": [
    " - Посмотрим, есть ли зависимость между семейным положением и возвратом кредита в срок"
   ]
  },
  {
   "cell_type": "code",
   "execution_count": 26,
   "id": "3a134daf",
   "metadata": {
    "scrolled": true
   },
   "outputs": [
    {
     "data": {
      "text/html": [
       "<div>\n",
       "<style scoped>\n",
       "    .dataframe tbody tr th:only-of-type {\n",
       "        vertical-align: middle;\n",
       "    }\n",
       "\n",
       "    .dataframe tbody tr th {\n",
       "        vertical-align: top;\n",
       "    }\n",
       "\n",
       "    .dataframe thead th {\n",
       "        text-align: right;\n",
       "    }\n",
       "</style>\n",
       "<table border=\"1\" class=\"dataframe\">\n",
       "  <thead>\n",
       "    <tr style=\"text-align: right;\">\n",
       "      <th></th>\n",
       "      <th>mean</th>\n",
       "      <th>sum</th>\n",
       "      <th>count</th>\n",
       "    </tr>\n",
       "    <tr>\n",
       "      <th>family_status</th>\n",
       "      <th></th>\n",
       "      <th></th>\n",
       "      <th></th>\n",
       "    </tr>\n",
       "  </thead>\n",
       "  <tbody>\n",
       "    <tr>\n",
       "      <th>Не женат / не замужем</th>\n",
       "      <td>9.76</td>\n",
       "      <td>273</td>\n",
       "      <td>2796</td>\n",
       "    </tr>\n",
       "    <tr>\n",
       "      <th>в разводе</th>\n",
       "      <td>7.06</td>\n",
       "      <td>84</td>\n",
       "      <td>1189</td>\n",
       "    </tr>\n",
       "    <tr>\n",
       "      <th>вдовец / вдова</th>\n",
       "      <td>6.62</td>\n",
       "      <td>63</td>\n",
       "      <td>951</td>\n",
       "    </tr>\n",
       "    <tr>\n",
       "      <th>гражданский брак</th>\n",
       "      <td>9.31</td>\n",
       "      <td>385</td>\n",
       "      <td>4134</td>\n",
       "    </tr>\n",
       "    <tr>\n",
       "      <th>женат / замужем</th>\n",
       "      <td>7.56</td>\n",
       "      <td>927</td>\n",
       "      <td>12261</td>\n",
       "    </tr>\n",
       "  </tbody>\n",
       "</table>\n",
       "</div>"
      ],
      "text/plain": [
       "                       mean  sum  count\n",
       "family_status                          \n",
       "Не женат / не замужем  9.76  273   2796\n",
       "в разводе              7.06   84   1189\n",
       "вдовец / вдова         6.62   63    951\n",
       "гражданский брак       9.31  385   4134\n",
       "женат / замужем        7.56  927  12261"
      ]
     },
     "execution_count": 26,
     "metadata": {},
     "output_type": "execute_result"
    }
   ],
   "source": [
    "result_2 = data.groupby('family_status')['debt'].agg(mean=('mean'), sum=('sum'), count=len)\n",
    "result_2['mean'] = (result_2['mean'] * 100).round(2)\n",
    "result_2"
   ]
  },
  {
   "cell_type": "markdown",
   "id": "4a9a2305",
   "metadata": {},
   "source": [
    "Вывод: Исходя из того, что доля должников в двух противоположных категориях \"в разводе\" и \"женат/не замужем\" примерно одинакова, можно сделать вывод, что семейное положение в меньшей степени влияет на погашение кредита в срок, но если учесть другие категории, то состоящие или состоявшие в браке более финансово дисциплинированы"
   ]
  },
  {
   "cell_type": "markdown",
   "id": "13d081af",
   "metadata": {},
   "source": [
    " - Посмотрим, есть ли зависимость между уровнем дохода и возвратом кредита в срок"
   ]
  },
  {
   "cell_type": "code",
   "execution_count": 27,
   "id": "e27da983",
   "metadata": {},
   "outputs": [
    {
     "data": {
      "text/html": [
       "<div>\n",
       "<style scoped>\n",
       "    .dataframe tbody tr th:only-of-type {\n",
       "        vertical-align: middle;\n",
       "    }\n",
       "\n",
       "    .dataframe tbody tr th {\n",
       "        vertical-align: top;\n",
       "    }\n",
       "\n",
       "    .dataframe thead th {\n",
       "        text-align: right;\n",
       "    }\n",
       "</style>\n",
       "<table border=\"1\" class=\"dataframe\">\n",
       "  <thead>\n",
       "    <tr style=\"text-align: right;\">\n",
       "      <th></th>\n",
       "      <th>mean</th>\n",
       "      <th>sum</th>\n",
       "      <th>count</th>\n",
       "    </tr>\n",
       "    <tr>\n",
       "      <th>total_income_category</th>\n",
       "      <th></th>\n",
       "      <th></th>\n",
       "      <th></th>\n",
       "    </tr>\n",
       "  </thead>\n",
       "  <tbody>\n",
       "    <tr>\n",
       "      <th>A</th>\n",
       "      <td>8.00</td>\n",
       "      <td>2</td>\n",
       "      <td>25</td>\n",
       "    </tr>\n",
       "    <tr>\n",
       "      <th>B</th>\n",
       "      <td>7.06</td>\n",
       "      <td>354</td>\n",
       "      <td>5014</td>\n",
       "    </tr>\n",
       "    <tr>\n",
       "      <th>C</th>\n",
       "      <td>8.50</td>\n",
       "      <td>1353</td>\n",
       "      <td>15921</td>\n",
       "    </tr>\n",
       "    <tr>\n",
       "      <th>D</th>\n",
       "      <td>6.02</td>\n",
       "      <td>21</td>\n",
       "      <td>349</td>\n",
       "    </tr>\n",
       "    <tr>\n",
       "      <th>E</th>\n",
       "      <td>9.09</td>\n",
       "      <td>2</td>\n",
       "      <td>22</td>\n",
       "    </tr>\n",
       "  </tbody>\n",
       "</table>\n",
       "</div>"
      ],
      "text/plain": [
       "                       mean   sum  count\n",
       "total_income_category                   \n",
       "A                      8.00     2     25\n",
       "B                      7.06   354   5014\n",
       "C                      8.50  1353  15921\n",
       "D                      6.02    21    349\n",
       "E                      9.09     2     22"
      ]
     },
     "execution_count": 27,
     "metadata": {},
     "output_type": "execute_result"
    }
   ],
   "source": [
    "result_3 = data.groupby('total_income_category')['debt'].agg(mean=('mean'), sum=('sum'), count=len)\n",
    "result_3['mean'] = (result_3['mean'] * 100).round(2)\n",
    "result_3"
   ]
  },
  {
   "cell_type": "markdown",
   "id": "1cb898a8",
   "metadata": {},
   "source": [
    "**Вывод:** Категории A и Е оказывают незначительное влияние на зависимость, поскольку количество людей с таким уровнем дохода наименьшее. Люди среднего достатка из категории С имеют высокий процент задолженности, при этом категория наиболее многочисленна. Небольшая группа людей с доходом ниже среднего из категрии D имеет процент задолженности самый низкий. Зависимость отсутствует и, скорее всего, другие факторы, такие как кредитная история и стабильность работы, могут оказывать более значительное влияние, сравнение категорий B и С позволяет предположить, что более состоятельный клиент - более надежный."
   ]
  },
  {
   "cell_type": "markdown",
   "id": "0db8c769",
   "metadata": {},
   "source": [
    " - Посмотрим, как разные цели кредита влияют на его возврат в срок"
   ]
  },
  {
   "cell_type": "code",
   "execution_count": 28,
   "id": "465adbb3",
   "metadata": {},
   "outputs": [
    {
     "data": {
      "text/html": [
       "<div>\n",
       "<style scoped>\n",
       "    .dataframe tbody tr th:only-of-type {\n",
       "        vertical-align: middle;\n",
       "    }\n",
       "\n",
       "    .dataframe tbody tr th {\n",
       "        vertical-align: top;\n",
       "    }\n",
       "\n",
       "    .dataframe thead th {\n",
       "        text-align: right;\n",
       "    }\n",
       "</style>\n",
       "<table border=\"1\" class=\"dataframe\">\n",
       "  <thead>\n",
       "    <tr style=\"text-align: right;\">\n",
       "      <th></th>\n",
       "      <th>mean</th>\n",
       "      <th>sum</th>\n",
       "      <th>count</th>\n",
       "    </tr>\n",
       "    <tr>\n",
       "      <th>purpose_category</th>\n",
       "      <th></th>\n",
       "      <th></th>\n",
       "      <th></th>\n",
       "    </tr>\n",
       "  </thead>\n",
       "  <tbody>\n",
       "    <tr>\n",
       "      <th>операции с автомобилем</th>\n",
       "      <td>9.35</td>\n",
       "      <td>400</td>\n",
       "      <td>4279</td>\n",
       "    </tr>\n",
       "    <tr>\n",
       "      <th>операции с недвижимостью</th>\n",
       "      <td>7.26</td>\n",
       "      <td>780</td>\n",
       "      <td>10751</td>\n",
       "    </tr>\n",
       "    <tr>\n",
       "      <th>получение образования</th>\n",
       "      <td>9.25</td>\n",
       "      <td>369</td>\n",
       "      <td>3988</td>\n",
       "    </tr>\n",
       "    <tr>\n",
       "      <th>проведение свадьбы</th>\n",
       "      <td>7.91</td>\n",
       "      <td>183</td>\n",
       "      <td>2313</td>\n",
       "    </tr>\n",
       "  </tbody>\n",
       "</table>\n",
       "</div>"
      ],
      "text/plain": [
       "                          mean  sum  count\n",
       "purpose_category                          \n",
       "операции с автомобилем    9.35  400   4279\n",
       "операции с недвижимостью  7.26  780  10751\n",
       "получение образования     9.25  369   3988\n",
       "проведение свадьбы        7.91  183   2313"
      ]
     },
     "execution_count": 28,
     "metadata": {},
     "output_type": "execute_result"
    }
   ],
   "source": [
    "result_4 = data.groupby('purpose_category')['debt'].agg(mean=('mean'), sum=('sum'), count=len)\n",
    "result_4['mean'] = (result_4['mean'] * 100).round(2)\n",
    "result_4"
   ]
  },
  {
   "cell_type": "markdown",
   "id": "230ed0f1",
   "metadata": {},
   "source": [
    "**Вывод:** Самая обширная категория - операции с недвижимостью - имеет самый низкий процент должников, так же как и самая малочисленная категория - проведение свадьбы. Из этого можно сделать вывод, что люди, берущие кредиты на эти цели, с большей вероятностью возвращают кредит в срок, чем люди из категорий, связанных с автомобилями и образованием."
   ]
  },
  {
   "cell_type": "markdown",
   "id": "5ac17475",
   "metadata": {},
   "source": [
    "### Шаг 4: общий вывод."
   ]
  },
  {
   "cell_type": "markdown",
   "id": "4d604f93",
   "metadata": {},
   "source": [
    "В ходе проекта была выполнена предобработка данных, включающая удаление или заполнение пропусков, обработку аномальных значений и удаление дубликатов. Также была выполнена категоризация некоторых данных для обеспечения их удобства в последующем анализе. В результате анализа были сделаны следующие выводы: количество детей оказывает влияние на своевременное погашение кредита, в то время как семейное положение или уровень дохода не оказывают существенного влияния. Было выявлено, что люди, которые брали кредит на операции с недвижимостью или проведение свадьбы, с большей вероятностью погашают его в срок.\n",
    "\n",
    "Плюс можно дать рекомендацию заказчику по сбору данных:\n",
    "\n",
    "  - в анкете сделать поля о доходе и стаже обязательными к заполнению, добавить автопроверку на формат вводимых пользователем данных;\n",
    "  - изменить шкалу градации заемщиков по доходам, для получения более сбалансированных выборок"
   ]
  }
 ],
 "metadata": {
  "ExecuteTimeLog": [
   {
    "duration": 384,
    "start_time": "2025-02-15T02:16:04.424Z"
   },
   {
    "duration": 69,
    "start_time": "2025-02-15T02:16:04.810Z"
   },
   {
    "duration": 21,
    "start_time": "2025-02-15T02:16:04.881Z"
   },
   {
    "duration": 23,
    "start_time": "2025-02-15T02:16:04.905Z"
   },
   {
    "duration": 11,
    "start_time": "2025-02-15T02:16:04.930Z"
   },
   {
    "duration": 52,
    "start_time": "2025-02-15T02:16:04.942Z"
   },
   {
    "duration": 4,
    "start_time": "2025-02-15T02:16:04.995Z"
   },
   {
    "duration": 18,
    "start_time": "2025-02-15T02:16:05.000Z"
   },
   {
    "duration": 6,
    "start_time": "2025-02-15T02:16:05.020Z"
   },
   {
    "duration": 31,
    "start_time": "2025-02-15T02:16:05.028Z"
   },
   {
    "duration": 13,
    "start_time": "2025-02-15T02:16:05.061Z"
   },
   {
    "duration": 46,
    "start_time": "2025-02-15T02:16:05.076Z"
   },
   {
    "duration": 10,
    "start_time": "2025-02-15T02:16:05.123Z"
   },
   {
    "duration": 9,
    "start_time": "2025-02-15T02:16:05.135Z"
   },
   {
    "duration": 27,
    "start_time": "2025-02-15T02:16:05.145Z"
   },
   {
    "duration": 25,
    "start_time": "2025-02-15T02:16:05.174Z"
   },
   {
    "duration": 16,
    "start_time": "2025-02-15T02:16:05.201Z"
   },
   {
    "duration": 3,
    "start_time": "2025-02-15T02:16:05.219Z"
   },
   {
    "duration": 15,
    "start_time": "2025-02-15T02:16:05.224Z"
   },
   {
    "duration": 6,
    "start_time": "2025-02-15T02:16:05.241Z"
   },
   {
    "duration": 9,
    "start_time": "2025-02-15T02:16:05.262Z"
   },
   {
    "duration": 18,
    "start_time": "2025-02-15T02:16:05.273Z"
   },
   {
    "duration": 33,
    "start_time": "2025-02-15T02:16:05.292Z"
   },
   {
    "duration": 35,
    "start_time": "2025-02-15T02:16:05.327Z"
   },
   {
    "duration": 13,
    "start_time": "2025-02-15T02:16:05.364Z"
   },
   {
    "duration": 13,
    "start_time": "2025-02-15T02:16:05.379Z"
   },
   {
    "duration": 75,
    "start_time": "2025-02-15T02:32:05.611Z"
   },
   {
    "duration": 414,
    "start_time": "2025-02-15T02:32:09.257Z"
   },
   {
    "duration": 65,
    "start_time": "2025-02-15T02:32:09.673Z"
   },
   {
    "duration": 22,
    "start_time": "2025-02-15T02:32:09.740Z"
   },
   {
    "duration": 17,
    "start_time": "2025-02-15T02:32:09.763Z"
   },
   {
    "duration": 10,
    "start_time": "2025-02-15T02:32:09.782Z"
   },
   {
    "duration": 35,
    "start_time": "2025-02-15T02:32:09.794Z"
   },
   {
    "duration": 59,
    "start_time": "2025-02-15T02:32:09.830Z"
   },
   {
    "duration": 10,
    "start_time": "2025-02-15T02:32:09.890Z"
   },
   {
    "duration": 3,
    "start_time": "2025-02-15T02:32:09.902Z"
   },
   {
    "duration": 8,
    "start_time": "2025-02-15T02:32:09.906Z"
   },
   {
    "duration": 5,
    "start_time": "2025-02-15T02:32:09.916Z"
   },
   {
    "duration": 6,
    "start_time": "2025-02-15T02:32:09.922Z"
   },
   {
    "duration": 32,
    "start_time": "2025-02-15T02:32:09.930Z"
   },
   {
    "duration": 6,
    "start_time": "2025-02-15T02:32:09.964Z"
   },
   {
    "duration": 11,
    "start_time": "2025-02-15T02:32:09.971Z"
   },
   {
    "duration": 18,
    "start_time": "2025-02-15T02:32:09.984Z"
   },
   {
    "duration": 18,
    "start_time": "2025-02-15T02:32:10.003Z"
   },
   {
    "duration": 4,
    "start_time": "2025-02-15T02:32:10.022Z"
   },
   {
    "duration": 43,
    "start_time": "2025-02-15T02:32:10.027Z"
   },
   {
    "duration": 6,
    "start_time": "2025-02-15T02:32:10.072Z"
   },
   {
    "duration": 3,
    "start_time": "2025-02-15T02:32:10.080Z"
   },
   {
    "duration": 11,
    "start_time": "2025-02-15T02:32:10.084Z"
   },
   {
    "duration": 14,
    "start_time": "2025-02-15T02:32:10.097Z"
   },
   {
    "duration": 11,
    "start_time": "2025-02-15T02:32:10.113Z"
   },
   {
    "duration": 11,
    "start_time": "2025-02-15T02:32:10.126Z"
   },
   {
    "duration": 12,
    "start_time": "2025-02-15T02:32:10.161Z"
   },
   {
    "duration": 37,
    "start_time": "2025-02-15T02:39:03.816Z"
   },
   {
    "duration": 387,
    "start_time": "2025-02-15T02:48:56.787Z"
   },
   {
    "duration": 82,
    "start_time": "2025-02-15T02:48:57.175Z"
   },
   {
    "duration": 23,
    "start_time": "2025-02-15T02:48:57.258Z"
   },
   {
    "duration": 18,
    "start_time": "2025-02-15T02:48:57.283Z"
   },
   {
    "duration": 50,
    "start_time": "2025-02-15T02:48:57.303Z"
   },
   {
    "duration": 56,
    "start_time": "2025-02-15T02:48:57.355Z"
   },
   {
    "duration": 36,
    "start_time": "2025-02-15T02:48:57.413Z"
   },
   {
    "duration": 12,
    "start_time": "2025-02-15T02:48:57.451Z"
   },
   {
    "duration": 4,
    "start_time": "2025-02-15T02:48:57.464Z"
   },
   {
    "duration": 11,
    "start_time": "2025-02-15T02:48:57.470Z"
   },
   {
    "duration": 2138,
    "start_time": "2025-02-15T02:48:57.482Z"
   },
   {
    "duration": 5,
    "start_time": "2025-02-15T02:48:59.622Z"
   },
   {
    "duration": 13,
    "start_time": "2025-02-15T02:48:59.629Z"
   },
   {
    "duration": 18,
    "start_time": "2025-02-15T02:48:59.644Z"
   },
   {
    "duration": 4,
    "start_time": "2025-02-15T02:48:59.664Z"
   },
   {
    "duration": 14,
    "start_time": "2025-02-15T02:48:59.670Z"
   },
   {
    "duration": 35,
    "start_time": "2025-02-15T02:48:59.686Z"
   },
   {
    "duration": 17,
    "start_time": "2025-02-15T02:48:59.723Z"
   },
   {
    "duration": 21,
    "start_time": "2025-02-15T02:48:59.742Z"
   },
   {
    "duration": 12,
    "start_time": "2025-02-15T02:48:59.765Z"
   },
   {
    "duration": 7,
    "start_time": "2025-02-15T02:48:59.779Z"
   },
   {
    "duration": 4,
    "start_time": "2025-02-15T02:48:59.788Z"
   },
   {
    "duration": 10,
    "start_time": "2025-02-15T02:48:59.795Z"
   },
   {
    "duration": 16,
    "start_time": "2025-02-15T02:48:59.806Z"
   },
   {
    "duration": 47,
    "start_time": "2025-02-15T02:48:59.823Z"
   },
   {
    "duration": 13,
    "start_time": "2025-02-15T02:48:59.871Z"
   },
   {
    "duration": 13,
    "start_time": "2025-02-15T02:48:59.886Z"
   },
   {
    "duration": 425,
    "start_time": "2025-02-15T02:51:57.272Z"
   },
   {
    "duration": 75,
    "start_time": "2025-02-15T02:51:57.700Z"
   },
   {
    "duration": 25,
    "start_time": "2025-02-15T02:51:57.777Z"
   },
   {
    "duration": 17,
    "start_time": "2025-02-15T02:51:57.804Z"
   },
   {
    "duration": 11,
    "start_time": "2025-02-15T02:51:57.824Z"
   },
   {
    "duration": 59,
    "start_time": "2025-02-15T02:51:57.837Z"
   },
   {
    "duration": 39,
    "start_time": "2025-02-15T02:51:57.898Z"
   },
   {
    "duration": 29,
    "start_time": "2025-02-15T02:51:57.939Z"
   },
   {
    "duration": 5,
    "start_time": "2025-02-15T02:51:57.969Z"
   },
   {
    "duration": 12,
    "start_time": "2025-02-15T02:51:57.976Z"
   },
   {
    "duration": 2072,
    "start_time": "2025-02-15T02:51:57.989Z"
   },
   {
    "duration": 395,
    "start_time": "2025-02-15T02:52:00.063Z"
   },
   {
    "duration": 108,
    "start_time": "2025-02-15T02:52:00.460Z"
   },
   {
    "duration": 0,
    "start_time": "2025-02-15T02:52:00.570Z"
   },
   {
    "duration": 0,
    "start_time": "2025-02-15T02:52:00.571Z"
   },
   {
    "duration": 0,
    "start_time": "2025-02-15T02:52:00.573Z"
   },
   {
    "duration": 0,
    "start_time": "2025-02-15T02:52:00.574Z"
   },
   {
    "duration": 0,
    "start_time": "2025-02-15T02:52:00.575Z"
   },
   {
    "duration": 0,
    "start_time": "2025-02-15T02:52:00.577Z"
   },
   {
    "duration": 0,
    "start_time": "2025-02-15T02:52:00.577Z"
   },
   {
    "duration": 0,
    "start_time": "2025-02-15T02:52:00.579Z"
   },
   {
    "duration": 0,
    "start_time": "2025-02-15T02:52:00.580Z"
   },
   {
    "duration": 0,
    "start_time": "2025-02-15T02:52:00.581Z"
   },
   {
    "duration": 0,
    "start_time": "2025-02-15T02:52:00.582Z"
   },
   {
    "duration": 0,
    "start_time": "2025-02-15T02:52:00.583Z"
   },
   {
    "duration": 0,
    "start_time": "2025-02-15T02:52:00.584Z"
   },
   {
    "duration": 0,
    "start_time": "2025-02-15T02:52:00.585Z"
   },
   {
    "duration": 0,
    "start_time": "2025-02-15T02:52:00.586Z"
   },
   {
    "duration": 0,
    "start_time": "2025-02-15T02:52:00.743Z"
   },
   {
    "duration": 6,
    "start_time": "2025-02-15T03:01:34.332Z"
   },
   {
    "duration": 7,
    "start_time": "2025-02-15T03:02:32.366Z"
   },
   {
    "duration": 5,
    "start_time": "2025-02-15T03:02:33.670Z"
   },
   {
    "duration": 5,
    "start_time": "2025-02-15T03:03:10.536Z"
   },
   {
    "duration": 12,
    "start_time": "2025-02-15T03:03:11.942Z"
   },
   {
    "duration": 8,
    "start_time": "2025-02-15T03:03:59.546Z"
   },
   {
    "duration": 401,
    "start_time": "2025-02-15T03:04:16.407Z"
   },
   {
    "duration": 87,
    "start_time": "2025-02-15T03:04:16.810Z"
   },
   {
    "duration": 25,
    "start_time": "2025-02-15T03:04:16.898Z"
   },
   {
    "duration": 17,
    "start_time": "2025-02-15T03:04:16.924Z"
   },
   {
    "duration": 24,
    "start_time": "2025-02-15T03:04:16.943Z"
   },
   {
    "duration": 135,
    "start_time": "2025-02-15T03:04:16.969Z"
   },
   {
    "duration": 43,
    "start_time": "2025-02-15T03:04:17.106Z"
   },
   {
    "duration": 15,
    "start_time": "2025-02-15T03:04:17.150Z"
   },
   {
    "duration": 3,
    "start_time": "2025-02-15T03:04:17.167Z"
   },
   {
    "duration": 12,
    "start_time": "2025-02-15T03:04:17.172Z"
   },
   {
    "duration": 5,
    "start_time": "2025-02-15T03:04:17.186Z"
   },
   {
    "duration": 22,
    "start_time": "2025-02-15T03:04:17.193Z"
   },
   {
    "duration": 5,
    "start_time": "2025-02-15T03:04:17.216Z"
   },
   {
    "duration": 4,
    "start_time": "2025-02-15T03:04:17.224Z"
   },
   {
    "duration": 94,
    "start_time": "2025-02-15T03:04:17.230Z"
   },
   {
    "duration": 0,
    "start_time": "2025-02-15T03:04:17.326Z"
   },
   {
    "duration": 0,
    "start_time": "2025-02-15T03:04:17.327Z"
   },
   {
    "duration": 0,
    "start_time": "2025-02-15T03:04:17.328Z"
   },
   {
    "duration": 0,
    "start_time": "2025-02-15T03:04:17.329Z"
   },
   {
    "duration": 0,
    "start_time": "2025-02-15T03:04:17.330Z"
   },
   {
    "duration": 0,
    "start_time": "2025-02-15T03:04:17.331Z"
   },
   {
    "duration": 0,
    "start_time": "2025-02-15T03:04:17.332Z"
   },
   {
    "duration": 0,
    "start_time": "2025-02-15T03:04:17.333Z"
   },
   {
    "duration": 0,
    "start_time": "2025-02-15T03:04:17.335Z"
   },
   {
    "duration": 0,
    "start_time": "2025-02-15T03:04:17.336Z"
   },
   {
    "duration": 0,
    "start_time": "2025-02-15T03:04:17.361Z"
   },
   {
    "duration": 0,
    "start_time": "2025-02-15T03:04:17.362Z"
   },
   {
    "duration": 0,
    "start_time": "2025-02-15T03:04:17.363Z"
   },
   {
    "duration": 6,
    "start_time": "2025-02-15T03:04:24.612Z"
   },
   {
    "duration": 12,
    "start_time": "2025-02-15T03:05:04.040Z"
   },
   {
    "duration": 21,
    "start_time": "2025-02-15T03:05:04.517Z"
   },
   {
    "duration": 6,
    "start_time": "2025-02-15T03:05:05.005Z"
   },
   {
    "duration": 4,
    "start_time": "2025-02-15T03:06:01.182Z"
   },
   {
    "duration": 12,
    "start_time": "2025-02-15T03:06:14.672Z"
   },
   {
    "duration": 6,
    "start_time": "2025-02-15T03:08:37.023Z"
   },
   {
    "duration": 3,
    "start_time": "2025-02-15T03:08:37.341Z"
   },
   {
    "duration": 9,
    "start_time": "2025-02-15T03:08:38.257Z"
   },
   {
    "duration": 5,
    "start_time": "2025-02-15T03:09:55.248Z"
   },
   {
    "duration": 7,
    "start_time": "2025-02-15T03:11:06.461Z"
   },
   {
    "duration": 12,
    "start_time": "2025-02-15T03:11:16.651Z"
   },
   {
    "duration": 14,
    "start_time": "2025-02-15T03:13:30.486Z"
   },
   {
    "duration": 16,
    "start_time": "2025-02-15T03:15:50.928Z"
   },
   {
    "duration": 13,
    "start_time": "2025-02-15T03:16:50.133Z"
   },
   {
    "duration": 427,
    "start_time": "2025-02-15T03:18:37.646Z"
   },
   {
    "duration": 78,
    "start_time": "2025-02-15T03:18:38.075Z"
   },
   {
    "duration": 21,
    "start_time": "2025-02-15T03:18:38.154Z"
   },
   {
    "duration": 64,
    "start_time": "2025-02-15T03:18:38.176Z"
   },
   {
    "duration": 29,
    "start_time": "2025-02-15T03:18:38.242Z"
   },
   {
    "duration": 34,
    "start_time": "2025-02-15T03:18:38.272Z"
   },
   {
    "duration": 32,
    "start_time": "2025-02-15T03:18:38.307Z"
   },
   {
    "duration": 9,
    "start_time": "2025-02-15T03:18:38.340Z"
   },
   {
    "duration": 3,
    "start_time": "2025-02-15T03:18:38.361Z"
   },
   {
    "duration": 10,
    "start_time": "2025-02-15T03:18:38.365Z"
   },
   {
    "duration": 5,
    "start_time": "2025-02-15T03:18:38.376Z"
   },
   {
    "duration": 6,
    "start_time": "2025-02-15T03:18:38.382Z"
   },
   {
    "duration": 4,
    "start_time": "2025-02-15T03:18:38.389Z"
   },
   {
    "duration": 3,
    "start_time": "2025-02-15T03:18:38.395Z"
   },
   {
    "duration": 87,
    "start_time": "2025-02-15T03:18:38.399Z"
   },
   {
    "duration": 0,
    "start_time": "2025-02-15T03:18:38.487Z"
   },
   {
    "duration": 0,
    "start_time": "2025-02-15T03:18:38.488Z"
   },
   {
    "duration": 0,
    "start_time": "2025-02-15T03:18:38.489Z"
   },
   {
    "duration": 0,
    "start_time": "2025-02-15T03:18:38.490Z"
   },
   {
    "duration": 0,
    "start_time": "2025-02-15T03:18:38.491Z"
   },
   {
    "duration": 0,
    "start_time": "2025-02-15T03:18:38.492Z"
   },
   {
    "duration": 0,
    "start_time": "2025-02-15T03:18:38.493Z"
   },
   {
    "duration": 0,
    "start_time": "2025-02-15T03:18:38.494Z"
   },
   {
    "duration": 0,
    "start_time": "2025-02-15T03:18:38.495Z"
   },
   {
    "duration": 0,
    "start_time": "2025-02-15T03:18:38.496Z"
   },
   {
    "duration": 0,
    "start_time": "2025-02-15T03:18:38.496Z"
   },
   {
    "duration": 0,
    "start_time": "2025-02-15T03:18:38.497Z"
   },
   {
    "duration": 0,
    "start_time": "2025-02-15T03:18:38.498Z"
   },
   {
    "duration": 0,
    "start_time": "2025-02-15T03:18:38.499Z"
   },
   {
    "duration": 364,
    "start_time": "2025-02-15T03:19:26.807Z"
   },
   {
    "duration": 69,
    "start_time": "2025-02-15T03:19:27.173Z"
   },
   {
    "duration": 23,
    "start_time": "2025-02-15T03:19:27.243Z"
   },
   {
    "duration": 15,
    "start_time": "2025-02-15T03:19:27.268Z"
   },
   {
    "duration": 21,
    "start_time": "2025-02-15T03:19:27.286Z"
   },
   {
    "duration": 36,
    "start_time": "2025-02-15T03:19:27.309Z"
   },
   {
    "duration": 46,
    "start_time": "2025-02-15T03:19:27.347Z"
   },
   {
    "duration": 10,
    "start_time": "2025-02-15T03:19:27.395Z"
   },
   {
    "duration": 6,
    "start_time": "2025-02-15T03:19:27.407Z"
   },
   {
    "duration": 8,
    "start_time": "2025-02-15T03:19:27.415Z"
   },
   {
    "duration": 11,
    "start_time": "2025-02-15T03:19:27.425Z"
   },
   {
    "duration": 28,
    "start_time": "2025-02-15T03:19:27.438Z"
   },
   {
    "duration": 5,
    "start_time": "2025-02-15T03:19:27.468Z"
   },
   {
    "duration": 4,
    "start_time": "2025-02-15T03:19:27.475Z"
   },
   {
    "duration": 6,
    "start_time": "2025-02-15T03:19:27.480Z"
   },
   {
    "duration": 17,
    "start_time": "2025-02-15T03:19:27.488Z"
   },
   {
    "duration": 21,
    "start_time": "2025-02-15T03:19:27.507Z"
   },
   {
    "duration": 34,
    "start_time": "2025-02-15T03:19:27.529Z"
   },
   {
    "duration": 4,
    "start_time": "2025-02-15T03:19:27.565Z"
   },
   {
    "duration": 19,
    "start_time": "2025-02-15T03:19:27.570Z"
   },
   {
    "duration": 7,
    "start_time": "2025-02-15T03:19:27.591Z"
   },
   {
    "duration": 5,
    "start_time": "2025-02-15T03:19:27.600Z"
   },
   {
    "duration": 9,
    "start_time": "2025-02-15T03:19:27.607Z"
   },
   {
    "duration": 6,
    "start_time": "2025-02-15T03:19:27.618Z"
   },
   {
    "duration": 44,
    "start_time": "2025-02-15T03:19:27.626Z"
   },
   {
    "duration": 14,
    "start_time": "2025-02-15T03:19:27.671Z"
   },
   {
    "duration": 12,
    "start_time": "2025-02-15T03:19:27.687Z"
   },
   {
    "duration": 14,
    "start_time": "2025-02-15T03:19:27.701Z"
   }
  ],
  "kernelspec": {
   "display_name": "Python 3 (ipykernel)",
   "language": "python",
   "name": "python3"
  },
  "language_info": {
   "codemirror_mode": {
    "name": "ipython",
    "version": 3
   },
   "file_extension": ".py",
   "mimetype": "text/x-python",
   "name": "python",
   "nbconvert_exporter": "python",
   "pygments_lexer": "ipython3",
   "version": "3.9.5"
  },
  "toc": {
   "base_numbering": 1,
   "nav_menu": {},
   "number_sections": true,
   "sideBar": true,
   "skip_h1_title": true,
   "title_cell": "Table of Contents",
   "title_sidebar": "Contents",
   "toc_cell": false,
   "toc_position": {},
   "toc_section_display": true,
   "toc_window_display": false
  }
 },
 "nbformat": 4,
 "nbformat_minor": 5
}
