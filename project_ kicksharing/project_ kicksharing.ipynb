{
 "cells": [
  {
   "cell_type": "markdown",
   "id": "579bc3e5",
   "metadata": {},
   "source": [
    "# Проект: Статистический анализ данных"
   ]
  },
  {
   "cell_type": "markdown",
   "id": "c11d8272",
   "metadata": {},
   "source": [
    "**Задание:**\n",
    "- проанализировать данные и проверить некоторые гипотезы, которые могут помочь бизнесу вырасти.\n",
    "\n",
    "Даны данные о некоторых пользователях из нескольких городов, а также об их поездках. \n",
    "\n",
    "Чтобы совершать поездки по городу, пользователи сервиса GoFast пользуются мобильным приложением. \n",
    "\n",
    "Сервисом можно пользоваться:\n",
    "\n",
    "без подписки\n",
    "- абонентская плата отсутствует;\n",
    "- стоимость одной минуты поездки — 8 рублей;\n",
    "- стоимость старта (начала поездки) — 50 рублей;\n",
    "    \n",
    "с подпиской Ultra\n",
    "- абонентская плата — 199 рублей в месяц;\n",
    "- стоимость одной минуты поездки — 6 рублей;\n",
    "- стоимость старта — бесплатно.\n"
   ]
  },
  {
   "cell_type": "code",
   "execution_count": 1,
   "id": "72576667",
   "metadata": {},
   "outputs": [],
   "source": [
    "import pandas as pd\n",
    "import matplotlib.pyplot as plt\n",
    "import seaborn as sns\n",
    "import numpy as np\n",
    "from scipy import stats as st"
   ]
  },
  {
   "cell_type": "markdown",
   "id": "c42cbe00",
   "metadata": {},
   "source": [
    "## Шаг 1. Загрузка данных"
   ]
  },
  {
   "cell_type": "code",
   "execution_count": 2,
   "id": "c858bd72",
   "metadata": {},
   "outputs": [
    {
     "data": {
      "text/html": [
       "<div>\n",
       "<style scoped>\n",
       "    .dataframe tbody tr th:only-of-type {\n",
       "        vertical-align: middle;\n",
       "    }\n",
       "\n",
       "    .dataframe tbody tr th {\n",
       "        vertical-align: top;\n",
       "    }\n",
       "\n",
       "    .dataframe thead th {\n",
       "        text-align: right;\n",
       "    }\n",
       "</style>\n",
       "<table border=\"1\" class=\"dataframe\">\n",
       "  <thead>\n",
       "    <tr style=\"text-align: right;\">\n",
       "      <th></th>\n",
       "      <th>user_id</th>\n",
       "      <th>name</th>\n",
       "      <th>age</th>\n",
       "      <th>city</th>\n",
       "      <th>subscription_type</th>\n",
       "    </tr>\n",
       "  </thead>\n",
       "  <tbody>\n",
       "    <tr>\n",
       "      <th>0</th>\n",
       "      <td>1</td>\n",
       "      <td>Кира</td>\n",
       "      <td>22</td>\n",
       "      <td>Тюмень</td>\n",
       "      <td>ultra</td>\n",
       "    </tr>\n",
       "    <tr>\n",
       "      <th>1</th>\n",
       "      <td>2</td>\n",
       "      <td>Станислав</td>\n",
       "      <td>31</td>\n",
       "      <td>Омск</td>\n",
       "      <td>ultra</td>\n",
       "    </tr>\n",
       "    <tr>\n",
       "      <th>2</th>\n",
       "      <td>3</td>\n",
       "      <td>Алексей</td>\n",
       "      <td>20</td>\n",
       "      <td>Москва</td>\n",
       "      <td>ultra</td>\n",
       "    </tr>\n",
       "    <tr>\n",
       "      <th>3</th>\n",
       "      <td>4</td>\n",
       "      <td>Константин</td>\n",
       "      <td>26</td>\n",
       "      <td>Ростов-на-Дону</td>\n",
       "      <td>ultra</td>\n",
       "    </tr>\n",
       "    <tr>\n",
       "      <th>4</th>\n",
       "      <td>5</td>\n",
       "      <td>Адель</td>\n",
       "      <td>28</td>\n",
       "      <td>Омск</td>\n",
       "      <td>ultra</td>\n",
       "    </tr>\n",
       "  </tbody>\n",
       "</table>\n",
       "</div>"
      ],
      "text/plain": [
       "   user_id        name  age            city subscription_type\n",
       "0        1        Кира   22          Тюмень             ultra\n",
       "1        2   Станислав   31            Омск             ultra\n",
       "2        3     Алексей   20          Москва             ultra\n",
       "3        4  Константин   26  Ростов-на-Дону             ultra\n",
       "4        5       Адель   28            Омск             ultra"
      ]
     },
     "execution_count": 2,
     "metadata": {},
     "output_type": "execute_result"
    }
   ],
   "source": [
    "#таблица с пользователями\n",
    "df_users = pd.read_csv('...csv')\n",
    "df_users.head()"
   ]
  },
  {
   "cell_type": "code",
   "execution_count": 3,
   "id": "9b443083",
   "metadata": {},
   "outputs": [
    {
     "name": "stdout",
     "output_type": "stream",
     "text": [
      "<class 'pandas.core.frame.DataFrame'>\n",
      "RangeIndex: 1565 entries, 0 to 1564\n",
      "Data columns (total 5 columns):\n",
      " #   Column             Non-Null Count  Dtype \n",
      "---  ------             --------------  ----- \n",
      " 0   user_id            1565 non-null   int64 \n",
      " 1   name               1565 non-null   object\n",
      " 2   age                1565 non-null   int64 \n",
      " 3   city               1565 non-null   object\n",
      " 4   subscription_type  1565 non-null   object\n",
      "dtypes: int64(2), object(3)\n",
      "memory usage: 61.3+ KB\n"
     ]
    }
   ],
   "source": [
    "df_users.info()"
   ]
  },
  {
   "cell_type": "code",
   "execution_count": 4,
   "id": "fbdaa3a3",
   "metadata": {},
   "outputs": [
    {
     "data": {
      "text/html": [
       "<div>\n",
       "<style scoped>\n",
       "    .dataframe tbody tr th:only-of-type {\n",
       "        vertical-align: middle;\n",
       "    }\n",
       "\n",
       "    .dataframe tbody tr th {\n",
       "        vertical-align: top;\n",
       "    }\n",
       "\n",
       "    .dataframe thead th {\n",
       "        text-align: right;\n",
       "    }\n",
       "</style>\n",
       "<table border=\"1\" class=\"dataframe\">\n",
       "  <thead>\n",
       "    <tr style=\"text-align: right;\">\n",
       "      <th></th>\n",
       "      <th>user_id</th>\n",
       "      <th>distance</th>\n",
       "      <th>duration</th>\n",
       "      <th>date</th>\n",
       "    </tr>\n",
       "  </thead>\n",
       "  <tbody>\n",
       "    <tr>\n",
       "      <th>0</th>\n",
       "      <td>1</td>\n",
       "      <td>4409.919140</td>\n",
       "      <td>25.599769</td>\n",
       "      <td>2021-01-01</td>\n",
       "    </tr>\n",
       "    <tr>\n",
       "      <th>1</th>\n",
       "      <td>1</td>\n",
       "      <td>2617.592153</td>\n",
       "      <td>15.816871</td>\n",
       "      <td>2021-01-18</td>\n",
       "    </tr>\n",
       "    <tr>\n",
       "      <th>2</th>\n",
       "      <td>1</td>\n",
       "      <td>754.159807</td>\n",
       "      <td>6.232113</td>\n",
       "      <td>2021-04-20</td>\n",
       "    </tr>\n",
       "    <tr>\n",
       "      <th>3</th>\n",
       "      <td>1</td>\n",
       "      <td>2694.783254</td>\n",
       "      <td>18.511000</td>\n",
       "      <td>2021-08-11</td>\n",
       "    </tr>\n",
       "    <tr>\n",
       "      <th>4</th>\n",
       "      <td>1</td>\n",
       "      <td>4028.687306</td>\n",
       "      <td>26.265803</td>\n",
       "      <td>2021-08-28</td>\n",
       "    </tr>\n",
       "  </tbody>\n",
       "</table>\n",
       "</div>"
      ],
      "text/plain": [
       "   user_id     distance   duration        date\n",
       "0        1  4409.919140  25.599769  2021-01-01\n",
       "1        1  2617.592153  15.816871  2021-01-18\n",
       "2        1   754.159807   6.232113  2021-04-20\n",
       "3        1  2694.783254  18.511000  2021-08-11\n",
       "4        1  4028.687306  26.265803  2021-08-28"
      ]
     },
     "execution_count": 4,
     "metadata": {},
     "output_type": "execute_result"
    }
   ],
   "source": [
    "#таблица с поездками\n",
    "df_rides = pd.read_csv('...csv')\n",
    "df_rides.head()"
   ]
  },
  {
   "cell_type": "code",
   "execution_count": 5,
   "id": "5620d0e5",
   "metadata": {},
   "outputs": [
    {
     "name": "stdout",
     "output_type": "stream",
     "text": [
      "<class 'pandas.core.frame.DataFrame'>\n",
      "RangeIndex: 18068 entries, 0 to 18067\n",
      "Data columns (total 4 columns):\n",
      " #   Column    Non-Null Count  Dtype  \n",
      "---  ------    --------------  -----  \n",
      " 0   user_id   18068 non-null  int64  \n",
      " 1   distance  18068 non-null  float64\n",
      " 2   duration  18068 non-null  float64\n",
      " 3   date      18068 non-null  object \n",
      "dtypes: float64(2), int64(1), object(1)\n",
      "memory usage: 564.8+ KB\n"
     ]
    }
   ],
   "source": [
    "df_rides.info()"
   ]
  },
  {
   "cell_type": "code",
   "execution_count": 6,
   "id": "ab7e6761",
   "metadata": {},
   "outputs": [
    {
     "data": {
      "text/html": [
       "<div>\n",
       "<style scoped>\n",
       "    .dataframe tbody tr th:only-of-type {\n",
       "        vertical-align: middle;\n",
       "    }\n",
       "\n",
       "    .dataframe tbody tr th {\n",
       "        vertical-align: top;\n",
       "    }\n",
       "\n",
       "    .dataframe thead th {\n",
       "        text-align: right;\n",
       "    }\n",
       "</style>\n",
       "<table border=\"1\" class=\"dataframe\">\n",
       "  <thead>\n",
       "    <tr style=\"text-align: right;\">\n",
       "      <th></th>\n",
       "      <th>subscription_type</th>\n",
       "      <th>minute_price</th>\n",
       "      <th>start_ride_price</th>\n",
       "      <th>subscription_fee</th>\n",
       "    </tr>\n",
       "  </thead>\n",
       "  <tbody>\n",
       "    <tr>\n",
       "      <th>0</th>\n",
       "      <td>free</td>\n",
       "      <td>8</td>\n",
       "      <td>50</td>\n",
       "      <td>0</td>\n",
       "    </tr>\n",
       "    <tr>\n",
       "      <th>1</th>\n",
       "      <td>ultra</td>\n",
       "      <td>6</td>\n",
       "      <td>0</td>\n",
       "      <td>199</td>\n",
       "    </tr>\n",
       "  </tbody>\n",
       "</table>\n",
       "</div>"
      ],
      "text/plain": [
       "  subscription_type  minute_price  start_ride_price  subscription_fee\n",
       "0              free             8                50                 0\n",
       "1             ultra             6                 0               199"
      ]
     },
     "execution_count": 6,
     "metadata": {},
     "output_type": "execute_result"
    }
   ],
   "source": [
    "#таблица с подписками\n",
    "df_subscriptions = pd.read_csv('...csv')\n",
    "df_subscriptions.head()"
   ]
  },
  {
   "cell_type": "code",
   "execution_count": 7,
   "id": "437feebb",
   "metadata": {},
   "outputs": [
    {
     "name": "stdout",
     "output_type": "stream",
     "text": [
      "<class 'pandas.core.frame.DataFrame'>\n",
      "RangeIndex: 2 entries, 0 to 1\n",
      "Data columns (total 4 columns):\n",
      " #   Column             Non-Null Count  Dtype \n",
      "---  ------             --------------  ----- \n",
      " 0   subscription_type  2 non-null      object\n",
      " 1   minute_price       2 non-null      int64 \n",
      " 2   start_ride_price   2 non-null      int64 \n",
      " 3   subscription_fee   2 non-null      int64 \n",
      "dtypes: int64(3), object(1)\n",
      "memory usage: 192.0+ bytes\n"
     ]
    }
   ],
   "source": [
    "df_subscriptions.info()"
   ]
  },
  {
   "cell_type": "markdown",
   "id": "f02a0bcb",
   "metadata": {},
   "source": [
    "В таблице пользователей содержится 1565 записей, включающих данные о пользователях: идентификаторы, имена, возраст, города и типы подписок. Все типы данных корректны, пропущенные значения отсутствуют.\n",
    "\n",
    "В таблице поездок имеется 18068 записей с данными о поездках: идентификаторы пользователей, дистанция, продолжительность и дата каждой поездки. Столбец date имеет тип 'object' и требует преобразования в формат даты.\n",
    "\n",
    "В таблице подписок 2 записи и представлена информация о доступных подписках, о типах подписок, стоимость за минуту, начальную стоимость поездки и ежемесячную плату. Нет проблем с типами данных или пропущенными значениями."
   ]
  },
  {
   "cell_type": "markdown",
   "id": "e95ebca7",
   "metadata": {},
   "source": [
    "## Шаг 2. Предобработка данных"
   ]
  },
  {
   "cell_type": "code",
   "execution_count": 8,
   "id": "af6d202c",
   "metadata": {},
   "outputs": [
    {
     "data": {
      "text/html": [
       "<div>\n",
       "<style scoped>\n",
       "    .dataframe tbody tr th:only-of-type {\n",
       "        vertical-align: middle;\n",
       "    }\n",
       "\n",
       "    .dataframe tbody tr th {\n",
       "        vertical-align: top;\n",
       "    }\n",
       "\n",
       "    .dataframe thead th {\n",
       "        text-align: right;\n",
       "    }\n",
       "</style>\n",
       "<table border=\"1\" class=\"dataframe\">\n",
       "  <thead>\n",
       "    <tr style=\"text-align: right;\">\n",
       "      <th></th>\n",
       "      <th>user_id</th>\n",
       "      <th>distance</th>\n",
       "      <th>duration</th>\n",
       "      <th>date</th>\n",
       "      <th>month</th>\n",
       "    </tr>\n",
       "  </thead>\n",
       "  <tbody>\n",
       "    <tr>\n",
       "      <th>0</th>\n",
       "      <td>1</td>\n",
       "      <td>4409.919140</td>\n",
       "      <td>25.599769</td>\n",
       "      <td>2021-01-01</td>\n",
       "      <td>1</td>\n",
       "    </tr>\n",
       "    <tr>\n",
       "      <th>1</th>\n",
       "      <td>1</td>\n",
       "      <td>2617.592153</td>\n",
       "      <td>15.816871</td>\n",
       "      <td>2021-01-18</td>\n",
       "      <td>1</td>\n",
       "    </tr>\n",
       "    <tr>\n",
       "      <th>2</th>\n",
       "      <td>1</td>\n",
       "      <td>754.159807</td>\n",
       "      <td>6.232113</td>\n",
       "      <td>2021-04-20</td>\n",
       "      <td>4</td>\n",
       "    </tr>\n",
       "    <tr>\n",
       "      <th>3</th>\n",
       "      <td>1</td>\n",
       "      <td>2694.783254</td>\n",
       "      <td>18.511000</td>\n",
       "      <td>2021-08-11</td>\n",
       "      <td>8</td>\n",
       "    </tr>\n",
       "    <tr>\n",
       "      <th>4</th>\n",
       "      <td>1</td>\n",
       "      <td>4028.687306</td>\n",
       "      <td>26.265803</td>\n",
       "      <td>2021-08-28</td>\n",
       "      <td>8</td>\n",
       "    </tr>\n",
       "  </tbody>\n",
       "</table>\n",
       "</div>"
      ],
      "text/plain": [
       "   user_id     distance   duration       date  month\n",
       "0        1  4409.919140  25.599769 2021-01-01      1\n",
       "1        1  2617.592153  15.816871 2021-01-18      1\n",
       "2        1   754.159807   6.232113 2021-04-20      4\n",
       "3        1  2694.783254  18.511000 2021-08-11      8\n",
       "4        1  4028.687306  26.265803 2021-08-28      8"
      ]
     },
     "execution_count": 8,
     "metadata": {},
     "output_type": "execute_result"
    }
   ],
   "source": [
    "# изменим тип в 'date' на datetime\n",
    "df_rides['date'] = pd.to_datetime(df_rides['date'], format='%Y-%m-%d')\n",
    "\n",
    "# cоздадим новый столбец с номером месяца на основе столбца date\n",
    "df_rides['month'] = df_rides['date'].dt.month\n",
    "df_rides.head()"
   ]
  },
  {
   "cell_type": "markdown",
   "id": "e19efa5c",
   "metadata": {},
   "source": [
    "Опираясь на общую информацию о датафреймах, сделан вывод, что пропусков в датафреймах не обнаружено. Таблицу с информацией о подписках мы видим полностью, пропусков или дубликатов в ней нет."
   ]
  },
  {
   "cell_type": "code",
   "execution_count": 9,
   "id": "37642e7a",
   "metadata": {},
   "outputs": [
    {
     "data": {
      "text/plain": [
       "0"
      ]
     },
     "execution_count": 9,
     "metadata": {},
     "output_type": "execute_result"
    }
   ],
   "source": [
    "#посмотрим кол-во дубликатов в таблице с поездками\n",
    "df_rides.duplicated().sum()"
   ]
  },
  {
   "cell_type": "code",
   "execution_count": 10,
   "id": "fe4a0737",
   "metadata": {},
   "outputs": [
    {
     "data": {
      "text/plain": [
       "31"
      ]
     },
     "execution_count": 10,
     "metadata": {},
     "output_type": "execute_result"
    }
   ],
   "source": [
    "#посмотрим кол-во дубликатов в таблице с пользователями\n",
    "df_users.duplicated().sum()"
   ]
  },
  {
   "cell_type": "code",
   "execution_count": 11,
   "id": "de1dd246",
   "metadata": {},
   "outputs": [
    {
     "data": {
      "text/plain": [
       "0"
      ]
     },
     "execution_count": 11,
     "metadata": {},
     "output_type": "execute_result"
    }
   ],
   "source": [
    "#удалим дубликаты и выведем код выше еще раз для проверки \n",
    "df_users = df_users.drop_duplicates()\n",
    "df_users.duplicated().sum()"
   ]
  },
  {
   "cell_type": "markdown",
   "id": "ae2bedab",
   "metadata": {},
   "source": [
    "В таблице с пользователями удалены дубликаты, в таблице с поездками изменен тип даты. "
   ]
  },
  {
   "cell_type": "markdown",
   "id": "212593c7",
   "metadata": {},
   "source": [
    "## Шаг 3. Исследовательский анализ данных"
   ]
  },
  {
   "cell_type": "markdown",
   "id": "4336585d",
   "metadata": {},
   "source": [
    "**3.1 частота встречаемости городов;**"
   ]
  },
  {
   "cell_type": "code",
   "execution_count": 12,
   "id": "9768e50a",
   "metadata": {},
   "outputs": [
    {
     "data": {
      "text/plain": [
       "Пятигорск         219\n",
       "Екатеринбург      204\n",
       "Ростов-на-Дону    198\n",
       "Краснодар         193\n",
       "Сочи              189\n",
       "Омск              183\n",
       "Тюмень            180\n",
       "Москва            168\n",
       "Name: city, dtype: int64"
      ]
     },
     "execution_count": 12,
     "metadata": {},
     "output_type": "execute_result"
    }
   ],
   "source": [
    "city_counts = df_users['city'].value_counts()\n",
    "city_counts"
   ]
  },
  {
   "cell_type": "code",
   "execution_count": 13,
   "id": "5b725df6",
   "metadata": {},
   "outputs": [
    {
     "data": {
      "image/png": "[encoded data removed]",
      "text/plain": [
       "<Figure size 720x432 with 1 Axes>"
      ]
     },
     "metadata": {
      "needs_background": "light"
     },
     "output_type": "display_data"
    }
   ],
   "source": [
    "#преобразование частот в проценты\n",
    "city_percentages = (city_counts / city_counts.sum()) * 100\n",
    "\n",
    "#построение графика\n",
    "plt.figure(figsize=(10, 6))\n",
    "barplot = sns.barplot(x=city_percentages.index, y=city_percentages.values, palette=\"viridis\")\n",
    "\n",
    "#добавление процентов на столбцы\n",
    "for index, value in enumerate(city_percentages.values):\n",
    "    plt.text(index, value + 1, f'{value:.1f}%', ha='center', va='bottom')\n",
    "\n",
    "plt.xlabel('Города')\n",
    "plt.ylabel('Частота встречаемости (%)')\n",
    "plt.title('Частота встречаемости городов в df_users')\n",
    "plt.xticks(rotation=45)\n",
    "plt.ylim(0, max(city_percentages.values) + 5)\n",
    "plt.show()"
   ]
  },
  {
   "cell_type": "code",
   "execution_count": 14,
   "id": "fc90e90d",
   "metadata": {},
   "outputs": [
    {
     "data": {
      "image/png": "[encoded data removed]",
      "text/plain": [
       "<Figure size 720x432 with 1 Axes>"
      ]
     },
     "metadata": {
      "needs_background": "light"
     },
     "output_type": "display_data"
    }
   ],
   "source": [
    "plt.figure(figsize=(10, 6))\n",
    "sns.barplot(x=city_counts.index, y=city_counts.values, palette=\"viridis\")\n",
    "\n",
    "# Добавление значений над столбцами\n",
    "for index, value in enumerate(city_counts.values):\n",
    "    plt.text(index, value + 1, f'{value}', ha='center', va='bottom')\n",
    "\n",
    "plt.xlabel('Города')\n",
    "plt.ylabel('Частота встречаемости')\n",
    "plt.title('Частота встречаемости городов в df_users')\n",
    "plt.xticks(rotation=45)\n",
    "plt.ylim(0, max(city_counts.values) + 10)\n",
    "plt.show()"
   ]
  },
  {
   "cell_type": "markdown",
   "id": "2ba809fd",
   "metadata": {},
   "source": [
    "Наибольшее количество пользователей из Пятигорска — 219 (14.28%). Наименьшее количество пользователей из Москвы — 168 (10.95%)."
   ]
  },
  {
   "cell_type": "markdown",
   "id": "0e32401f",
   "metadata": {},
   "source": [
    "**3.2 соотношение пользователей с подпиской и без подписки;**"
   ]
  },
  {
   "cell_type": "code",
   "execution_count": 15,
   "id": "73556fe5",
   "metadata": {
    "scrolled": false
   },
   "outputs": [
    {
     "data": {
      "text/plain": [
       "free     835\n",
       "ultra    699\n",
       "Name: subscription_type, dtype: int64"
      ]
     },
     "execution_count": 15,
     "metadata": {},
     "output_type": "execute_result"
    }
   ],
   "source": [
    "#оценим записи в 'subscription_type'\n",
    "subscription_counts = df_users['subscription_type'].value_counts()\n",
    "subscription_counts"
   ]
  },
  {
   "cell_type": "code",
   "execution_count": 16,
   "id": "cec9d61b",
   "metadata": {
    "scrolled": false
   },
   "outputs": [
    {
     "data": {
      "image/png": "[encoded data removed]",
      "text/plain": [
       "<Figure size 720x432 with 1 Axes>"
      ]
     },
     "metadata": {
      "needs_background": "light"
     },
     "output_type": "display_data"
    }
   ],
   "source": [
    "#преобразование частот в проценты\n",
    "subscription_percentages = (subscription_counts / subscription_counts.sum()) * 100\n",
    "\n",
    "#построение графика\n",
    "plt.figure(figsize=(10, 6))\n",
    "barplot = sns.barplot(x=subscription_percentages.index, y=subscription_percentages.values, palette=\"viridis\")\n",
    "\n",
    "#добавление процентов на столбцы\n",
    "for index, value in enumerate(subscription_percentages.values):\n",
    "    plt.text(index, value + 1, f'{value:.1f}%', ha='center', va='bottom')\n",
    "\n",
    "plt.xlabel('Тип подписки')\n",
    "plt.ylabel('Процентное соотношение')\n",
    "plt.title('Процентное соотношение типов подписки в df_users')\n",
    "plt.xticks(rotation=0)\n",
    "plt.ylim(0, max(subscription_percentages.values) + 10)\n",
    "plt.show()\n"
   ]
  },
  {
   "cell_type": "code",
   "execution_count": 17,
   "id": "81e04ed1",
   "metadata": {},
   "outputs": [
    {
     "data": {
      "image/png": "[encoded data removed]",
      "text/plain": [
       "<Figure size 720x432 with 1 Axes>"
      ]
     },
     "metadata": {},
     "output_type": "display_data"
    }
   ],
   "source": [
    "plt.figure(figsize=(10, 6))\n",
    "plt.pie(subscription_percentages, labels=subscription_percentages.index, autopct='%1.1f%%', startangle=140, colors=sns.color_palette(\"pastel\"))\n",
    "\n",
    "plt.title('Процентное соотношение типов подписки в df_users')\n",
    "plt.axis('equal')\n",
    "\n",
    "plt.show()"
   ]
  },
  {
   "cell_type": "markdown",
   "id": "d5f11b47",
   "metadata": {},
   "source": [
    "Пользователей с подпиской «free» насчитывается 835, что составляет 54,43% от общего числа и на 136 больше, чем пользователей с подпиской «ultra»."
   ]
  },
  {
   "cell_type": "markdown",
   "id": "b350b941",
   "metadata": {},
   "source": [
    "**3.3 возраст пользователей;**"
   ]
  },
  {
   "cell_type": "code",
   "execution_count": 18,
   "id": "1142bce3",
   "metadata": {},
   "outputs": [
    {
     "data": {
      "text/plain": [
       "25    145\n",
       "24    132\n",
       "26    131\n",
       "23    129\n",
       "27    119\n",
       "22    119\n",
       "28    112\n",
       "21     93\n",
       "20     71\n",
       "30     68\n",
       "29     68\n",
       "31     48\n",
       "19     47\n",
       "18     46\n",
       "32     41\n",
       "33     39\n",
       "17     26\n",
       "34     19\n",
       "16     19\n",
       "35     15\n",
       "15     13\n",
       "14      9\n",
       "13      8\n",
       "36      6\n",
       "12      4\n",
       "38      3\n",
       "37      2\n",
       "39      1\n",
       "43      1\n",
       "Name: age, dtype: int64"
      ]
     },
     "execution_count": 18,
     "metadata": {},
     "output_type": "execute_result"
    }
   ],
   "source": [
    "age_counts = df_users['age'].value_counts()\n",
    "age_counts"
   ]
  },
  {
   "cell_type": "code",
   "execution_count": 19,
   "id": "c4171e74",
   "metadata": {},
   "outputs": [
    {
     "data": {
      "image/png": "[encoded data removed]",
      "text/plain": [
       "<Figure size 1800x576 with 1 Axes>"
      ]
     },
     "metadata": {
      "needs_background": "light"
     },
     "output_type": "display_data"
    }
   ],
   "source": [
    "#преобразуем частоты в проценты\n",
    "age_percentages = (age_counts / age_counts.sum()) * 100\n",
    "\n",
    "#сортируем данные по возрастанию возраста\n",
    "age_counts_sorted = age_counts.sort_index()\n",
    "age_percentages_sorted = age_percentages.sort_index()\n",
    "\n",
    "#построение графика\n",
    "plt.figure(figsize=(25, 8))\n",
    "barplot = sns.barplot(x=age_counts_sorted.index, y=age_counts_sorted.values, palette=\"viridis\")\n",
    "\n",
    "#добавляем частоты над столбцами\n",
    "for index, (age, value) in enumerate(age_counts_sorted.items()):\n",
    "    percentage = age_percentages_sorted[age]\n",
    "    barplot.text(index, value + 1, f'{value} ({percentage:.2f}%)', ha='center', va='bottom')\n",
    "\n",
    "plt.xlabel('Возраст')\n",
    "plt.ylabel('Частота встречаемости')\n",
    "plt.title('Частота встречаемости возрастов в df_users')\n",
    "plt.xticks(rotation=0)\n",
    "plt.ylim(0, max(age_counts_sorted.values) + 10) \n",
    "plt.show()"
   ]
  },
  {
   "cell_type": "code",
   "execution_count": 20,
   "id": "430cb232",
   "metadata": {},
   "outputs": [
    {
     "data": {
      "text/plain": [
       "count    1534.000000\n",
       "mean       24.903520\n",
       "std         4.572367\n",
       "min        12.000000\n",
       "25%        22.000000\n",
       "50%        25.000000\n",
       "75%        28.000000\n",
       "max        43.000000\n",
       "Name: age, dtype: float64"
      ]
     },
     "execution_count": 20,
     "metadata": {},
     "output_type": "execute_result"
    }
   ],
   "source": [
    "df_users['age'].describe()"
   ]
  },
  {
   "cell_type": "markdown",
   "id": "022abb1f",
   "metadata": {},
   "source": [
    "От 12 до 43 лет - это возрастной диапазон пользователей сервиса аренды самокатов. График распределения возрастов демонстрирует нормальную кривую, а наивысшее количество пользователей отмечается в возрасте 25 лет, который также является медианным значением. По закону с 1 марта 2023 года, дети от 7 до 14 лет могут перемещаться на электросамокате самостоятельно только по велосипедным и пешеходным дорожкам. Но каждый сервис аренды самокатов может устанавливать свои правила в отношении управления самокатов детьми (в основном, на данных момент ограничение сервисов - 18+). Нужно учесть, что у нас данные за 2021 год, вероятно, тогда кикшеринговые компании разрешали управление своими самокатами с 12 лет.  "
   ]
  },
  {
   "cell_type": "markdown",
   "id": "9ca9f94d",
   "metadata": {},
   "source": [
    "**3.4 расстояние, которое пользователь преодолел за одну поездку;**"
   ]
  },
  {
   "cell_type": "code",
   "execution_count": 21,
   "id": "cca6b462",
   "metadata": {},
   "outputs": [
    {
     "data": {
      "text/html": [
       "<div>\n",
       "<style scoped>\n",
       "    .dataframe tbody tr th:only-of-type {\n",
       "        vertical-align: middle;\n",
       "    }\n",
       "\n",
       "    .dataframe tbody tr th {\n",
       "        vertical-align: top;\n",
       "    }\n",
       "\n",
       "    .dataframe thead th {\n",
       "        text-align: right;\n",
       "    }\n",
       "</style>\n",
       "<table border=\"1\" class=\"dataframe\">\n",
       "  <thead>\n",
       "    <tr style=\"text-align: right;\">\n",
       "      <th></th>\n",
       "      <th>distance</th>\n",
       "    </tr>\n",
       "  </thead>\n",
       "  <tbody>\n",
       "    <tr>\n",
       "      <th>count</th>\n",
       "      <td>18068.00</td>\n",
       "    </tr>\n",
       "    <tr>\n",
       "      <th>mean</th>\n",
       "      <td>3070.66</td>\n",
       "    </tr>\n",
       "    <tr>\n",
       "      <th>std</th>\n",
       "      <td>1116.83</td>\n",
       "    </tr>\n",
       "    <tr>\n",
       "      <th>min</th>\n",
       "      <td>0.86</td>\n",
       "    </tr>\n",
       "    <tr>\n",
       "      <th>25%</th>\n",
       "      <td>2543.23</td>\n",
       "    </tr>\n",
       "    <tr>\n",
       "      <th>50%</th>\n",
       "      <td>3133.61</td>\n",
       "    </tr>\n",
       "    <tr>\n",
       "      <th>75%</th>\n",
       "      <td>3776.22</td>\n",
       "    </tr>\n",
       "    <tr>\n",
       "      <th>max</th>\n",
       "      <td>7211.01</td>\n",
       "    </tr>\n",
       "  </tbody>\n",
       "</table>\n",
       "</div>"
      ],
      "text/plain": [
       "       distance\n",
       "count  18068.00\n",
       "mean    3070.66\n",
       "std     1116.83\n",
       "min        0.86\n",
       "25%     2543.23\n",
       "50%     3133.61\n",
       "75%     3776.22\n",
       "max     7211.01"
      ]
     },
     "execution_count": 21,
     "metadata": {},
     "output_type": "execute_result"
    }
   ],
   "source": [
    "df_rides['distance'].describe().round(2).to_frame()"
   ]
  },
  {
   "cell_type": "code",
   "execution_count": 22,
   "id": "fb697c36",
   "metadata": {},
   "outputs": [
    {
     "data": {
      "image/png": "[encoded data removed]",
      "text/plain": [
       "<Figure size 576x360 with 1 Axes>"
      ]
     },
     "metadata": {
      "needs_background": "light"
     },
     "output_type": "display_data"
    }
   ],
   "source": [
    "# Построение гистограммы\n",
    "ax = df_rides.plot(y='distance', \n",
    "                   kind='hist', \n",
    "                   bins=50, \n",
    "                   grid=True, \n",
    "                   figsize=(8, 5), \n",
    "                   range=(0, 8000), \n",
    "                   color='purple', \n",
    "                   title='Гистограмма расстояния поездок')\n",
    "ax.set_xlabel('Расстояние поездки (м)')\n",
    "ax.set_ylabel('Частота')\n",
    "\n",
    "plt.show()"
   ]
  },
  {
   "cell_type": "code",
   "execution_count": 23,
   "id": "209e0b8a",
   "metadata": {},
   "outputs": [
    {
     "data": {
      "text/html": [
       "<div>\n",
       "<style scoped>\n",
       "    .dataframe tbody tr th:only-of-type {\n",
       "        vertical-align: middle;\n",
       "    }\n",
       "\n",
       "    .dataframe tbody tr th {\n",
       "        vertical-align: top;\n",
       "    }\n",
       "\n",
       "    .dataframe thead th {\n",
       "        text-align: right;\n",
       "    }\n",
       "</style>\n",
       "<table border=\"1\" class=\"dataframe\">\n",
       "  <thead>\n",
       "    <tr style=\"text-align: right;\">\n",
       "      <th></th>\n",
       "      <th>user_id</th>\n",
       "      <th>distance</th>\n",
       "      <th>duration</th>\n",
       "      <th>month</th>\n",
       "    </tr>\n",
       "  </thead>\n",
       "  <tbody>\n",
       "    <tr>\n",
       "      <th>count</th>\n",
       "      <td>1372.000000</td>\n",
       "      <td>1372.000000</td>\n",
       "      <td>1372.000000</td>\n",
       "      <td>1372.000000</td>\n",
       "    </tr>\n",
       "    <tr>\n",
       "      <th>mean</th>\n",
       "      <td>977.518222</td>\n",
       "      <td>549.248484</td>\n",
       "      <td>9.555959</td>\n",
       "      <td>6.568513</td>\n",
       "    </tr>\n",
       "    <tr>\n",
       "      <th>std</th>\n",
       "      <td>386.254751</td>\n",
       "      <td>265.731473</td>\n",
       "      <td>3.823324</td>\n",
       "      <td>3.506851</td>\n",
       "    </tr>\n",
       "    <tr>\n",
       "      <th>min</th>\n",
       "      <td>1.000000</td>\n",
       "      <td>0.855683</td>\n",
       "      <td>2.035632</td>\n",
       "      <td>1.000000</td>\n",
       "    </tr>\n",
       "    <tr>\n",
       "      <th>25%</th>\n",
       "      <td>760.000000</td>\n",
       "      <td>333.796146</td>\n",
       "      <td>6.397153</td>\n",
       "      <td>3.000000</td>\n",
       "    </tr>\n",
       "    <tr>\n",
       "      <th>50%</th>\n",
       "      <td>1030.000000</td>\n",
       "      <td>574.118578</td>\n",
       "      <td>9.336174</td>\n",
       "      <td>7.000000</td>\n",
       "    </tr>\n",
       "    <tr>\n",
       "      <th>75%</th>\n",
       "      <td>1285.500000</td>\n",
       "      <td>771.980411</td>\n",
       "      <td>12.832299</td>\n",
       "      <td>10.000000</td>\n",
       "    </tr>\n",
       "    <tr>\n",
       "      <th>max</th>\n",
       "      <td>1534.000000</td>\n",
       "      <td>999.531884</td>\n",
       "      <td>18.235650</td>\n",
       "      <td>12.000000</td>\n",
       "    </tr>\n",
       "  </tbody>\n",
       "</table>\n",
       "</div>"
      ],
      "text/plain": [
       "           user_id     distance     duration        month\n",
       "count  1372.000000  1372.000000  1372.000000  1372.000000\n",
       "mean    977.518222   549.248484     9.555959     6.568513\n",
       "std     386.254751   265.731473     3.823324     3.506851\n",
       "min       1.000000     0.855683     2.035632     1.000000\n",
       "25%     760.000000   333.796146     6.397153     3.000000\n",
       "50%    1030.000000   574.118578     9.336174     7.000000\n",
       "75%    1285.500000   771.980411    12.832299    10.000000\n",
       "max    1534.000000   999.531884    18.235650    12.000000"
      ]
     },
     "execution_count": 23,
     "metadata": {},
     "output_type": "execute_result"
    }
   ],
   "source": [
    "(df_rides[df_rides['distance'] < 1000]).describe()"
   ]
  },
  {
   "cell_type": "markdown",
   "id": "ce5979bb",
   "metadata": {},
   "source": [
    "Расстояние за одну поездку от 1 до 7200 метров. На графике наблюдаются два выраженных пика: первый - около 700 метров, а второй - около 3200 метров. Между этими пиками значения распределены нормально. Медианное значение - 3133 метра."
   ]
  },
  {
   "cell_type": "markdown",
   "id": "31666d0d",
   "metadata": {},
   "source": [
    "**3.5 продолжительность поездок.**"
   ]
  },
  {
   "cell_type": "code",
   "execution_count": 24,
   "id": "713f8d63",
   "metadata": {
    "scrolled": true
   },
   "outputs": [
    {
     "data": {
      "text/html": [
       "<div>\n",
       "<style scoped>\n",
       "    .dataframe tbody tr th:only-of-type {\n",
       "        vertical-align: middle;\n",
       "    }\n",
       "\n",
       "    .dataframe tbody tr th {\n",
       "        vertical-align: top;\n",
       "    }\n",
       "\n",
       "    .dataframe thead th {\n",
       "        text-align: right;\n",
       "    }\n",
       "</style>\n",
       "<table border=\"1\" class=\"dataframe\">\n",
       "  <thead>\n",
       "    <tr style=\"text-align: right;\">\n",
       "      <th></th>\n",
       "      <th>duration</th>\n",
       "    </tr>\n",
       "  </thead>\n",
       "  <tbody>\n",
       "    <tr>\n",
       "      <th>count</th>\n",
       "      <td>18068.00</td>\n",
       "    </tr>\n",
       "    <tr>\n",
       "      <th>mean</th>\n",
       "      <td>17.81</td>\n",
       "    </tr>\n",
       "    <tr>\n",
       "      <th>std</th>\n",
       "      <td>6.09</td>\n",
       "    </tr>\n",
       "    <tr>\n",
       "      <th>min</th>\n",
       "      <td>0.50</td>\n",
       "    </tr>\n",
       "    <tr>\n",
       "      <th>25%</th>\n",
       "      <td>13.60</td>\n",
       "    </tr>\n",
       "    <tr>\n",
       "      <th>50%</th>\n",
       "      <td>17.68</td>\n",
       "    </tr>\n",
       "    <tr>\n",
       "      <th>75%</th>\n",
       "      <td>21.72</td>\n",
       "    </tr>\n",
       "    <tr>\n",
       "      <th>max</th>\n",
       "      <td>40.82</td>\n",
       "    </tr>\n",
       "  </tbody>\n",
       "</table>\n",
       "</div>"
      ],
      "text/plain": [
       "       duration\n",
       "count  18068.00\n",
       "mean      17.81\n",
       "std        6.09\n",
       "min        0.50\n",
       "25%       13.60\n",
       "50%       17.68\n",
       "75%       21.72\n",
       "max       40.82"
      ]
     },
     "execution_count": 24,
     "metadata": {},
     "output_type": "execute_result"
    }
   ],
   "source": [
    "df_rides['duration'].describe().round(2).to_frame()"
   ]
  },
  {
   "cell_type": "code",
   "execution_count": 25,
   "id": "4467513d",
   "metadata": {},
   "outputs": [
    {
     "data": {
      "image/png": "[encoded data removed]",
      "text/plain": [
       "<Figure size 576x360 with 1 Axes>"
      ]
     },
     "metadata": {
      "needs_background": "light"
     },
     "output_type": "display_data"
    }
   ],
   "source": [
    "ax = df_rides.plot(y='duration', \n",
    "              kind='hist', \n",
    "              bins=50, \n",
    "              grid=True, \n",
    "              figsize=(8,5), \n",
    "              range=(0,40), \n",
    "              color='purple', \n",
    "              title='Гистограмма продолжительности поездок')\n",
    "ax.set_xlabel('Продолжительность поездки (мин)')\n",
    "ax.set_ylabel('Частота')\n",
    "\n",
    "plt.show()"
   ]
  },
  {
   "cell_type": "code",
   "execution_count": 26,
   "id": "536ce7db",
   "metadata": {
    "scrolled": false
   },
   "outputs": [
    {
     "data": {
      "text/html": [
       "<div>\n",
       "<style scoped>\n",
       "    .dataframe tbody tr th:only-of-type {\n",
       "        vertical-align: middle;\n",
       "    }\n",
       "\n",
       "    .dataframe tbody tr th {\n",
       "        vertical-align: top;\n",
       "    }\n",
       "\n",
       "    .dataframe thead th {\n",
       "        text-align: right;\n",
       "    }\n",
       "</style>\n",
       "<table border=\"1\" class=\"dataframe\">\n",
       "  <thead>\n",
       "    <tr style=\"text-align: right;\">\n",
       "      <th></th>\n",
       "      <th>user_id</th>\n",
       "      <th>distance</th>\n",
       "      <th>duration</th>\n",
       "      <th>date</th>\n",
       "      <th>month</th>\n",
       "    </tr>\n",
       "  </thead>\n",
       "  <tbody>\n",
       "    <tr>\n",
       "      <th>6531</th>\n",
       "      <td>701</td>\n",
       "      <td>4196.445201</td>\n",
       "      <td>0.5</td>\n",
       "      <td>2021-08-31</td>\n",
       "      <td>8</td>\n",
       "    </tr>\n",
       "    <tr>\n",
       "      <th>6570</th>\n",
       "      <td>704</td>\n",
       "      <td>4830.824371</td>\n",
       "      <td>0.5</td>\n",
       "      <td>2021-10-14</td>\n",
       "      <td>10</td>\n",
       "    </tr>\n",
       "    <tr>\n",
       "      <th>6680</th>\n",
       "      <td>712</td>\n",
       "      <td>4684.004397</td>\n",
       "      <td>0.5</td>\n",
       "      <td>2021-03-04</td>\n",
       "      <td>3</td>\n",
       "    </tr>\n",
       "    <tr>\n",
       "      <th>6695</th>\n",
       "      <td>713</td>\n",
       "      <td>5215.642710</td>\n",
       "      <td>0.5</td>\n",
       "      <td>2021-02-25</td>\n",
       "      <td>2</td>\n",
       "    </tr>\n",
       "    <tr>\n",
       "      <th>6768</th>\n",
       "      <td>718</td>\n",
       "      <td>5197.436649</td>\n",
       "      <td>0.5</td>\n",
       "      <td>2021-02-11</td>\n",
       "      <td>2</td>\n",
       "    </tr>\n",
       "    <tr>\n",
       "      <th>...</th>\n",
       "      <td>...</td>\n",
       "      <td>...</td>\n",
       "      <td>...</td>\n",
       "      <td>...</td>\n",
       "      <td>...</td>\n",
       "    </tr>\n",
       "    <tr>\n",
       "      <th>17004</th>\n",
       "      <td>1460</td>\n",
       "      <td>5531.335845</td>\n",
       "      <td>0.5</td>\n",
       "      <td>2021-01-19</td>\n",
       "      <td>1</td>\n",
       "    </tr>\n",
       "    <tr>\n",
       "      <th>17242</th>\n",
       "      <td>1477</td>\n",
       "      <td>6724.932981</td>\n",
       "      <td>0.5</td>\n",
       "      <td>2021-01-12</td>\n",
       "      <td>1</td>\n",
       "    </tr>\n",
       "    <tr>\n",
       "      <th>17314</th>\n",
       "      <td>1483</td>\n",
       "      <td>4445.481070</td>\n",
       "      <td>0.5</td>\n",
       "      <td>2021-03-06</td>\n",
       "      <td>3</td>\n",
       "    </tr>\n",
       "    <tr>\n",
       "      <th>17505</th>\n",
       "      <td>1496</td>\n",
       "      <td>5722.551787</td>\n",
       "      <td>0.5</td>\n",
       "      <td>2021-02-14</td>\n",
       "      <td>2</td>\n",
       "    </tr>\n",
       "    <tr>\n",
       "      <th>17909</th>\n",
       "      <td>1524</td>\n",
       "      <td>4103.998874</td>\n",
       "      <td>0.5</td>\n",
       "      <td>2021-06-18</td>\n",
       "      <td>6</td>\n",
       "    </tr>\n",
       "  </tbody>\n",
       "</table>\n",
       "<p>95 rows × 5 columns</p>\n",
       "</div>"
      ],
      "text/plain": [
       "       user_id     distance  duration       date  month\n",
       "6531       701  4196.445201       0.5 2021-08-31      8\n",
       "6570       704  4830.824371       0.5 2021-10-14     10\n",
       "6680       712  4684.004397       0.5 2021-03-04      3\n",
       "6695       713  5215.642710       0.5 2021-02-25      2\n",
       "6768       718  5197.436649       0.5 2021-02-11      2\n",
       "...        ...          ...       ...        ...    ...\n",
       "17004     1460  5531.335845       0.5 2021-01-19      1\n",
       "17242     1477  6724.932981       0.5 2021-01-12      1\n",
       "17314     1483  4445.481070       0.5 2021-03-06      3\n",
       "17505     1496  5722.551787       0.5 2021-02-14      2\n",
       "17909     1524  4103.998874       0.5 2021-06-18      6\n",
       "\n",
       "[95 rows x 5 columns]"
      ]
     },
     "execution_count": 26,
     "metadata": {},
     "output_type": "execute_result"
    }
   ],
   "source": [
    "df_rides[df_rides['duration'] < 1]"
   ]
  },
  {
   "cell_type": "code",
   "execution_count": 27,
   "id": "68d42518",
   "metadata": {},
   "outputs": [
    {
     "data": {
      "text/html": [
       "<div>\n",
       "<style scoped>\n",
       "    .dataframe tbody tr th:only-of-type {\n",
       "        vertical-align: middle;\n",
       "    }\n",
       "\n",
       "    .dataframe tbody tr th {\n",
       "        vertical-align: top;\n",
       "    }\n",
       "\n",
       "    .dataframe thead th {\n",
       "        text-align: right;\n",
       "    }\n",
       "</style>\n",
       "<table border=\"1\" class=\"dataframe\">\n",
       "  <thead>\n",
       "    <tr style=\"text-align: right;\">\n",
       "      <th></th>\n",
       "      <th>user_id</th>\n",
       "      <th>distance</th>\n",
       "      <th>duration</th>\n",
       "      <th>month</th>\n",
       "    </tr>\n",
       "  </thead>\n",
       "  <tbody>\n",
       "    <tr>\n",
       "      <th>count</th>\n",
       "      <td>95.000000</td>\n",
       "      <td>95.000000</td>\n",
       "      <td>95.0</td>\n",
       "      <td>95.000000</td>\n",
       "    </tr>\n",
       "    <tr>\n",
       "      <th>mean</th>\n",
       "      <td>1092.210526</td>\n",
       "      <td>5113.176549</td>\n",
       "      <td>0.5</td>\n",
       "      <td>6.484211</td>\n",
       "    </tr>\n",
       "    <tr>\n",
       "      <th>std</th>\n",
       "      <td>244.028551</td>\n",
       "      <td>658.254104</td>\n",
       "      <td>0.0</td>\n",
       "      <td>3.709858</td>\n",
       "    </tr>\n",
       "    <tr>\n",
       "      <th>min</th>\n",
       "      <td>701.000000</td>\n",
       "      <td>4030.308008</td>\n",
       "      <td>0.5</td>\n",
       "      <td>1.000000</td>\n",
       "    </tr>\n",
       "    <tr>\n",
       "      <th>25%</th>\n",
       "      <td>901.000000</td>\n",
       "      <td>4611.510820</td>\n",
       "      <td>0.5</td>\n",
       "      <td>3.000000</td>\n",
       "    </tr>\n",
       "    <tr>\n",
       "      <th>50%</th>\n",
       "      <td>1069.000000</td>\n",
       "      <td>5052.769411</td>\n",
       "      <td>0.5</td>\n",
       "      <td>6.000000</td>\n",
       "    </tr>\n",
       "    <tr>\n",
       "      <th>75%</th>\n",
       "      <td>1310.500000</td>\n",
       "      <td>5488.459099</td>\n",
       "      <td>0.5</td>\n",
       "      <td>10.000000</td>\n",
       "    </tr>\n",
       "    <tr>\n",
       "      <th>max</th>\n",
       "      <td>1524.000000</td>\n",
       "      <td>7211.007745</td>\n",
       "      <td>0.5</td>\n",
       "      <td>12.000000</td>\n",
       "    </tr>\n",
       "  </tbody>\n",
       "</table>\n",
       "</div>"
      ],
      "text/plain": [
       "           user_id     distance  duration      month\n",
       "count    95.000000    95.000000      95.0  95.000000\n",
       "mean   1092.210526  5113.176549       0.5   6.484211\n",
       "std     244.028551   658.254104       0.0   3.709858\n",
       "min     701.000000  4030.308008       0.5   1.000000\n",
       "25%     901.000000  4611.510820       0.5   3.000000\n",
       "50%    1069.000000  5052.769411       0.5   6.000000\n",
       "75%    1310.500000  5488.459099       0.5  10.000000\n",
       "max    1524.000000  7211.007745       0.5  12.000000"
      ]
     },
     "execution_count": 27,
     "metadata": {},
     "output_type": "execute_result"
    }
   ],
   "source": [
    "(df_rides[df_rides['duration'] < 1]).describe()"
   ]
  },
  {
   "cell_type": "markdown",
   "id": "67f49cfe",
   "metadata": {},
   "source": [
    "Продолжительность поездок нормально распределена в диапазоне от 0 до 41 минуты. Наиболее распространенной и одновременно медианным значением продолжительности является 18 минут.\n",
    "\n",
    "Отмечается некоторая аномалия: имеется небольшое количество поездок продолжительностью минуту, менее 100 случаев. Посмотрим на них внимательнее после объединения таблиц"
   ]
  },
  {
   "cell_type": "markdown",
   "id": "318a77ce",
   "metadata": {},
   "source": [
    "#### Шаг 4. Объединение данных"
   ]
  },
  {
   "cell_type": "markdown",
   "id": "a576b688",
   "metadata": {},
   "source": [
    "**4.1 Объединим данные о пользователях, поездках и подписках в один датафрейм**"
   ]
  },
  {
   "cell_type": "code",
   "execution_count": 28,
   "id": "90351c17",
   "metadata": {},
   "outputs": [
    {
     "data": {
      "text/html": [
       "<div>\n",
       "<style scoped>\n",
       "    .dataframe tbody tr th:only-of-type {\n",
       "        vertical-align: middle;\n",
       "    }\n",
       "\n",
       "    .dataframe tbody tr th {\n",
       "        vertical-align: top;\n",
       "    }\n",
       "\n",
       "    .dataframe thead th {\n",
       "        text-align: right;\n",
       "    }\n",
       "</style>\n",
       "<table border=\"1\" class=\"dataframe\">\n",
       "  <thead>\n",
       "    <tr style=\"text-align: right;\">\n",
       "      <th></th>\n",
       "      <th>user_id</th>\n",
       "      <th>name</th>\n",
       "      <th>age</th>\n",
       "      <th>city</th>\n",
       "      <th>subscription_type</th>\n",
       "      <th>distance</th>\n",
       "      <th>duration</th>\n",
       "      <th>date</th>\n",
       "      <th>month</th>\n",
       "      <th>minute_price</th>\n",
       "      <th>start_ride_price</th>\n",
       "      <th>subscription_fee</th>\n",
       "    </tr>\n",
       "  </thead>\n",
       "  <tbody>\n",
       "    <tr>\n",
       "      <th>0</th>\n",
       "      <td>1</td>\n",
       "      <td>Кира</td>\n",
       "      <td>22</td>\n",
       "      <td>Тюмень</td>\n",
       "      <td>ultra</td>\n",
       "      <td>4409.919140</td>\n",
       "      <td>25.599769</td>\n",
       "      <td>2021-01-01</td>\n",
       "      <td>1</td>\n",
       "      <td>6</td>\n",
       "      <td>0</td>\n",
       "      <td>199</td>\n",
       "    </tr>\n",
       "    <tr>\n",
       "      <th>1</th>\n",
       "      <td>1</td>\n",
       "      <td>Кира</td>\n",
       "      <td>22</td>\n",
       "      <td>Тюмень</td>\n",
       "      <td>ultra</td>\n",
       "      <td>2617.592153</td>\n",
       "      <td>15.816871</td>\n",
       "      <td>2021-01-18</td>\n",
       "      <td>1</td>\n",
       "      <td>6</td>\n",
       "      <td>0</td>\n",
       "      <td>199</td>\n",
       "    </tr>\n",
       "    <tr>\n",
       "      <th>2</th>\n",
       "      <td>1</td>\n",
       "      <td>Кира</td>\n",
       "      <td>22</td>\n",
       "      <td>Тюмень</td>\n",
       "      <td>ultra</td>\n",
       "      <td>754.159807</td>\n",
       "      <td>6.232113</td>\n",
       "      <td>2021-04-20</td>\n",
       "      <td>4</td>\n",
       "      <td>6</td>\n",
       "      <td>0</td>\n",
       "      <td>199</td>\n",
       "    </tr>\n",
       "    <tr>\n",
       "      <th>3</th>\n",
       "      <td>1</td>\n",
       "      <td>Кира</td>\n",
       "      <td>22</td>\n",
       "      <td>Тюмень</td>\n",
       "      <td>ultra</td>\n",
       "      <td>2694.783254</td>\n",
       "      <td>18.511000</td>\n",
       "      <td>2021-08-11</td>\n",
       "      <td>8</td>\n",
       "      <td>6</td>\n",
       "      <td>0</td>\n",
       "      <td>199</td>\n",
       "    </tr>\n",
       "    <tr>\n",
       "      <th>4</th>\n",
       "      <td>1</td>\n",
       "      <td>Кира</td>\n",
       "      <td>22</td>\n",
       "      <td>Тюмень</td>\n",
       "      <td>ultra</td>\n",
       "      <td>4028.687306</td>\n",
       "      <td>26.265803</td>\n",
       "      <td>2021-08-28</td>\n",
       "      <td>8</td>\n",
       "      <td>6</td>\n",
       "      <td>0</td>\n",
       "      <td>199</td>\n",
       "    </tr>\n",
       "    <tr>\n",
       "      <th>...</th>\n",
       "      <td>...</td>\n",
       "      <td>...</td>\n",
       "      <td>...</td>\n",
       "      <td>...</td>\n",
       "      <td>...</td>\n",
       "      <td>...</td>\n",
       "      <td>...</td>\n",
       "      <td>...</td>\n",
       "      <td>...</td>\n",
       "      <td>...</td>\n",
       "      <td>...</td>\n",
       "      <td>...</td>\n",
       "    </tr>\n",
       "    <tr>\n",
       "      <th>18063</th>\n",
       "      <td>1534</td>\n",
       "      <td>Альберт</td>\n",
       "      <td>25</td>\n",
       "      <td>Краснодар</td>\n",
       "      <td>free</td>\n",
       "      <td>3781.098080</td>\n",
       "      <td>19.822962</td>\n",
       "      <td>2021-11-04</td>\n",
       "      <td>11</td>\n",
       "      <td>8</td>\n",
       "      <td>50</td>\n",
       "      <td>0</td>\n",
       "    </tr>\n",
       "    <tr>\n",
       "      <th>18064</th>\n",
       "      <td>1534</td>\n",
       "      <td>Альберт</td>\n",
       "      <td>25</td>\n",
       "      <td>Краснодар</td>\n",
       "      <td>free</td>\n",
       "      <td>2840.423057</td>\n",
       "      <td>21.409799</td>\n",
       "      <td>2021-11-16</td>\n",
       "      <td>11</td>\n",
       "      <td>8</td>\n",
       "      <td>50</td>\n",
       "      <td>0</td>\n",
       "    </tr>\n",
       "    <tr>\n",
       "      <th>18065</th>\n",
       "      <td>1534</td>\n",
       "      <td>Альберт</td>\n",
       "      <td>25</td>\n",
       "      <td>Краснодар</td>\n",
       "      <td>free</td>\n",
       "      <td>3826.185507</td>\n",
       "      <td>18.435051</td>\n",
       "      <td>2021-11-18</td>\n",
       "      <td>11</td>\n",
       "      <td>8</td>\n",
       "      <td>50</td>\n",
       "      <td>0</td>\n",
       "    </tr>\n",
       "    <tr>\n",
       "      <th>18066</th>\n",
       "      <td>1534</td>\n",
       "      <td>Альберт</td>\n",
       "      <td>25</td>\n",
       "      <td>Краснодар</td>\n",
       "      <td>free</td>\n",
       "      <td>2902.308661</td>\n",
       "      <td>16.674362</td>\n",
       "      <td>2021-11-27</td>\n",
       "      <td>11</td>\n",
       "      <td>8</td>\n",
       "      <td>50</td>\n",
       "      <td>0</td>\n",
       "    </tr>\n",
       "    <tr>\n",
       "      <th>18067</th>\n",
       "      <td>1534</td>\n",
       "      <td>Альберт</td>\n",
       "      <td>25</td>\n",
       "      <td>Краснодар</td>\n",
       "      <td>free</td>\n",
       "      <td>2371.711192</td>\n",
       "      <td>15.893917</td>\n",
       "      <td>2021-12-29</td>\n",
       "      <td>12</td>\n",
       "      <td>8</td>\n",
       "      <td>50</td>\n",
       "      <td>0</td>\n",
       "    </tr>\n",
       "  </tbody>\n",
       "</table>\n",
       "<p>18068 rows × 12 columns</p>\n",
       "</div>"
      ],
      "text/plain": [
       "       user_id     name  age       city subscription_type     distance  \\\n",
       "0            1     Кира   22     Тюмень             ultra  4409.919140   \n",
       "1            1     Кира   22     Тюмень             ultra  2617.592153   \n",
       "2            1     Кира   22     Тюмень             ultra   754.159807   \n",
       "3            1     Кира   22     Тюмень             ultra  2694.783254   \n",
       "4            1     Кира   22     Тюмень             ultra  4028.687306   \n",
       "...        ...      ...  ...        ...               ...          ...   \n",
       "18063     1534  Альберт   25  Краснодар              free  3781.098080   \n",
       "18064     1534  Альберт   25  Краснодар              free  2840.423057   \n",
       "18065     1534  Альберт   25  Краснодар              free  3826.185507   \n",
       "18066     1534  Альберт   25  Краснодар              free  2902.308661   \n",
       "18067     1534  Альберт   25  Краснодар              free  2371.711192   \n",
       "\n",
       "        duration       date  month  minute_price  start_ride_price  \\\n",
       "0      25.599769 2021-01-01      1             6                 0   \n",
       "1      15.816871 2021-01-18      1             6                 0   \n",
       "2       6.232113 2021-04-20      4             6                 0   \n",
       "3      18.511000 2021-08-11      8             6                 0   \n",
       "4      26.265803 2021-08-28      8             6                 0   \n",
       "...          ...        ...    ...           ...               ...   \n",
       "18063  19.822962 2021-11-04     11             8                50   \n",
       "18064  21.409799 2021-11-16     11             8                50   \n",
       "18065  18.435051 2021-11-18     11             8                50   \n",
       "18066  16.674362 2021-11-27     11             8                50   \n",
       "18067  15.893917 2021-12-29     12             8                50   \n",
       "\n",
       "       subscription_fee  \n",
       "0                   199  \n",
       "1                   199  \n",
       "2                   199  \n",
       "3                   199  \n",
       "4                   199  \n",
       "...                 ...  \n",
       "18063                 0  \n",
       "18064                 0  \n",
       "18065                 0  \n",
       "18066                 0  \n",
       "18067                 0  \n",
       "\n",
       "[18068 rows x 12 columns]"
      ]
     },
     "execution_count": 28,
     "metadata": {},
     "output_type": "execute_result"
    }
   ],
   "source": [
    "df_total = df_users.merge(df_rides, on='user_id').merge(df_subscriptions, on='subscription_type')\n",
    "df_total"
   ]
  },
  {
   "cell_type": "code",
   "execution_count": 29,
   "id": "69196ccf",
   "metadata": {
    "scrolled": true
   },
   "outputs": [
    {
     "name": "stdout",
     "output_type": "stream",
     "text": [
      "Количество строк (поездок) в 'df_rides': 18068\n",
      "Количество строк (поездок) в 'df_total': 18068\n",
      "\n",
      "Количество уникальных пользователей в 'df_users': 1534\n",
      "Количество уникальных пользователей в 'df_total': 1534\n"
     ]
    }
   ],
   "source": [
    "print(\"Количество строк (поездок) в 'df_rides':\", df_rides['user_id'].count())\n",
    "print(\"Количество строк (поездок) в 'df_total':\", df_total['user_id'].count())\n",
    "print()\n",
    "print(\"Количество уникальных пользователей в 'df_users':\", len(df_users['user_id'].unique()))\n",
    "print(\"Количество уникальных пользователей в 'df_total':\", len(df_total['user_id'].unique()))"
   ]
  },
  {
   "cell_type": "markdown",
   "id": "a4bf80bc",
   "metadata": {},
   "source": [
    "Исходные датафреймы не содержат пропусков и количество значений в них соответствует количеству в итоговом датафрейме, значит общий датафрейм не содержит пропусков."
   ]
  },
  {
   "cell_type": "markdown",
   "id": "2492331a",
   "metadata": {},
   "source": [
    "**Вернемся к аномальным значениям в duration**"
   ]
  },
  {
   "cell_type": "code",
   "execution_count": 30,
   "id": "b683fd58",
   "metadata": {
    "scrolled": true
   },
   "outputs": [
    {
     "data": {
      "text/html": [
       "<div>\n",
       "<style scoped>\n",
       "    .dataframe tbody tr th:only-of-type {\n",
       "        vertical-align: middle;\n",
       "    }\n",
       "\n",
       "    .dataframe tbody tr th {\n",
       "        vertical-align: top;\n",
       "    }\n",
       "\n",
       "    .dataframe thead th {\n",
       "        text-align: right;\n",
       "    }\n",
       "</style>\n",
       "<table border=\"1\" class=\"dataframe\">\n",
       "  <thead>\n",
       "    <tr style=\"text-align: right;\">\n",
       "      <th></th>\n",
       "      <th>user_id</th>\n",
       "      <th>name</th>\n",
       "      <th>age</th>\n",
       "      <th>city</th>\n",
       "      <th>subscription_type</th>\n",
       "      <th>distance</th>\n",
       "      <th>duration</th>\n",
       "      <th>date</th>\n",
       "      <th>month</th>\n",
       "      <th>minute_price</th>\n",
       "      <th>start_ride_price</th>\n",
       "      <th>subscription_fee</th>\n",
       "    </tr>\n",
       "  </thead>\n",
       "  <tbody>\n",
       "    <tr>\n",
       "      <th>6531</th>\n",
       "      <td>701</td>\n",
       "      <td>Иван</td>\n",
       "      <td>31</td>\n",
       "      <td>Екатеринбург</td>\n",
       "      <td>free</td>\n",
       "      <td>4196.445201</td>\n",
       "      <td>0.5</td>\n",
       "      <td>2021-08-31</td>\n",
       "      <td>8</td>\n",
       "      <td>8</td>\n",
       "      <td>50</td>\n",
       "      <td>0</td>\n",
       "    </tr>\n",
       "    <tr>\n",
       "      <th>6570</th>\n",
       "      <td>704</td>\n",
       "      <td>Мирон</td>\n",
       "      <td>29</td>\n",
       "      <td>Ростов-на-Дону</td>\n",
       "      <td>free</td>\n",
       "      <td>4830.824371</td>\n",
       "      <td>0.5</td>\n",
       "      <td>2021-10-14</td>\n",
       "      <td>10</td>\n",
       "      <td>8</td>\n",
       "      <td>50</td>\n",
       "      <td>0</td>\n",
       "    </tr>\n",
       "    <tr>\n",
       "      <th>6680</th>\n",
       "      <td>712</td>\n",
       "      <td>Дарья</td>\n",
       "      <td>28</td>\n",
       "      <td>Москва</td>\n",
       "      <td>free</td>\n",
       "      <td>4684.004397</td>\n",
       "      <td>0.5</td>\n",
       "      <td>2021-03-04</td>\n",
       "      <td>3</td>\n",
       "      <td>8</td>\n",
       "      <td>50</td>\n",
       "      <td>0</td>\n",
       "    </tr>\n",
       "    <tr>\n",
       "      <th>6695</th>\n",
       "      <td>713</td>\n",
       "      <td>Святослав</td>\n",
       "      <td>30</td>\n",
       "      <td>Краснодар</td>\n",
       "      <td>free</td>\n",
       "      <td>5215.642710</td>\n",
       "      <td>0.5</td>\n",
       "      <td>2021-02-25</td>\n",
       "      <td>2</td>\n",
       "      <td>8</td>\n",
       "      <td>50</td>\n",
       "      <td>0</td>\n",
       "    </tr>\n",
       "    <tr>\n",
       "      <th>6768</th>\n",
       "      <td>718</td>\n",
       "      <td>Владислава</td>\n",
       "      <td>31</td>\n",
       "      <td>Москва</td>\n",
       "      <td>free</td>\n",
       "      <td>5197.436649</td>\n",
       "      <td>0.5</td>\n",
       "      <td>2021-02-11</td>\n",
       "      <td>2</td>\n",
       "      <td>8</td>\n",
       "      <td>50</td>\n",
       "      <td>0</td>\n",
       "    </tr>\n",
       "  </tbody>\n",
       "</table>\n",
       "</div>"
      ],
      "text/plain": [
       "      user_id        name  age            city subscription_type     distance  \\\n",
       "6531      701        Иван   31    Екатеринбург              free  4196.445201   \n",
       "6570      704       Мирон   29  Ростов-на-Дону              free  4830.824371   \n",
       "6680      712       Дарья   28          Москва              free  4684.004397   \n",
       "6695      713   Святослав   30       Краснодар              free  5215.642710   \n",
       "6768      718  Владислава   31          Москва              free  5197.436649   \n",
       "\n",
       "      duration       date  month  minute_price  start_ride_price  \\\n",
       "6531       0.5 2021-08-31      8             8                50   \n",
       "6570       0.5 2021-10-14     10             8                50   \n",
       "6680       0.5 2021-03-04      3             8                50   \n",
       "6695       0.5 2021-02-25      2             8                50   \n",
       "6768       0.5 2021-02-11      2             8                50   \n",
       "\n",
       "      subscription_fee  \n",
       "6531                 0  \n",
       "6570                 0  \n",
       "6680                 0  \n",
       "6695                 0  \n",
       "6768                 0  "
      ]
     },
     "execution_count": 30,
     "metadata": {},
     "output_type": "execute_result"
    }
   ],
   "source": [
    "(df_total[df_total['duration'] < 1]).head()"
   ]
  },
  {
   "cell_type": "code",
   "execution_count": 31,
   "id": "93ae6199",
   "metadata": {},
   "outputs": [
    {
     "data": {
      "text/html": [
       "<div>\n",
       "<style scoped>\n",
       "    .dataframe tbody tr th:only-of-type {\n",
       "        vertical-align: middle;\n",
       "    }\n",
       "\n",
       "    .dataframe tbody tr th {\n",
       "        vertical-align: top;\n",
       "    }\n",
       "\n",
       "    .dataframe thead th {\n",
       "        text-align: right;\n",
       "    }\n",
       "</style>\n",
       "<table border=\"1\" class=\"dataframe\">\n",
       "  <thead>\n",
       "    <tr style=\"text-align: right;\">\n",
       "      <th></th>\n",
       "      <th>user_id</th>\n",
       "      <th>age</th>\n",
       "      <th>distance</th>\n",
       "      <th>duration</th>\n",
       "      <th>month</th>\n",
       "      <th>minute_price</th>\n",
       "      <th>start_ride_price</th>\n",
       "      <th>subscription_fee</th>\n",
       "    </tr>\n",
       "  </thead>\n",
       "  <tbody>\n",
       "    <tr>\n",
       "      <th>count</th>\n",
       "      <td>95.000000</td>\n",
       "      <td>95.000000</td>\n",
       "      <td>95.000000</td>\n",
       "      <td>95.0</td>\n",
       "      <td>95.000000</td>\n",
       "      <td>95.0</td>\n",
       "      <td>95.0</td>\n",
       "      <td>95.0</td>\n",
       "    </tr>\n",
       "    <tr>\n",
       "      <th>mean</th>\n",
       "      <td>1092.210526</td>\n",
       "      <td>25.442105</td>\n",
       "      <td>5113.176549</td>\n",
       "      <td>0.5</td>\n",
       "      <td>6.484211</td>\n",
       "      <td>8.0</td>\n",
       "      <td>50.0</td>\n",
       "      <td>0.0</td>\n",
       "    </tr>\n",
       "    <tr>\n",
       "      <th>std</th>\n",
       "      <td>244.028551</td>\n",
       "      <td>4.350876</td>\n",
       "      <td>658.254104</td>\n",
       "      <td>0.0</td>\n",
       "      <td>3.709858</td>\n",
       "      <td>0.0</td>\n",
       "      <td>0.0</td>\n",
       "      <td>0.0</td>\n",
       "    </tr>\n",
       "    <tr>\n",
       "      <th>min</th>\n",
       "      <td>701.000000</td>\n",
       "      <td>13.000000</td>\n",
       "      <td>4030.308008</td>\n",
       "      <td>0.5</td>\n",
       "      <td>1.000000</td>\n",
       "      <td>8.0</td>\n",
       "      <td>50.0</td>\n",
       "      <td>0.0</td>\n",
       "    </tr>\n",
       "    <tr>\n",
       "      <th>25%</th>\n",
       "      <td>901.000000</td>\n",
       "      <td>22.500000</td>\n",
       "      <td>4611.510820</td>\n",
       "      <td>0.5</td>\n",
       "      <td>3.000000</td>\n",
       "      <td>8.0</td>\n",
       "      <td>50.0</td>\n",
       "      <td>0.0</td>\n",
       "    </tr>\n",
       "    <tr>\n",
       "      <th>50%</th>\n",
       "      <td>1069.000000</td>\n",
       "      <td>25.000000</td>\n",
       "      <td>5052.769411</td>\n",
       "      <td>0.5</td>\n",
       "      <td>6.000000</td>\n",
       "      <td>8.0</td>\n",
       "      <td>50.0</td>\n",
       "      <td>0.0</td>\n",
       "    </tr>\n",
       "    <tr>\n",
       "      <th>75%</th>\n",
       "      <td>1310.500000</td>\n",
       "      <td>29.000000</td>\n",
       "      <td>5488.459099</td>\n",
       "      <td>0.5</td>\n",
       "      <td>10.000000</td>\n",
       "      <td>8.0</td>\n",
       "      <td>50.0</td>\n",
       "      <td>0.0</td>\n",
       "    </tr>\n",
       "    <tr>\n",
       "      <th>max</th>\n",
       "      <td>1524.000000</td>\n",
       "      <td>36.000000</td>\n",
       "      <td>7211.007745</td>\n",
       "      <td>0.5</td>\n",
       "      <td>12.000000</td>\n",
       "      <td>8.0</td>\n",
       "      <td>50.0</td>\n",
       "      <td>0.0</td>\n",
       "    </tr>\n",
       "  </tbody>\n",
       "</table>\n",
       "</div>"
      ],
      "text/plain": [
       "           user_id        age     distance  duration      month  minute_price  \\\n",
       "count    95.000000  95.000000    95.000000      95.0  95.000000          95.0   \n",
       "mean   1092.210526  25.442105  5113.176549       0.5   6.484211           8.0   \n",
       "std     244.028551   4.350876   658.254104       0.0   3.709858           0.0   \n",
       "min     701.000000  13.000000  4030.308008       0.5   1.000000           8.0   \n",
       "25%     901.000000  22.500000  4611.510820       0.5   3.000000           8.0   \n",
       "50%    1069.000000  25.000000  5052.769411       0.5   6.000000           8.0   \n",
       "75%    1310.500000  29.000000  5488.459099       0.5  10.000000           8.0   \n",
       "max    1524.000000  36.000000  7211.007745       0.5  12.000000           8.0   \n",
       "\n",
       "       start_ride_price  subscription_fee  \n",
       "count              95.0              95.0  \n",
       "mean               50.0               0.0  \n",
       "std                 0.0               0.0  \n",
       "min                50.0               0.0  \n",
       "25%                50.0               0.0  \n",
       "50%                50.0               0.0  \n",
       "75%                50.0               0.0  \n",
       "max                50.0               0.0  "
      ]
     },
     "execution_count": 31,
     "metadata": {},
     "output_type": "execute_result"
    }
   ],
   "source": [
    "(df_total[df_total['duration'] < 1]).describe()"
   ]
  },
  {
   "cell_type": "code",
   "execution_count": 32,
   "id": "213c636f",
   "metadata": {},
   "outputs": [
    {
     "data": {
      "text/plain": [
       "free    95\n",
       "Name: subscription_type, dtype: int64"
      ]
     },
     "execution_count": 32,
     "metadata": {},
     "output_type": "execute_result"
    }
   ],
   "source": [
    "df_total[df_total['duration'] < 1]['subscription_type'].value_counts()"
   ]
  },
  {
   "cell_type": "code",
   "execution_count": 33,
   "id": "dcc3d126",
   "metadata": {},
   "outputs": [
    {
     "data": {
      "text/html": [
       "<div>\n",
       "<style scoped>\n",
       "    .dataframe tbody tr th:only-of-type {\n",
       "        vertical-align: middle;\n",
       "    }\n",
       "\n",
       "    .dataframe tbody tr th {\n",
       "        vertical-align: top;\n",
       "    }\n",
       "\n",
       "    .dataframe thead th {\n",
       "        text-align: right;\n",
       "    }\n",
       "</style>\n",
       "<table border=\"1\" class=\"dataframe\">\n",
       "  <thead>\n",
       "    <tr style=\"text-align: right;\">\n",
       "      <th></th>\n",
       "      <th>user_id</th>\n",
       "      <th>name</th>\n",
       "      <th>age</th>\n",
       "      <th>city</th>\n",
       "      <th>subscription_type</th>\n",
       "      <th>distance</th>\n",
       "      <th>duration</th>\n",
       "      <th>date</th>\n",
       "      <th>month</th>\n",
       "      <th>minute_price</th>\n",
       "      <th>start_ride_price</th>\n",
       "      <th>subscription_fee</th>\n",
       "    </tr>\n",
       "  </thead>\n",
       "  <tbody>\n",
       "    <tr>\n",
       "      <th>10217</th>\n",
       "      <td>973</td>\n",
       "      <td>Александр</td>\n",
       "      <td>27</td>\n",
       "      <td>Омск</td>\n",
       "      <td>free</td>\n",
       "      <td>4578.711073</td>\n",
       "      <td>0.5</td>\n",
       "      <td>2021-03-01</td>\n",
       "      <td>3</td>\n",
       "      <td>8</td>\n",
       "      <td>50</td>\n",
       "      <td>0</td>\n",
       "    </tr>\n",
       "    <tr>\n",
       "      <th>10229</th>\n",
       "      <td>973</td>\n",
       "      <td>Александр</td>\n",
       "      <td>27</td>\n",
       "      <td>Омск</td>\n",
       "      <td>free</td>\n",
       "      <td>5052.769411</td>\n",
       "      <td>0.5</td>\n",
       "      <td>2021-11-27</td>\n",
       "      <td>11</td>\n",
       "      <td>8</td>\n",
       "      <td>50</td>\n",
       "      <td>0</td>\n",
       "    </tr>\n",
       "    <tr>\n",
       "      <th>10698</th>\n",
       "      <td>1007</td>\n",
       "      <td>Жанна</td>\n",
       "      <td>33</td>\n",
       "      <td>Пятигорск</td>\n",
       "      <td>free</td>\n",
       "      <td>5245.629783</td>\n",
       "      <td>0.5</td>\n",
       "      <td>2021-04-12</td>\n",
       "      <td>4</td>\n",
       "      <td>8</td>\n",
       "      <td>50</td>\n",
       "      <td>0</td>\n",
       "    </tr>\n",
       "    <tr>\n",
       "      <th>10699</th>\n",
       "      <td>1007</td>\n",
       "      <td>Жанна</td>\n",
       "      <td>33</td>\n",
       "      <td>Пятигорск</td>\n",
       "      <td>free</td>\n",
       "      <td>4633.256106</td>\n",
       "      <td>0.5</td>\n",
       "      <td>2021-04-27</td>\n",
       "      <td>4</td>\n",
       "      <td>8</td>\n",
       "      <td>50</td>\n",
       "      <td>0</td>\n",
       "    </tr>\n",
       "    <tr>\n",
       "      <th>13698</th>\n",
       "      <td>1224</td>\n",
       "      <td>Александр</td>\n",
       "      <td>25</td>\n",
       "      <td>Пятигорск</td>\n",
       "      <td>free</td>\n",
       "      <td>4430.510768</td>\n",
       "      <td>0.5</td>\n",
       "      <td>2021-01-15</td>\n",
       "      <td>1</td>\n",
       "      <td>8</td>\n",
       "      <td>50</td>\n",
       "      <td>0</td>\n",
       "    </tr>\n",
       "    <tr>\n",
       "      <th>13701</th>\n",
       "      <td>1224</td>\n",
       "      <td>Александр</td>\n",
       "      <td>25</td>\n",
       "      <td>Пятигорск</td>\n",
       "      <td>free</td>\n",
       "      <td>6414.516026</td>\n",
       "      <td>0.5</td>\n",
       "      <td>2021-07-15</td>\n",
       "      <td>7</td>\n",
       "      <td>8</td>\n",
       "      <td>50</td>\n",
       "      <td>0</td>\n",
       "    </tr>\n",
       "    <tr>\n",
       "      <th>13976</th>\n",
       "      <td>1243</td>\n",
       "      <td>Эдуард</td>\n",
       "      <td>31</td>\n",
       "      <td>Москва</td>\n",
       "      <td>free</td>\n",
       "      <td>4434.740681</td>\n",
       "      <td>0.5</td>\n",
       "      <td>2021-05-31</td>\n",
       "      <td>5</td>\n",
       "      <td>8</td>\n",
       "      <td>50</td>\n",
       "      <td>0</td>\n",
       "    </tr>\n",
       "    <tr>\n",
       "      <th>13979</th>\n",
       "      <td>1243</td>\n",
       "      <td>Эдуард</td>\n",
       "      <td>31</td>\n",
       "      <td>Москва</td>\n",
       "      <td>free</td>\n",
       "      <td>5095.432818</td>\n",
       "      <td>0.5</td>\n",
       "      <td>2021-12-02</td>\n",
       "      <td>12</td>\n",
       "      <td>8</td>\n",
       "      <td>50</td>\n",
       "      <td>0</td>\n",
       "    </tr>\n",
       "    <tr>\n",
       "      <th>15629</th>\n",
       "      <td>1364</td>\n",
       "      <td>Ян</td>\n",
       "      <td>31</td>\n",
       "      <td>Тюмень</td>\n",
       "      <td>free</td>\n",
       "      <td>4375.042408</td>\n",
       "      <td>0.5</td>\n",
       "      <td>2021-10-23</td>\n",
       "      <td>10</td>\n",
       "      <td>8</td>\n",
       "      <td>50</td>\n",
       "      <td>0</td>\n",
       "    </tr>\n",
       "    <tr>\n",
       "      <th>15636</th>\n",
       "      <td>1364</td>\n",
       "      <td>Ян</td>\n",
       "      <td>31</td>\n",
       "      <td>Тюмень</td>\n",
       "      <td>free</td>\n",
       "      <td>4697.638430</td>\n",
       "      <td>0.5</td>\n",
       "      <td>2021-12-20</td>\n",
       "      <td>12</td>\n",
       "      <td>8</td>\n",
       "      <td>50</td>\n",
       "      <td>0</td>\n",
       "    </tr>\n",
       "  </tbody>\n",
       "</table>\n",
       "</div>"
      ],
      "text/plain": [
       "       user_id       name  age       city subscription_type     distance  \\\n",
       "10217      973  Александр   27       Омск              free  4578.711073   \n",
       "10229      973  Александр   27       Омск              free  5052.769411   \n",
       "10698     1007      Жанна   33  Пятигорск              free  5245.629783   \n",
       "10699     1007      Жанна   33  Пятигорск              free  4633.256106   \n",
       "13698     1224  Александр   25  Пятигорск              free  4430.510768   \n",
       "13701     1224  Александр   25  Пятигорск              free  6414.516026   \n",
       "13976     1243     Эдуард   31     Москва              free  4434.740681   \n",
       "13979     1243     Эдуард   31     Москва              free  5095.432818   \n",
       "15629     1364         Ян   31     Тюмень              free  4375.042408   \n",
       "15636     1364         Ян   31     Тюмень              free  4697.638430   \n",
       "\n",
       "       duration       date  month  minute_price  start_ride_price  \\\n",
       "10217       0.5 2021-03-01      3             8                50   \n",
       "10229       0.5 2021-11-27     11             8                50   \n",
       "10698       0.5 2021-04-12      4             8                50   \n",
       "10699       0.5 2021-04-27      4             8                50   \n",
       "13698       0.5 2021-01-15      1             8                50   \n",
       "13701       0.5 2021-07-15      7             8                50   \n",
       "13976       0.5 2021-05-31      5             8                50   \n",
       "13979       0.5 2021-12-02     12             8                50   \n",
       "15629       0.5 2021-10-23     10             8                50   \n",
       "15636       0.5 2021-12-20     12             8                50   \n",
       "\n",
       "       subscription_fee  \n",
       "10217                 0  \n",
       "10229                 0  \n",
       "10698                 0  \n",
       "10699                 0  \n",
       "13698                 0  \n",
       "13701                 0  \n",
       "13976                 0  \n",
       "13979                 0  \n",
       "15629                 0  \n",
       "15636                 0  "
      ]
     },
     "execution_count": 33,
     "metadata": {},
     "output_type": "execute_result"
    }
   ],
   "source": [
    "df_total[df_total['duration'] < 1].loc[\n",
    "    df_total[df_total['duration'] < 1]['user_id'].duplicated(keep=False)\n",
    "]"
   ]
  },
  {
   "cell_type": "code",
   "execution_count": 34,
   "id": "3841cec8",
   "metadata": {},
   "outputs": [
    {
     "data": {
      "text/html": [
       "<div>\n",
       "<style scoped>\n",
       "    .dataframe tbody tr th:only-of-type {\n",
       "        vertical-align: middle;\n",
       "    }\n",
       "\n",
       "    .dataframe tbody tr th {\n",
       "        vertical-align: top;\n",
       "    }\n",
       "\n",
       "    .dataframe thead th {\n",
       "        text-align: right;\n",
       "    }\n",
       "</style>\n",
       "<table border=\"1\" class=\"dataframe\">\n",
       "  <thead>\n",
       "    <tr style=\"text-align: right;\">\n",
       "      <th></th>\n",
       "      <th>user_id</th>\n",
       "      <th>name</th>\n",
       "      <th>age</th>\n",
       "      <th>city</th>\n",
       "      <th>subscription_type</th>\n",
       "      <th>distance</th>\n",
       "      <th>duration</th>\n",
       "      <th>date</th>\n",
       "      <th>month</th>\n",
       "      <th>minute_price</th>\n",
       "      <th>start_ride_price</th>\n",
       "      <th>subscription_fee</th>\n",
       "    </tr>\n",
       "  </thead>\n",
       "  <tbody>\n",
       "    <tr>\n",
       "      <th>6518</th>\n",
       "      <td>701</td>\n",
       "      <td>Иван</td>\n",
       "      <td>31</td>\n",
       "      <td>Екатеринбург</td>\n",
       "      <td>free</td>\n",
       "      <td>2676.472894</td>\n",
       "      <td>17.470598</td>\n",
       "      <td>2021-01-23</td>\n",
       "      <td>1</td>\n",
       "      <td>8</td>\n",
       "      <td>50</td>\n",
       "      <td>0</td>\n",
       "    </tr>\n",
       "    <tr>\n",
       "      <th>6519</th>\n",
       "      <td>701</td>\n",
       "      <td>Иван</td>\n",
       "      <td>31</td>\n",
       "      <td>Екатеринбург</td>\n",
       "      <td>free</td>\n",
       "      <td>2743.677431</td>\n",
       "      <td>14.974710</td>\n",
       "      <td>2021-02-13</td>\n",
       "      <td>2</td>\n",
       "      <td>8</td>\n",
       "      <td>50</td>\n",
       "      <td>0</td>\n",
       "    </tr>\n",
       "    <tr>\n",
       "      <th>6520</th>\n",
       "      <td>701</td>\n",
       "      <td>Иван</td>\n",
       "      <td>31</td>\n",
       "      <td>Екатеринбург</td>\n",
       "      <td>free</td>\n",
       "      <td>2893.656575</td>\n",
       "      <td>11.891791</td>\n",
       "      <td>2021-02-20</td>\n",
       "      <td>2</td>\n",
       "      <td>8</td>\n",
       "      <td>50</td>\n",
       "      <td>0</td>\n",
       "    </tr>\n",
       "    <tr>\n",
       "      <th>6521</th>\n",
       "      <td>701</td>\n",
       "      <td>Иван</td>\n",
       "      <td>31</td>\n",
       "      <td>Екатеринбург</td>\n",
       "      <td>free</td>\n",
       "      <td>2802.021357</td>\n",
       "      <td>16.008663</td>\n",
       "      <td>2021-03-12</td>\n",
       "      <td>3</td>\n",
       "      <td>8</td>\n",
       "      <td>50</td>\n",
       "      <td>0</td>\n",
       "    </tr>\n",
       "    <tr>\n",
       "      <th>6522</th>\n",
       "      <td>701</td>\n",
       "      <td>Иван</td>\n",
       "      <td>31</td>\n",
       "      <td>Екатеринбург</td>\n",
       "      <td>free</td>\n",
       "      <td>3509.012965</td>\n",
       "      <td>13.081094</td>\n",
       "      <td>2021-04-17</td>\n",
       "      <td>4</td>\n",
       "      <td>8</td>\n",
       "      <td>50</td>\n",
       "      <td>0</td>\n",
       "    </tr>\n",
       "    <tr>\n",
       "      <th>6523</th>\n",
       "      <td>701</td>\n",
       "      <td>Иван</td>\n",
       "      <td>31</td>\n",
       "      <td>Екатеринбург</td>\n",
       "      <td>free</td>\n",
       "      <td>2465.852577</td>\n",
       "      <td>14.283970</td>\n",
       "      <td>2021-05-31</td>\n",
       "      <td>5</td>\n",
       "      <td>8</td>\n",
       "      <td>50</td>\n",
       "      <td>0</td>\n",
       "    </tr>\n",
       "    <tr>\n",
       "      <th>6524</th>\n",
       "      <td>701</td>\n",
       "      <td>Иван</td>\n",
       "      <td>31</td>\n",
       "      <td>Екатеринбург</td>\n",
       "      <td>free</td>\n",
       "      <td>731.410111</td>\n",
       "      <td>6.657051</td>\n",
       "      <td>2021-06-02</td>\n",
       "      <td>6</td>\n",
       "      <td>8</td>\n",
       "      <td>50</td>\n",
       "      <td>0</td>\n",
       "    </tr>\n",
       "    <tr>\n",
       "      <th>6525</th>\n",
       "      <td>701</td>\n",
       "      <td>Иван</td>\n",
       "      <td>31</td>\n",
       "      <td>Екатеринбург</td>\n",
       "      <td>free</td>\n",
       "      <td>3903.210649</td>\n",
       "      <td>18.367706</td>\n",
       "      <td>2021-06-20</td>\n",
       "      <td>6</td>\n",
       "      <td>8</td>\n",
       "      <td>50</td>\n",
       "      <td>0</td>\n",
       "    </tr>\n",
       "    <tr>\n",
       "      <th>6526</th>\n",
       "      <td>701</td>\n",
       "      <td>Иван</td>\n",
       "      <td>31</td>\n",
       "      <td>Екатеринбург</td>\n",
       "      <td>free</td>\n",
       "      <td>3441.595717</td>\n",
       "      <td>18.978076</td>\n",
       "      <td>2021-07-04</td>\n",
       "      <td>7</td>\n",
       "      <td>8</td>\n",
       "      <td>50</td>\n",
       "      <td>0</td>\n",
       "    </tr>\n",
       "    <tr>\n",
       "      <th>6527</th>\n",
       "      <td>701</td>\n",
       "      <td>Иван</td>\n",
       "      <td>31</td>\n",
       "      <td>Екатеринбург</td>\n",
       "      <td>free</td>\n",
       "      <td>1133.584211</td>\n",
       "      <td>6.250941</td>\n",
       "      <td>2021-07-17</td>\n",
       "      <td>7</td>\n",
       "      <td>8</td>\n",
       "      <td>50</td>\n",
       "      <td>0</td>\n",
       "    </tr>\n",
       "    <tr>\n",
       "      <th>6528</th>\n",
       "      <td>701</td>\n",
       "      <td>Иван</td>\n",
       "      <td>31</td>\n",
       "      <td>Екатеринбург</td>\n",
       "      <td>free</td>\n",
       "      <td>3988.151318</td>\n",
       "      <td>20.092077</td>\n",
       "      <td>2021-07-28</td>\n",
       "      <td>7</td>\n",
       "      <td>8</td>\n",
       "      <td>50</td>\n",
       "      <td>0</td>\n",
       "    </tr>\n",
       "    <tr>\n",
       "      <th>6529</th>\n",
       "      <td>701</td>\n",
       "      <td>Иван</td>\n",
       "      <td>31</td>\n",
       "      <td>Екатеринбург</td>\n",
       "      <td>free</td>\n",
       "      <td>4407.391436</td>\n",
       "      <td>18.814783</td>\n",
       "      <td>2021-07-28</td>\n",
       "      <td>7</td>\n",
       "      <td>8</td>\n",
       "      <td>50</td>\n",
       "      <td>0</td>\n",
       "    </tr>\n",
       "    <tr>\n",
       "      <th>6530</th>\n",
       "      <td>701</td>\n",
       "      <td>Иван</td>\n",
       "      <td>31</td>\n",
       "      <td>Екатеринбург</td>\n",
       "      <td>free</td>\n",
       "      <td>3432.306093</td>\n",
       "      <td>17.441020</td>\n",
       "      <td>2021-08-31</td>\n",
       "      <td>8</td>\n",
       "      <td>8</td>\n",
       "      <td>50</td>\n",
       "      <td>0</td>\n",
       "    </tr>\n",
       "    <tr>\n",
       "      <th>6531</th>\n",
       "      <td>701</td>\n",
       "      <td>Иван</td>\n",
       "      <td>31</td>\n",
       "      <td>Екатеринбург</td>\n",
       "      <td>free</td>\n",
       "      <td>4196.445201</td>\n",
       "      <td>0.500000</td>\n",
       "      <td>2021-08-31</td>\n",
       "      <td>8</td>\n",
       "      <td>8</td>\n",
       "      <td>50</td>\n",
       "      <td>0</td>\n",
       "    </tr>\n",
       "    <tr>\n",
       "      <th>6532</th>\n",
       "      <td>701</td>\n",
       "      <td>Иван</td>\n",
       "      <td>31</td>\n",
       "      <td>Екатеринбург</td>\n",
       "      <td>free</td>\n",
       "      <td>4519.829203</td>\n",
       "      <td>15.299573</td>\n",
       "      <td>2021-09-09</td>\n",
       "      <td>9</td>\n",
       "      <td>8</td>\n",
       "      <td>50</td>\n",
       "      <td>0</td>\n",
       "    </tr>\n",
       "    <tr>\n",
       "      <th>6533</th>\n",
       "      <td>701</td>\n",
       "      <td>Иван</td>\n",
       "      <td>31</td>\n",
       "      <td>Екатеринбург</td>\n",
       "      <td>free</td>\n",
       "      <td>4139.744496</td>\n",
       "      <td>16.279489</td>\n",
       "      <td>2021-09-25</td>\n",
       "      <td>9</td>\n",
       "      <td>8</td>\n",
       "      <td>50</td>\n",
       "      <td>0</td>\n",
       "    </tr>\n",
       "    <tr>\n",
       "      <th>6534</th>\n",
       "      <td>701</td>\n",
       "      <td>Иван</td>\n",
       "      <td>31</td>\n",
       "      <td>Екатеринбург</td>\n",
       "      <td>free</td>\n",
       "      <td>4369.983302</td>\n",
       "      <td>13.041345</td>\n",
       "      <td>2021-10-22</td>\n",
       "      <td>10</td>\n",
       "      <td>8</td>\n",
       "      <td>50</td>\n",
       "      <td>0</td>\n",
       "    </tr>\n",
       "    <tr>\n",
       "      <th>6535</th>\n",
       "      <td>701</td>\n",
       "      <td>Иван</td>\n",
       "      <td>31</td>\n",
       "      <td>Екатеринбург</td>\n",
       "      <td>free</td>\n",
       "      <td>4025.276711</td>\n",
       "      <td>29.101107</td>\n",
       "      <td>2021-10-27</td>\n",
       "      <td>10</td>\n",
       "      <td>8</td>\n",
       "      <td>50</td>\n",
       "      <td>0</td>\n",
       "    </tr>\n",
       "    <tr>\n",
       "      <th>6536</th>\n",
       "      <td>701</td>\n",
       "      <td>Иван</td>\n",
       "      <td>31</td>\n",
       "      <td>Екатеринбург</td>\n",
       "      <td>free</td>\n",
       "      <td>2420.959214</td>\n",
       "      <td>9.187770</td>\n",
       "      <td>2021-12-10</td>\n",
       "      <td>12</td>\n",
       "      <td>8</td>\n",
       "      <td>50</td>\n",
       "      <td>0</td>\n",
       "    </tr>\n",
       "    <tr>\n",
       "      <th>6537</th>\n",
       "      <td>701</td>\n",
       "      <td>Иван</td>\n",
       "      <td>31</td>\n",
       "      <td>Екатеринбург</td>\n",
       "      <td>free</td>\n",
       "      <td>352.437392</td>\n",
       "      <td>12.057312</td>\n",
       "      <td>2021-12-15</td>\n",
       "      <td>12</td>\n",
       "      <td>8</td>\n",
       "      <td>50</td>\n",
       "      <td>0</td>\n",
       "    </tr>\n",
       "  </tbody>\n",
       "</table>\n",
       "</div>"
      ],
      "text/plain": [
       "      user_id  name  age          city subscription_type     distance  \\\n",
       "6518      701  Иван   31  Екатеринбург              free  2676.472894   \n",
       "6519      701  Иван   31  Екатеринбург              free  2743.677431   \n",
       "6520      701  Иван   31  Екатеринбург              free  2893.656575   \n",
       "6521      701  Иван   31  Екатеринбург              free  2802.021357   \n",
       "6522      701  Иван   31  Екатеринбург              free  3509.012965   \n",
       "6523      701  Иван   31  Екатеринбург              free  2465.852577   \n",
       "6524      701  Иван   31  Екатеринбург              free   731.410111   \n",
       "6525      701  Иван   31  Екатеринбург              free  3903.210649   \n",
       "6526      701  Иван   31  Екатеринбург              free  3441.595717   \n",
       "6527      701  Иван   31  Екатеринбург              free  1133.584211   \n",
       "6528      701  Иван   31  Екатеринбург              free  3988.151318   \n",
       "6529      701  Иван   31  Екатеринбург              free  4407.391436   \n",
       "6530      701  Иван   31  Екатеринбург              free  3432.306093   \n",
       "6531      701  Иван   31  Екатеринбург              free  4196.445201   \n",
       "6532      701  Иван   31  Екатеринбург              free  4519.829203   \n",
       "6533      701  Иван   31  Екатеринбург              free  4139.744496   \n",
       "6534      701  Иван   31  Екатеринбург              free  4369.983302   \n",
       "6535      701  Иван   31  Екатеринбург              free  4025.276711   \n",
       "6536      701  Иван   31  Екатеринбург              free  2420.959214   \n",
       "6537      701  Иван   31  Екатеринбург              free   352.437392   \n",
       "\n",
       "       duration       date  month  minute_price  start_ride_price  \\\n",
       "6518  17.470598 2021-01-23      1             8                50   \n",
       "6519  14.974710 2021-02-13      2             8                50   \n",
       "6520  11.891791 2021-02-20      2             8                50   \n",
       "6521  16.008663 2021-03-12      3             8                50   \n",
       "6522  13.081094 2021-04-17      4             8                50   \n",
       "6523  14.283970 2021-05-31      5             8                50   \n",
       "6524   6.657051 2021-06-02      6             8                50   \n",
       "6525  18.367706 2021-06-20      6             8                50   \n",
       "6526  18.978076 2021-07-04      7             8                50   \n",
       "6527   6.250941 2021-07-17      7             8                50   \n",
       "6528  20.092077 2021-07-28      7             8                50   \n",
       "6529  18.814783 2021-07-28      7             8                50   \n",
       "6530  17.441020 2021-08-31      8             8                50   \n",
       "6531   0.500000 2021-08-31      8             8                50   \n",
       "6532  15.299573 2021-09-09      9             8                50   \n",
       "6533  16.279489 2021-09-25      9             8                50   \n",
       "6534  13.041345 2021-10-22     10             8                50   \n",
       "6535  29.101107 2021-10-27     10             8                50   \n",
       "6536   9.187770 2021-12-10     12             8                50   \n",
       "6537  12.057312 2021-12-15     12             8                50   \n",
       "\n",
       "      subscription_fee  \n",
       "6518                 0  \n",
       "6519                 0  \n",
       "6520                 0  \n",
       "6521                 0  \n",
       "6522                 0  \n",
       "6523                 0  \n",
       "6524                 0  \n",
       "6525                 0  \n",
       "6526                 0  \n",
       "6527                 0  \n",
       "6528                 0  \n",
       "6529                 0  \n",
       "6530                 0  \n",
       "6531                 0  \n",
       "6532                 0  \n",
       "6533                 0  \n",
       "6534                 0  \n",
       "6535                 0  \n",
       "6536                 0  \n",
       "6537                 0  "
      ]
     },
     "execution_count": 34,
     "metadata": {},
     "output_type": "execute_result"
    }
   ],
   "source": [
    "df_total[df_total['user_id'] == 701]"
   ]
  },
  {
   "cell_type": "code",
   "execution_count": 35,
   "id": "d07130c0",
   "metadata": {},
   "outputs": [
    {
     "data": {
      "text/html": [
       "<div>\n",
       "<style scoped>\n",
       "    .dataframe tbody tr th:only-of-type {\n",
       "        vertical-align: middle;\n",
       "    }\n",
       "\n",
       "    .dataframe tbody tr th {\n",
       "        vertical-align: top;\n",
       "    }\n",
       "\n",
       "    .dataframe thead th {\n",
       "        text-align: right;\n",
       "    }\n",
       "</style>\n",
       "<table border=\"1\" class=\"dataframe\">\n",
       "  <thead>\n",
       "    <tr style=\"text-align: right;\">\n",
       "      <th></th>\n",
       "      <th>user_id</th>\n",
       "      <th>name</th>\n",
       "      <th>age</th>\n",
       "      <th>city</th>\n",
       "      <th>subscription_type</th>\n",
       "      <th>distance</th>\n",
       "      <th>duration</th>\n",
       "      <th>date</th>\n",
       "      <th>month</th>\n",
       "      <th>minute_price</th>\n",
       "      <th>start_ride_price</th>\n",
       "      <th>subscription_fee</th>\n",
       "    </tr>\n",
       "  </thead>\n",
       "  <tbody>\n",
       "    <tr>\n",
       "      <th>6693</th>\n",
       "      <td>713</td>\n",
       "      <td>Святослав</td>\n",
       "      <td>30</td>\n",
       "      <td>Краснодар</td>\n",
       "      <td>free</td>\n",
       "      <td>3269.315495</td>\n",
       "      <td>10.846357</td>\n",
       "      <td>2021-01-09</td>\n",
       "      <td>1</td>\n",
       "      <td>8</td>\n",
       "      <td>50</td>\n",
       "      <td>0</td>\n",
       "    </tr>\n",
       "    <tr>\n",
       "      <th>6694</th>\n",
       "      <td>713</td>\n",
       "      <td>Святослав</td>\n",
       "      <td>30</td>\n",
       "      <td>Краснодар</td>\n",
       "      <td>free</td>\n",
       "      <td>2048.902905</td>\n",
       "      <td>20.146709</td>\n",
       "      <td>2021-01-23</td>\n",
       "      <td>1</td>\n",
       "      <td>8</td>\n",
       "      <td>50</td>\n",
       "      <td>0</td>\n",
       "    </tr>\n",
       "    <tr>\n",
       "      <th>6695</th>\n",
       "      <td>713</td>\n",
       "      <td>Святослав</td>\n",
       "      <td>30</td>\n",
       "      <td>Краснодар</td>\n",
       "      <td>free</td>\n",
       "      <td>5215.642710</td>\n",
       "      <td>0.500000</td>\n",
       "      <td>2021-02-25</td>\n",
       "      <td>2</td>\n",
       "      <td>8</td>\n",
       "      <td>50</td>\n",
       "      <td>0</td>\n",
       "    </tr>\n",
       "    <tr>\n",
       "      <th>6696</th>\n",
       "      <td>713</td>\n",
       "      <td>Святослав</td>\n",
       "      <td>30</td>\n",
       "      <td>Краснодар</td>\n",
       "      <td>free</td>\n",
       "      <td>2172.023319</td>\n",
       "      <td>14.859021</td>\n",
       "      <td>2021-04-11</td>\n",
       "      <td>4</td>\n",
       "      <td>8</td>\n",
       "      <td>50</td>\n",
       "      <td>0</td>\n",
       "    </tr>\n",
       "    <tr>\n",
       "      <th>6697</th>\n",
       "      <td>713</td>\n",
       "      <td>Святослав</td>\n",
       "      <td>30</td>\n",
       "      <td>Краснодар</td>\n",
       "      <td>free</td>\n",
       "      <td>3917.557415</td>\n",
       "      <td>26.081034</td>\n",
       "      <td>2021-05-03</td>\n",
       "      <td>5</td>\n",
       "      <td>8</td>\n",
       "      <td>50</td>\n",
       "      <td>0</td>\n",
       "    </tr>\n",
       "    <tr>\n",
       "      <th>6698</th>\n",
       "      <td>713</td>\n",
       "      <td>Святослав</td>\n",
       "      <td>30</td>\n",
       "      <td>Краснодар</td>\n",
       "      <td>free</td>\n",
       "      <td>1824.841240</td>\n",
       "      <td>15.213832</td>\n",
       "      <td>2021-05-23</td>\n",
       "      <td>5</td>\n",
       "      <td>8</td>\n",
       "      <td>50</td>\n",
       "      <td>0</td>\n",
       "    </tr>\n",
       "    <tr>\n",
       "      <th>6699</th>\n",
       "      <td>713</td>\n",
       "      <td>Святослав</td>\n",
       "      <td>30</td>\n",
       "      <td>Краснодар</td>\n",
       "      <td>free</td>\n",
       "      <td>195.694445</td>\n",
       "      <td>12.559127</td>\n",
       "      <td>2021-08-02</td>\n",
       "      <td>8</td>\n",
       "      <td>8</td>\n",
       "      <td>50</td>\n",
       "      <td>0</td>\n",
       "    </tr>\n",
       "    <tr>\n",
       "      <th>6700</th>\n",
       "      <td>713</td>\n",
       "      <td>Святослав</td>\n",
       "      <td>30</td>\n",
       "      <td>Краснодар</td>\n",
       "      <td>free</td>\n",
       "      <td>2673.846504</td>\n",
       "      <td>10.292309</td>\n",
       "      <td>2021-08-22</td>\n",
       "      <td>8</td>\n",
       "      <td>8</td>\n",
       "      <td>50</td>\n",
       "      <td>0</td>\n",
       "    </tr>\n",
       "    <tr>\n",
       "      <th>6701</th>\n",
       "      <td>713</td>\n",
       "      <td>Святослав</td>\n",
       "      <td>30</td>\n",
       "      <td>Краснодар</td>\n",
       "      <td>free</td>\n",
       "      <td>2289.062108</td>\n",
       "      <td>10.735991</td>\n",
       "      <td>2021-09-03</td>\n",
       "      <td>9</td>\n",
       "      <td>8</td>\n",
       "      <td>50</td>\n",
       "      <td>0</td>\n",
       "    </tr>\n",
       "    <tr>\n",
       "      <th>6702</th>\n",
       "      <td>713</td>\n",
       "      <td>Святослав</td>\n",
       "      <td>30</td>\n",
       "      <td>Краснодар</td>\n",
       "      <td>free</td>\n",
       "      <td>2816.033461</td>\n",
       "      <td>13.448100</td>\n",
       "      <td>2021-09-10</td>\n",
       "      <td>9</td>\n",
       "      <td>8</td>\n",
       "      <td>50</td>\n",
       "      <td>0</td>\n",
       "    </tr>\n",
       "    <tr>\n",
       "      <th>6703</th>\n",
       "      <td>713</td>\n",
       "      <td>Святослав</td>\n",
       "      <td>30</td>\n",
       "      <td>Краснодар</td>\n",
       "      <td>free</td>\n",
       "      <td>802.069323</td>\n",
       "      <td>8.208277</td>\n",
       "      <td>2021-09-10</td>\n",
       "      <td>9</td>\n",
       "      <td>8</td>\n",
       "      <td>50</td>\n",
       "      <td>0</td>\n",
       "    </tr>\n",
       "    <tr>\n",
       "      <th>6704</th>\n",
       "      <td>713</td>\n",
       "      <td>Святослав</td>\n",
       "      <td>30</td>\n",
       "      <td>Краснодар</td>\n",
       "      <td>free</td>\n",
       "      <td>3296.083556</td>\n",
       "      <td>13.063036</td>\n",
       "      <td>2021-10-21</td>\n",
       "      <td>10</td>\n",
       "      <td>8</td>\n",
       "      <td>50</td>\n",
       "      <td>0</td>\n",
       "    </tr>\n",
       "    <tr>\n",
       "      <th>6705</th>\n",
       "      <td>713</td>\n",
       "      <td>Святослав</td>\n",
       "      <td>30</td>\n",
       "      <td>Краснодар</td>\n",
       "      <td>free</td>\n",
       "      <td>2223.170062</td>\n",
       "      <td>17.940378</td>\n",
       "      <td>2021-11-19</td>\n",
       "      <td>11</td>\n",
       "      <td>8</td>\n",
       "      <td>50</td>\n",
       "      <td>0</td>\n",
       "    </tr>\n",
       "    <tr>\n",
       "      <th>6706</th>\n",
       "      <td>713</td>\n",
       "      <td>Святослав</td>\n",
       "      <td>30</td>\n",
       "      <td>Краснодар</td>\n",
       "      <td>free</td>\n",
       "      <td>4202.170481</td>\n",
       "      <td>21.808682</td>\n",
       "      <td>2021-12-19</td>\n",
       "      <td>12</td>\n",
       "      <td>8</td>\n",
       "      <td>50</td>\n",
       "      <td>0</td>\n",
       "    </tr>\n",
       "  </tbody>\n",
       "</table>\n",
       "</div>"
      ],
      "text/plain": [
       "      user_id       name  age       city subscription_type     distance  \\\n",
       "6693      713  Святослав   30  Краснодар              free  3269.315495   \n",
       "6694      713  Святослав   30  Краснодар              free  2048.902905   \n",
       "6695      713  Святослав   30  Краснодар              free  5215.642710   \n",
       "6696      713  Святослав   30  Краснодар              free  2172.023319   \n",
       "6697      713  Святослав   30  Краснодар              free  3917.557415   \n",
       "6698      713  Святослав   30  Краснодар              free  1824.841240   \n",
       "6699      713  Святослав   30  Краснодар              free   195.694445   \n",
       "6700      713  Святослав   30  Краснодар              free  2673.846504   \n",
       "6701      713  Святослав   30  Краснодар              free  2289.062108   \n",
       "6702      713  Святослав   30  Краснодар              free  2816.033461   \n",
       "6703      713  Святослав   30  Краснодар              free   802.069323   \n",
       "6704      713  Святослав   30  Краснодар              free  3296.083556   \n",
       "6705      713  Святослав   30  Краснодар              free  2223.170062   \n",
       "6706      713  Святослав   30  Краснодар              free  4202.170481   \n",
       "\n",
       "       duration       date  month  minute_price  start_ride_price  \\\n",
       "6693  10.846357 2021-01-09      1             8                50   \n",
       "6694  20.146709 2021-01-23      1             8                50   \n",
       "6695   0.500000 2021-02-25      2             8                50   \n",
       "6696  14.859021 2021-04-11      4             8                50   \n",
       "6697  26.081034 2021-05-03      5             8                50   \n",
       "6698  15.213832 2021-05-23      5             8                50   \n",
       "6699  12.559127 2021-08-02      8             8                50   \n",
       "6700  10.292309 2021-08-22      8             8                50   \n",
       "6701  10.735991 2021-09-03      9             8                50   \n",
       "6702  13.448100 2021-09-10      9             8                50   \n",
       "6703   8.208277 2021-09-10      9             8                50   \n",
       "6704  13.063036 2021-10-21     10             8                50   \n",
       "6705  17.940378 2021-11-19     11             8                50   \n",
       "6706  21.808682 2021-12-19     12             8                50   \n",
       "\n",
       "      subscription_fee  \n",
       "6693                 0  \n",
       "6694                 0  \n",
       "6695                 0  \n",
       "6696                 0  \n",
       "6697                 0  \n",
       "6698                 0  \n",
       "6699                 0  \n",
       "6700                 0  \n",
       "6701                 0  \n",
       "6702                 0  \n",
       "6703                 0  \n",
       "6704                 0  \n",
       "6705                 0  \n",
       "6706                 0  "
      ]
     },
     "execution_count": 35,
     "metadata": {},
     "output_type": "execute_result"
    }
   ],
   "source": [
    "df_total[df_total['user_id'] == 713]"
   ]
  },
  {
   "cell_type": "markdown",
   "id": "bf419ee2",
   "metadata": {},
   "source": [
    "Гипотезы пояления 0,5 в продолжительности поездки:\n",
    "1) так сокращается ровно 30 минут, так как нет поездок ровно с 30 минутами \n",
    "минимальное расстояние в рассматриваемом срезе 4030, что равно поездке со средней скоростью 8.06 км/ч, а максимальное - 7211, 14.42 км/ч. Оба значения реалистичны для кикшеринга. \n",
    "2) у пользователей был промокод на поездку, а так как оплата списывается поминутно, а 0,5 - это заглушка\n",
    "- обычно подобные промокоды выдают новым пользователям, но в нашем срезе первый встречающийся id является постоянным клиентом, также стоит снова обратить внимание минимальное расстояние - 4030, если бы это были промокоды для новых пользователей, точно были бы очень короткие поездки людей, которым не подошел этот вид транспорта.\n",
    "- можно представить промокод, который выдается за какие-либо извинения от сервиса, например, неисправность уже арендованного самоката, либо в качестве бонуса от сервиса, например, привязка карты определенного банка-партнера\n",
    "\n",
    "Для точного подтверждения гипотезы нам не хватает данных, так как в нашем срезе есть 5 пользователей, у которых такая длительность дважды, а вероятность, что поездка ровно у одного человека будет дважды 30 минут 00 секунд крайне мала. Оставим данные как есть. "
   ]
  },
  {
   "cell_type": "markdown",
   "id": "500ed441",
   "metadata": {},
   "source": [
    "**4.2 Создадим ещё два датафрейма из датафрейма, созданного на этапе 4.1:**\n",
    "\n",
    "**c данными о пользователях без подписки;**\n",
    "\n",
    "**с данными о пользователях с подпиской.**"
   ]
  },
  {
   "cell_type": "code",
   "execution_count": 36,
   "id": "6ad8531d",
   "metadata": {},
   "outputs": [],
   "source": [
    "#датафрейм данных с пользователями с подпиской\n",
    "df_ultra = df_total.loc[df_total['subscription_type'] == 'ultra']\n",
    "#датафрейм данных с пользователями без подписки\n",
    "df_free = df_total.loc[df_total['subscription_type'] == 'free']"
   ]
  },
  {
   "cell_type": "code",
   "execution_count": 37,
   "id": "a85b4bef",
   "metadata": {},
   "outputs": [
    {
     "name": "stdout",
     "output_type": "stream",
     "text": [
      "<class 'pandas.core.frame.DataFrame'>\n",
      "Int64Index: 6500 entries, 0 to 6499\n",
      "Data columns (total 12 columns):\n",
      " #   Column             Non-Null Count  Dtype         \n",
      "---  ------             --------------  -----         \n",
      " 0   user_id            6500 non-null   int64         \n",
      " 1   name               6500 non-null   object        \n",
      " 2   age                6500 non-null   int64         \n",
      " 3   city               6500 non-null   object        \n",
      " 4   subscription_type  6500 non-null   object        \n",
      " 5   distance           6500 non-null   float64       \n",
      " 6   duration           6500 non-null   float64       \n",
      " 7   date               6500 non-null   datetime64[ns]\n",
      " 8   month              6500 non-null   int64         \n",
      " 9   minute_price       6500 non-null   int64         \n",
      " 10  start_ride_price   6500 non-null   int64         \n",
      " 11  subscription_fee   6500 non-null   int64         \n",
      "dtypes: datetime64[ns](1), float64(2), int64(6), object(3)\n",
      "memory usage: 660.2+ KB\n"
     ]
    }
   ],
   "source": [
    "df_ultra.info()"
   ]
  },
  {
   "cell_type": "code",
   "execution_count": 38,
   "id": "53049e0a",
   "metadata": {},
   "outputs": [
    {
     "name": "stdout",
     "output_type": "stream",
     "text": [
      "<class 'pandas.core.frame.DataFrame'>\n",
      "Int64Index: 11568 entries, 6500 to 18067\n",
      "Data columns (total 12 columns):\n",
      " #   Column             Non-Null Count  Dtype         \n",
      "---  ------             --------------  -----         \n",
      " 0   user_id            11568 non-null  int64         \n",
      " 1   name               11568 non-null  object        \n",
      " 2   age                11568 non-null  int64         \n",
      " 3   city               11568 non-null  object        \n",
      " 4   subscription_type  11568 non-null  object        \n",
      " 5   distance           11568 non-null  float64       \n",
      " 6   duration           11568 non-null  float64       \n",
      " 7   date               11568 non-null  datetime64[ns]\n",
      " 8   month              11568 non-null  int64         \n",
      " 9   minute_price       11568 non-null  int64         \n",
      " 10  start_ride_price   11568 non-null  int64         \n",
      " 11  subscription_fee   11568 non-null  int64         \n",
      "dtypes: datetime64[ns](1), float64(2), int64(6), object(3)\n",
      "memory usage: 1.1+ MB\n"
     ]
    }
   ],
   "source": [
    "df_free.info()"
   ]
  },
  {
   "cell_type": "markdown",
   "id": "c01f2ad2",
   "metadata": {},
   "source": [
    "**4.3 Визуализируем информацию о расстоянии и времени поездок для пользователей обеих категорий.**"
   ]
  },
  {
   "cell_type": "code",
   "execution_count": 39,
   "id": "a5eeb1bd",
   "metadata": {},
   "outputs": [
    {
     "data": {
      "image/png": "[encoded data removed]",
      "text/plain": [
       "<Figure size 576x360 with 1 Axes>"
      ]
     },
     "metadata": {
      "needs_background": "light"
     },
     "output_type": "display_data"
    }
   ],
   "source": [
    "ax = df_free['distance'].plot(kind = 'hist', grid=True, figsize = (8,5), color='purple', bins = 40, label='без подписки')\n",
    "ax = df_ultra['distance'].plot(kind = 'hist', grid=True, figsize = (8,5), color='green', bins = 40, label='с подпиской Ultra')\n",
    "plt.title('Расстояние одной поездки для пользователей с подпиской и без')\n",
    "plt.xlabel('Расстояние (м)')\n",
    "plt.ylabel('Количество поездок')\n",
    "plt.legend(loc='upper right')\n",
    "plt.show()"
   ]
  },
  {
   "cell_type": "code",
   "execution_count": 40,
   "id": "ee994042",
   "metadata": {
    "scrolled": true
   },
   "outputs": [
    {
     "data": {
      "text/html": [
       "<div>\n",
       "<style scoped>\n",
       "    .dataframe tbody tr th:only-of-type {\n",
       "        vertical-align: middle;\n",
       "    }\n",
       "\n",
       "    .dataframe tbody tr th {\n",
       "        vertical-align: top;\n",
       "    }\n",
       "\n",
       "    .dataframe thead th {\n",
       "        text-align: right;\n",
       "    }\n",
       "</style>\n",
       "<table border=\"1\" class=\"dataframe\">\n",
       "  <thead>\n",
       "    <tr style=\"text-align: right;\">\n",
       "      <th></th>\n",
       "      <th>Ultra</th>\n",
       "      <th>Free</th>\n",
       "    </tr>\n",
       "  </thead>\n",
       "  <tbody>\n",
       "    <tr>\n",
       "      <th>count</th>\n",
       "      <td>6500.000000</td>\n",
       "      <td>11568.000000</td>\n",
       "    </tr>\n",
       "    <tr>\n",
       "      <th>mean</th>\n",
       "      <td>3115.445388</td>\n",
       "      <td>3045.495282</td>\n",
       "    </tr>\n",
       "    <tr>\n",
       "      <th>std</th>\n",
       "      <td>836.895330</td>\n",
       "      <td>1246.173806</td>\n",
       "    </tr>\n",
       "    <tr>\n",
       "      <th>min</th>\n",
       "      <td>244.210438</td>\n",
       "      <td>0.855683</td>\n",
       "    </tr>\n",
       "    <tr>\n",
       "      <th>25%</th>\n",
       "      <td>2785.444017</td>\n",
       "      <td>2366.562689</td>\n",
       "    </tr>\n",
       "    <tr>\n",
       "      <th>50%</th>\n",
       "      <td>3148.637229</td>\n",
       "      <td>3114.648465</td>\n",
       "    </tr>\n",
       "    <tr>\n",
       "      <th>75%</th>\n",
       "      <td>3560.574425</td>\n",
       "      <td>3905.697894</td>\n",
       "    </tr>\n",
       "    <tr>\n",
       "      <th>max</th>\n",
       "      <td>5699.769662</td>\n",
       "      <td>7211.007745</td>\n",
       "    </tr>\n",
       "  </tbody>\n",
       "</table>\n",
       "</div>"
      ],
      "text/plain": [
       "             Ultra          Free\n",
       "count  6500.000000  11568.000000\n",
       "mean   3115.445388   3045.495282\n",
       "std     836.895330   1246.173806\n",
       "min     244.210438      0.855683\n",
       "25%    2785.444017   2366.562689\n",
       "50%    3148.637229   3114.648465\n",
       "75%    3560.574425   3905.697894\n",
       "max    5699.769662   7211.007745"
      ]
     },
     "execution_count": 40,
     "metadata": {},
     "output_type": "execute_result"
    }
   ],
   "source": [
    "#получаем описательные статистики для обоих датафреймов\n",
    "ultra_dstn = df_ultra['distance'].describe()\n",
    "free_dstn = df_free['distance'].describe()\n",
    "\n",
    "#объединяем эти описательные статистики в один датафрейм\n",
    "combined_dstn = pd.DataFrame({\n",
    "    'Ultra': ultra_dstn,\n",
    "    'Free': free_dstn\n",
    "})\n",
    "\n",
    "combined_dstn"
   ]
  },
  {
   "cell_type": "markdown",
   "id": "e80dfa2b",
   "metadata": {},
   "source": [
    "Средняя длина поездок и медиана для обоих тарифов близки, но у Ultra они немного выше. Вариативность длины поездок выше у тарифа Free, максимальные значения и верхние квартильные значения указывают на то, что на тарифе Free иногда совершаются значительно более длинные поездки (самая длинная на 1,5 км больше, чем в тарифе Free - 7,2 км). "
   ]
  },
  {
   "cell_type": "code",
   "execution_count": 41,
   "id": "13f465c1",
   "metadata": {},
   "outputs": [
    {
     "data": {
      "image/png": "[encoded data removed]",
      "text/plain": [
       "<Figure size 576x360 with 1 Axes>"
      ]
     },
     "metadata": {
      "needs_background": "light"
     },
     "output_type": "display_data"
    }
   ],
   "source": [
    "ax = df_free['duration'].plot(kind = 'hist', grid=True, figsize = (8,5), color='purple', bins = 40, label='без подписки')\n",
    "ax = df_ultra['duration'].plot(kind = 'hist', grid=True, figsize = (8,5), color='green', bins = 40, label='с подпиской Ultra')\n",
    "plt.title('Время одной поездки для пользователей с подпиской и без')\n",
    "plt.xlabel('Время (мин)')\n",
    "plt.ylabel('Количество поездок')\n",
    "plt.legend(loc='upper right')\n",
    "plt.show()\n"
   ]
  },
  {
   "cell_type": "code",
   "execution_count": 42,
   "id": "df8dc5b2",
   "metadata": {},
   "outputs": [
    {
     "data": {
      "text/html": [
       "<div>\n",
       "<style scoped>\n",
       "    .dataframe tbody tr th:only-of-type {\n",
       "        vertical-align: middle;\n",
       "    }\n",
       "\n",
       "    .dataframe tbody tr th {\n",
       "        vertical-align: top;\n",
       "    }\n",
       "\n",
       "    .dataframe thead th {\n",
       "        text-align: right;\n",
       "    }\n",
       "</style>\n",
       "<table border=\"1\" class=\"dataframe\">\n",
       "  <thead>\n",
       "    <tr style=\"text-align: right;\">\n",
       "      <th></th>\n",
       "      <th>Ultra</th>\n",
       "      <th>Free</th>\n",
       "    </tr>\n",
       "  </thead>\n",
       "  <tbody>\n",
       "    <tr>\n",
       "      <th>count</th>\n",
       "      <td>6500.000000</td>\n",
       "      <td>11568.000000</td>\n",
       "    </tr>\n",
       "    <tr>\n",
       "      <th>mean</th>\n",
       "      <td>18.541985</td>\n",
       "      <td>17.390909</td>\n",
       "    </tr>\n",
       "    <tr>\n",
       "      <th>std</th>\n",
       "      <td>5.572048</td>\n",
       "      <td>6.326803</td>\n",
       "    </tr>\n",
       "    <tr>\n",
       "      <th>min</th>\n",
       "      <td>3.760353</td>\n",
       "      <td>0.500000</td>\n",
       "    </tr>\n",
       "    <tr>\n",
       "      <th>25%</th>\n",
       "      <td>14.524654</td>\n",
       "      <td>12.958437</td>\n",
       "    </tr>\n",
       "    <tr>\n",
       "      <th>50%</th>\n",
       "      <td>18.178153</td>\n",
       "      <td>17.326890</td>\n",
       "    </tr>\n",
       "    <tr>\n",
       "      <th>75%</th>\n",
       "      <td>21.884129</td>\n",
       "      <td>21.594071</td>\n",
       "    </tr>\n",
       "    <tr>\n",
       "      <th>max</th>\n",
       "      <td>40.823963</td>\n",
       "      <td>34.948498</td>\n",
       "    </tr>\n",
       "  </tbody>\n",
       "</table>\n",
       "</div>"
      ],
      "text/plain": [
       "             Ultra          Free\n",
       "count  6500.000000  11568.000000\n",
       "mean     18.541985     17.390909\n",
       "std       5.572048      6.326803\n",
       "min       3.760353      0.500000\n",
       "25%      14.524654     12.958437\n",
       "50%      18.178153     17.326890\n",
       "75%      21.884129     21.594071\n",
       "max      40.823963     34.948498"
      ]
     },
     "execution_count": 42,
     "metadata": {},
     "output_type": "execute_result"
    }
   ],
   "source": [
    "#получаем описательные статистики для обоих датафреймов\n",
    "ultra_drtn = df_ultra['duration'].describe()\n",
    "free_drtn = df_free['duration'].describe()\n",
    "\n",
    "#объединяем эти описательные статистики в один датафрейм\n",
    "combined_drtn = pd.DataFrame({\n",
    "    'Ultra': ultra_drtn,\n",
    "    'Free': free_drtn\n",
    "})\n",
    "\n",
    "combined_drtn"
   ]
  },
  {
   "cell_type": "markdown",
   "id": "9a087883",
   "metadata": {},
   "source": [
    "Средняя и медианная длительность поездок для тарифа Ultra немного выше, чем для тарифа Free.\n",
    "Вариативность длительности поездок выше у тарифа Free, что указывает на большую разнообразие в поведении пользователей. Минимальные значения указывают на возможность наличия очень коротких поездок или ошибочных записей в данных тарифа Free, возможно, люди пробуют самокат впервые и, не справившись с ним, решают оставить его сразу. \n",
    "Максимальная длительность поездок существенно выше для тарифа Ultra, что может свидетельствовать о том, что пользователи этого тарифа совершают более длительные поездки, скорее всего, из-за меньшей цены в минуту."
   ]
  },
  {
   "cell_type": "markdown",
   "id": "333d1a9f",
   "metadata": {},
   "source": [
    "#### Шаг 5. Подсчёт выручки"
   ]
  },
  {
   "cell_type": "markdown",
   "id": "1bd84c98",
   "metadata": {},
   "source": [
    "**5.1 Создадим датафрейм с агрегированными данными о поездках на основе датафрейма с объединёнными данными из шага 4: найдем суммарное расстояние, количество поездок и суммарное время для каждого пользователя за каждый месяц.**"
   ]
  },
  {
   "cell_type": "code",
   "execution_count": 43,
   "id": "d4a065e5",
   "metadata": {},
   "outputs": [
    {
     "data": {
      "text/html": [
       "<div>\n",
       "<style scoped>\n",
       "    .dataframe tbody tr th:only-of-type {\n",
       "        vertical-align: middle;\n",
       "    }\n",
       "\n",
       "    .dataframe tbody tr th {\n",
       "        vertical-align: top;\n",
       "    }\n",
       "\n",
       "    .dataframe thead th {\n",
       "        text-align: right;\n",
       "    }\n",
       "</style>\n",
       "<table border=\"1\" class=\"dataframe\">\n",
       "  <thead>\n",
       "    <tr style=\"text-align: right;\">\n",
       "      <th></th>\n",
       "      <th></th>\n",
       "      <th>count</th>\n",
       "      <th>distance</th>\n",
       "      <th>duration</th>\n",
       "      <th>minute_price</th>\n",
       "      <th>start_ride_price</th>\n",
       "      <th>subscription_fee</th>\n",
       "    </tr>\n",
       "    <tr>\n",
       "      <th>user_id</th>\n",
       "      <th>month</th>\n",
       "      <th></th>\n",
       "      <th></th>\n",
       "      <th></th>\n",
       "      <th></th>\n",
       "      <th></th>\n",
       "      <th></th>\n",
       "    </tr>\n",
       "  </thead>\n",
       "  <tbody>\n",
       "    <tr>\n",
       "      <th rowspan=\"5\" valign=\"top\">1</th>\n",
       "      <th>1</th>\n",
       "      <td>2</td>\n",
       "      <td>7027.511294</td>\n",
       "      <td>42.0</td>\n",
       "      <td>6.0</td>\n",
       "      <td>0.0</td>\n",
       "      <td>199.0</td>\n",
       "    </tr>\n",
       "    <tr>\n",
       "      <th>4</th>\n",
       "      <td>1</td>\n",
       "      <td>754.159807</td>\n",
       "      <td>7.0</td>\n",
       "      <td>6.0</td>\n",
       "      <td>0.0</td>\n",
       "      <td>199.0</td>\n",
       "    </tr>\n",
       "    <tr>\n",
       "      <th>8</th>\n",
       "      <td>2</td>\n",
       "      <td>6723.470560</td>\n",
       "      <td>46.0</td>\n",
       "      <td>6.0</td>\n",
       "      <td>0.0</td>\n",
       "      <td>199.0</td>\n",
       "    </tr>\n",
       "    <tr>\n",
       "      <th>10</th>\n",
       "      <td>2</td>\n",
       "      <td>5809.911100</td>\n",
       "      <td>32.0</td>\n",
       "      <td>6.0</td>\n",
       "      <td>0.0</td>\n",
       "      <td>199.0</td>\n",
       "    </tr>\n",
       "    <tr>\n",
       "      <th>11</th>\n",
       "      <td>3</td>\n",
       "      <td>7003.499363</td>\n",
       "      <td>56.0</td>\n",
       "      <td>6.0</td>\n",
       "      <td>0.0</td>\n",
       "      <td>199.0</td>\n",
       "    </tr>\n",
       "    <tr>\n",
       "      <th>...</th>\n",
       "      <th>...</th>\n",
       "      <td>...</td>\n",
       "      <td>...</td>\n",
       "      <td>...</td>\n",
       "      <td>...</td>\n",
       "      <td>...</td>\n",
       "      <td>...</td>\n",
       "    </tr>\n",
       "    <tr>\n",
       "      <th rowspan=\"5\" valign=\"top\">1534</th>\n",
       "      <th>6</th>\n",
       "      <td>2</td>\n",
       "      <td>3409.468534</td>\n",
       "      <td>26.0</td>\n",
       "      <td>8.0</td>\n",
       "      <td>50.0</td>\n",
       "      <td>0.0</td>\n",
       "    </tr>\n",
       "    <tr>\n",
       "      <th>8</th>\n",
       "      <td>2</td>\n",
       "      <td>7622.453034</td>\n",
       "      <td>48.0</td>\n",
       "      <td>8.0</td>\n",
       "      <td>50.0</td>\n",
       "      <td>0.0</td>\n",
       "    </tr>\n",
       "    <tr>\n",
       "      <th>9</th>\n",
       "      <td>1</td>\n",
       "      <td>4928.173852</td>\n",
       "      <td>23.0</td>\n",
       "      <td>8.0</td>\n",
       "      <td>50.0</td>\n",
       "      <td>0.0</td>\n",
       "    </tr>\n",
       "    <tr>\n",
       "      <th>11</th>\n",
       "      <td>4</td>\n",
       "      <td>13350.015305</td>\n",
       "      <td>78.0</td>\n",
       "      <td>8.0</td>\n",
       "      <td>50.0</td>\n",
       "      <td>0.0</td>\n",
       "    </tr>\n",
       "    <tr>\n",
       "      <th>12</th>\n",
       "      <td>1</td>\n",
       "      <td>2371.711192</td>\n",
       "      <td>16.0</td>\n",
       "      <td>8.0</td>\n",
       "      <td>50.0</td>\n",
       "      <td>0.0</td>\n",
       "    </tr>\n",
       "  </tbody>\n",
       "</table>\n",
       "<p>11331 rows × 6 columns</p>\n",
       "</div>"
      ],
      "text/plain": [
       "               count      distance  duration  minute_price  start_ride_price  \\\n",
       "user_id month                                                                  \n",
       "1       1          2   7027.511294      42.0           6.0               0.0   \n",
       "        4          1    754.159807       7.0           6.0               0.0   \n",
       "        8          2   6723.470560      46.0           6.0               0.0   \n",
       "        10         2   5809.911100      32.0           6.0               0.0   \n",
       "        11         3   7003.499363      56.0           6.0               0.0   \n",
       "...              ...           ...       ...           ...               ...   \n",
       "1534    6          2   3409.468534      26.0           8.0              50.0   \n",
       "        8          2   7622.453034      48.0           8.0              50.0   \n",
       "        9          1   4928.173852      23.0           8.0              50.0   \n",
       "        11         4  13350.015305      78.0           8.0              50.0   \n",
       "        12         1   2371.711192      16.0           8.0              50.0   \n",
       "\n",
       "               subscription_fee  \n",
       "user_id month                    \n",
       "1       1                 199.0  \n",
       "        4                 199.0  \n",
       "        8                 199.0  \n",
       "        10                199.0  \n",
       "        11                199.0  \n",
       "...                         ...  \n",
       "1534    6                   0.0  \n",
       "        8                   0.0  \n",
       "        9                   0.0  \n",
       "        11                  0.0  \n",
       "        12                  0.0  \n",
       "\n",
       "[11331 rows x 6 columns]"
      ]
     },
     "execution_count": 43,
     "metadata": {},
     "output_type": "execute_result"
    }
   ],
   "source": [
    "#округляем продолжительность поездок в 'duration' в таблице 'df_total' до ближайшего целого числа\n",
    "df_total['duration'] = np.ceil(df_total['duration'])\n",
    "\n",
    "#создаем сводную таблицу\n",
    "users_months = df_total.pivot_table(\n",
    "    index=('user_id', 'month'), \n",
    "    values=(\n",
    "        'distance', \n",
    "        'duration', \n",
    "        'minute_price', \n",
    "        'start_ride_price', \n",
    "        'subscription_fee'\n",
    "    ), \n",
    "    aggfunc=('count', 'sum'))\n",
    "\n",
    "#переименуем названия столбцов\n",
    "users_months.columns = [\n",
    "    'count', 'distance', \n",
    "    'count2', 'duration', \n",
    "    'count3', 'minute_price',\n",
    "    'count4', 'start_ride_price', \n",
    "    'count5', 'subscription_fee'\n",
    "]\n",
    "#удаляем дублирующиеся столбцы с подсчитанным количеством строк \n",
    "users_months = users_months.drop(['count2', 'count3', 'count4', 'count5'], axis=1)\n",
    "\n",
    "#приводим столбцы с ценами к целевому состоянию\n",
    "users_months['start_ride_price'] = users_months['start_ride_price'] / users_months['count']\n",
    "users_months['minute_price'] = users_months['minute_price'] / users_months['count']\n",
    "users_months['subscription_fee'] = users_months['subscription_fee'] / users_months['count']\n",
    "\n",
    "users_months"
   ]
  },
  {
   "cell_type": "markdown",
   "id": "756a8565",
   "metadata": {},
   "source": [
    "**5.2 Добавим столбец с помесячной выручкой, которую принёс каждый пользователь**\n"
   ]
  },
  {
   "cell_type": "code",
   "execution_count": 44,
   "id": "bcdb78da",
   "metadata": {},
   "outputs": [
    {
     "data": {
      "text/html": [
       "<div>\n",
       "<style scoped>\n",
       "    .dataframe tbody tr th:only-of-type {\n",
       "        vertical-align: middle;\n",
       "    }\n",
       "\n",
       "    .dataframe tbody tr th {\n",
       "        vertical-align: top;\n",
       "    }\n",
       "\n",
       "    .dataframe thead th {\n",
       "        text-align: right;\n",
       "    }\n",
       "</style>\n",
       "<table border=\"1\" class=\"dataframe\">\n",
       "  <thead>\n",
       "    <tr style=\"text-align: right;\">\n",
       "      <th></th>\n",
       "      <th></th>\n",
       "      <th>count</th>\n",
       "      <th>distance</th>\n",
       "      <th>duration</th>\n",
       "      <th>minute_price</th>\n",
       "      <th>start_ride_price</th>\n",
       "      <th>subscription_fee</th>\n",
       "      <th>revenue</th>\n",
       "    </tr>\n",
       "    <tr>\n",
       "      <th>user_id</th>\n",
       "      <th>month</th>\n",
       "      <th></th>\n",
       "      <th></th>\n",
       "      <th></th>\n",
       "      <th></th>\n",
       "      <th></th>\n",
       "      <th></th>\n",
       "      <th></th>\n",
       "    </tr>\n",
       "  </thead>\n",
       "  <tbody>\n",
       "    <tr>\n",
       "      <th rowspan=\"5\" valign=\"top\">1</th>\n",
       "      <th>1</th>\n",
       "      <td>2</td>\n",
       "      <td>7027.511294</td>\n",
       "      <td>42.0</td>\n",
       "      <td>6.0</td>\n",
       "      <td>0.0</td>\n",
       "      <td>199.0</td>\n",
       "      <td>451</td>\n",
       "    </tr>\n",
       "    <tr>\n",
       "      <th>4</th>\n",
       "      <td>1</td>\n",
       "      <td>754.159807</td>\n",
       "      <td>7.0</td>\n",
       "      <td>6.0</td>\n",
       "      <td>0.0</td>\n",
       "      <td>199.0</td>\n",
       "      <td>241</td>\n",
       "    </tr>\n",
       "    <tr>\n",
       "      <th>8</th>\n",
       "      <td>2</td>\n",
       "      <td>6723.470560</td>\n",
       "      <td>46.0</td>\n",
       "      <td>6.0</td>\n",
       "      <td>0.0</td>\n",
       "      <td>199.0</td>\n",
       "      <td>475</td>\n",
       "    </tr>\n",
       "    <tr>\n",
       "      <th>10</th>\n",
       "      <td>2</td>\n",
       "      <td>5809.911100</td>\n",
       "      <td>32.0</td>\n",
       "      <td>6.0</td>\n",
       "      <td>0.0</td>\n",
       "      <td>199.0</td>\n",
       "      <td>391</td>\n",
       "    </tr>\n",
       "    <tr>\n",
       "      <th>11</th>\n",
       "      <td>3</td>\n",
       "      <td>7003.499363</td>\n",
       "      <td>56.0</td>\n",
       "      <td>6.0</td>\n",
       "      <td>0.0</td>\n",
       "      <td>199.0</td>\n",
       "      <td>535</td>\n",
       "    </tr>\n",
       "    <tr>\n",
       "      <th>...</th>\n",
       "      <th>...</th>\n",
       "      <td>...</td>\n",
       "      <td>...</td>\n",
       "      <td>...</td>\n",
       "      <td>...</td>\n",
       "      <td>...</td>\n",
       "      <td>...</td>\n",
       "      <td>...</td>\n",
       "    </tr>\n",
       "    <tr>\n",
       "      <th rowspan=\"5\" valign=\"top\">1534</th>\n",
       "      <th>6</th>\n",
       "      <td>2</td>\n",
       "      <td>3409.468534</td>\n",
       "      <td>26.0</td>\n",
       "      <td>8.0</td>\n",
       "      <td>50.0</td>\n",
       "      <td>0.0</td>\n",
       "      <td>308</td>\n",
       "    </tr>\n",
       "    <tr>\n",
       "      <th>8</th>\n",
       "      <td>2</td>\n",
       "      <td>7622.453034</td>\n",
       "      <td>48.0</td>\n",
       "      <td>8.0</td>\n",
       "      <td>50.0</td>\n",
       "      <td>0.0</td>\n",
       "      <td>484</td>\n",
       "    </tr>\n",
       "    <tr>\n",
       "      <th>9</th>\n",
       "      <td>1</td>\n",
       "      <td>4928.173852</td>\n",
       "      <td>23.0</td>\n",
       "      <td>8.0</td>\n",
       "      <td>50.0</td>\n",
       "      <td>0.0</td>\n",
       "      <td>234</td>\n",
       "    </tr>\n",
       "    <tr>\n",
       "      <th>11</th>\n",
       "      <td>4</td>\n",
       "      <td>13350.015305</td>\n",
       "      <td>78.0</td>\n",
       "      <td>8.0</td>\n",
       "      <td>50.0</td>\n",
       "      <td>0.0</td>\n",
       "      <td>824</td>\n",
       "    </tr>\n",
       "    <tr>\n",
       "      <th>12</th>\n",
       "      <td>1</td>\n",
       "      <td>2371.711192</td>\n",
       "      <td>16.0</td>\n",
       "      <td>8.0</td>\n",
       "      <td>50.0</td>\n",
       "      <td>0.0</td>\n",
       "      <td>178</td>\n",
       "    </tr>\n",
       "  </tbody>\n",
       "</table>\n",
       "<p>11331 rows × 7 columns</p>\n",
       "</div>"
      ],
      "text/plain": [
       "               count      distance  duration  minute_price  start_ride_price  \\\n",
       "user_id month                                                                  \n",
       "1       1          2   7027.511294      42.0           6.0               0.0   \n",
       "        4          1    754.159807       7.0           6.0               0.0   \n",
       "        8          2   6723.470560      46.0           6.0               0.0   \n",
       "        10         2   5809.911100      32.0           6.0               0.0   \n",
       "        11         3   7003.499363      56.0           6.0               0.0   \n",
       "...              ...           ...       ...           ...               ...   \n",
       "1534    6          2   3409.468534      26.0           8.0              50.0   \n",
       "        8          2   7622.453034      48.0           8.0              50.0   \n",
       "        9          1   4928.173852      23.0           8.0              50.0   \n",
       "        11         4  13350.015305      78.0           8.0              50.0   \n",
       "        12         1   2371.711192      16.0           8.0              50.0   \n",
       "\n",
       "               subscription_fee  revenue  \n",
       "user_id month                             \n",
       "1       1                 199.0      451  \n",
       "        4                 199.0      241  \n",
       "        8                 199.0      475  \n",
       "        10                199.0      391  \n",
       "        11                199.0      535  \n",
       "...                         ...      ...  \n",
       "1534    6                   0.0      308  \n",
       "        8                   0.0      484  \n",
       "        9                   0.0      234  \n",
       "        11                  0.0      824  \n",
       "        12                  0.0      178  \n",
       "\n",
       "[11331 rows x 7 columns]"
      ]
     },
     "execution_count": 44,
     "metadata": {},
     "output_type": "execute_result"
    }
   ],
   "source": [
    "#расчет и округление выручки\n",
    "users_months['revenue'] = (\n",
    "    (users_months['start_ride_price'] * users_months['count']) \n",
    "    + (users_months['minute_price'] * users_months['duration']) \n",
    "    + users_months['subscription_fee']\n",
    ")\n",
    "users_months['revenue'] = users_months['revenue'].astype('int')\n",
    "users_months"
   ]
  },
  {
   "cell_type": "markdown",
   "id": "41545ac0",
   "metadata": {},
   "source": [
    "#### Шаг 6. Проверка гипотез"
   ]
  },
  {
   "cell_type": "markdown",
   "id": "4e2f6a44",
   "metadata": {},
   "source": [
    "**6.1 Проверим гипотезу о том,, тратят ли пользователи с подпиской больше времени на поездки. Если да, то пользователи с подпиской могут быть «выгоднее» для компании**"
   ]
  },
  {
   "cell_type": "markdown",
   "id": "d87d2f14",
   "metadata": {},
   "source": [
    "Н0: Средняя продолжительность поездок с подпиской ‘ultra’ и ‘free’ равна.\n",
    "\n",
    "Н1: Средняя продолжительность поездок с подпиской ‘ultra’ больше, чем с подпиской ‘free’."
   ]
  },
  {
   "cell_type": "code",
   "execution_count": 45,
   "id": "c8ce5b26",
   "metadata": {},
   "outputs": [
    {
     "name": "stdout",
     "output_type": "stream",
     "text": [
      "p-значение: 1.2804098316645618e-34\n",
      "Отвергаем нулевую гипотезу\n"
     ]
    }
   ],
   "source": [
    "alpha = 0.05 \n",
    "results = st.ttest_ind(df_ultra['duration'], df_free['duration'], alternative='greater')\n",
    "\n",
    "print('p-значение:', results.pvalue)\n",
    "\n",
    "if results.pvalue < alpha:\n",
    "    print('Отвергаем нулевую гипотезу')\n",
    "else:\n",
    "    print('Не получилось отвергнуть нулевую гипотезу')\n"
   ]
  },
  {
   "cell_type": "code",
   "execution_count": 46,
   "id": "ef2752e9",
   "metadata": {},
   "outputs": [
    {
     "data": {
      "text/plain": [
       "18.5"
      ]
     },
     "execution_count": 46,
     "metadata": {},
     "output_type": "execute_result"
    }
   ],
   "source": [
    "df_ultra['duration'].mean().round(1)"
   ]
  },
  {
   "cell_type": "code",
   "execution_count": 47,
   "id": "a18a95dc",
   "metadata": {},
   "outputs": [
    {
     "data": {
      "text/plain": [
       "17.4"
      ]
     },
     "execution_count": 47,
     "metadata": {},
     "output_type": "execute_result"
    }
   ],
   "source": [
    "df_free['duration'].mean().round(1)"
   ]
  },
  {
   "cell_type": "markdown",
   "id": "a21440bb",
   "metadata": {},
   "source": [
    "Нулевая гипотеза отвергута, значит пользователи с подпиской трятят больше времени на поездки. "
   ]
  },
  {
   "cell_type": "markdown",
   "id": "07c9796d",
   "metadata": {},
   "source": [
    "**6.2 Расстояние одной поездки в 3130 метров — оптимальное с точки зрения износа самоката. Проверим, можно ли сказать, что среднее расстояние, которое проезжают пользователи с подпиской за одну поездку, не превышает 3130 метров**"
   ]
  },
  {
   "cell_type": "markdown",
   "id": "139b735b",
   "metadata": {},
   "source": [
    "Для проверки этого предположения воспользуемся проверкой односторонних гипотез.\n",
    "\n",
    "H0: Среднее расстояние, преодоленное пользователями с подпиской за одну поездку, равно 3130 метров.\n",
    "\n",
    "H1: Среднее расстояние, преодоленное пользователями с подпиской за одну поездку, больше 3130 метров."
   ]
  },
  {
   "cell_type": "code",
   "execution_count": 48,
   "id": "200c1fa0",
   "metadata": {},
   "outputs": [
    {
     "name": "stdout",
     "output_type": "stream",
     "text": [
      "p-значение: 0.9195368847849785\n",
      "Не получилось отвергнуть нулевую гипотезу\n"
     ]
    }
   ],
   "source": [
    "prev_screens_value = 3130\n",
    "\n",
    "alpha = 0.05 \n",
    "\n",
    "results = st.ttest_1samp(\n",
    "    df_ultra['distance'], \n",
    "    prev_screens_value,\n",
    "    alternative='greater')\n",
    "\n",
    "print('p-значение:', results.pvalue)\n",
    "\n",
    "if (results.pvalue < alpha):\n",
    "    print('Отвергаем нулевую гипотезу')\n",
    "else:\n",
    "    print('Не получилось отвергнуть нулевую гипотезу') "
   ]
  },
  {
   "cell_type": "code",
   "execution_count": 49,
   "id": "ba2f75a0",
   "metadata": {},
   "outputs": [
    {
     "data": {
      "text/plain": [
       "3115.4"
      ]
     },
     "execution_count": 49,
     "metadata": {},
     "output_type": "execute_result"
    }
   ],
   "source": [
    "df_ultra['distance'].mean().round(1)"
   ]
  },
  {
   "cell_type": "markdown",
   "id": "f2a68748",
   "metadata": {},
   "source": [
    "Поскольку p-значение больше уровня статистической значимости, нет причин для того, чтобы отвергнуть нулевую гипотезу. Средняя дистанция поездки пользователей с подпиской меньше 3130 метров, соответственно компания может учитывать это при планировании обновления и ремонта парка самокатов."
   ]
  },
  {
   "cell_type": "markdown",
   "id": "1b192689",
   "metadata": {},
   "source": [
    "**6.3 Проверим, будет ли помесячная выручка от пользователей с подпиской по месяцам выше, чем выручка от пользователей без подписки.**"
   ]
  },
  {
   "cell_type": "markdown",
   "id": "2c4c7ef0",
   "metadata": {},
   "source": [
    "Для проверки этого предположения воспользуемся гипотезой о равенстве средних для зависимых выборок. Этот метод подойдет для этой генеральной совокупности данных, в которых есть только один отличающийся признак.\n",
    "\n",
    "Н0: Помесячная средняя выручка от пользователей с подпиской равна помесячной средней выручке от пользователей без подписки.\n",
    "\n",
    "Н1: Помесячная средняя выручка от пользователей с подпиской больше помесячной средней выручки от пользователей без подписки."
   ]
  },
  {
   "cell_type": "code",
   "execution_count": 50,
   "id": "87e00a58",
   "metadata": {},
   "outputs": [
    {
     "name": "stdout",
     "output_type": "stream",
     "text": [
      "1.8850394384715216e-31\n",
      "Отвергаем нулевую гипотезу\n"
     ]
    }
   ],
   "source": [
    "results = st.ttest_ind(\n",
    "    users_months.loc[users_months['subscription_fee'] > 0, 'revenue'], \n",
    "    users_months.loc[users_months['subscription_fee'] == 0, 'revenue'], \n",
    "    equal_var=True, \n",
    "    alternative='greater')\n",
    "print(results.pvalue)\n",
    "\n",
    "alpha = 0.05\n",
    "if results.pvalue < alpha:\n",
    "    print('Отвергаем нулевую гипотезу')\n",
    "else:\n",
    "    print('Не получилось отвергнуть нулевую гипотезу')\n"
   ]
  },
  {
   "cell_type": "markdown",
   "id": "417e77f8",
   "metadata": {},
   "source": [
    "Нулевая гипотеза отвергнута, есть основания утверждать, что средняя месячная выручка от пользователей с подпиской, больше средней месячной выручки от пользователей без подписки, при установленном уровне значимости."
   ]
  },
  {
   "cell_type": "markdown",
   "id": "952909e2",
   "metadata": {},
   "source": [
    "**6.4 Представим такую ситуацию: техническая команда сервиса обновила сервера, с которыми взаимодействует мобильное приложение. Она надеется, что из-за этого количество обращений в техподдержку значимо снизилось. Некоторый файл содержит для каждого пользователя данные о количестве обращений до обновления и после него. Какой тест нам понадобился бы для проверки этой гипотезы?**"
   ]
  },
  {
   "cell_type": "markdown",
   "id": "a7d761b8",
   "metadata": {},
   "source": [
    "Для проверки гипотезы о том, что количество обращений в техподдержку значимо снизилось после обновления серверов, можно использовать парный t-тест для зависимых выборок. Этот тест подходит для сравнения двух наборов связанных данных, например, количества обращений до и после обновления серверов для одних и тех же пользователей.\n",
    "Если необходимо проверить, что истинное среднее значение генеральной совокупности до изменения больше, чем истинное среднее значение генеральной совокупности после изменения, следует указать параметр alternative=\"less\".\n",
    "Поскольку гипотеза состоит в том, что количество обращений после обновления серверов должно снизиться, нужно использовать параметр alternative='greater', чтобы проверить, является ли среднее количество обращений до обновления больше, чем после обновления."
   ]
  },
  {
   "cell_type": "markdown",
   "id": "1fc7ee01",
   "metadata": {},
   "source": [
    "**Общий вывод**"
   ]
  },
  {
   "cell_type": "markdown",
   "id": "1006cd4f",
   "metadata": {},
   "source": [
    "В рамках проекта был проведен анализ данных сервиса аренды самокатов. \n",
    "- В процессе предобработки были исправлены типы данных, созданы необходимые столбцы и удалены дубликаты. \n",
    "- В исследовательском анализе данных выяснилось, что количество пользователей с подпиской «free» составляет 835 человек, что эквивалентно 54.43% от общего числа пользователей и на 136 больше, чем пользователей с подпиской «ultra». \n",
    "- Возраст пользователей сервиса варьируется от 12 до 43 лет, с наибольшим числом пользователей в возрасте 25 лет, который также является медианным возрастом. \n",
    "- Наибольшее количество поездок (219) было совершено в Пятигорске, а наименьшее (168) - в Москве. \n",
    "- Длина одной поездки варьируется от 1 до 7211 метров, при этом медиана составляет 3134 метра. \n",
    "- Пользователи с подпиской проводят больше времени в поездках, проезжая в среднем меньше оптимального расстояния с точки зрения износа самоката, а также приносят больше дохода в месяц по сравнению с пользователями без подписки."
   ]
  }
 ],
 "metadata": {
  "ExecuteTimeLog": [
   {
    "duration": 74,
    "start_time": "2024-06-10T22:44:36.093Z"
   },
   {
    "duration": 423,
    "start_time": "2024-06-10T22:49:40.377Z"
   },
   {
    "duration": 139,
    "start_time": "2024-06-10T22:51:53.612Z"
   },
   {
    "duration": 35,
    "start_time": "2024-06-10T22:52:07.647Z"
   },
   {
    "duration": 94,
    "start_time": "2024-06-10T22:52:11.123Z"
   },
   {
    "duration": 85,
    "start_time": "2024-06-10T22:52:13.502Z"
   },
   {
    "duration": 40,
    "start_time": "2024-06-10T22:52:23.198Z"
   },
   {
    "duration": 48,
    "start_time": "2024-06-10T22:52:32.721Z"
   },
   {
    "duration": 36,
    "start_time": "2024-06-10T22:52:40.543Z"
   },
   {
    "duration": 16,
    "start_time": "2024-06-10T22:54:23.958Z"
   },
   {
    "duration": 16,
    "start_time": "2024-06-10T22:54:35.751Z"
   },
   {
    "duration": 10,
    "start_time": "2024-06-10T22:54:49.946Z"
   },
   {
    "duration": 8,
    "start_time": "2024-06-10T23:03:22.836Z"
   },
   {
    "duration": 403,
    "start_time": "2024-06-10T23:03:30.385Z"
   },
   {
    "duration": 42,
    "start_time": "2024-06-10T23:03:30.790Z"
   },
   {
    "duration": 41,
    "start_time": "2024-06-10T23:03:30.834Z"
   },
   {
    "duration": 86,
    "start_time": "2024-06-10T23:03:30.877Z"
   },
   {
    "duration": 73,
    "start_time": "2024-06-10T23:03:30.965Z"
   },
   {
    "duration": 56,
    "start_time": "2024-06-10T23:03:31.040Z"
   },
   {
    "duration": 51,
    "start_time": "2024-06-10T23:03:31.098Z"
   },
   {
    "duration": 53,
    "start_time": "2024-06-10T23:03:31.151Z"
   },
   {
    "duration": 19,
    "start_time": "2024-06-10T23:04:16.763Z"
   },
   {
    "duration": 77,
    "start_time": "2024-06-10T23:04:42.717Z"
   },
   {
    "duration": 6,
    "start_time": "2024-06-10T23:14:49.589Z"
   },
   {
    "duration": 10,
    "start_time": "2024-06-10T23:16:03.031Z"
   },
   {
    "duration": 109,
    "start_time": "2024-06-10T23:17:28.056Z"
   },
   {
    "duration": 9,
    "start_time": "2024-06-10T23:17:50.021Z"
   },
   {
    "duration": 13,
    "start_time": "2024-06-10T23:18:01.458Z"
   },
   {
    "duration": 9,
    "start_time": "2024-06-10T23:19:13.223Z"
   },
   {
    "duration": 9,
    "start_time": "2024-06-10T23:19:41.098Z"
   },
   {
    "duration": 11,
    "start_time": "2024-06-10T23:19:49.113Z"
   },
   {
    "duration": 9,
    "start_time": "2024-06-10T23:20:03.090Z"
   },
   {
    "duration": 9,
    "start_time": "2024-06-10T23:20:11.461Z"
   },
   {
    "duration": 9,
    "start_time": "2024-06-10T23:22:45.783Z"
   },
   {
    "duration": 9,
    "start_time": "2024-06-10T23:22:51.521Z"
   },
   {
    "duration": 10,
    "start_time": "2024-06-10T23:23:02.972Z"
   },
   {
    "duration": 10,
    "start_time": "2024-06-10T23:23:12.004Z"
   },
   {
    "duration": 14,
    "start_time": "2024-06-10T23:23:26.223Z"
   },
   {
    "duration": 65,
    "start_time": "2024-06-10T23:26:06.709Z"
   },
   {
    "duration": 12,
    "start_time": "2024-06-10T23:26:23.424Z"
   },
   {
    "duration": 12,
    "start_time": "2024-06-10T23:26:49.372Z"
   },
   {
    "duration": 13,
    "start_time": "2024-06-10T23:27:45.387Z"
   },
   {
    "duration": 8,
    "start_time": "2024-06-10T23:27:50.037Z"
   },
   {
    "duration": 7,
    "start_time": "2024-06-10T23:30:50.255Z"
   },
   {
    "duration": 5,
    "start_time": "2024-06-10T23:31:18.532Z"
   },
   {
    "duration": 9,
    "start_time": "2024-06-10T23:31:50.923Z"
   },
   {
    "duration": 9,
    "start_time": "2024-06-10T23:32:30.347Z"
   },
   {
    "duration": 442,
    "start_time": "2024-06-11T14:50:24.557Z"
   },
   {
    "duration": 130,
    "start_time": "2024-06-11T14:50:25.002Z"
   },
   {
    "duration": 11,
    "start_time": "2024-06-11T14:50:25.134Z"
   },
   {
    "duration": 150,
    "start_time": "2024-06-11T14:50:25.147Z"
   },
   {
    "duration": 12,
    "start_time": "2024-06-11T14:50:25.300Z"
   },
   {
    "duration": 86,
    "start_time": "2024-06-11T14:50:25.314Z"
   },
   {
    "duration": 11,
    "start_time": "2024-06-11T14:50:25.402Z"
   },
   {
    "duration": 22,
    "start_time": "2024-06-11T14:50:25.415Z"
   },
   {
    "duration": 6,
    "start_time": "2024-06-11T14:50:25.439Z"
   },
   {
    "duration": 39,
    "start_time": "2024-06-11T14:50:25.447Z"
   },
   {
    "duration": 9,
    "start_time": "2024-06-11T14:50:25.488Z"
   },
   {
    "duration": 15,
    "start_time": "2024-06-11T14:50:25.499Z"
   },
   {
    "duration": 5,
    "start_time": "2024-06-11T14:51:04.640Z"
   },
   {
    "duration": 6,
    "start_time": "2024-06-11T14:52:47.287Z"
   },
   {
    "duration": 5,
    "start_time": "2024-06-11T15:01:18.429Z"
   },
   {
    "duration": 67,
    "start_time": "2024-06-11T15:01:25.890Z"
   },
   {
    "duration": 1406,
    "start_time": "2024-06-11T15:03:19.616Z"
   },
   {
    "duration": 39,
    "start_time": "2024-06-11T15:03:21.024Z"
   },
   {
    "duration": 12,
    "start_time": "2024-06-11T15:03:21.064Z"
   },
   {
    "duration": 61,
    "start_time": "2024-06-11T15:03:21.077Z"
   },
   {
    "duration": 11,
    "start_time": "2024-06-11T15:03:21.140Z"
   },
   {
    "duration": 29,
    "start_time": "2024-06-11T15:03:21.152Z"
   },
   {
    "duration": 10,
    "start_time": "2024-06-11T15:03:21.183Z"
   },
   {
    "duration": 19,
    "start_time": "2024-06-11T15:03:21.194Z"
   },
   {
    "duration": 5,
    "start_time": "2024-06-11T15:03:21.215Z"
   },
   {
    "duration": 8,
    "start_time": "2024-06-11T15:03:21.222Z"
   },
   {
    "duration": 13,
    "start_time": "2024-06-11T15:03:21.231Z"
   },
   {
    "duration": 14,
    "start_time": "2024-06-11T15:03:21.245Z"
   },
   {
    "duration": 19,
    "start_time": "2024-06-11T15:03:21.260Z"
   },
   {
    "duration": 188,
    "start_time": "2024-06-11T15:03:21.281Z"
   },
   {
    "duration": 121,
    "start_time": "2024-06-11T15:03:21.471Z"
   },
   {
    "duration": 6,
    "start_time": "2024-06-11T15:30:50.459Z"
   },
   {
    "duration": 1244,
    "start_time": "2024-06-11T15:33:07.672Z"
   },
   {
    "duration": 39,
    "start_time": "2024-06-11T15:33:08.918Z"
   },
   {
    "duration": 22,
    "start_time": "2024-06-11T15:33:08.959Z"
   },
   {
    "duration": 36,
    "start_time": "2024-06-11T15:33:08.985Z"
   },
   {
    "duration": 12,
    "start_time": "2024-06-11T15:33:09.023Z"
   },
   {
    "duration": 30,
    "start_time": "2024-06-11T15:33:09.036Z"
   },
   {
    "duration": 10,
    "start_time": "2024-06-11T15:33:09.067Z"
   },
   {
    "duration": 37,
    "start_time": "2024-06-11T15:33:09.079Z"
   },
   {
    "duration": 7,
    "start_time": "2024-06-11T15:33:09.117Z"
   },
   {
    "duration": 10,
    "start_time": "2024-06-11T15:33:09.127Z"
   },
   {
    "duration": 24,
    "start_time": "2024-06-11T15:33:09.139Z"
   },
   {
    "duration": 7,
    "start_time": "2024-06-11T15:33:09.165Z"
   },
   {
    "duration": 206,
    "start_time": "2024-06-11T15:33:09.174Z"
   },
   {
    "duration": 5,
    "start_time": "2024-06-11T15:33:09.381Z"
   },
   {
    "duration": 116,
    "start_time": "2024-06-11T15:35:01.221Z"
   },
   {
    "duration": 4,
    "start_time": "2024-06-11T15:35:18.935Z"
   },
   {
    "duration": 5,
    "start_time": "2024-06-11T15:35:25.306Z"
   },
   {
    "duration": 155,
    "start_time": "2024-06-11T15:35:26.017Z"
   },
   {
    "duration": 7,
    "start_time": "2024-06-11T15:37:41.462Z"
   },
   {
    "duration": 340,
    "start_time": "2024-06-11T15:38:42.049Z"
   },
   {
    "duration": 6,
    "start_time": "2024-06-11T15:41:35.974Z"
   },
   {
    "duration": 346,
    "start_time": "2024-06-11T15:41:36.633Z"
   },
   {
    "duration": 8,
    "start_time": "2024-06-11T15:42:23.275Z"
   },
   {
    "duration": 9,
    "start_time": "2024-06-11T15:43:11.510Z"
   },
   {
    "duration": 361,
    "start_time": "2024-06-11T15:43:40.460Z"
   },
   {
    "duration": 828,
    "start_time": "2024-06-11T15:43:50.045Z"
   },
   {
    "duration": 866,
    "start_time": "2024-06-11T15:43:56.939Z"
   },
   {
    "duration": 842,
    "start_time": "2024-06-11T15:44:11.736Z"
   },
   {
    "duration": 321,
    "start_time": "2024-06-11T15:44:18.121Z"
   },
   {
    "duration": 422,
    "start_time": "2024-06-11T15:44:37.241Z"
   },
   {
    "duration": 508,
    "start_time": "2024-06-11T15:44:44.207Z"
   },
   {
    "duration": 330,
    "start_time": "2024-06-11T15:44:59.687Z"
   },
   {
    "duration": 421,
    "start_time": "2024-06-11T15:46:37.835Z"
   },
   {
    "duration": 546,
    "start_time": "2024-06-11T15:46:47.248Z"
   },
   {
    "duration": 69,
    "start_time": "2024-06-11T15:47:16.037Z"
   },
   {
    "duration": 380,
    "start_time": "2024-06-11T15:47:23.221Z"
   },
   {
    "duration": 529,
    "start_time": "2024-06-11T15:47:54.961Z"
   },
   {
    "duration": 563,
    "start_time": "2024-06-11T15:48:07.653Z"
   },
   {
    "duration": 467,
    "start_time": "2024-06-11T15:49:14.077Z"
   },
   {
    "duration": 237,
    "start_time": "2024-06-11T15:49:26.716Z"
   },
   {
    "duration": 209,
    "start_time": "2024-06-11T15:49:43.118Z"
   },
   {
    "duration": 250,
    "start_time": "2024-06-11T15:49:47.699Z"
   },
   {
    "duration": 249,
    "start_time": "2024-06-11T15:51:21.594Z"
   },
   {
    "duration": 258,
    "start_time": "2024-06-11T15:51:30.513Z"
   },
   {
    "duration": 277,
    "start_time": "2024-06-11T15:51:42.123Z"
   },
   {
    "duration": 246,
    "start_time": "2024-06-11T15:52:04.726Z"
   },
   {
    "duration": 249,
    "start_time": "2024-06-11T15:56:13.884Z"
   },
   {
    "duration": 439,
    "start_time": "2024-06-11T15:56:39.923Z"
   },
   {
    "duration": 10,
    "start_time": "2024-06-11T15:59:13.774Z"
   },
   {
    "duration": 264,
    "start_time": "2024-06-11T16:00:20.636Z"
   },
   {
    "duration": 1260,
    "start_time": "2024-06-11T16:00:53.180Z"
   },
   {
    "duration": 38,
    "start_time": "2024-06-11T16:00:54.442Z"
   },
   {
    "duration": 12,
    "start_time": "2024-06-11T16:00:54.482Z"
   },
   {
    "duration": 48,
    "start_time": "2024-06-11T16:00:54.495Z"
   },
   {
    "duration": 17,
    "start_time": "2024-06-11T16:00:54.547Z"
   },
   {
    "duration": 22,
    "start_time": "2024-06-11T16:00:54.566Z"
   },
   {
    "duration": 11,
    "start_time": "2024-06-11T16:00:54.589Z"
   },
   {
    "duration": 20,
    "start_time": "2024-06-11T16:00:54.602Z"
   },
   {
    "duration": 7,
    "start_time": "2024-06-11T16:00:54.624Z"
   },
   {
    "duration": 29,
    "start_time": "2024-06-11T16:00:54.632Z"
   },
   {
    "duration": 13,
    "start_time": "2024-06-11T16:00:54.663Z"
   },
   {
    "duration": 6,
    "start_time": "2024-06-11T16:00:54.678Z"
   },
   {
    "duration": 226,
    "start_time": "2024-06-11T16:00:54.686Z"
   },
   {
    "duration": 6,
    "start_time": "2024-06-11T16:00:54.915Z"
   },
   {
    "duration": 150,
    "start_time": "2024-06-11T16:00:54.923Z"
   },
   {
    "duration": 6,
    "start_time": "2024-06-11T16:00:55.075Z"
   },
   {
    "duration": 339,
    "start_time": "2024-06-11T16:00:55.082Z"
   },
   {
    "duration": 10,
    "start_time": "2024-06-11T16:00:55.422Z"
   },
   {
    "duration": 287,
    "start_time": "2024-06-11T16:00:55.433Z"
   },
   {
    "duration": 9,
    "start_time": "2024-06-11T16:00:55.721Z"
   },
   {
    "duration": 288,
    "start_time": "2024-06-11T16:00:55.732Z"
   },
   {
    "duration": 340,
    "start_time": "2024-06-11T16:02:48.124Z"
   },
   {
    "duration": 267,
    "start_time": "2024-06-11T16:03:57.852Z"
   },
   {
    "duration": 273,
    "start_time": "2024-06-11T16:05:58.124Z"
   },
   {
    "duration": 310,
    "start_time": "2024-06-11T16:06:42.580Z"
   },
   {
    "duration": 293,
    "start_time": "2024-06-11T16:06:50.935Z"
   },
   {
    "duration": 246,
    "start_time": "2024-06-11T16:07:38.933Z"
   },
   {
    "duration": 356,
    "start_time": "2024-06-11T16:07:45.090Z"
   },
   {
    "duration": 287,
    "start_time": "2024-06-11T16:08:02.489Z"
   },
   {
    "duration": 265,
    "start_time": "2024-06-11T16:08:38.781Z"
   },
   {
    "duration": 271,
    "start_time": "2024-06-11T16:08:51.411Z"
   },
   {
    "duration": 12,
    "start_time": "2024-06-11T16:09:07.160Z"
   },
   {
    "duration": 258,
    "start_time": "2024-06-11T16:09:14.853Z"
   },
   {
    "duration": 13,
    "start_time": "2024-06-11T16:09:24.556Z"
   },
   {
    "duration": 242,
    "start_time": "2024-06-11T16:09:32.026Z"
   },
   {
    "duration": 17,
    "start_time": "2024-06-11T16:14:16.678Z"
   },
   {
    "duration": 26,
    "start_time": "2024-06-11T16:14:42.876Z"
   },
   {
    "duration": 28,
    "start_time": "2024-06-11T16:14:50.942Z"
   },
   {
    "duration": 31,
    "start_time": "2024-06-11T16:58:43.922Z"
   },
   {
    "duration": 7,
    "start_time": "2024-06-11T17:01:11.094Z"
   },
   {
    "duration": 10,
    "start_time": "2024-06-11T17:02:57.477Z"
   },
   {
    "duration": 12,
    "start_time": "2024-06-11T17:03:32.324Z"
   },
   {
    "duration": 9,
    "start_time": "2024-06-11T17:03:57.589Z"
   },
   {
    "duration": 9,
    "start_time": "2024-06-11T17:04:30.904Z"
   },
   {
    "duration": 18,
    "start_time": "2024-06-11T17:04:42.989Z"
   },
   {
    "duration": 132,
    "start_time": "2024-06-11T17:04:49.852Z"
   },
   {
    "duration": 33,
    "start_time": "2024-06-11T17:05:07.868Z"
   },
   {
    "duration": 34,
    "start_time": "2024-06-11T17:05:14.633Z"
   },
   {
    "duration": 32,
    "start_time": "2024-06-11T17:05:28.038Z"
   },
   {
    "duration": 5,
    "start_time": "2024-06-11T17:06:21.665Z"
   },
   {
    "duration": 5,
    "start_time": "2024-06-11T17:06:46.201Z"
   },
   {
    "duration": 11,
    "start_time": "2024-06-11T17:07:13.533Z"
   },
   {
    "duration": 5,
    "start_time": "2024-06-11T17:07:15.940Z"
   },
   {
    "duration": 5,
    "start_time": "2024-06-11T17:07:16.474Z"
   },
   {
    "duration": 13,
    "start_time": "2024-06-11T17:12:18.645Z"
   },
   {
    "duration": 13,
    "start_time": "2024-06-11T17:12:20.475Z"
   },
   {
    "duration": 102,
    "start_time": "2024-06-11T17:13:04.043Z"
   },
   {
    "duration": 65,
    "start_time": "2024-06-11T17:13:22.737Z"
   },
   {
    "duration": 337,
    "start_time": "2024-06-11T17:23:39.884Z"
   },
   {
    "duration": 263,
    "start_time": "2024-06-11T17:23:52.391Z"
   },
   {
    "duration": 212,
    "start_time": "2024-06-11T17:24:09.179Z"
   },
   {
    "duration": 256,
    "start_time": "2024-06-11T17:26:00.344Z"
   },
   {
    "duration": 253,
    "start_time": "2024-06-11T17:26:40.709Z"
   },
   {
    "duration": 397,
    "start_time": "2024-06-11T17:27:34.619Z"
   },
   {
    "duration": 278,
    "start_time": "2024-06-11T17:28:02.561Z"
   },
   {
    "duration": 77,
    "start_time": "2024-06-11T17:35:32.099Z"
   },
   {
    "duration": 34,
    "start_time": "2024-06-11T17:35:36.234Z"
   },
   {
    "duration": 49,
    "start_time": "2024-06-11T17:35:42.694Z"
   },
   {
    "duration": 32,
    "start_time": "2024-06-11T17:36:06.509Z"
   },
   {
    "duration": 287,
    "start_time": "2024-06-11T18:36:54.082Z"
   },
   {
    "duration": 292,
    "start_time": "2024-06-11T18:38:09.718Z"
   },
   {
    "duration": 307,
    "start_time": "2024-06-11T18:38:16.583Z"
   },
   {
    "duration": 218,
    "start_time": "2024-06-11T18:41:12.945Z"
   },
   {
    "duration": 253,
    "start_time": "2024-06-11T18:41:26.014Z"
   },
   {
    "duration": 12,
    "start_time": "2024-06-11T18:53:35.918Z"
   },
   {
    "duration": 3,
    "start_time": "2024-06-11T18:54:25.365Z"
   },
   {
    "duration": 188,
    "start_time": "2024-06-11T18:54:31.138Z"
   },
   {
    "duration": 64,
    "start_time": "2024-06-11T19:11:37.612Z"
   },
   {
    "duration": 55,
    "start_time": "2024-06-11T19:12:23.186Z"
   },
   {
    "duration": 70,
    "start_time": "2024-06-11T19:12:32.175Z"
   },
   {
    "duration": 7,
    "start_time": "2024-06-11T19:24:47.274Z"
   },
   {
    "duration": 13,
    "start_time": "2024-06-11T19:24:54.453Z"
   },
   {
    "duration": 6,
    "start_time": "2024-06-11T19:25:50.477Z"
   },
   {
    "duration": 11,
    "start_time": "2024-06-11T19:25:57.910Z"
   },
   {
    "duration": 23,
    "start_time": "2024-06-11T19:28:07.108Z"
   },
   {
    "duration": 15,
    "start_time": "2024-06-11T19:39:56.121Z"
   },
   {
    "duration": 9,
    "start_time": "2024-06-11T19:40:39.996Z"
   },
   {
    "duration": 1242,
    "start_time": "2024-06-11T19:40:47.948Z"
   },
   {
    "duration": 40,
    "start_time": "2024-06-11T19:40:49.192Z"
   },
   {
    "duration": 12,
    "start_time": "2024-06-11T19:40:49.234Z"
   },
   {
    "duration": 44,
    "start_time": "2024-06-11T19:40:49.247Z"
   },
   {
    "duration": 11,
    "start_time": "2024-06-11T19:40:49.293Z"
   },
   {
    "duration": 38,
    "start_time": "2024-06-11T19:40:49.305Z"
   },
   {
    "duration": 13,
    "start_time": "2024-06-11T19:40:49.345Z"
   },
   {
    "duration": 21,
    "start_time": "2024-06-11T19:40:49.360Z"
   },
   {
    "duration": 7,
    "start_time": "2024-06-11T19:40:49.383Z"
   },
   {
    "duration": 10,
    "start_time": "2024-06-11T19:40:49.392Z"
   },
   {
    "duration": 10,
    "start_time": "2024-06-11T19:40:49.404Z"
   },
   {
    "duration": 6,
    "start_time": "2024-06-11T19:40:49.416Z"
   },
   {
    "duration": 220,
    "start_time": "2024-06-11T19:40:49.424Z"
   },
   {
    "duration": 9,
    "start_time": "2024-06-11T19:40:49.647Z"
   },
   {
    "duration": 167,
    "start_time": "2024-06-11T19:40:49.657Z"
   },
   {
    "duration": 5,
    "start_time": "2024-06-11T19:40:49.826Z"
   },
   {
    "duration": 334,
    "start_time": "2024-06-11T19:40:49.833Z"
   },
   {
    "duration": 12,
    "start_time": "2024-06-11T19:40:50.169Z"
   },
   {
    "duration": 279,
    "start_time": "2024-06-11T19:40:50.183Z"
   },
   {
    "duration": 12,
    "start_time": "2024-06-11T19:40:50.464Z"
   },
   {
    "duration": 268,
    "start_time": "2024-06-11T19:40:50.478Z"
   },
   {
    "duration": 24,
    "start_time": "2024-06-11T19:40:50.748Z"
   },
   {
    "duration": 8,
    "start_time": "2024-06-11T19:40:50.774Z"
   },
   {
    "duration": 27,
    "start_time": "2024-06-11T19:40:50.783Z"
   },
   {
    "duration": 12,
    "start_time": "2024-06-11T19:40:50.812Z"
   },
   {
    "duration": 121,
    "start_time": "2024-06-11T19:40:50.826Z"
   },
   {
    "duration": 18,
    "start_time": "2024-06-11T19:40:50.949Z"
   },
   {
    "duration": 33,
    "start_time": "2024-06-11T19:40:50.969Z"
   },
   {
    "duration": 329,
    "start_time": "2024-06-11T19:40:51.004Z"
   },
   {
    "duration": 366,
    "start_time": "2024-06-11T19:40:51.335Z"
   },
   {
    "duration": 0,
    "start_time": "2024-06-11T19:40:51.703Z"
   },
   {
    "duration": 0,
    "start_time": "2024-06-11T19:40:51.705Z"
   },
   {
    "duration": 0,
    "start_time": "2024-06-11T19:40:51.706Z"
   },
   {
    "duration": 1213,
    "start_time": "2024-06-11T19:41:21.871Z"
   },
   {
    "duration": 38,
    "start_time": "2024-06-11T19:41:23.086Z"
   },
   {
    "duration": 11,
    "start_time": "2024-06-11T19:41:23.126Z"
   },
   {
    "duration": 44,
    "start_time": "2024-06-11T19:41:23.139Z"
   },
   {
    "duration": 12,
    "start_time": "2024-06-11T19:41:23.185Z"
   },
   {
    "duration": 40,
    "start_time": "2024-06-11T19:41:23.198Z"
   },
   {
    "duration": 15,
    "start_time": "2024-06-11T19:41:23.240Z"
   },
   {
    "duration": 24,
    "start_time": "2024-06-11T19:41:23.257Z"
   },
   {
    "duration": 8,
    "start_time": "2024-06-11T19:41:23.283Z"
   },
   {
    "duration": 11,
    "start_time": "2024-06-11T19:41:23.295Z"
   },
   {
    "duration": 9,
    "start_time": "2024-06-11T19:41:23.309Z"
   },
   {
    "duration": 37,
    "start_time": "2024-06-11T19:41:23.320Z"
   },
   {
    "duration": 197,
    "start_time": "2024-06-11T19:41:23.359Z"
   },
   {
    "duration": 6,
    "start_time": "2024-06-11T19:41:23.558Z"
   },
   {
    "duration": 160,
    "start_time": "2024-06-11T19:41:23.567Z"
   },
   {
    "duration": 7,
    "start_time": "2024-06-11T19:41:23.729Z"
   },
   {
    "duration": 340,
    "start_time": "2024-06-11T19:41:23.738Z"
   },
   {
    "duration": 12,
    "start_time": "2024-06-11T19:41:24.080Z"
   },
   {
    "duration": 273,
    "start_time": "2024-06-11T19:41:24.094Z"
   },
   {
    "duration": 11,
    "start_time": "2024-06-11T19:41:24.369Z"
   },
   {
    "duration": 256,
    "start_time": "2024-06-11T19:41:24.382Z"
   },
   {
    "duration": 25,
    "start_time": "2024-06-11T19:41:24.640Z"
   },
   {
    "duration": 6,
    "start_time": "2024-06-11T19:41:24.666Z"
   },
   {
    "duration": 10,
    "start_time": "2024-06-11T19:41:24.674Z"
   },
   {
    "duration": 12,
    "start_time": "2024-06-11T19:41:24.685Z"
   },
   {
    "duration": 135,
    "start_time": "2024-06-11T19:41:24.699Z"
   },
   {
    "duration": 21,
    "start_time": "2024-06-11T19:41:24.836Z"
   },
   {
    "duration": 32,
    "start_time": "2024-06-11T19:41:24.861Z"
   },
   {
    "duration": 304,
    "start_time": "2024-06-11T19:41:24.894Z"
   },
   {
    "duration": 366,
    "start_time": "2024-06-11T19:41:25.199Z"
   },
   {
    "duration": 0,
    "start_time": "2024-06-11T19:41:25.566Z"
   },
   {
    "duration": 0,
    "start_time": "2024-06-11T19:41:25.567Z"
   },
   {
    "duration": 0,
    "start_time": "2024-06-11T19:41:25.568Z"
   },
   {
    "duration": 291,
    "start_time": "2024-06-11T19:42:36.420Z"
   },
   {
    "duration": 66,
    "start_time": "2024-06-11T19:42:39.349Z"
   },
   {
    "duration": 27,
    "start_time": "2024-06-11T19:42:42.367Z"
   },
   {
    "duration": 10,
    "start_time": "2024-06-11T19:42:54.814Z"
   },
   {
    "duration": 8,
    "start_time": "2024-06-11T19:55:02.782Z"
   },
   {
    "duration": 6,
    "start_time": "2024-06-11T19:56:58.467Z"
   },
   {
    "duration": 780,
    "start_time": "2024-06-11T20:05:40.810Z"
   },
   {
    "duration": 772,
    "start_time": "2024-06-11T20:06:24.235Z"
   },
   {
    "duration": 7,
    "start_time": "2024-06-11T20:07:06.750Z"
   },
   {
    "duration": 10,
    "start_time": "2024-06-11T20:07:23.198Z"
   },
   {
    "duration": 9,
    "start_time": "2024-06-11T20:21:22.732Z"
   },
   {
    "duration": 12,
    "start_time": "2024-06-11T20:48:01.329Z"
   },
   {
    "duration": 8,
    "start_time": "2024-06-11T20:48:22.999Z"
   },
   {
    "duration": 6,
    "start_time": "2024-06-11T20:48:23.704Z"
   },
   {
    "duration": 1174,
    "start_time": "2024-06-11T20:48:50.618Z"
   },
   {
    "duration": 39,
    "start_time": "2024-06-11T20:48:51.794Z"
   },
   {
    "duration": 11,
    "start_time": "2024-06-11T20:48:51.834Z"
   },
   {
    "duration": 43,
    "start_time": "2024-06-11T20:48:51.847Z"
   },
   {
    "duration": 11,
    "start_time": "2024-06-11T20:48:51.892Z"
   },
   {
    "duration": 24,
    "start_time": "2024-06-11T20:48:51.905Z"
   },
   {
    "duration": 9,
    "start_time": "2024-06-11T20:48:51.931Z"
   },
   {
    "duration": 18,
    "start_time": "2024-06-11T20:48:51.942Z"
   },
   {
    "duration": 8,
    "start_time": "2024-06-11T20:48:51.961Z"
   },
   {
    "duration": 5,
    "start_time": "2024-06-11T20:48:51.971Z"
   },
   {
    "duration": 9,
    "start_time": "2024-06-11T20:48:51.978Z"
   },
   {
    "duration": 16,
    "start_time": "2024-06-11T20:48:51.989Z"
   },
   {
    "duration": 16,
    "start_time": "2024-06-11T20:48:52.006Z"
   },
   {
    "duration": 212,
    "start_time": "2024-06-11T20:48:52.025Z"
   },
   {
    "duration": 6,
    "start_time": "2024-06-11T20:48:52.238Z"
   },
   {
    "duration": 154,
    "start_time": "2024-06-11T20:48:52.255Z"
   },
   {
    "duration": 6,
    "start_time": "2024-06-11T20:48:52.411Z"
   },
   {
    "duration": 324,
    "start_time": "2024-06-11T20:48:52.418Z"
   },
   {
    "duration": 16,
    "start_time": "2024-06-11T20:48:52.744Z"
   },
   {
    "duration": 265,
    "start_time": "2024-06-11T20:48:52.761Z"
   },
   {
    "duration": 11,
    "start_time": "2024-06-11T20:48:53.027Z"
   },
   {
    "duration": 256,
    "start_time": "2024-06-11T20:48:53.040Z"
   },
   {
    "duration": 20,
    "start_time": "2024-06-11T20:48:53.298Z"
   },
   {
    "duration": 8,
    "start_time": "2024-06-11T20:48:53.320Z"
   },
   {
    "duration": 34,
    "start_time": "2024-06-11T20:48:53.330Z"
   },
   {
    "duration": 16,
    "start_time": "2024-06-11T20:48:53.367Z"
   },
   {
    "duration": 123,
    "start_time": "2024-06-11T20:48:53.384Z"
   },
   {
    "duration": 14,
    "start_time": "2024-06-11T20:48:53.509Z"
   },
   {
    "duration": 49,
    "start_time": "2024-06-11T20:48:53.525Z"
   },
   {
    "duration": 341,
    "start_time": "2024-06-11T20:48:53.576Z"
   },
   {
    "duration": 292,
    "start_time": "2024-06-11T20:48:53.919Z"
   },
   {
    "duration": 69,
    "start_time": "2024-06-11T20:48:54.213Z"
   },
   {
    "duration": 22,
    "start_time": "2024-06-11T20:48:54.284Z"
   },
   {
    "duration": 6,
    "start_time": "2024-06-11T20:48:54.307Z"
   },
   {
    "duration": 9,
    "start_time": "2024-06-11T20:48:54.314Z"
   },
   {
    "duration": 8,
    "start_time": "2024-06-11T20:48:54.325Z"
   },
   {
    "duration": 124,
    "start_time": "2024-06-11T21:18:32.012Z"
   },
   {
    "duration": 7,
    "start_time": "2024-06-11T21:18:50.555Z"
   },
   {
    "duration": 132,
    "start_time": "2024-06-11T21:21:59.418Z"
   },
   {
    "duration": 164,
    "start_time": "2024-06-11T21:22:53.926Z"
   },
   {
    "duration": 137,
    "start_time": "2024-06-11T21:23:12.683Z"
   },
   {
    "duration": 135,
    "start_time": "2024-06-11T21:23:16.305Z"
   },
   {
    "duration": 131,
    "start_time": "2024-06-11T21:24:13.213Z"
   },
   {
    "duration": 138,
    "start_time": "2024-06-11T21:24:18.562Z"
   },
   {
    "duration": 143,
    "start_time": "2024-06-11T21:24:25.525Z"
   },
   {
    "duration": 299,
    "start_time": "2024-06-11T21:25:57.462Z"
   },
   {
    "duration": 214,
    "start_time": "2024-06-11T21:26:04.045Z"
   },
   {
    "duration": 7,
    "start_time": "2024-06-11T21:26:13.705Z"
   },
   {
    "duration": 491,
    "start_time": "2024-06-11T21:31:40.398Z"
   },
   {
    "duration": 484,
    "start_time": "2024-06-11T21:31:48.013Z"
   },
   {
    "duration": 508,
    "start_time": "2024-06-11T21:33:13.888Z"
   },
   {
    "duration": 514,
    "start_time": "2024-06-11T21:33:57.925Z"
   },
   {
    "duration": 582,
    "start_time": "2024-06-11T21:34:48.213Z"
   },
   {
    "duration": 508,
    "start_time": "2024-06-11T21:34:55.005Z"
   },
   {
    "duration": 482,
    "start_time": "2024-06-11T21:36:03.173Z"
   },
   {
    "duration": 490,
    "start_time": "2024-06-11T21:37:06.166Z"
   },
   {
    "duration": 508,
    "start_time": "2024-06-11T21:37:46.573Z"
   },
   {
    "duration": 478,
    "start_time": "2024-06-11T21:38:15.369Z"
   },
   {
    "duration": 627,
    "start_time": "2024-06-11T21:38:48.702Z"
   },
   {
    "duration": 486,
    "start_time": "2024-06-11T21:40:13.137Z"
   },
   {
    "duration": 323,
    "start_time": "2024-06-11T21:40:52.447Z"
   },
   {
    "duration": 1406,
    "start_time": "2024-06-11T21:42:40.757Z"
   },
   {
    "duration": 504,
    "start_time": "2024-06-11T21:43:35.264Z"
   },
   {
    "duration": 638,
    "start_time": "2024-06-11T21:43:43.131Z"
   },
   {
    "duration": 541,
    "start_time": "2024-06-11T21:44:01.517Z"
   },
   {
    "duration": 571,
    "start_time": "2024-06-11T21:44:09.092Z"
   },
   {
    "duration": 598,
    "start_time": "2024-06-11T21:44:49.896Z"
   },
   {
    "duration": 8,
    "start_time": "2024-06-11T21:47:59.529Z"
   },
   {
    "duration": 10,
    "start_time": "2024-06-11T21:48:55.170Z"
   },
   {
    "duration": 41,
    "start_time": "2024-06-12T15:08:27.315Z"
   },
   {
    "duration": 1139,
    "start_time": "2024-06-12T15:08:39.084Z"
   },
   {
    "duration": 103,
    "start_time": "2024-06-12T15:08:40.225Z"
   },
   {
    "duration": 9,
    "start_time": "2024-06-12T15:08:40.329Z"
   },
   {
    "duration": 152,
    "start_time": "2024-06-12T15:08:40.339Z"
   },
   {
    "duration": 8,
    "start_time": "2024-06-12T15:08:40.492Z"
   },
   {
    "duration": 75,
    "start_time": "2024-06-12T15:08:40.502Z"
   },
   {
    "duration": 7,
    "start_time": "2024-06-12T15:08:40.578Z"
   },
   {
    "duration": 11,
    "start_time": "2024-06-12T15:08:40.586Z"
   },
   {
    "duration": 5,
    "start_time": "2024-06-12T15:08:40.598Z"
   },
   {
    "duration": 13,
    "start_time": "2024-06-12T15:08:40.605Z"
   },
   {
    "duration": 7,
    "start_time": "2024-06-12T15:08:40.619Z"
   },
   {
    "duration": 4,
    "start_time": "2024-06-12T15:08:40.627Z"
   },
   {
    "duration": 185,
    "start_time": "2024-06-12T15:08:40.632Z"
   },
   {
    "duration": 5,
    "start_time": "2024-06-12T15:08:40.819Z"
   },
   {
    "duration": 103,
    "start_time": "2024-06-12T15:08:40.825Z"
   },
   {
    "duration": 4,
    "start_time": "2024-06-12T15:08:40.929Z"
   },
   {
    "duration": 421,
    "start_time": "2024-06-12T15:08:40.934Z"
   },
   {
    "duration": 5,
    "start_time": "2024-06-12T15:08:41.357Z"
   },
   {
    "duration": 9,
    "start_time": "2024-06-12T15:08:41.363Z"
   },
   {
    "duration": 194,
    "start_time": "2024-06-12T15:08:41.373Z"
   },
   {
    "duration": 8,
    "start_time": "2024-06-12T15:08:41.568Z"
   },
   {
    "duration": 179,
    "start_time": "2024-06-12T15:08:41.577Z"
   },
   {
    "duration": 12,
    "start_time": "2024-06-12T15:08:41.757Z"
   },
   {
    "duration": 5,
    "start_time": "2024-06-12T15:08:41.770Z"
   },
   {
    "duration": 7,
    "start_time": "2024-06-12T15:08:41.789Z"
   },
   {
    "duration": 9,
    "start_time": "2024-06-12T15:08:41.797Z"
   },
   {
    "duration": 93,
    "start_time": "2024-06-12T15:08:41.807Z"
   },
   {
    "duration": 8,
    "start_time": "2024-06-12T15:08:41.902Z"
   },
   {
    "duration": 22,
    "start_time": "2024-06-12T15:08:41.911Z"
   },
   {
    "duration": 275,
    "start_time": "2024-06-12T15:08:41.934Z"
   },
   {
    "duration": 224,
    "start_time": "2024-06-12T15:08:42.211Z"
   },
   {
    "duration": 56,
    "start_time": "2024-06-12T15:08:42.437Z"
   },
   {
    "duration": 16,
    "start_time": "2024-06-12T15:08:42.494Z"
   },
   {
    "duration": 3,
    "start_time": "2024-06-12T15:08:42.511Z"
   },
   {
    "duration": 19,
    "start_time": "2024-06-12T15:08:42.515Z"
   },
   {
    "duration": 7,
    "start_time": "2024-06-12T15:08:42.535Z"
   },
   {
    "duration": 248,
    "start_time": "2024-06-12T15:09:13.888Z"
   },
   {
    "duration": 327,
    "start_time": "2024-06-12T15:09:34.184Z"
   },
   {
    "duration": 218,
    "start_time": "2024-06-12T15:09:52.644Z"
   },
   {
    "duration": 7,
    "start_time": "2024-06-12T15:24:11.914Z"
   },
   {
    "duration": 11,
    "start_time": "2024-06-12T15:26:22.720Z"
   },
   {
    "duration": 13,
    "start_time": "2024-06-12T15:26:46.983Z"
   },
   {
    "duration": 8,
    "start_time": "2024-06-12T15:32:00.558Z"
   },
   {
    "duration": 10,
    "start_time": "2024-06-12T15:32:09.104Z"
   },
   {
    "duration": 14,
    "start_time": "2024-06-12T15:33:04.353Z"
   },
   {
    "duration": 14,
    "start_time": "2024-06-12T15:38:13.283Z"
   },
   {
    "duration": 11,
    "start_time": "2024-06-12T15:38:14.175Z"
   },
   {
    "duration": 1283,
    "start_time": "2024-06-12T21:19:47.468Z"
   },
   {
    "duration": 115,
    "start_time": "2024-06-12T21:19:48.753Z"
   },
   {
    "duration": 11,
    "start_time": "2024-06-12T21:19:48.869Z"
   },
   {
    "duration": 152,
    "start_time": "2024-06-12T21:19:48.882Z"
   },
   {
    "duration": 9,
    "start_time": "2024-06-12T21:19:49.036Z"
   },
   {
    "duration": 78,
    "start_time": "2024-06-12T21:19:49.046Z"
   },
   {
    "duration": 11,
    "start_time": "2024-06-12T21:19:49.126Z"
   },
   {
    "duration": 18,
    "start_time": "2024-06-12T21:19:49.138Z"
   },
   {
    "duration": 7,
    "start_time": "2024-06-12T21:19:49.157Z"
   },
   {
    "duration": 9,
    "start_time": "2024-06-12T21:19:49.166Z"
   },
   {
    "duration": 9,
    "start_time": "2024-06-12T21:19:49.176Z"
   },
   {
    "duration": 5,
    "start_time": "2024-06-12T21:19:49.186Z"
   },
   {
    "duration": 194,
    "start_time": "2024-06-12T21:19:49.192Z"
   },
   {
    "duration": 5,
    "start_time": "2024-06-12T21:19:49.388Z"
   },
   {
    "duration": 130,
    "start_time": "2024-06-12T21:19:49.395Z"
   },
   {
    "duration": 5,
    "start_time": "2024-06-12T21:19:49.527Z"
   },
   {
    "duration": 473,
    "start_time": "2024-06-12T21:19:49.533Z"
   },
   {
    "duration": 8,
    "start_time": "2024-06-12T21:19:50.007Z"
   },
   {
    "duration": 18,
    "start_time": "2024-06-12T21:19:50.017Z"
   },
   {
    "duration": 229,
    "start_time": "2024-06-12T21:19:50.036Z"
   },
   {
    "duration": 9,
    "start_time": "2024-06-12T21:19:50.267Z"
   },
   {
    "duration": 253,
    "start_time": "2024-06-12T21:19:50.277Z"
   },
   {
    "duration": 16,
    "start_time": "2024-06-12T21:19:50.531Z"
   },
   {
    "duration": 18,
    "start_time": "2024-06-12T21:19:50.548Z"
   },
   {
    "duration": 11,
    "start_time": "2024-06-12T21:19:50.568Z"
   },
   {
    "duration": 19,
    "start_time": "2024-06-12T21:19:50.581Z"
   },
   {
    "duration": 81,
    "start_time": "2024-06-12T21:19:50.601Z"
   },
   {
    "duration": 235,
    "start_time": "2024-06-12T21:19:50.684Z"
   },
   {
    "duration": 11,
    "start_time": "2024-06-12T21:19:50.921Z"
   },
   {
    "duration": 254,
    "start_time": "2024-06-12T21:19:50.934Z"
   },
   {
    "duration": 13,
    "start_time": "2024-06-12T21:19:51.190Z"
   },
   {
    "duration": 67,
    "start_time": "2024-06-12T21:19:51.205Z"
   },
   {
    "duration": 19,
    "start_time": "2024-06-12T21:19:51.274Z"
   },
   {
    "duration": 5,
    "start_time": "2024-06-12T21:19:51.295Z"
   },
   {
    "duration": 7,
    "start_time": "2024-06-12T21:19:51.302Z"
   },
   {
    "duration": 24,
    "start_time": "2024-06-12T21:19:51.310Z"
   },
   {
    "duration": 2,
    "start_time": "2024-06-12T21:23:26.161Z"
   },
   {
    "duration": 1035,
    "start_time": "2024-06-12T22:29:08.199Z"
   },
   {
    "duration": 36,
    "start_time": "2024-06-12T22:29:09.236Z"
   },
   {
    "duration": 9,
    "start_time": "2024-06-12T22:29:09.273Z"
   },
   {
    "duration": 58,
    "start_time": "2024-06-12T22:29:09.283Z"
   },
   {
    "duration": 8,
    "start_time": "2024-06-12T22:29:09.343Z"
   },
   {
    "duration": 18,
    "start_time": "2024-06-12T22:29:09.353Z"
   },
   {
    "duration": 8,
    "start_time": "2024-06-12T22:29:09.372Z"
   },
   {
    "duration": 19,
    "start_time": "2024-06-12T22:29:09.381Z"
   },
   {
    "duration": 17,
    "start_time": "2024-06-12T22:29:09.401Z"
   },
   {
    "duration": 4,
    "start_time": "2024-06-12T22:29:09.419Z"
   },
   {
    "duration": 11,
    "start_time": "2024-06-12T22:29:09.425Z"
   },
   {
    "duration": 16,
    "start_time": "2024-06-12T22:29:09.437Z"
   },
   {
    "duration": 196,
    "start_time": "2024-06-12T22:29:09.454Z"
   },
   {
    "duration": 5,
    "start_time": "2024-06-12T22:29:09.652Z"
   },
   {
    "duration": 125,
    "start_time": "2024-06-12T22:29:09.658Z"
   },
   {
    "duration": 5,
    "start_time": "2024-06-12T22:29:09.784Z"
   },
   {
    "duration": 491,
    "start_time": "2024-06-12T22:29:09.791Z"
   },
   {
    "duration": 6,
    "start_time": "2024-06-12T22:29:10.283Z"
   },
   {
    "duration": 14,
    "start_time": "2024-06-12T22:29:10.291Z"
   },
   {
    "duration": 209,
    "start_time": "2024-06-12T22:29:10.306Z"
   },
   {
    "duration": 9,
    "start_time": "2024-06-12T22:29:10.516Z"
   },
   {
    "duration": 196,
    "start_time": "2024-06-12T22:29:10.526Z"
   },
   {
    "duration": 15,
    "start_time": "2024-06-12T22:29:10.724Z"
   },
   {
    "duration": 15,
    "start_time": "2024-06-12T22:29:10.740Z"
   },
   {
    "duration": 16,
    "start_time": "2024-06-12T22:29:10.757Z"
   },
   {
    "duration": 11,
    "start_time": "2024-06-12T22:29:10.774Z"
   },
   {
    "duration": 60,
    "start_time": "2024-06-12T22:29:10.787Z"
   },
   {
    "duration": 238,
    "start_time": "2024-06-12T22:29:10.848Z"
   },
   {
    "duration": 11,
    "start_time": "2024-06-12T22:29:11.088Z"
   },
   {
    "duration": 249,
    "start_time": "2024-06-12T22:29:11.101Z"
   },
   {
    "duration": 21,
    "start_time": "2024-06-12T22:29:11.351Z"
   },
   {
    "duration": 61,
    "start_time": "2024-06-12T22:29:11.373Z"
   },
   {
    "duration": 17,
    "start_time": "2024-06-12T22:29:11.436Z"
   },
   {
    "duration": 5,
    "start_time": "2024-06-12T22:29:11.454Z"
   },
   {
    "duration": 13,
    "start_time": "2024-06-12T22:29:11.460Z"
   },
   {
    "duration": 21,
    "start_time": "2024-06-12T22:29:11.475Z"
   },
   {
    "duration": 1268,
    "start_time": "2024-06-13T12:33:51.882Z"
   },
   {
    "duration": 82,
    "start_time": "2024-06-13T12:33:53.152Z"
   },
   {
    "duration": 11,
    "start_time": "2024-06-13T12:33:53.235Z"
   },
   {
    "duration": 86,
    "start_time": "2024-06-13T12:33:53.249Z"
   },
   {
    "duration": 10,
    "start_time": "2024-06-13T12:33:53.337Z"
   },
   {
    "duration": 79,
    "start_time": "2024-06-13T12:33:53.348Z"
   },
   {
    "duration": 9,
    "start_time": "2024-06-13T12:33:53.428Z"
   },
   {
    "duration": 18,
    "start_time": "2024-06-13T12:33:53.439Z"
   },
   {
    "duration": 6,
    "start_time": "2024-06-13T12:33:53.459Z"
   },
   {
    "duration": 5,
    "start_time": "2024-06-13T12:33:53.468Z"
   },
   {
    "duration": 17,
    "start_time": "2024-06-13T12:33:53.474Z"
   },
   {
    "duration": 5,
    "start_time": "2024-06-13T12:33:53.492Z"
   },
   {
    "duration": 211,
    "start_time": "2024-06-13T12:33:53.498Z"
   },
   {
    "duration": 5,
    "start_time": "2024-06-13T12:33:53.710Z"
   },
   {
    "duration": 121,
    "start_time": "2024-06-13T12:33:53.716Z"
   },
   {
    "duration": 8,
    "start_time": "2024-06-13T12:33:53.839Z"
   },
   {
    "duration": 523,
    "start_time": "2024-06-13T12:33:53.849Z"
   },
   {
    "duration": 7,
    "start_time": "2024-06-13T12:33:54.374Z"
   },
   {
    "duration": 11,
    "start_time": "2024-06-13T12:33:54.382Z"
   },
   {
    "duration": 253,
    "start_time": "2024-06-13T12:33:54.394Z"
   },
   {
    "duration": 11,
    "start_time": "2024-06-13T12:33:54.648Z"
   },
   {
    "duration": 241,
    "start_time": "2024-06-13T12:33:54.660Z"
   },
   {
    "duration": 13,
    "start_time": "2024-06-13T12:33:54.902Z"
   },
   {
    "duration": 28,
    "start_time": "2024-06-13T12:33:54.917Z"
   },
   {
    "duration": 6,
    "start_time": "2024-06-13T12:33:54.947Z"
   },
   {
    "duration": 8,
    "start_time": "2024-06-13T12:33:54.954Z"
   },
   {
    "duration": 11,
    "start_time": "2024-06-13T12:33:54.963Z"
   },
   {
    "duration": 11,
    "start_time": "2024-06-13T12:33:54.976Z"
   },
   {
    "duration": 357,
    "start_time": "2024-06-13T12:33:54.988Z"
   },
   {
    "duration": 13,
    "start_time": "2024-06-13T12:33:55.347Z"
   },
   {
    "duration": 267,
    "start_time": "2024-06-13T12:33:55.362Z"
   },
   {
    "duration": 21,
    "start_time": "2024-06-13T12:33:55.630Z"
   },
   {
    "duration": 55,
    "start_time": "2024-06-13T12:33:55.652Z"
   },
   {
    "duration": 18,
    "start_time": "2024-06-13T12:33:55.708Z"
   },
   {
    "duration": 5,
    "start_time": "2024-06-13T12:33:55.745Z"
   },
   {
    "duration": 23,
    "start_time": "2024-06-13T12:33:55.751Z"
   },
   {
    "duration": 19,
    "start_time": "2024-06-13T12:33:55.775Z"
   },
   {
    "duration": 20,
    "start_time": "2024-06-13T12:36:49.311Z"
   },
   {
    "duration": 208,
    "start_time": "2024-06-13T12:37:26.363Z"
   },
   {
    "duration": 191,
    "start_time": "2024-06-13T12:37:36.881Z"
   },
   {
    "duration": 214,
    "start_time": "2024-06-13T12:37:52.949Z"
   },
   {
    "duration": 19,
    "start_time": "2024-06-13T12:42:15.854Z"
   },
   {
    "duration": 19,
    "start_time": "2024-06-13T12:42:29.102Z"
   },
   {
    "duration": 25,
    "start_time": "2024-06-13T12:44:30.923Z"
   },
   {
    "duration": 29,
    "start_time": "2024-06-13T12:44:57.329Z"
   },
   {
    "duration": 13,
    "start_time": "2024-06-13T12:58:21.406Z"
   },
   {
    "duration": 170,
    "start_time": "2024-06-13T13:07:13.266Z"
   },
   {
    "duration": 182,
    "start_time": "2024-06-13T13:07:57.931Z"
   },
   {
    "duration": 246,
    "start_time": "2024-06-13T13:09:20.948Z"
   },
   {
    "duration": 180,
    "start_time": "2024-06-13T13:09:26.286Z"
   },
   {
    "duration": 179,
    "start_time": "2024-06-13T13:10:38.016Z"
   },
   {
    "duration": 222,
    "start_time": "2024-06-13T13:11:17.344Z"
   },
   {
    "duration": 182,
    "start_time": "2024-06-13T13:11:22.666Z"
   },
   {
    "duration": 77,
    "start_time": "2024-06-13T13:15:26.027Z"
   },
   {
    "duration": 90,
    "start_time": "2024-06-13T13:15:34.596Z"
   },
   {
    "duration": 77,
    "start_time": "2024-06-13T13:16:21.752Z"
   },
   {
    "duration": 1132,
    "start_time": "2024-06-13T13:33:30.914Z"
   },
   {
    "duration": 38,
    "start_time": "2024-06-13T13:33:32.047Z"
   },
   {
    "duration": 10,
    "start_time": "2024-06-13T13:33:32.086Z"
   },
   {
    "duration": 59,
    "start_time": "2024-06-13T13:33:32.098Z"
   },
   {
    "duration": 14,
    "start_time": "2024-06-13T13:33:32.159Z"
   },
   {
    "duration": 24,
    "start_time": "2024-06-13T13:33:32.174Z"
   },
   {
    "duration": 8,
    "start_time": "2024-06-13T13:33:32.200Z"
   },
   {
    "duration": 26,
    "start_time": "2024-06-13T13:33:32.209Z"
   },
   {
    "duration": 15,
    "start_time": "2024-06-13T13:33:32.236Z"
   },
   {
    "duration": 9,
    "start_time": "2024-06-13T13:33:32.253Z"
   },
   {
    "duration": 13,
    "start_time": "2024-06-13T13:33:32.263Z"
   },
   {
    "duration": 18,
    "start_time": "2024-06-13T13:33:32.277Z"
   },
   {
    "duration": 216,
    "start_time": "2024-06-13T13:33:32.297Z"
   },
   {
    "duration": 174,
    "start_time": "2024-06-13T13:33:32.514Z"
   },
   {
    "duration": 5,
    "start_time": "2024-06-13T13:33:32.689Z"
   },
   {
    "duration": 139,
    "start_time": "2024-06-13T13:33:32.696Z"
   },
   {
    "duration": 90,
    "start_time": "2024-06-13T13:33:32.837Z"
   },
   {
    "duration": 5,
    "start_time": "2024-06-13T13:33:32.929Z"
   },
   {
    "duration": 527,
    "start_time": "2024-06-13T13:33:32.935Z"
   },
   {
    "duration": 8,
    "start_time": "2024-06-13T13:33:33.463Z"
   },
   {
    "duration": 14,
    "start_time": "2024-06-13T13:33:33.473Z"
   },
   {
    "duration": 236,
    "start_time": "2024-06-13T13:33:33.488Z"
   },
   {
    "duration": 26,
    "start_time": "2024-06-13T13:33:33.726Z"
   },
   {
    "duration": 10,
    "start_time": "2024-06-13T13:33:33.753Z"
   },
   {
    "duration": 288,
    "start_time": "2024-06-13T13:33:33.764Z"
   },
   {
    "duration": 13,
    "start_time": "2024-06-13T13:33:34.054Z"
   },
   {
    "duration": 28,
    "start_time": "2024-06-13T13:33:34.069Z"
   },
   {
    "duration": 2,
    "start_time": "2024-06-13T13:33:34.100Z"
   },
   {
    "duration": 16,
    "start_time": "2024-06-13T13:33:34.104Z"
   },
   {
    "duration": 29,
    "start_time": "2024-06-13T13:33:34.122Z"
   },
   {
    "duration": 12,
    "start_time": "2024-06-13T13:33:34.153Z"
   },
   {
    "duration": 15,
    "start_time": "2024-06-13T13:33:34.167Z"
   },
   {
    "duration": 11,
    "start_time": "2024-06-13T13:33:34.183Z"
   },
   {
    "duration": 293,
    "start_time": "2024-06-13T13:33:34.195Z"
   },
   {
    "duration": 12,
    "start_time": "2024-06-13T13:33:34.490Z"
   },
   {
    "duration": 272,
    "start_time": "2024-06-13T13:33:34.504Z"
   },
   {
    "duration": 13,
    "start_time": "2024-06-13T13:33:34.777Z"
   },
   {
    "duration": 66,
    "start_time": "2024-06-13T13:33:34.791Z"
   },
   {
    "duration": 19,
    "start_time": "2024-06-13T13:33:34.858Z"
   },
   {
    "duration": 5,
    "start_time": "2024-06-13T13:33:34.878Z"
   },
   {
    "duration": 7,
    "start_time": "2024-06-13T13:33:34.884Z"
   },
   {
    "duration": 26,
    "start_time": "2024-06-13T13:33:34.893Z"
   },
   {
    "duration": 4,
    "start_time": "2024-06-13T13:43:21.235Z"
   },
   {
    "duration": 4,
    "start_time": "2024-06-13T13:43:21.815Z"
   },
   {
    "duration": 4,
    "start_time": "2024-06-13T13:44:05.073Z"
   },
   {
    "duration": 1140,
    "start_time": "2024-06-13T13:50:22.806Z"
   },
   {
    "duration": 42,
    "start_time": "2024-06-13T13:50:23.947Z"
   },
   {
    "duration": 12,
    "start_time": "2024-06-13T13:50:23.991Z"
   },
   {
    "duration": 50,
    "start_time": "2024-06-13T13:50:24.004Z"
   },
   {
    "duration": 11,
    "start_time": "2024-06-13T13:50:24.056Z"
   },
   {
    "duration": 30,
    "start_time": "2024-06-13T13:50:24.069Z"
   },
   {
    "duration": 18,
    "start_time": "2024-06-13T13:50:24.101Z"
   },
   {
    "duration": 31,
    "start_time": "2024-06-13T13:50:24.120Z"
   },
   {
    "duration": 18,
    "start_time": "2024-06-13T13:50:24.153Z"
   },
   {
    "duration": 24,
    "start_time": "2024-06-13T13:50:24.173Z"
   },
   {
    "duration": 29,
    "start_time": "2024-06-13T13:50:24.198Z"
   },
   {
    "duration": 17,
    "start_time": "2024-06-13T13:50:24.228Z"
   },
   {
    "duration": 236,
    "start_time": "2024-06-13T13:50:24.246Z"
   },
   {
    "duration": 176,
    "start_time": "2024-06-13T13:50:24.484Z"
   },
   {
    "duration": 4,
    "start_time": "2024-06-13T13:50:24.662Z"
   },
   {
    "duration": 143,
    "start_time": "2024-06-13T13:50:24.667Z"
   },
   {
    "duration": 92,
    "start_time": "2024-06-13T13:50:24.812Z"
   },
   {
    "duration": 5,
    "start_time": "2024-06-13T13:50:24.905Z"
   },
   {
    "duration": 515,
    "start_time": "2024-06-13T13:50:24.911Z"
   },
   {
    "duration": 17,
    "start_time": "2024-06-13T13:50:25.428Z"
   },
   {
    "duration": 24,
    "start_time": "2024-06-13T13:50:25.447Z"
   },
   {
    "duration": 240,
    "start_time": "2024-06-13T13:50:25.473Z"
   },
   {
    "duration": 18,
    "start_time": "2024-06-13T13:50:25.715Z"
   },
   {
    "duration": 10,
    "start_time": "2024-06-13T13:50:25.745Z"
   },
   {
    "duration": 293,
    "start_time": "2024-06-13T13:50:25.756Z"
   },
   {
    "duration": 14,
    "start_time": "2024-06-13T13:50:26.051Z"
   },
   {
    "duration": 44,
    "start_time": "2024-06-13T13:50:26.067Z"
   },
   {
    "duration": 15,
    "start_time": "2024-06-13T13:50:26.113Z"
   },
   {
    "duration": 36,
    "start_time": "2024-06-13T13:50:26.129Z"
   },
   {
    "duration": 15,
    "start_time": "2024-06-13T13:50:26.167Z"
   },
   {
    "duration": 37,
    "start_time": "2024-06-13T13:50:26.184Z"
   },
   {
    "duration": 28,
    "start_time": "2024-06-13T13:50:26.222Z"
   },
   {
    "duration": 41,
    "start_time": "2024-06-13T13:50:26.252Z"
   },
   {
    "duration": 333,
    "start_time": "2024-06-13T13:50:26.295Z"
   },
   {
    "duration": 20,
    "start_time": "2024-06-13T13:50:26.630Z"
   },
   {
    "duration": 277,
    "start_time": "2024-06-13T13:50:26.651Z"
   },
   {
    "duration": 16,
    "start_time": "2024-06-13T13:50:26.930Z"
   },
   {
    "duration": 82,
    "start_time": "2024-06-13T13:50:26.947Z"
   },
   {
    "duration": 37,
    "start_time": "2024-06-13T13:50:27.030Z"
   },
   {
    "duration": 9,
    "start_time": "2024-06-13T13:50:27.069Z"
   },
   {
    "duration": 44,
    "start_time": "2024-06-13T13:50:27.083Z"
   },
   {
    "duration": 49,
    "start_time": "2024-06-13T13:50:27.129Z"
   },
   {
    "duration": 24,
    "start_time": "2024-06-13T13:50:27.180Z"
   },
   {
    "duration": 27,
    "start_time": "2024-06-13T13:50:27.206Z"
   },
   {
    "duration": 30,
    "start_time": "2024-06-13T13:50:27.235Z"
   },
   {
    "duration": 49,
    "start_time": "2025-02-17T19:55:14.564Z"
   },
   {
    "duration": 1317,
    "start_time": "2025-02-17T19:55:20.823Z"
   },
   {
    "duration": 137,
    "start_time": "2025-02-17T19:55:22.142Z"
   },
   {
    "duration": 0,
    "start_time": "2025-02-17T19:55:22.281Z"
   },
   {
    "duration": 0,
    "start_time": "2025-02-17T19:55:22.283Z"
   },
   {
    "duration": 0,
    "start_time": "2025-02-17T19:55:22.284Z"
   },
   {
    "duration": 0,
    "start_time": "2025-02-17T19:55:22.285Z"
   },
   {
    "duration": 0,
    "start_time": "2025-02-17T19:55:22.286Z"
   },
   {
    "duration": 0,
    "start_time": "2025-02-17T19:55:22.287Z"
   },
   {
    "duration": 0,
    "start_time": "2025-02-17T19:55:22.288Z"
   },
   {
    "duration": 0,
    "start_time": "2025-02-17T19:55:22.289Z"
   },
   {
    "duration": 0,
    "start_time": "2025-02-17T19:55:22.291Z"
   },
   {
    "duration": 0,
    "start_time": "2025-02-17T19:55:22.292Z"
   },
   {
    "duration": 0,
    "start_time": "2025-02-17T19:55:22.313Z"
   },
   {
    "duration": 0,
    "start_time": "2025-02-17T19:55:22.315Z"
   },
   {
    "duration": 0,
    "start_time": "2025-02-17T19:55:22.316Z"
   },
   {
    "duration": 0,
    "start_time": "2025-02-17T19:55:22.317Z"
   },
   {
    "duration": 0,
    "start_time": "2025-02-17T19:55:22.318Z"
   },
   {
    "duration": 0,
    "start_time": "2025-02-17T19:55:22.319Z"
   },
   {
    "duration": 0,
    "start_time": "2025-02-17T19:55:22.320Z"
   },
   {
    "duration": 0,
    "start_time": "2025-02-17T19:55:22.321Z"
   },
   {
    "duration": 0,
    "start_time": "2025-02-17T19:55:22.323Z"
   },
   {
    "duration": 0,
    "start_time": "2025-02-17T19:55:22.323Z"
   },
   {
    "duration": 0,
    "start_time": "2025-02-17T19:55:22.325Z"
   },
   {
    "duration": 0,
    "start_time": "2025-02-17T19:55:22.326Z"
   },
   {
    "duration": 0,
    "start_time": "2025-02-17T19:55:22.327Z"
   },
   {
    "duration": 0,
    "start_time": "2025-02-17T19:55:22.328Z"
   },
   {
    "duration": 0,
    "start_time": "2025-02-17T19:55:22.329Z"
   },
   {
    "duration": 0,
    "start_time": "2025-02-17T19:55:22.330Z"
   },
   {
    "duration": 0,
    "start_time": "2025-02-17T19:55:22.331Z"
   },
   {
    "duration": 0,
    "start_time": "2025-02-17T19:55:22.332Z"
   },
   {
    "duration": 0,
    "start_time": "2025-02-17T19:55:22.333Z"
   },
   {
    "duration": 0,
    "start_time": "2025-02-17T19:55:22.334Z"
   },
   {
    "duration": 0,
    "start_time": "2025-02-17T19:55:22.335Z"
   },
   {
    "duration": 0,
    "start_time": "2025-02-17T19:55:22.337Z"
   },
   {
    "duration": 0,
    "start_time": "2025-02-17T19:55:22.338Z"
   },
   {
    "duration": 0,
    "start_time": "2025-02-17T19:55:22.339Z"
   },
   {
    "duration": 0,
    "start_time": "2025-02-17T19:55:22.340Z"
   },
   {
    "duration": 0,
    "start_time": "2025-02-17T19:55:22.341Z"
   },
   {
    "duration": 0,
    "start_time": "2025-02-17T19:55:22.342Z"
   },
   {
    "duration": 0,
    "start_time": "2025-02-17T19:55:22.343Z"
   },
   {
    "duration": 0,
    "start_time": "2025-02-17T19:55:22.345Z"
   },
   {
    "duration": 0,
    "start_time": "2025-02-17T19:55:22.346Z"
   },
   {
    "duration": 0,
    "start_time": "2025-02-17T19:55:22.347Z"
   },
   {
    "duration": 0,
    "start_time": "2025-02-17T19:55:22.348Z"
   },
   {
    "duration": 0,
    "start_time": "2025-02-17T19:55:22.349Z"
   },
   {
    "duration": 1248,
    "start_time": "2025-02-17T19:56:39.388Z"
   },
   {
    "duration": 37,
    "start_time": "2025-02-17T19:56:40.638Z"
   },
   {
    "duration": 11,
    "start_time": "2025-02-17T19:56:40.677Z"
   },
   {
    "duration": 36,
    "start_time": "2025-02-17T19:56:40.690Z"
   },
   {
    "duration": 11,
    "start_time": "2025-02-17T19:56:40.728Z"
   },
   {
    "duration": 19,
    "start_time": "2025-02-17T19:56:40.741Z"
   },
   {
    "duration": 10,
    "start_time": "2025-02-17T19:56:40.761Z"
   },
   {
    "duration": 15,
    "start_time": "2025-02-17T19:56:40.773Z"
   },
   {
    "duration": 8,
    "start_time": "2025-02-17T19:56:40.814Z"
   },
   {
    "duration": 5,
    "start_time": "2025-02-17T19:56:40.823Z"
   },
   {
    "duration": 14,
    "start_time": "2025-02-17T19:56:40.829Z"
   },
   {
    "duration": 15,
    "start_time": "2025-02-17T19:56:40.844Z"
   },
   {
    "duration": 218,
    "start_time": "2025-02-17T19:56:40.861Z"
   },
   {
    "duration": 197,
    "start_time": "2025-02-17T19:56:41.082Z"
   },
   {
    "duration": 6,
    "start_time": "2025-02-17T19:56:41.281Z"
   },
   {
    "duration": 142,
    "start_time": "2025-02-17T19:56:41.288Z"
   },
   {
    "duration": 107,
    "start_time": "2025-02-17T19:56:41.432Z"
   },
   {
    "duration": 6,
    "start_time": "2025-02-17T19:56:41.540Z"
   },
   {
    "duration": 569,
    "start_time": "2025-02-17T19:56:41.547Z"
   },
   {
    "duration": 8,
    "start_time": "2025-02-17T19:56:42.117Z"
   },
   {
    "duration": 21,
    "start_time": "2025-02-17T19:56:42.127Z"
   },
   {
    "duration": 258,
    "start_time": "2025-02-17T19:56:42.150Z"
   },
   {
    "duration": 21,
    "start_time": "2025-02-17T19:56:42.410Z"
   },
   {
    "duration": 9,
    "start_time": "2025-02-17T19:56:42.433Z"
   },
   {
    "duration": 328,
    "start_time": "2025-02-17T19:56:42.444Z"
   },
   {
    "duration": 15,
    "start_time": "2025-02-17T19:56:42.774Z"
   },
   {
    "duration": 37,
    "start_time": "2025-02-17T19:56:42.790Z"
   },
   {
    "duration": 110,
    "start_time": "2025-02-17T19:56:42.829Z"
   },
   {
    "duration": 0,
    "start_time": "2025-02-17T19:56:42.941Z"
   },
   {
    "duration": 0,
    "start_time": "2025-02-17T19:56:42.943Z"
   },
   {
    "duration": 0,
    "start_time": "2025-02-17T19:56:42.944Z"
   },
   {
    "duration": 0,
    "start_time": "2025-02-17T19:56:42.945Z"
   },
   {
    "duration": 0,
    "start_time": "2025-02-17T19:56:42.946Z"
   },
   {
    "duration": 0,
    "start_time": "2025-02-17T19:56:42.947Z"
   },
   {
    "duration": 0,
    "start_time": "2025-02-17T19:56:42.948Z"
   },
   {
    "duration": 0,
    "start_time": "2025-02-17T19:56:42.950Z"
   },
   {
    "duration": 0,
    "start_time": "2025-02-17T19:56:42.951Z"
   },
   {
    "duration": 0,
    "start_time": "2025-02-17T19:56:42.952Z"
   },
   {
    "duration": 0,
    "start_time": "2025-02-17T19:56:42.953Z"
   },
   {
    "duration": 0,
    "start_time": "2025-02-17T19:56:42.954Z"
   },
   {
    "duration": 0,
    "start_time": "2025-02-17T19:56:42.956Z"
   },
   {
    "duration": 0,
    "start_time": "2025-02-17T19:56:42.957Z"
   },
   {
    "duration": 0,
    "start_time": "2025-02-17T19:56:42.958Z"
   },
   {
    "duration": 0,
    "start_time": "2025-02-17T19:56:42.959Z"
   },
   {
    "duration": 0,
    "start_time": "2025-02-17T19:56:42.960Z"
   },
   {
    "duration": 15,
    "start_time": "2025-02-17T19:56:52.518Z"
   },
   {
    "duration": 8,
    "start_time": "2025-02-17T19:56:53.143Z"
   },
   {
    "duration": 10,
    "start_time": "2025-02-17T19:56:53.871Z"
   },
   {
    "duration": 12,
    "start_time": "2025-02-17T19:56:54.079Z"
   },
   {
    "duration": 12,
    "start_time": "2025-02-17T19:56:54.294Z"
   },
   {
    "duration": 287,
    "start_time": "2025-02-17T19:56:54.748Z"
   },
   {
    "duration": 19,
    "start_time": "2025-02-17T19:56:55.037Z"
   },
   {
    "duration": 267,
    "start_time": "2025-02-17T19:56:55.344Z"
   },
   {
    "duration": 15,
    "start_time": "2025-02-17T19:56:55.613Z"
   },
   {
    "duration": 86,
    "start_time": "2025-02-17T19:56:56.582Z"
   },
   {
    "duration": 22,
    "start_time": "2025-02-17T19:56:56.992Z"
   },
   {
    "duration": 6,
    "start_time": "2025-02-17T19:56:58.018Z"
   },
   {
    "duration": 5,
    "start_time": "2025-02-17T19:56:58.392Z"
   },
   {
    "duration": 5,
    "start_time": "2025-02-17T19:56:58.572Z"
   },
   {
    "duration": 6,
    "start_time": "2025-02-17T19:57:00.754Z"
   },
   {
    "duration": 4,
    "start_time": "2025-02-17T19:57:00.943Z"
   },
   {
    "duration": 30,
    "start_time": "2025-02-17T19:57:07.448Z"
   },
   {
    "duration": 13,
    "start_time": "2025-02-17T19:57:41.593Z"
   },
   {
    "duration": 17,
    "start_time": "2025-02-17T19:57:54.716Z"
   },
   {
    "duration": 19,
    "start_time": "2025-02-17T19:58:27.604Z"
   },
   {
    "duration": 9,
    "start_time": "2025-02-17T20:01:47.187Z"
   },
   {
    "duration": 13,
    "start_time": "2025-02-17T20:02:10.943Z"
   },
   {
    "duration": 10,
    "start_time": "2025-02-17T20:02:43.786Z"
   },
   {
    "duration": 6,
    "start_time": "2025-02-17T20:02:44.777Z"
   },
   {
    "duration": 30,
    "start_time": "2025-02-17T20:03:08.322Z"
   },
   {
    "duration": 20,
    "start_time": "2025-02-17T20:04:07.706Z"
   },
   {
    "duration": 1184,
    "start_time": "2025-02-17T20:05:10.856Z"
   },
   {
    "duration": 37,
    "start_time": "2025-02-17T20:05:12.042Z"
   },
   {
    "duration": 11,
    "start_time": "2025-02-17T20:05:12.081Z"
   },
   {
    "duration": 102,
    "start_time": "2025-02-17T20:05:12.093Z"
   },
   {
    "duration": 12,
    "start_time": "2025-02-17T20:05:12.197Z"
   },
   {
    "duration": 19,
    "start_time": "2025-02-17T20:05:12.211Z"
   },
   {
    "duration": 10,
    "start_time": "2025-02-17T20:05:12.231Z"
   },
   {
    "duration": 17,
    "start_time": "2025-02-17T20:05:12.243Z"
   },
   {
    "duration": 7,
    "start_time": "2025-02-17T20:05:12.262Z"
   },
   {
    "duration": 22,
    "start_time": "2025-02-17T20:05:12.271Z"
   },
   {
    "duration": 8,
    "start_time": "2025-02-17T20:05:12.294Z"
   },
   {
    "duration": 11,
    "start_time": "2025-02-17T20:05:12.303Z"
   },
   {
    "duration": 226,
    "start_time": "2025-02-17T20:05:12.315Z"
   },
   {
    "duration": 201,
    "start_time": "2025-02-17T20:05:12.544Z"
   },
   {
    "duration": 7,
    "start_time": "2025-02-17T20:05:12.746Z"
   },
   {
    "duration": 145,
    "start_time": "2025-02-17T20:05:12.755Z"
   },
   {
    "duration": 92,
    "start_time": "2025-02-17T20:05:12.901Z"
   },
   {
    "duration": 5,
    "start_time": "2025-02-17T20:05:12.995Z"
   },
   {
    "duration": 586,
    "start_time": "2025-02-17T20:05:13.014Z"
   },
   {
    "duration": 13,
    "start_time": "2025-02-17T20:05:13.602Z"
   },
   {
    "duration": 102,
    "start_time": "2025-02-17T20:05:13.616Z"
   },
   {
    "duration": 251,
    "start_time": "2025-02-17T20:05:13.719Z"
   },
   {
    "duration": 21,
    "start_time": "2025-02-17T20:05:13.971Z"
   },
   {
    "duration": 23,
    "start_time": "2025-02-17T20:05:13.993Z"
   },
   {
    "duration": 312,
    "start_time": "2025-02-17T20:05:14.017Z"
   },
   {
    "duration": 14,
    "start_time": "2025-02-17T20:05:14.330Z"
   },
   {
    "duration": 23,
    "start_time": "2025-02-17T20:05:14.345Z"
   },
   {
    "duration": 20,
    "start_time": "2025-02-17T20:05:14.369Z"
   },
   {
    "duration": 127,
    "start_time": "2025-02-17T20:05:14.390Z"
   },
   {
    "duration": 0,
    "start_time": "2025-02-17T20:05:14.519Z"
   },
   {
    "duration": 0,
    "start_time": "2025-02-17T20:05:14.520Z"
   },
   {
    "duration": 0,
    "start_time": "2025-02-17T20:05:14.521Z"
   },
   {
    "duration": 0,
    "start_time": "2025-02-17T20:05:14.522Z"
   },
   {
    "duration": 0,
    "start_time": "2025-02-17T20:05:14.523Z"
   },
   {
    "duration": 0,
    "start_time": "2025-02-17T20:05:14.524Z"
   },
   {
    "duration": 0,
    "start_time": "2025-02-17T20:05:14.525Z"
   },
   {
    "duration": 0,
    "start_time": "2025-02-17T20:05:14.526Z"
   },
   {
    "duration": 0,
    "start_time": "2025-02-17T20:05:14.527Z"
   },
   {
    "duration": 0,
    "start_time": "2025-02-17T20:05:14.528Z"
   },
   {
    "duration": 0,
    "start_time": "2025-02-17T20:05:14.529Z"
   },
   {
    "duration": 0,
    "start_time": "2025-02-17T20:05:14.530Z"
   },
   {
    "duration": 0,
    "start_time": "2025-02-17T20:05:14.531Z"
   },
   {
    "duration": 0,
    "start_time": "2025-02-17T20:05:14.532Z"
   },
   {
    "duration": 0,
    "start_time": "2025-02-17T20:05:14.532Z"
   },
   {
    "duration": 0,
    "start_time": "2025-02-17T20:05:14.533Z"
   },
   {
    "duration": 0,
    "start_time": "2025-02-17T20:05:14.534Z"
   },
   {
    "duration": 0,
    "start_time": "2025-02-17T20:05:14.535Z"
   },
   {
    "duration": 0,
    "start_time": "2025-02-17T20:05:14.536Z"
   },
   {
    "duration": 32,
    "start_time": "2025-02-17T20:05:33.102Z"
   },
   {
    "duration": 8,
    "start_time": "2025-02-17T20:05:38.487Z"
   },
   {
    "duration": 14,
    "start_time": "2025-02-17T20:08:36.675Z"
   },
   {
    "duration": 14,
    "start_time": "2025-02-17T20:12:36.799Z"
   },
   {
    "duration": 14,
    "start_time": "2025-02-17T20:16:39.324Z"
   },
   {
    "duration": 14,
    "start_time": "2025-02-17T20:16:56.731Z"
   },
   {
    "duration": 14,
    "start_time": "2025-02-17T20:17:11.797Z"
   },
   {
    "duration": 9,
    "start_time": "2025-02-17T20:17:32.991Z"
   },
   {
    "duration": 31,
    "start_time": "2025-02-17T20:18:58.999Z"
   },
   {
    "duration": 16,
    "start_time": "2025-02-17T20:21:53.229Z"
   },
   {
    "duration": 16,
    "start_time": "2025-02-17T20:24:01.490Z"
   },
   {
    "duration": 7,
    "start_time": "2025-02-17T20:25:47.909Z"
   },
   {
    "duration": 22,
    "start_time": "2025-02-17T20:28:06.479Z"
   },
   {
    "duration": 14,
    "start_time": "2025-02-17T20:29:52.064Z"
   },
   {
    "duration": 14,
    "start_time": "2025-02-17T20:31:32.763Z"
   },
   {
    "duration": 17,
    "start_time": "2025-02-17T20:31:39.659Z"
   },
   {
    "duration": 15,
    "start_time": "2025-02-17T20:50:26.349Z"
   },
   {
    "duration": 16,
    "start_time": "2025-02-17T20:51:01.965Z"
   },
   {
    "duration": 13,
    "start_time": "2025-02-17T20:52:59.080Z"
   },
   {
    "duration": 14,
    "start_time": "2025-02-17T20:53:04.163Z"
   },
   {
    "duration": 15,
    "start_time": "2025-02-17T20:53:16.235Z"
   },
   {
    "duration": 8,
    "start_time": "2025-02-17T21:04:30.064Z"
   },
   {
    "duration": 14,
    "start_time": "2025-02-17T21:04:30.365Z"
   },
   {
    "duration": 13,
    "start_time": "2025-02-17T21:04:30.646Z"
   },
   {
    "duration": 274,
    "start_time": "2025-02-17T21:04:31.250Z"
   },
   {
    "duration": 14,
    "start_time": "2025-02-17T21:04:31.813Z"
   },
   {
    "duration": 269,
    "start_time": "2025-02-17T21:04:33.239Z"
   },
   {
    "duration": 14,
    "start_time": "2025-02-17T21:04:34.061Z"
   },
   {
    "duration": 1172,
    "start_time": "2025-02-17T21:05:38.525Z"
   },
   {
    "duration": 38,
    "start_time": "2025-02-17T21:05:39.699Z"
   },
   {
    "duration": 10,
    "start_time": "2025-02-17T21:05:39.739Z"
   },
   {
    "duration": 55,
    "start_time": "2025-02-17T21:05:39.751Z"
   },
   {
    "duration": 130,
    "start_time": "2025-02-17T21:05:39.808Z"
   },
   {
    "duration": 19,
    "start_time": "2025-02-17T21:05:39.939Z"
   },
   {
    "duration": 10,
    "start_time": "2025-02-17T21:05:39.959Z"
   },
   {
    "duration": 16,
    "start_time": "2025-02-17T21:05:39.970Z"
   },
   {
    "duration": 8,
    "start_time": "2025-02-17T21:05:39.987Z"
   },
   {
    "duration": 59,
    "start_time": "2025-02-17T21:05:39.997Z"
   },
   {
    "duration": 14,
    "start_time": "2025-02-17T21:05:40.058Z"
   },
   {
    "duration": 13,
    "start_time": "2025-02-17T21:05:40.073Z"
   },
   {
    "duration": 205,
    "start_time": "2025-02-17T21:05:40.087Z"
   },
   {
    "duration": 200,
    "start_time": "2025-02-17T21:05:40.295Z"
   },
   {
    "duration": 6,
    "start_time": "2025-02-17T21:05:40.496Z"
   },
   {
    "duration": 138,
    "start_time": "2025-02-17T21:05:40.503Z"
   },
   {
    "duration": 102,
    "start_time": "2025-02-17T21:05:40.642Z"
   },
   {
    "duration": 5,
    "start_time": "2025-02-17T21:05:40.746Z"
   },
   {
    "duration": 537,
    "start_time": "2025-02-17T21:05:40.753Z"
   },
   {
    "duration": 8,
    "start_time": "2025-02-17T21:05:41.292Z"
   },
   {
    "duration": 67,
    "start_time": "2025-02-17T21:05:41.301Z"
   },
   {
    "duration": 237,
    "start_time": "2025-02-17T21:05:41.370Z"
   },
   {
    "duration": 20,
    "start_time": "2025-02-17T21:05:41.613Z"
   },
   {
    "duration": 10,
    "start_time": "2025-02-17T21:05:41.635Z"
   },
   {
    "duration": 328,
    "start_time": "2025-02-17T21:05:41.647Z"
   },
   {
    "duration": 15,
    "start_time": "2025-02-17T21:05:41.976Z"
   },
   {
    "duration": 100,
    "start_time": "2025-02-17T21:05:41.993Z"
   },
   {
    "duration": 27,
    "start_time": "2025-02-17T21:05:42.095Z"
   },
   {
    "duration": 6,
    "start_time": "2025-02-17T21:05:42.124Z"
   },
   {
    "duration": 14,
    "start_time": "2025-02-17T21:05:42.132Z"
   },
   {
    "duration": 29,
    "start_time": "2025-02-17T21:05:42.148Z"
   },
   {
    "duration": 5,
    "start_time": "2025-02-17T21:05:42.179Z"
   },
   {
    "duration": 16,
    "start_time": "2025-02-17T21:05:42.214Z"
   },
   {
    "duration": 17,
    "start_time": "2025-02-17T21:05:42.231Z"
   },
   {
    "duration": 13,
    "start_time": "2025-02-17T21:05:42.250Z"
   },
   {
    "duration": 69,
    "start_time": "2025-02-17T21:05:42.265Z"
   },
   {
    "duration": 11,
    "start_time": "2025-02-17T21:05:42.336Z"
   },
   {
    "duration": 11,
    "start_time": "2025-02-17T21:05:42.349Z"
   },
   {
    "duration": 269,
    "start_time": "2025-02-17T21:05:42.361Z"
   },
   {
    "duration": 14,
    "start_time": "2025-02-17T21:05:42.631Z"
   },
   {
    "duration": 292,
    "start_time": "2025-02-17T21:05:42.648Z"
   },
   {
    "duration": 14,
    "start_time": "2025-02-17T21:05:42.942Z"
   },
   {
    "duration": 77,
    "start_time": "2025-02-17T21:05:42.957Z"
   },
   {
    "duration": 23,
    "start_time": "2025-02-17T21:05:43.036Z"
   },
   {
    "duration": 5,
    "start_time": "2025-02-17T21:05:43.060Z"
   },
   {
    "duration": 10,
    "start_time": "2025-02-17T21:05:43.067Z"
   },
   {
    "duration": 6,
    "start_time": "2025-02-17T21:05:43.079Z"
   },
   {
    "duration": 30,
    "start_time": "2025-02-17T21:05:43.086Z"
   },
   {
    "duration": 110,
    "start_time": "2025-02-17T21:05:43.119Z"
   },
   {
    "duration": 8,
    "start_time": "2025-02-17T21:05:43.231Z"
   }
  ],
  "kernelspec": {
   "display_name": "Python 3 (ipykernel)",
   "language": "python",
   "name": "python3"
  },
  "language_info": {
   "codemirror_mode": {
    "name": "ipython",
    "version": 3
   },
   "file_extension": ".py",
   "mimetype": "text/x-python",
   "name": "python",
   "nbconvert_exporter": "python",
   "pygments_lexer": "ipython3",
   "version": "3.9.5"
  },
  "toc": {
   "base_numbering": 1,
   "nav_menu": {},
   "number_sections": true,
   "sideBar": true,
   "skip_h1_title": true,
   "title_cell": "Table of Contents",
   "title_sidebar": "Contents",
   "toc_cell": false,
   "toc_position": {},
   "toc_section_display": true,
   "toc_window_display": false
  }
 },
 "nbformat": 4,
 "nbformat_minor": 5
}
