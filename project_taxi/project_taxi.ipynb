{
 "cells": [
  {
   "cell_type": "markdown",
   "metadata": {},
   "source": [
    "#  Прогнозирование заказов такси"
   ]
  },
  {
   "cell_type": "markdown",
   "metadata": {},
   "source": [
    "Компания «Чётенькое такси» собрала исторические данные о заказах такси в аэропортах. Чтобы привлекать больше водителей в период пиковой нагрузки, нужно спрогнозировать количество заказов такси на следующий час. \n",
    "\n",
    "Задача: \n",
    "- Построить модель для такого предсказания\n",
    "- Значение метрики *RMSE* на тестовой выборке должно быть не больше 48.\n",
    "\n",
    "План работы:\n",
    "\n",
    "1. Загрузить данные и выполнить их ресемплирование по одному часу.\n",
    "2. Проанализировать данные.\n",
    "3. Обучить разные модели с различными гиперпараметрами. Сделать тестовую выборку размером 10% от исходных данных.\n",
    "4. Проверить данные на тестовой выборке и сделать выводы.\n"
   ]
  },
  {
   "cell_type": "code",
   "execution_count": 1,
   "metadata": {},
   "outputs": [],
   "source": [
    "!pip install -U scikit-learn -q"
   ]
  },
  {
   "cell_type": "code",
   "execution_count": 2,
   "metadata": {},
   "outputs": [],
   "source": [
    "import pandas as pd\n",
    "from sklearn.model_selection import train_test_split, TimeSeriesSplit, GridSearchCV, cross_val_score\n",
    "from sklearn.metrics import mean_squared_error, root_mean_squared_error\n",
    "from sklearn.linear_model import LinearRegression\n",
    "from sklearn.ensemble import RandomForestRegressor\n",
    "from catboost import CatBoostRegressor\n",
    "import lightgbm as lgb\n",
    "from lightgbm import LGBMRegressor, log_evaluation\n",
    "\n",
    "import matplotlib.pyplot as plt\n",
    "import seaborn as sns\n",
    "\n",
    "from statsmodels.tsa.seasonal import seasonal_decompose"
   ]
  },
  {
   "cell_type": "markdown",
   "metadata": {},
   "source": [
    "## Подготовка"
   ]
  },
  {
   "cell_type": "code",
   "execution_count": 3,
   "metadata": {},
   "outputs": [],
   "source": [
    "df = pd.read_csv('...', index_col=[0], parse_dates=[0])"
   ]
  },
  {
   "cell_type": "code",
   "execution_count": 4,
   "metadata": {},
   "outputs": [
    {
     "data": {
      "text/html": [
       "<div>\n",
       "<style scoped>\n",
       "    .dataframe tbody tr th:only-of-type {\n",
       "        vertical-align: middle;\n",
       "    }\n",
       "\n",
       "    .dataframe tbody tr th {\n",
       "        vertical-align: top;\n",
       "    }\n",
       "\n",
       "    .dataframe thead th {\n",
       "        text-align: right;\n",
       "    }\n",
       "</style>\n",
       "<table border=\"1\" class=\"dataframe\">\n",
       "  <thead>\n",
       "    <tr style=\"text-align: right;\">\n",
       "      <th></th>\n",
       "      <th>num_orders</th>\n",
       "    </tr>\n",
       "    <tr>\n",
       "      <th>datetime</th>\n",
       "      <th></th>\n",
       "    </tr>\n",
       "  </thead>\n",
       "  <tbody>\n",
       "    <tr>\n",
       "      <th>2018-03-01 00:00:00</th>\n",
       "      <td>9</td>\n",
       "    </tr>\n",
       "    <tr>\n",
       "      <th>2018-03-01 00:10:00</th>\n",
       "      <td>14</td>\n",
       "    </tr>\n",
       "    <tr>\n",
       "      <th>2018-03-01 00:20:00</th>\n",
       "      <td>28</td>\n",
       "    </tr>\n",
       "    <tr>\n",
       "      <th>2018-03-01 00:30:00</th>\n",
       "      <td>20</td>\n",
       "    </tr>\n",
       "    <tr>\n",
       "      <th>2018-03-01 00:40:00</th>\n",
       "      <td>32</td>\n",
       "    </tr>\n",
       "  </tbody>\n",
       "</table>\n",
       "</div>"
      ],
      "text/plain": [
       "                     num_orders\n",
       "datetime                       \n",
       "2018-03-01 00:00:00           9\n",
       "2018-03-01 00:10:00          14\n",
       "2018-03-01 00:20:00          28\n",
       "2018-03-01 00:30:00          20\n",
       "2018-03-01 00:40:00          32"
      ]
     },
     "execution_count": 4,
     "metadata": {},
     "output_type": "execute_result"
    }
   ],
   "source": [
    "df.head()"
   ]
  },
  {
   "cell_type": "code",
   "execution_count": 5,
   "metadata": {},
   "outputs": [
    {
     "name": "stdout",
     "output_type": "stream",
     "text": [
      "<class 'pandas.core.frame.DataFrame'>\n",
      "DatetimeIndex: 26496 entries, 2018-03-01 00:00:00 to 2018-08-31 23:50:00\n",
      "Data columns (total 1 columns):\n",
      " #   Column      Non-Null Count  Dtype\n",
      "---  ------      --------------  -----\n",
      " 0   num_orders  26496 non-null  int64\n",
      "dtypes: int64(1)\n",
      "memory usage: 414.0 KB\n"
     ]
    }
   ],
   "source": [
    "df.info()"
   ]
  },
  {
   "cell_type": "code",
   "execution_count": 6,
   "metadata": {},
   "outputs": [
    {
     "data": {
      "text/plain": [
       "num_orders    0\n",
       "dtype: int64"
      ]
     },
     "execution_count": 6,
     "metadata": {},
     "output_type": "execute_result"
    }
   ],
   "source": [
    "df.isna().sum()"
   ]
  },
  {
   "cell_type": "code",
   "execution_count": 7,
   "metadata": {},
   "outputs": [
    {
     "data": {
      "text/html": [
       "<div>\n",
       "<style scoped>\n",
       "    .dataframe tbody tr th:only-of-type {\n",
       "        vertical-align: middle;\n",
       "    }\n",
       "\n",
       "    .dataframe tbody tr th {\n",
       "        vertical-align: top;\n",
       "    }\n",
       "\n",
       "    .dataframe thead th {\n",
       "        text-align: right;\n",
       "    }\n",
       "</style>\n",
       "<table border=\"1\" class=\"dataframe\">\n",
       "  <thead>\n",
       "    <tr style=\"text-align: right;\">\n",
       "      <th></th>\n",
       "      <th>num_orders</th>\n",
       "    </tr>\n",
       "  </thead>\n",
       "  <tbody>\n",
       "    <tr>\n",
       "      <th>count</th>\n",
       "      <td>26496.000000</td>\n",
       "    </tr>\n",
       "    <tr>\n",
       "      <th>mean</th>\n",
       "      <td>14.070463</td>\n",
       "    </tr>\n",
       "    <tr>\n",
       "      <th>std</th>\n",
       "      <td>9.211330</td>\n",
       "    </tr>\n",
       "    <tr>\n",
       "      <th>min</th>\n",
       "      <td>0.000000</td>\n",
       "    </tr>\n",
       "    <tr>\n",
       "      <th>25%</th>\n",
       "      <td>8.000000</td>\n",
       "    </tr>\n",
       "    <tr>\n",
       "      <th>50%</th>\n",
       "      <td>13.000000</td>\n",
       "    </tr>\n",
       "    <tr>\n",
       "      <th>75%</th>\n",
       "      <td>19.000000</td>\n",
       "    </tr>\n",
       "    <tr>\n",
       "      <th>max</th>\n",
       "      <td>119.000000</td>\n",
       "    </tr>\n",
       "  </tbody>\n",
       "</table>\n",
       "</div>"
      ],
      "text/plain": [
       "         num_orders\n",
       "count  26496.000000\n",
       "mean      14.070463\n",
       "std        9.211330\n",
       "min        0.000000\n",
       "25%        8.000000\n",
       "50%       13.000000\n",
       "75%       19.000000\n",
       "max      119.000000"
      ]
     },
     "execution_count": 7,
     "metadata": {},
     "output_type": "execute_result"
    }
   ],
   "source": [
    "df.describe()"
   ]
  },
  {
   "cell_type": "code",
   "execution_count": 8,
   "metadata": {},
   "outputs": [
    {
     "data": {
      "text/plain": [
       "True"
      ]
     },
     "execution_count": 8,
     "metadata": {},
     "output_type": "execute_result"
    }
   ],
   "source": [
    "#проверим индекс на монотонность\n",
    "df.index.is_monotonic"
   ]
  },
  {
   "cell_type": "code",
   "execution_count": 9,
   "metadata": {},
   "outputs": [],
   "source": [
    "#ресемплируем данные по 1 часу\n",
    "df = df.resample('1H').sum()"
   ]
  },
  {
   "cell_type": "markdown",
   "metadata": {},
   "source": [
    "В нашем файле данные по заказам такси с марта по август 2018 года. В первом шаге установили даты в качестве индекса таблицы. Данные были проверены на наличие пропусков и монотонность, а затем выполнено ресемплирование по часу (изначально данные представлены с интервалом в 10 минут)."
   ]
  },
  {
   "cell_type": "markdown",
   "metadata": {},
   "source": [
    "## Анализ"
   ]
  },
  {
   "cell_type": "code",
   "execution_count": 10,
   "metadata": {},
   "outputs": [],
   "source": [
    "#функция для построения графиков\n",
    "sns.set(rc={'figure.figsize':(12,8)})\n",
    "\n",
    "def lineplot(df, title):\n",
    "    df.plot()\n",
    "    plt.title(title)\n",
    "    plt.show()"
   ]
  },
  {
   "cell_type": "code",
   "execution_count": 11,
   "metadata": {},
   "outputs": [],
   "source": [
    "#hазделим данные на трендовую, сезонную и шумовую состовляющие\n",
    "decomposed = seasonal_decompose(df)"
   ]
  },
  {
   "cell_type": "code",
   "execution_count": 12,
   "metadata": {},
   "outputs": [
    {
     "data": {
      "image/png": "[encoded data removed]",
      "text/plain": [
       "<Figure size 864x576 with 1 Axes>"
      ]
     },
     "metadata": {},
     "output_type": "display_data"
    }
   ],
   "source": [
    "lineplot(decomposed.trend, 'Тренд')"
   ]
  },
  {
   "cell_type": "code",
   "execution_count": 13,
   "metadata": {},
   "outputs": [
    {
     "data": {
      "image/png": "[encoded data removed]",
      "text/plain": [
       "<Figure size 864x576 with 1 Axes>"
      ]
     },
     "metadata": {},
     "output_type": "display_data"
    }
   ],
   "source": [
    "lineplot(decomposed.trend.rolling(24*7).mean(), 'Тренд (сглаженный)')"
   ]
  },
  {
   "cell_type": "code",
   "execution_count": 14,
   "metadata": {
    "scrolled": false
   },
   "outputs": [
    {
     "data": {
      "image/png": "[encoded data removed]",
      "text/plain": [
       "<Figure size 864x576 with 1 Axes>"
      ]
     },
     "metadata": {},
     "output_type": "display_data"
    }
   ],
   "source": [
    "lineplot(decomposed.seasonal.tail(24*7), 'Сезонность')"
   ]
  },
  {
   "cell_type": "code",
   "execution_count": 15,
   "metadata": {},
   "outputs": [
    {
     "data": {
      "image/png": "[encoded data removed]",
      "text/plain": [
       "<Figure size 864x576 with 1 Axes>"
      ]
     },
     "metadata": {},
     "output_type": "display_data"
    }
   ],
   "source": [
    "lineplot(decomposed.resid, 'Шумы')"
   ]
  },
  {
   "cell_type": "markdown",
   "metadata": {},
   "source": [
    "Наблюдается тренд равномерного роста заказов с периодическими небольшими падениями\n",
    "Присутствует сезонность по дням - спад ночью, рост с утра и днем, пик к вечеру"
   ]
  },
  {
   "cell_type": "markdown",
   "metadata": {},
   "source": [
    "### Подготовка признаков"
   ]
  },
  {
   "cell_type": "code",
   "execution_count": 16,
   "metadata": {
    "scrolled": true
   },
   "outputs": [
    {
     "data": {
      "text/html": [
       "<div>\n",
       "<style scoped>\n",
       "    .dataframe tbody tr th:only-of-type {\n",
       "        vertical-align: middle;\n",
       "    }\n",
       "\n",
       "    .dataframe tbody tr th {\n",
       "        vertical-align: top;\n",
       "    }\n",
       "\n",
       "    .dataframe thead th {\n",
       "        text-align: right;\n",
       "    }\n",
       "</style>\n",
       "<table border=\"1\" class=\"dataframe\">\n",
       "  <thead>\n",
       "    <tr style=\"text-align: right;\">\n",
       "      <th></th>\n",
       "      <th>num_orders</th>\n",
       "      <th>month</th>\n",
       "      <th>day</th>\n",
       "      <th>dayofweek</th>\n",
       "      <th>hour</th>\n",
       "      <th>lag_1</th>\n",
       "      <th>lag_2</th>\n",
       "      <th>lag_3</th>\n",
       "      <th>lag_4</th>\n",
       "      <th>lag_5</th>\n",
       "      <th>...</th>\n",
       "      <th>lag_16</th>\n",
       "      <th>lag_17</th>\n",
       "      <th>lag_18</th>\n",
       "      <th>lag_19</th>\n",
       "      <th>lag_20</th>\n",
       "      <th>lag_21</th>\n",
       "      <th>lag_22</th>\n",
       "      <th>lag_23</th>\n",
       "      <th>lag_24</th>\n",
       "      <th>rolling_mean</th>\n",
       "    </tr>\n",
       "    <tr>\n",
       "      <th>datetime</th>\n",
       "      <th></th>\n",
       "      <th></th>\n",
       "      <th></th>\n",
       "      <th></th>\n",
       "      <th></th>\n",
       "      <th></th>\n",
       "      <th></th>\n",
       "      <th></th>\n",
       "      <th></th>\n",
       "      <th></th>\n",
       "      <th></th>\n",
       "      <th></th>\n",
       "      <th></th>\n",
       "      <th></th>\n",
       "      <th></th>\n",
       "      <th></th>\n",
       "      <th></th>\n",
       "      <th></th>\n",
       "      <th></th>\n",
       "      <th></th>\n",
       "      <th></th>\n",
       "    </tr>\n",
       "  </thead>\n",
       "  <tbody>\n",
       "    <tr>\n",
       "      <th>2018-03-01 00:00:00</th>\n",
       "      <td>124</td>\n",
       "      <td>3</td>\n",
       "      <td>1</td>\n",
       "      <td>3</td>\n",
       "      <td>0</td>\n",
       "      <td>NaN</td>\n",
       "      <td>NaN</td>\n",
       "      <td>NaN</td>\n",
       "      <td>NaN</td>\n",
       "      <td>NaN</td>\n",
       "      <td>...</td>\n",
       "      <td>NaN</td>\n",
       "      <td>NaN</td>\n",
       "      <td>NaN</td>\n",
       "      <td>NaN</td>\n",
       "      <td>NaN</td>\n",
       "      <td>NaN</td>\n",
       "      <td>NaN</td>\n",
       "      <td>NaN</td>\n",
       "      <td>NaN</td>\n",
       "      <td>NaN</td>\n",
       "    </tr>\n",
       "    <tr>\n",
       "      <th>2018-03-01 01:00:00</th>\n",
       "      <td>85</td>\n",
       "      <td>3</td>\n",
       "      <td>1</td>\n",
       "      <td>3</td>\n",
       "      <td>1</td>\n",
       "      <td>124.0</td>\n",
       "      <td>NaN</td>\n",
       "      <td>NaN</td>\n",
       "      <td>NaN</td>\n",
       "      <td>NaN</td>\n",
       "      <td>...</td>\n",
       "      <td>NaN</td>\n",
       "      <td>NaN</td>\n",
       "      <td>NaN</td>\n",
       "      <td>NaN</td>\n",
       "      <td>NaN</td>\n",
       "      <td>NaN</td>\n",
       "      <td>NaN</td>\n",
       "      <td>NaN</td>\n",
       "      <td>NaN</td>\n",
       "      <td>NaN</td>\n",
       "    </tr>\n",
       "    <tr>\n",
       "      <th>2018-03-01 02:00:00</th>\n",
       "      <td>71</td>\n",
       "      <td>3</td>\n",
       "      <td>1</td>\n",
       "      <td>3</td>\n",
       "      <td>2</td>\n",
       "      <td>85.0</td>\n",
       "      <td>124.0</td>\n",
       "      <td>NaN</td>\n",
       "      <td>NaN</td>\n",
       "      <td>NaN</td>\n",
       "      <td>...</td>\n",
       "      <td>NaN</td>\n",
       "      <td>NaN</td>\n",
       "      <td>NaN</td>\n",
       "      <td>NaN</td>\n",
       "      <td>NaN</td>\n",
       "      <td>NaN</td>\n",
       "      <td>NaN</td>\n",
       "      <td>NaN</td>\n",
       "      <td>NaN</td>\n",
       "      <td>NaN</td>\n",
       "    </tr>\n",
       "    <tr>\n",
       "      <th>2018-03-01 03:00:00</th>\n",
       "      <td>66</td>\n",
       "      <td>3</td>\n",
       "      <td>1</td>\n",
       "      <td>3</td>\n",
       "      <td>3</td>\n",
       "      <td>71.0</td>\n",
       "      <td>85.0</td>\n",
       "      <td>124.0</td>\n",
       "      <td>NaN</td>\n",
       "      <td>NaN</td>\n",
       "      <td>...</td>\n",
       "      <td>NaN</td>\n",
       "      <td>NaN</td>\n",
       "      <td>NaN</td>\n",
       "      <td>NaN</td>\n",
       "      <td>NaN</td>\n",
       "      <td>NaN</td>\n",
       "      <td>NaN</td>\n",
       "      <td>NaN</td>\n",
       "      <td>NaN</td>\n",
       "      <td>NaN</td>\n",
       "    </tr>\n",
       "    <tr>\n",
       "      <th>2018-03-01 04:00:00</th>\n",
       "      <td>43</td>\n",
       "      <td>3</td>\n",
       "      <td>1</td>\n",
       "      <td>3</td>\n",
       "      <td>4</td>\n",
       "      <td>66.0</td>\n",
       "      <td>71.0</td>\n",
       "      <td>85.0</td>\n",
       "      <td>124.0</td>\n",
       "      <td>NaN</td>\n",
       "      <td>...</td>\n",
       "      <td>NaN</td>\n",
       "      <td>NaN</td>\n",
       "      <td>NaN</td>\n",
       "      <td>NaN</td>\n",
       "      <td>NaN</td>\n",
       "      <td>NaN</td>\n",
       "      <td>NaN</td>\n",
       "      <td>NaN</td>\n",
       "      <td>NaN</td>\n",
       "      <td>NaN</td>\n",
       "    </tr>\n",
       "  </tbody>\n",
       "</table>\n",
       "<p>5 rows × 30 columns</p>\n",
       "</div>"
      ],
      "text/plain": [
       "                     num_orders  month  day  dayofweek  hour  lag_1  lag_2  \\\n",
       "datetime                                                                     \n",
       "2018-03-01 00:00:00         124      3    1          3     0    NaN    NaN   \n",
       "2018-03-01 01:00:00          85      3    1          3     1  124.0    NaN   \n",
       "2018-03-01 02:00:00          71      3    1          3     2   85.0  124.0   \n",
       "2018-03-01 03:00:00          66      3    1          3     3   71.0   85.0   \n",
       "2018-03-01 04:00:00          43      3    1          3     4   66.0   71.0   \n",
       "\n",
       "                     lag_3  lag_4  lag_5  ...  lag_16  lag_17  lag_18  lag_19  \\\n",
       "datetime                                  ...                                   \n",
       "2018-03-01 00:00:00    NaN    NaN    NaN  ...     NaN     NaN     NaN     NaN   \n",
       "2018-03-01 01:00:00    NaN    NaN    NaN  ...     NaN     NaN     NaN     NaN   \n",
       "2018-03-01 02:00:00    NaN    NaN    NaN  ...     NaN     NaN     NaN     NaN   \n",
       "2018-03-01 03:00:00  124.0    NaN    NaN  ...     NaN     NaN     NaN     NaN   \n",
       "2018-03-01 04:00:00   85.0  124.0    NaN  ...     NaN     NaN     NaN     NaN   \n",
       "\n",
       "                     lag_20  lag_21  lag_22  lag_23  lag_24  rolling_mean  \n",
       "datetime                                                                   \n",
       "2018-03-01 00:00:00     NaN     NaN     NaN     NaN     NaN           NaN  \n",
       "2018-03-01 01:00:00     NaN     NaN     NaN     NaN     NaN           NaN  \n",
       "2018-03-01 02:00:00     NaN     NaN     NaN     NaN     NaN           NaN  \n",
       "2018-03-01 03:00:00     NaN     NaN     NaN     NaN     NaN           NaN  \n",
       "2018-03-01 04:00:00     NaN     NaN     NaN     NaN     NaN           NaN  \n",
       "\n",
       "[5 rows x 30 columns]"
      ]
     },
     "execution_count": 16,
     "metadata": {},
     "output_type": "execute_result"
    }
   ],
   "source": [
    "#функция создания признаков для горизонта прогнозирования на 1 шаг\n",
    "def get_features(df, max_lag, rolling_mean_size):\n",
    "    #создаем копию входного DataFrame\n",
    "    df_copy = df.copy()\n",
    "    \n",
    "    #добавление признаков месяца, дня, дня недели и часа\n",
    "    df_copy['month'] = df_copy.index.month\n",
    "    df_copy['day'] = df_copy.index.day\n",
    "    df_copy['dayofweek'] = df_copy.index.dayofweek\n",
    "    df_copy['hour'] = df_copy.index.hour\n",
    "    \n",
    "    #вычисление отстающих признаков с шагом от 1 до max_lag\n",
    "    for lag in range(1, max_lag + 1):\n",
    "        df_copy[f'lag_{lag}'] = df_copy['num_orders'].shift(lag)\n",
    "    \n",
    "    #вычисление скользящего среднего с заданным окном rolling_mean_size\n",
    "    df_copy['rolling_mean'] = df_copy['num_orders'].shift().rolling(rolling_mean_size).mean()\n",
    "    \n",
    "    #возвращаем новый DataFrame с добавленными признаками\n",
    "    return df_copy\n",
    "\n",
    "#применение функции с max_lag = 24 и размером окна скользящего среднего = 10\n",
    "df_1 = get_features(df, max_lag=24, rolling_mean_size=10)\n",
    "\n",
    "df_1.head()"
   ]
  },
  {
   "cell_type": "code",
   "execution_count": 24,
   "metadata": {
    "scrolled": false
   },
   "outputs": [
    {
     "data": {
      "text/plain": [
       "(4392, 30)"
      ]
     },
     "execution_count": 24,
     "metadata": {},
     "output_type": "execute_result"
    }
   ],
   "source": [
    "df_1.shape"
   ]
  },
  {
   "cell_type": "code",
   "execution_count": 25,
   "metadata": {},
   "outputs": [],
   "source": [
    "#удалим пропуски\n",
    "df_1.dropna(inplace=True)"
   ]
  },
  {
   "cell_type": "code",
   "execution_count": 26,
   "metadata": {},
   "outputs": [
    {
     "data": {
      "text/plain": [
       "(4392, 30)"
      ]
     },
     "execution_count": 26,
     "metadata": {},
     "output_type": "execute_result"
    }
   ],
   "source": [
    "df_1.shape"
   ]
  },
  {
   "cell_type": "code",
   "execution_count": 27,
   "metadata": {},
   "outputs": [
    {
     "name": "stdout",
     "output_type": "stream",
     "text": [
      "<class 'pandas.core.frame.DataFrame'>\n",
      "DatetimeIndex: 4392 entries, 2018-03-02 00:00:00 to 2018-08-31 23:00:00\n",
      "Freq: H\n",
      "Data columns (total 30 columns):\n",
      " #   Column        Non-Null Count  Dtype  \n",
      "---  ------        --------------  -----  \n",
      " 0   num_orders    4392 non-null   int64  \n",
      " 1   month         4392 non-null   int64  \n",
      " 2   day           4392 non-null   int64  \n",
      " 3   dayofweek     4392 non-null   int64  \n",
      " 4   hour          4392 non-null   int64  \n",
      " 5   lag_1         4392 non-null   float64\n",
      " 6   lag_2         4392 non-null   float64\n",
      " 7   lag_3         4392 non-null   float64\n",
      " 8   lag_4         4392 non-null   float64\n",
      " 9   lag_5         4392 non-null   float64\n",
      " 10  lag_6         4392 non-null   float64\n",
      " 11  lag_7         4392 non-null   float64\n",
      " 12  lag_8         4392 non-null   float64\n",
      " 13  lag_9         4392 non-null   float64\n",
      " 14  lag_10        4392 non-null   float64\n",
      " 15  lag_11        4392 non-null   float64\n",
      " 16  lag_12        4392 non-null   float64\n",
      " 17  lag_13        4392 non-null   float64\n",
      " 18  lag_14        4392 non-null   float64\n",
      " 19  lag_15        4392 non-null   float64\n",
      " 20  lag_16        4392 non-null   float64\n",
      " 21  lag_17        4392 non-null   float64\n",
      " 22  lag_18        4392 non-null   float64\n",
      " 23  lag_19        4392 non-null   float64\n",
      " 24  lag_20        4392 non-null   float64\n",
      " 25  lag_21        4392 non-null   float64\n",
      " 26  lag_22        4392 non-null   float64\n",
      " 27  lag_23        4392 non-null   float64\n",
      " 28  lag_24        4392 non-null   float64\n",
      " 29  rolling_mean  4392 non-null   float64\n",
      "dtypes: float64(25), int64(5)\n",
      "memory usage: 1.0 MB\n"
     ]
    }
   ],
   "source": [
    "df_1.info()"
   ]
  },
  {
   "cell_type": "markdown",
   "metadata": {},
   "source": []
  },
  {
   "cell_type": "markdown",
   "metadata": {},
   "source": [
    "## Обучение"
   ]
  },
  {
   "cell_type": "code",
   "execution_count": 28,
   "metadata": {},
   "outputs": [],
   "source": [
    "#определение признаков и целевой переменной\n",
    "features = df_1.drop(columns='num_orders')\n",
    "target = df_1['num_orders']\n",
    "\n",
    "#разделение данных на обучающую и тестовую выборки (без перемешивания)\n",
    "features_train, features_test, target_train, target_test = train_test_split(\n",
    "    features, target, test_size=0.1, shuffle=False, random_state=42)"
   ]
  },
  {
   "cell_type": "code",
   "execution_count": 29,
   "metadata": {},
   "outputs": [],
   "source": [
    "tscv = TimeSeriesSplit(n_splits=2)"
   ]
  },
  {
   "cell_type": "markdown",
   "metadata": {},
   "source": [
    "### LinearRegression"
   ]
  },
  {
   "cell_type": "code",
   "execution_count": 30,
   "metadata": {},
   "outputs": [
    {
     "name": "stdout",
     "output_type": "stream",
     "text": [
      "RMSE для LinearRegression: 27.96424679977411\n"
     ]
    }
   ],
   "source": [
    "model_lr = LinearRegression()\n",
    " \n",
    "model_lr.fit(features_train, target_train)\n",
    "\n",
    "rmse_lr = -cross_val_score(model_lr, features_train, target_train, cv=tscv, scoring='neg_root_mean_squared_error').mean()\n",
    "print(f'RMSE для LinearRegression: {rmse_lr}')"
   ]
  },
  {
   "cell_type": "markdown",
   "metadata": {},
   "source": [
    "### CatBoostRegressor"
   ]
  },
  {
   "cell_type": "code",
   "execution_count": 31,
   "metadata": {},
   "outputs": [
    {
     "name": "stdout",
     "output_type": "stream",
     "text": [
      "RMSE для CatBoostRegressor: 27.2602697784843\n"
     ]
    }
   ],
   "source": [
    "model_catboost = CatBoostRegressor(verbose=False)\n",
    "model_catboost.fit(features_train, target_train, verbose=False)\n",
    "rmse_cat = -cross_val_score(model_catboost, features_train, target_train, cv=tscv, scoring='neg_root_mean_squared_error').mean()\n",
    "print(f'RMSE для CatBoostRegressor: {rmse_cat}')"
   ]
  },
  {
   "cell_type": "markdown",
   "metadata": {},
   "source": [
    "### RandomForestRegressor"
   ]
  },
  {
   "cell_type": "code",
   "execution_count": 32,
   "metadata": {},
   "outputs": [
    {
     "name": "stdout",
     "output_type": "stream",
     "text": [
      "Лучшие параметры для RandomForestRegressor: {'max_depth': 9, 'n_estimators': 90}\n",
      "RMSE для RandomForestRegressor: 27.876271735084714\n"
     ]
    }
   ],
   "source": [
    "model_rfr = RandomForestRegressor(random_state=42)\n",
    "parameters = {\n",
    "    'n_estimators':range(50,100,10), \n",
    "    'max_depth':range(1,11,2)\n",
    "}\n",
    "\n",
    "gsearch = GridSearchCV(estimator=model_rfr, cv=tscv, param_grid=parameters, scoring='neg_root_mean_squared_error')\n",
    "gsearch.fit(features_train, target_train)\n",
    "best_params = gsearch.best_params_\n",
    "rmse_rfr = -gsearch.best_score_\n",
    "print(f'Лучшие параметры для RandomForestRegressor: {best_params}')\n",
    "print(f'RMSE для RandomForestRegressor: {rmse_rfr}')"
   ]
  },
  {
   "cell_type": "markdown",
   "metadata": {},
   "source": [
    "### LGBMRegressor"
   ]
  },
  {
   "cell_type": "code",
   "execution_count": 34,
   "metadata": {
    "scrolled": false
   },
   "outputs": [
    {
     "name": "stdout",
     "output_type": "stream",
     "text": [
      "RMSE для LGBMRegressor: 27.50974960800408\n"
     ]
    }
   ],
   "source": [
    "model_lgb = lgb.LGBMRegressor()\n",
    "model_lgb.fit(features_train, target_train, callbacks=[log_evaluation(0)])\n",
    "rmse_lgb = -cross_val_score(model_lgb, features_train, target_train, cv=tscv, scoring='neg_root_mean_squared_error').mean()\n",
    "print(f'RMSE для LGBMRegressor: {rmse_lgb}')"
   ]
  },
  {
   "cell_type": "markdown",
   "metadata": {},
   "source": [
    "## Тестирование"
   ]
  },
  {
   "cell_type": "markdown",
   "metadata": {},
   "source": [
    "Добавим расчеты RMSE в DataFrame с результатами и построим графики для исходных и предсказанных данных для каждой модели"
   ]
  },
  {
   "cell_type": "code",
   "execution_count": 35,
   "metadata": {
    "scrolled": true
   },
   "outputs": [
    {
     "data": {
      "text/html": [
       "<div>\n",
       "<style scoped>\n",
       "    .dataframe tbody tr th:only-of-type {\n",
       "        vertical-align: middle;\n",
       "    }\n",
       "\n",
       "    .dataframe tbody tr th {\n",
       "        vertical-align: top;\n",
       "    }\n",
       "\n",
       "    .dataframe thead th {\n",
       "        text-align: right;\n",
       "    }\n",
       "</style>\n",
       "<table border=\"1\" class=\"dataframe\">\n",
       "  <thead>\n",
       "    <tr style=\"text-align: right;\">\n",
       "      <th></th>\n",
       "      <th>Model</th>\n",
       "      <th>RMSE_train</th>\n",
       "    </tr>\n",
       "  </thead>\n",
       "  <tbody>\n",
       "    <tr>\n",
       "      <th>1</th>\n",
       "      <td>CatBoostRegressor</td>\n",
       "      <td>27.260270</td>\n",
       "    </tr>\n",
       "    <tr>\n",
       "      <th>3</th>\n",
       "      <td>LGBMRegressor</td>\n",
       "      <td>27.509750</td>\n",
       "    </tr>\n",
       "    <tr>\n",
       "      <th>2</th>\n",
       "      <td>RandomForestRegressor</td>\n",
       "      <td>27.876272</td>\n",
       "    </tr>\n",
       "    <tr>\n",
       "      <th>0</th>\n",
       "      <td>Linear Regression</td>\n",
       "      <td>27.964247</td>\n",
       "    </tr>\n",
       "  </tbody>\n",
       "</table>\n",
       "</div>"
      ],
      "text/plain": [
       "                   Model  RMSE_train\n",
       "1      CatBoostRegressor   27.260270\n",
       "3          LGBMRegressor   27.509750\n",
       "2  RandomForestRegressor   27.876272\n",
       "0      Linear Regression   27.964247"
      ]
     },
     "metadata": {},
     "output_type": "display_data"
    }
   ],
   "source": [
    "results = pd.DataFrame({\n",
    "    'Model': ['Linear Regression', 'CatBoostRegressor', 'RandomForestRegressor', 'LGBMRegressor'],\n",
    "    'RMSE_train': [rmse_lr, rmse_cat, rmse_rfr, rmse_lgb]\n",
    "})\n",
    "display(results.sort_values(by='RMSE'))"
   ]
  },
  {
   "cell_type": "markdown",
   "metadata": {},
   "source": [
    "Лучшая модель - CatBoostRegressor, где rmse = 27.26, получим предсказания на тестовой выборке с использованием этой модели"
   ]
  },
  {
   "cell_type": "code",
   "execution_count": 36,
   "metadata": {},
   "outputs": [
    {
     "name": "stdout",
     "output_type": "stream",
     "text": [
      "\n",
      "RMSE CatBoostRegressor на тестовой выборке: 39.73\n"
     ]
    }
   ],
   "source": [
    "#предсказания на тестовой выборке\n",
    "predictions_test = model_catboost.predict(features_test)\n",
    "\n",
    "#расчет RMSE\n",
    "rmse_test_catboost = root_mean_squared_error(target_test, predictions_test)\n",
    "print(\"\\nRMSE CatBoostRegressor на тестовой выборке: %.2f\" % rmse_test_catboost)"
   ]
  },
  {
   "cell_type": "code",
   "execution_count": 37,
   "metadata": {},
   "outputs": [
    {
     "data": {
      "image/png": "[encoded data removed]",
      "text/plain": [
       "<Figure size 1440x720 with 1 Axes>"
      ]
     },
     "metadata": {},
     "output_type": "display_data"
    }
   ],
   "source": [
    "#построим график для исходных данных и для предсказанных\n",
    "predictions_test = pd.Series(predictions_test, index=target_test.index)\n",
    "plt.figure(figsize=(20,10))\n",
    "plt.xlabel('Дата', fontsize=14)\n",
    "plt.ylabel('Число заказов',fontsize=14)\n",
    "plt.plot(target_test, label='Исходная выборка')\n",
    "plt.plot(predictions_test, label='Предсказания')\n",
    "plt.legend(fontsize=14)\n",
    "plt.show()"
   ]
  },
  {
   "cell_type": "markdown",
   "metadata": {},
   "source": [
    "Вывод:\n",
    "Показатель RMSE на тестовой выборке дал значение 39.73, что соответствует условию задачи. На графике видно, что модель предсказывает адекватно, но по всплескам видно, что она иногда ошибается."
   ]
  }
 ],
 "metadata": {
  "ExecuteTimeLog": [
   {
    "duration": 372,
    "start_time": "2024-11-10T14:37:16.843Z"
   },
   {
    "duration": 180,
    "start_time": "2024-11-10T14:37:17.377Z"
   },
   {
    "duration": 13,
    "start_time": "2024-11-10T14:37:45.657Z"
   },
   {
    "duration": 10,
    "start_time": "2024-11-10T14:38:15.070Z"
   },
   {
    "duration": 6,
    "start_time": "2024-11-10T14:38:15.581Z"
   },
   {
    "duration": 4,
    "start_time": "2024-11-10T14:38:37.509Z"
   },
   {
    "duration": 11,
    "start_time": "2024-11-10T14:38:53.737Z"
   },
   {
    "duration": 8,
    "start_time": "2024-11-10T14:39:25.037Z"
   },
   {
    "duration": 368,
    "start_time": "2024-11-10T14:41:15.936Z"
   },
   {
    "duration": 287,
    "start_time": "2024-11-10T14:41:16.446Z"
   },
   {
    "duration": 254,
    "start_time": "2024-11-10T14:44:39.028Z"
   },
   {
    "duration": 553,
    "start_time": "2024-11-10T14:54:17.327Z"
   },
   {
    "duration": 4,
    "start_time": "2024-11-10T14:55:00.859Z"
   },
   {
    "duration": 96,
    "start_time": "2024-11-10T14:55:07.842Z"
   },
   {
    "duration": 23,
    "start_time": "2024-11-10T14:55:22.045Z"
   },
   {
    "duration": 7,
    "start_time": "2024-11-10T14:55:25.256Z"
   },
   {
    "duration": 314,
    "start_time": "2024-11-10T14:55:39.646Z"
   },
   {
    "duration": 297,
    "start_time": "2024-11-10T14:55:52.925Z"
   },
   {
    "duration": 275,
    "start_time": "2024-11-10T14:56:29.241Z"
   },
   {
    "duration": 324,
    "start_time": "2024-11-10T14:57:10.570Z"
   },
   {
    "duration": 15,
    "start_time": "2024-11-10T15:00:57.390Z"
   },
   {
    "duration": 34,
    "start_time": "2024-11-10T15:02:27.870Z"
   },
   {
    "duration": 4,
    "start_time": "2024-11-10T15:03:18.277Z"
   },
   {
    "duration": 9,
    "start_time": "2024-11-10T15:03:22.302Z"
   },
   {
    "duration": 4,
    "start_time": "2024-11-10T15:03:26.781Z"
   },
   {
    "duration": 8,
    "start_time": "2024-11-10T15:04:04.345Z"
   },
   {
    "duration": 23,
    "start_time": "2024-11-10T15:04:07.399Z"
   },
   {
    "duration": 12,
    "start_time": "2024-11-10T15:04:24.315Z"
   },
   {
    "duration": 4,
    "start_time": "2024-11-10T15:09:16.937Z"
   },
   {
    "duration": 11,
    "start_time": "2024-11-10T15:09:37.744Z"
   },
   {
    "duration": 273,
    "start_time": "2024-11-10T15:10:05.710Z"
   },
   {
    "duration": 7,
    "start_time": "2024-11-10T15:10:07.986Z"
   },
   {
    "duration": 20,
    "start_time": "2024-11-10T15:12:45.565Z"
   },
   {
    "duration": 2,
    "start_time": "2024-11-10T15:12:48.632Z"
   },
   {
    "duration": 124,
    "start_time": "2024-11-10T15:12:57.597Z"
   },
   {
    "duration": 176,
    "start_time": "2024-11-10T15:13:38.848Z"
   },
   {
    "duration": 3,
    "start_time": "2024-11-10T15:13:54.525Z"
   },
   {
    "duration": 164,
    "start_time": "2024-11-10T15:13:57.959Z"
   },
   {
    "duration": 64,
    "start_time": "2024-11-10T15:14:22.464Z"
   },
   {
    "duration": 17,
    "start_time": "2024-11-10T15:14:48.910Z"
   },
   {
    "duration": 13,
    "start_time": "2024-11-10T15:15:03.790Z"
   },
   {
    "duration": 27,
    "start_time": "2024-11-10T15:16:55.281Z"
   },
   {
    "duration": 138,
    "start_time": "2024-11-10T15:17:09.292Z"
   },
   {
    "duration": 23,
    "start_time": "2024-11-10T15:18:34.944Z"
   },
   {
    "duration": 6192,
    "start_time": "2024-11-10T15:19:39.825Z"
   },
   {
    "duration": 3,
    "start_time": "2024-11-10T15:22:01.986Z"
   },
   {
    "duration": 15,
    "start_time": "2024-11-10T15:22:02.609Z"
   },
   {
    "duration": 8,
    "start_time": "2024-11-10T15:22:03.213Z"
   },
   {
    "duration": 3,
    "start_time": "2024-11-10T15:22:25.686Z"
   },
   {
    "duration": 36680,
    "start_time": "2024-11-10T15:22:26.169Z"
   },
   {
    "duration": 36,
    "start_time": "2024-11-10T15:23:02.851Z"
   },
   {
    "duration": 9,
    "start_time": "2024-11-10T15:24:17.086Z"
   },
   {
    "duration": 41,
    "start_time": "2024-11-10T15:26:29.662Z"
   },
   {
    "duration": 1235,
    "start_time": "2024-11-10T15:26:30.192Z"
   },
   {
    "duration": 99,
    "start_time": "2024-11-10T15:26:31.429Z"
   },
   {
    "duration": 12,
    "start_time": "2024-11-10T15:27:18.488Z"
   },
   {
    "duration": 3,
    "start_time": "2024-11-10T15:27:52.023Z"
   },
   {
    "duration": 1107,
    "start_time": "2024-11-10T15:27:52.916Z"
   },
   {
    "duration": 12,
    "start_time": "2024-11-10T15:27:58.186Z"
   },
   {
    "duration": 8,
    "start_time": "2024-11-10T15:28:27.460Z"
   },
   {
    "duration": 13,
    "start_time": "2024-11-10T15:28:56.830Z"
   },
   {
    "duration": 16,
    "start_time": "2024-11-10T15:29:15.639Z"
   },
   {
    "duration": 9,
    "start_time": "2024-11-10T15:29:23.017Z"
   },
   {
    "duration": 10,
    "start_time": "2024-11-10T15:29:38.859Z"
   },
   {
    "duration": 380,
    "start_time": "2024-11-10T15:35:32.949Z"
   },
   {
    "duration": 54,
    "start_time": "2024-11-10T15:35:33.330Z"
   },
   {
    "duration": 13,
    "start_time": "2024-11-10T15:35:33.385Z"
   },
   {
    "duration": 11,
    "start_time": "2024-11-10T15:35:33.400Z"
   },
   {
    "duration": 18,
    "start_time": "2024-11-10T15:35:33.413Z"
   },
   {
    "duration": 43,
    "start_time": "2024-11-10T15:35:33.432Z"
   },
   {
    "duration": 4,
    "start_time": "2024-11-10T15:35:33.477Z"
   },
   {
    "duration": 9,
    "start_time": "2024-11-10T15:35:33.482Z"
   },
   {
    "duration": 755,
    "start_time": "2024-11-10T15:35:33.493Z"
   },
   {
    "duration": 4,
    "start_time": "2024-11-10T15:35:34.250Z"
   },
   {
    "duration": 9,
    "start_time": "2024-11-10T15:35:34.255Z"
   },
   {
    "duration": 373,
    "start_time": "2024-11-10T15:35:34.265Z"
   },
   {
    "duration": 290,
    "start_time": "2024-11-10T15:35:34.639Z"
   },
   {
    "duration": 201,
    "start_time": "2024-11-10T15:35:34.933Z"
   },
   {
    "duration": 320,
    "start_time": "2024-11-10T15:35:35.136Z"
   },
   {
    "duration": 32,
    "start_time": "2024-11-10T15:35:35.458Z"
   },
   {
    "duration": 3,
    "start_time": "2024-11-10T15:35:35.492Z"
   },
   {
    "duration": 25,
    "start_time": "2024-11-10T15:35:35.496Z"
   },
   {
    "duration": 19,
    "start_time": "2024-11-10T15:35:35.522Z"
   },
   {
    "duration": 32,
    "start_time": "2024-11-10T15:35:35.542Z"
   },
   {
    "duration": 10,
    "start_time": "2024-11-10T15:35:35.576Z"
   },
   {
    "duration": 283,
    "start_time": "2024-11-10T15:35:35.588Z"
   },
   {
    "duration": 19,
    "start_time": "2024-11-10T15:35:35.873Z"
   },
   {
    "duration": 4,
    "start_time": "2024-11-10T15:35:35.893Z"
   },
   {
    "duration": 9,
    "start_time": "2024-11-10T15:35:35.898Z"
   },
   {
    "duration": 213,
    "start_time": "2024-11-10T15:35:35.908Z"
   },
   {
    "duration": 114,
    "start_time": "2024-11-10T15:35:36.123Z"
   },
   {
    "duration": 0,
    "start_time": "2024-11-10T15:35:36.239Z"
   },
   {
    "duration": 0,
    "start_time": "2024-11-10T15:35:36.240Z"
   },
   {
    "duration": 0,
    "start_time": "2024-11-10T15:35:36.241Z"
   },
   {
    "duration": 0,
    "start_time": "2024-11-10T15:35:36.242Z"
   },
   {
    "duration": 0,
    "start_time": "2024-11-10T15:35:36.243Z"
   },
   {
    "duration": 0,
    "start_time": "2024-11-10T15:35:36.244Z"
   },
   {
    "duration": 0,
    "start_time": "2024-11-10T15:35:36.245Z"
   },
   {
    "duration": 0,
    "start_time": "2024-11-10T15:35:36.246Z"
   },
   {
    "duration": 10,
    "start_time": "2024-11-10T15:36:06.688Z"
   },
   {
    "duration": 6507,
    "start_time": "2024-11-10T15:36:18.106Z"
   },
   {
    "duration": 14,
    "start_time": "2024-11-10T15:36:51.085Z"
   },
   {
    "duration": 6505,
    "start_time": "2024-11-10T15:36:52.206Z"
   },
   {
    "duration": 27,
    "start_time": "2024-11-10T15:37:01.289Z"
   },
   {
    "duration": 36499,
    "start_time": "2024-11-10T15:37:01.803Z"
   },
   {
    "duration": 1268,
    "start_time": "2024-11-10T15:37:57.557Z"
   },
   {
    "duration": 56,
    "start_time": "2024-11-10T15:37:58.826Z"
   },
   {
    "duration": 13,
    "start_time": "2024-11-10T15:37:58.884Z"
   },
   {
    "duration": 10,
    "start_time": "2024-11-10T15:37:58.899Z"
   },
   {
    "duration": 5,
    "start_time": "2024-11-10T15:37:58.911Z"
   },
   {
    "duration": 13,
    "start_time": "2024-11-10T15:37:58.921Z"
   },
   {
    "duration": 3,
    "start_time": "2024-11-10T15:37:58.935Z"
   },
   {
    "duration": 8,
    "start_time": "2024-11-10T15:37:58.940Z"
   },
   {
    "duration": 200,
    "start_time": "2024-11-10T15:37:58.950Z"
   },
   {
    "duration": 4,
    "start_time": "2024-11-10T15:37:59.151Z"
   },
   {
    "duration": 12,
    "start_time": "2024-11-10T15:37:59.156Z"
   },
   {
    "duration": 358,
    "start_time": "2024-11-10T15:37:59.169Z"
   },
   {
    "duration": 373,
    "start_time": "2024-11-10T15:37:59.529Z"
   },
   {
    "duration": 218,
    "start_time": "2024-11-10T15:37:59.905Z"
   },
   {
    "duration": 359,
    "start_time": "2024-11-10T15:38:00.125Z"
   },
   {
    "duration": 41,
    "start_time": "2024-11-10T15:38:00.485Z"
   },
   {
    "duration": 59,
    "start_time": "2024-11-10T15:38:00.528Z"
   },
   {
    "duration": 13,
    "start_time": "2024-11-10T15:38:00.589Z"
   },
   {
    "duration": 45,
    "start_time": "2024-11-10T15:38:00.603Z"
   },
   {
    "duration": 43,
    "start_time": "2024-11-10T15:38:00.650Z"
   },
   {
    "duration": 20,
    "start_time": "2024-11-10T15:38:00.694Z"
   },
   {
    "duration": 21,
    "start_time": "2024-11-10T15:38:00.716Z"
   },
   {
    "duration": 21,
    "start_time": "2024-11-10T15:38:00.739Z"
   },
   {
    "duration": 278,
    "start_time": "2024-11-10T15:38:00.762Z"
   },
   {
    "duration": 0,
    "start_time": "2024-11-10T15:38:01.041Z"
   },
   {
    "duration": 0,
    "start_time": "2024-11-10T15:38:01.042Z"
   },
   {
    "duration": 0,
    "start_time": "2024-11-10T15:38:01.043Z"
   },
   {
    "duration": 0,
    "start_time": "2024-11-10T15:38:01.045Z"
   },
   {
    "duration": 0,
    "start_time": "2024-11-10T15:38:01.045Z"
   },
   {
    "duration": 0,
    "start_time": "2024-11-10T15:38:01.046Z"
   },
   {
    "duration": 0,
    "start_time": "2024-11-10T15:38:01.047Z"
   },
   {
    "duration": 75,
    "start_time": "2024-11-10T15:38:11.650Z"
   },
   {
    "duration": 6398,
    "start_time": "2024-11-10T15:38:14.440Z"
   },
   {
    "duration": 38089,
    "start_time": "2024-11-10T15:38:21.896Z"
   },
   {
    "duration": 46,
    "start_time": "2024-11-10T15:38:59.987Z"
   },
   {
    "duration": 4202,
    "start_time": "2024-11-10T15:39:00.034Z"
   },
   {
    "duration": 107,
    "start_time": "2024-11-10T15:39:04.238Z"
   },
   {
    "duration": 9,
    "start_time": "2024-11-10T15:39:04.421Z"
   },
   {
    "duration": 21,
    "start_time": "2024-11-10T15:39:04.431Z"
   },
   {
    "duration": 10,
    "start_time": "2024-11-10T15:39:38.414Z"
   },
   {
    "duration": 6451,
    "start_time": "2024-11-10T15:40:00.531Z"
   },
   {
    "duration": 16,
    "start_time": "2024-11-10T15:40:06.984Z"
   },
   {
    "duration": 9,
    "start_time": "2024-11-10T15:41:50.329Z"
   },
   {
    "duration": 11,
    "start_time": "2024-11-10T15:42:54.666Z"
   },
   {
    "duration": 6,
    "start_time": "2024-11-10T15:43:14.053Z"
   },
   {
    "duration": 429,
    "start_time": "2024-11-10T15:43:14.782Z"
   },
   {
    "duration": 2838,
    "start_time": "2024-11-10T15:44:47.185Z"
   },
   {
    "duration": 4,
    "start_time": "2024-11-10T15:44:50.026Z"
   },
   {
    "duration": 3,
    "start_time": "2024-11-10T15:45:32.125Z"
   },
   {
    "duration": 2785,
    "start_time": "2024-11-10T15:45:36.265Z"
   },
   {
    "duration": 1066,
    "start_time": "2024-11-10T15:45:39.052Z"
   },
   {
    "duration": 54,
    "start_time": "2024-11-10T15:45:40.119Z"
   },
   {
    "duration": 11,
    "start_time": "2024-11-10T15:45:40.175Z"
   },
   {
    "duration": 10,
    "start_time": "2024-11-10T15:45:40.188Z"
   },
   {
    "duration": 4,
    "start_time": "2024-11-10T15:45:40.199Z"
   },
   {
    "duration": 14,
    "start_time": "2024-11-10T15:45:40.205Z"
   },
   {
    "duration": 4,
    "start_time": "2024-11-10T15:45:40.221Z"
   },
   {
    "duration": 8,
    "start_time": "2024-11-10T15:45:40.226Z"
   },
   {
    "duration": 178,
    "start_time": "2024-11-10T15:45:40.235Z"
   },
   {
    "duration": 7,
    "start_time": "2024-11-10T15:45:40.414Z"
   },
   {
    "duration": 26,
    "start_time": "2024-11-10T15:45:40.422Z"
   },
   {
    "duration": 372,
    "start_time": "2024-11-10T15:45:40.449Z"
   },
   {
    "duration": 366,
    "start_time": "2024-11-10T15:45:40.824Z"
   },
   {
    "duration": 200,
    "start_time": "2024-11-10T15:45:41.192Z"
   },
   {
    "duration": 329,
    "start_time": "2024-11-10T15:45:41.394Z"
   },
   {
    "duration": 32,
    "start_time": "2024-11-10T15:45:41.724Z"
   },
   {
    "duration": 3,
    "start_time": "2024-11-10T15:45:41.757Z"
   },
   {
    "duration": 11,
    "start_time": "2024-11-10T15:45:41.762Z"
   },
   {
    "duration": 4,
    "start_time": "2024-11-10T15:45:41.774Z"
   },
   {
    "duration": 43,
    "start_time": "2024-11-10T15:45:41.779Z"
   },
   {
    "duration": 11,
    "start_time": "2024-11-10T15:45:41.823Z"
   },
   {
    "duration": 3,
    "start_time": "2024-11-10T15:45:41.835Z"
   },
   {
    "duration": 5,
    "start_time": "2024-11-10T15:45:41.840Z"
   },
   {
    "duration": 176,
    "start_time": "2024-11-10T15:45:41.846Z"
   },
   {
    "duration": 6361,
    "start_time": "2024-11-10T15:45:42.024Z"
   },
   {
    "duration": 43110,
    "start_time": "2024-11-10T15:45:48.386Z"
   },
   {
    "duration": 36,
    "start_time": "2024-11-10T15:46:31.497Z"
   },
   {
    "duration": 1290,
    "start_time": "2024-11-10T15:46:31.535Z"
   },
   {
    "duration": 13,
    "start_time": "2024-11-10T15:46:32.827Z"
   },
   {
    "duration": 89,
    "start_time": "2024-11-10T15:46:32.841Z"
   },
   {
    "duration": 33,
    "start_time": "2024-11-10T15:46:32.932Z"
   },
   {
    "duration": 441,
    "start_time": "2024-11-10T15:46:32.966Z"
   },
   {
    "duration": 11,
    "start_time": "2024-11-10T15:47:25.056Z"
   },
   {
    "duration": 4,
    "start_time": "2024-11-10T15:49:29.111Z"
   },
   {
    "duration": 2763,
    "start_time": "2024-11-10T15:50:09.752Z"
   },
   {
    "duration": 1348,
    "start_time": "2024-11-10T15:50:12.517Z"
   },
   {
    "duration": 52,
    "start_time": "2024-11-10T15:50:13.866Z"
   },
   {
    "duration": 9,
    "start_time": "2024-11-10T15:50:13.920Z"
   },
   {
    "duration": 10,
    "start_time": "2024-11-10T15:50:13.930Z"
   },
   {
    "duration": 5,
    "start_time": "2024-11-10T15:50:13.941Z"
   },
   {
    "duration": 12,
    "start_time": "2024-11-10T15:50:13.947Z"
   },
   {
    "duration": 4,
    "start_time": "2024-11-10T15:50:13.960Z"
   },
   {
    "duration": 8,
    "start_time": "2024-11-10T15:50:13.965Z"
   },
   {
    "duration": 3,
    "start_time": "2024-11-10T15:50:13.975Z"
   },
   {
    "duration": 44,
    "start_time": "2024-11-10T15:50:13.979Z"
   },
   {
    "duration": 357,
    "start_time": "2024-11-10T15:50:14.024Z"
   },
   {
    "duration": 353,
    "start_time": "2024-11-10T15:50:14.383Z"
   },
   {
    "duration": 206,
    "start_time": "2024-11-10T15:50:14.739Z"
   },
   {
    "duration": 329,
    "start_time": "2024-11-10T15:50:14.946Z"
   },
   {
    "duration": 31,
    "start_time": "2024-11-10T15:50:15.276Z"
   },
   {
    "duration": 15,
    "start_time": "2024-11-10T15:50:15.308Z"
   },
   {
    "duration": 73,
    "start_time": "2024-11-10T15:50:15.324Z"
   },
   {
    "duration": 3,
    "start_time": "2024-11-10T15:50:15.398Z"
   },
   {
    "duration": 21,
    "start_time": "2024-11-10T15:50:15.403Z"
   },
   {
    "duration": 15,
    "start_time": "2024-11-10T15:50:15.425Z"
   },
   {
    "duration": 4,
    "start_time": "2024-11-10T15:50:15.441Z"
   },
   {
    "duration": 14,
    "start_time": "2024-11-10T15:50:15.446Z"
   },
   {
    "duration": 163,
    "start_time": "2024-11-10T15:50:15.461Z"
   },
   {
    "duration": 6357,
    "start_time": "2024-11-10T15:50:15.626Z"
   },
   {
    "duration": 42699,
    "start_time": "2024-11-10T15:50:21.985Z"
   },
   {
    "duration": 41,
    "start_time": "2024-11-10T15:51:04.686Z"
   },
   {
    "duration": 1195,
    "start_time": "2024-11-10T15:51:04.729Z"
   },
   {
    "duration": 13,
    "start_time": "2024-11-10T15:51:05.925Z"
   },
   {
    "duration": 84,
    "start_time": "2024-11-10T15:51:05.940Z"
   },
   {
    "duration": 19,
    "start_time": "2024-11-10T15:51:06.025Z"
   },
   {
    "duration": 419,
    "start_time": "2024-11-10T15:51:06.045Z"
   },
   {
    "duration": 28,
    "start_time": "2024-11-10T15:52:25.638Z"
   },
   {
    "duration": 171,
    "start_time": "2024-11-10T15:54:56.116Z"
   },
   {
    "duration": 2,
    "start_time": "2024-11-10T15:55:03.879Z"
   },
   {
    "duration": 13,
    "start_time": "2024-11-10T15:55:04.401Z"
   },
   {
    "duration": 3,
    "start_time": "2024-11-10T15:55:31.215Z"
   },
   {
    "duration": 3076,
    "start_time": "2024-11-10T15:56:23.775Z"
   },
   {
    "duration": 1300,
    "start_time": "2024-11-10T15:56:26.854Z"
   },
   {
    "duration": 53,
    "start_time": "2024-11-10T15:56:28.156Z"
   },
   {
    "duration": 11,
    "start_time": "2024-11-10T15:56:28.210Z"
   },
   {
    "duration": 10,
    "start_time": "2024-11-10T15:56:28.223Z"
   },
   {
    "duration": 5,
    "start_time": "2024-11-10T15:56:28.235Z"
   },
   {
    "duration": 12,
    "start_time": "2024-11-10T15:56:28.242Z"
   },
   {
    "duration": 4,
    "start_time": "2024-11-10T15:56:28.256Z"
   },
   {
    "duration": 8,
    "start_time": "2024-11-10T15:56:28.261Z"
   },
   {
    "duration": 3,
    "start_time": "2024-11-10T15:56:28.270Z"
   },
   {
    "duration": 47,
    "start_time": "2024-11-10T15:56:28.274Z"
   },
   {
    "duration": 342,
    "start_time": "2024-11-10T15:56:28.323Z"
   },
   {
    "duration": 358,
    "start_time": "2024-11-10T15:56:28.667Z"
   },
   {
    "duration": 198,
    "start_time": "2024-11-10T15:56:29.027Z"
   },
   {
    "duration": 332,
    "start_time": "2024-11-10T15:56:29.226Z"
   },
   {
    "duration": 40,
    "start_time": "2024-11-10T15:56:29.560Z"
   },
   {
    "duration": 20,
    "start_time": "2024-11-10T15:56:29.602Z"
   },
   {
    "duration": 8,
    "start_time": "2024-11-10T15:56:29.623Z"
   },
   {
    "duration": 3,
    "start_time": "2024-11-10T15:56:29.632Z"
   },
   {
    "duration": 10,
    "start_time": "2024-11-10T15:56:29.637Z"
   },
   {
    "duration": 3,
    "start_time": "2024-11-10T15:56:29.648Z"
   },
   {
    "duration": 14,
    "start_time": "2024-11-10T15:56:29.653Z"
   },
   {
    "duration": 155,
    "start_time": "2024-11-10T15:56:29.668Z"
   },
   {
    "duration": 6246,
    "start_time": "2024-11-10T15:56:29.825Z"
   },
   {
    "duration": 43668,
    "start_time": "2024-11-10T15:56:36.072Z"
   },
   {
    "duration": 41,
    "start_time": "2024-11-10T15:57:19.741Z"
   },
   {
    "duration": 1150,
    "start_time": "2024-11-10T15:57:19.783Z"
   },
   {
    "duration": 93,
    "start_time": "2024-11-10T15:57:20.934Z"
   },
   {
    "duration": 9,
    "start_time": "2024-11-10T15:57:21.029Z"
   },
   {
    "duration": 12,
    "start_time": "2024-11-10T15:57:21.039Z"
   },
   {
    "duration": 463,
    "start_time": "2024-11-10T15:57:21.053Z"
   },
   {
    "duration": 2752,
    "start_time": "2024-11-10T15:57:43.010Z"
   },
   {
    "duration": 1215,
    "start_time": "2024-11-10T15:57:45.764Z"
   },
   {
    "duration": 54,
    "start_time": "2024-11-10T15:57:46.980Z"
   },
   {
    "duration": 9,
    "start_time": "2024-11-10T15:57:47.036Z"
   },
   {
    "duration": 10,
    "start_time": "2024-11-10T15:57:47.047Z"
   },
   {
    "duration": 5,
    "start_time": "2024-11-10T15:57:47.058Z"
   },
   {
    "duration": 11,
    "start_time": "2024-11-10T15:57:47.064Z"
   },
   {
    "duration": 3,
    "start_time": "2024-11-10T15:57:47.076Z"
   },
   {
    "duration": 9,
    "start_time": "2024-11-10T15:57:47.080Z"
   },
   {
    "duration": 31,
    "start_time": "2024-11-10T15:57:47.091Z"
   },
   {
    "duration": 18,
    "start_time": "2024-11-10T15:57:47.124Z"
   },
   {
    "duration": 398,
    "start_time": "2024-11-10T15:57:47.143Z"
   },
   {
    "duration": 357,
    "start_time": "2024-11-10T15:57:47.543Z"
   },
   {
    "duration": 200,
    "start_time": "2024-11-10T15:57:47.903Z"
   },
   {
    "duration": 328,
    "start_time": "2024-11-10T15:57:48.105Z"
   },
   {
    "duration": 40,
    "start_time": "2024-11-10T15:57:48.434Z"
   },
   {
    "duration": 4,
    "start_time": "2024-11-10T15:57:48.476Z"
   },
   {
    "duration": 8,
    "start_time": "2024-11-10T15:57:48.481Z"
   },
   {
    "duration": 4,
    "start_time": "2024-11-10T15:57:48.490Z"
   },
   {
    "duration": 12,
    "start_time": "2024-11-10T15:57:48.521Z"
   },
   {
    "duration": 8,
    "start_time": "2024-11-10T15:57:48.534Z"
   },
   {
    "duration": 107,
    "start_time": "2024-11-10T15:57:48.543Z"
   },
   {
    "duration": 6286,
    "start_time": "2024-11-10T15:57:48.652Z"
   },
   {
    "duration": 43794,
    "start_time": "2024-11-10T15:57:54.939Z"
   },
   {
    "duration": 43,
    "start_time": "2024-11-10T15:58:38.735Z"
   },
   {
    "duration": 1144,
    "start_time": "2024-11-10T15:58:38.779Z"
   },
   {
    "duration": 12,
    "start_time": "2024-11-10T15:58:39.924Z"
   },
   {
    "duration": 8,
    "start_time": "2024-11-10T15:58:39.937Z"
   },
   {
    "duration": 77,
    "start_time": "2024-11-10T15:58:39.946Z"
   },
   {
    "duration": 422,
    "start_time": "2024-11-10T15:58:40.024Z"
   },
   {
    "duration": 5,
    "start_time": "2024-11-10T15:59:09.165Z"
   },
   {
    "duration": 46021,
    "start_time": "2024-11-10T16:01:46.406Z"
   },
   {
    "duration": 2978,
    "start_time": "2024-11-10T16:05:34.308Z"
   },
   {
    "duration": 1313,
    "start_time": "2024-11-10T16:05:37.289Z"
   },
   {
    "duration": 54,
    "start_time": "2024-11-10T16:05:40.490Z"
   },
   {
    "duration": 10,
    "start_time": "2024-11-10T16:05:40.984Z"
   },
   {
    "duration": 11,
    "start_time": "2024-11-10T16:05:41.691Z"
   },
   {
    "duration": 5,
    "start_time": "2024-11-10T16:05:42.038Z"
   },
   {
    "duration": 12,
    "start_time": "2024-11-10T16:05:42.504Z"
   },
   {
    "duration": 4,
    "start_time": "2024-11-10T16:05:43.017Z"
   },
   {
    "duration": 9,
    "start_time": "2024-11-10T16:05:43.560Z"
   },
   {
    "duration": 4,
    "start_time": "2024-11-10T16:05:45.835Z"
   },
   {
    "duration": 4,
    "start_time": "2024-11-10T16:06:59.685Z"
   },
   {
    "duration": 6,
    "start_time": "2024-11-10T16:07:00.187Z"
   },
   {
    "duration": 4,
    "start_time": "2024-11-10T16:07:01.703Z"
   },
   {
    "duration": 8,
    "start_time": "2024-11-10T16:07:02.480Z"
   },
   {
    "duration": 356,
    "start_time": "2024-11-10T16:07:02.885Z"
   },
   {
    "duration": 350,
    "start_time": "2024-11-10T16:07:03.610Z"
   },
   {
    "duration": 193,
    "start_time": "2024-11-10T16:07:04.202Z"
   },
   {
    "duration": 321,
    "start_time": "2024-11-10T16:07:07.525Z"
   },
   {
    "duration": 40,
    "start_time": "2024-11-10T16:08:40.978Z"
   },
   {
    "duration": 4,
    "start_time": "2024-11-10T16:08:41.620Z"
   },
   {
    "duration": 8,
    "start_time": "2024-11-10T16:08:41.941Z"
   },
   {
    "duration": 4,
    "start_time": "2024-11-10T16:08:42.371Z"
   },
   {
    "duration": 11,
    "start_time": "2024-11-10T16:08:42.601Z"
   },
   {
    "duration": 7,
    "start_time": "2024-11-10T16:08:43.073Z"
   },
   {
    "duration": 188,
    "start_time": "2024-11-10T16:08:43.633Z"
   },
   {
    "duration": 6174,
    "start_time": "2024-11-10T16:08:44.974Z"
   },
   {
    "duration": 44684,
    "start_time": "2024-11-10T16:08:51.150Z"
   },
   {
    "duration": 42,
    "start_time": "2024-11-10T16:09:35.836Z"
   },
   {
    "duration": 1251,
    "start_time": "2024-11-10T16:09:35.880Z"
   },
   {
    "duration": 9,
    "start_time": "2024-11-10T16:09:37.133Z"
   },
   {
    "duration": 9,
    "start_time": "2024-11-10T16:09:37.220Z"
   },
   {
    "duration": 448,
    "start_time": "2024-11-10T16:09:37.231Z"
   },
   {
    "duration": 6955,
    "start_time": "2024-11-11T15:00:48.222Z"
   },
   {
    "duration": 1648,
    "start_time": "2024-11-11T15:00:55.179Z"
   },
   {
    "duration": 102,
    "start_time": "2024-11-11T15:01:00.753Z"
   },
   {
    "duration": 11,
    "start_time": "2024-11-11T15:01:00.972Z"
   },
   {
    "duration": 15,
    "start_time": "2024-11-11T15:01:01.172Z"
   },
   {
    "duration": 6,
    "start_time": "2024-11-11T15:01:01.362Z"
   },
   {
    "duration": 13,
    "start_time": "2024-11-11T15:01:01.554Z"
   },
   {
    "duration": 4,
    "start_time": "2024-11-11T15:01:01.774Z"
   },
   {
    "duration": 9,
    "start_time": "2024-11-11T15:01:02.013Z"
   },
   {
    "duration": 4,
    "start_time": "2024-11-11T15:01:02.843Z"
   },
   {
    "duration": 9,
    "start_time": "2024-11-11T15:01:03.008Z"
   },
   {
    "duration": 363,
    "start_time": "2024-11-11T15:01:03.194Z"
   },
   {
    "duration": 386,
    "start_time": "2024-11-11T15:01:03.559Z"
   },
   {
    "duration": 219,
    "start_time": "2024-11-11T15:01:03.947Z"
   },
   {
    "duration": 397,
    "start_time": "2024-11-11T15:01:04.167Z"
   },
   {
    "duration": 62,
    "start_time": "2024-11-11T15:01:06.647Z"
   },
   {
    "duration": 4,
    "start_time": "2024-11-11T15:01:07.202Z"
   },
   {
    "duration": 11,
    "start_time": "2024-11-11T15:01:07.457Z"
   },
   {
    "duration": 5,
    "start_time": "2024-11-11T15:01:07.875Z"
   },
   {
    "duration": 11,
    "start_time": "2024-11-11T15:01:08.142Z"
   },
   {
    "duration": 9,
    "start_time": "2024-11-11T15:01:09.876Z"
   },
   {
    "duration": 3,
    "start_time": "2024-11-11T15:01:11.947Z"
   },
   {
    "duration": 467,
    "start_time": "2024-11-11T15:01:18.346Z"
   },
   {
    "duration": 17868,
    "start_time": "2024-11-11T15:02:36.011Z"
   },
   {
    "duration": 47043,
    "start_time": "2024-11-11T15:03:02.461Z"
   },
   {
    "duration": 129,
    "start_time": "2024-11-11T15:03:49.506Z"
   },
   {
    "duration": 47076,
    "start_time": "2024-11-11T15:03:58.416Z"
   },
   {
    "duration": 94825,
    "start_time": "2024-11-11T15:05:05.597Z"
   },
   {
    "duration": 9,
    "start_time": "2024-11-11T15:06:41.956Z"
   },
   {
    "duration": 11,
    "start_time": "2024-11-11T15:06:44.341Z"
   },
   {
    "duration": 446,
    "start_time": "2024-11-11T15:06:52.981Z"
   },
   {
    "duration": 3247,
    "start_time": "2024-11-11T15:09:43.268Z"
   },
   {
    "duration": 1425,
    "start_time": "2024-11-11T15:09:46.517Z"
   },
   {
    "duration": 50,
    "start_time": "2024-11-11T15:09:47.944Z"
   },
   {
    "duration": 12,
    "start_time": "2024-11-11T15:09:47.996Z"
   },
   {
    "duration": 23,
    "start_time": "2024-11-11T15:09:48.011Z"
   },
   {
    "duration": 6,
    "start_time": "2024-11-11T15:09:48.035Z"
   },
   {
    "duration": 14,
    "start_time": "2024-11-11T15:09:48.042Z"
   },
   {
    "duration": 11,
    "start_time": "2024-11-11T15:09:48.058Z"
   },
   {
    "duration": 18,
    "start_time": "2024-11-11T15:09:48.071Z"
   },
   {
    "duration": 12,
    "start_time": "2024-11-11T15:09:48.091Z"
   },
   {
    "duration": 15,
    "start_time": "2024-11-11T15:09:48.105Z"
   },
   {
    "duration": 468,
    "start_time": "2024-11-11T15:09:48.121Z"
   },
   {
    "duration": 449,
    "start_time": "2024-11-11T15:09:48.591Z"
   },
   {
    "duration": 217,
    "start_time": "2024-11-11T15:09:49.042Z"
   },
   {
    "duration": 363,
    "start_time": "2024-11-11T15:09:49.261Z"
   },
   {
    "duration": 44,
    "start_time": "2024-11-11T15:09:49.625Z"
   },
   {
    "duration": 4,
    "start_time": "2024-11-11T15:09:49.671Z"
   },
   {
    "duration": 38,
    "start_time": "2024-11-11T15:09:49.677Z"
   },
   {
    "duration": 5,
    "start_time": "2024-11-11T15:09:49.717Z"
   },
   {
    "duration": 80,
    "start_time": "2024-11-11T15:09:49.724Z"
   },
   {
    "duration": 98,
    "start_time": "2024-11-11T15:09:49.806Z"
   },
   {
    "duration": 4,
    "start_time": "2024-11-11T15:09:49.907Z"
   },
   {
    "duration": 398,
    "start_time": "2024-11-11T15:09:49.913Z"
   },
   {
    "duration": 18762,
    "start_time": "2024-11-11T15:09:50.315Z"
   },
   {
    "duration": 48876,
    "start_time": "2024-11-11T15:10:09.079Z"
   },
   {
    "duration": 2,
    "start_time": "2024-11-11T15:10:57.957Z"
   },
   {
    "duration": 30645,
    "start_time": "2024-11-11T15:10:57.961Z"
   },
   {
    "duration": 19,
    "start_time": "2024-11-11T15:11:28.608Z"
   },
   {
    "duration": 15,
    "start_time": "2024-11-11T15:11:28.629Z"
   },
   {
    "duration": 574,
    "start_time": "2024-11-11T15:11:28.645Z"
   },
   {
    "duration": 3053,
    "start_time": "2024-11-11T15:15:50.360Z"
   },
   {
    "duration": 1381,
    "start_time": "2024-11-11T15:15:53.415Z"
   },
   {
    "duration": 50,
    "start_time": "2024-11-11T15:15:54.800Z"
   },
   {
    "duration": 10,
    "start_time": "2024-11-11T15:15:54.852Z"
   },
   {
    "duration": 10,
    "start_time": "2024-11-11T15:15:54.864Z"
   },
   {
    "duration": 5,
    "start_time": "2024-11-11T15:15:54.876Z"
   },
   {
    "duration": 19,
    "start_time": "2024-11-11T15:15:54.882Z"
   },
   {
    "duration": 3,
    "start_time": "2024-11-11T15:15:54.902Z"
   },
   {
    "duration": 12,
    "start_time": "2024-11-11T15:15:54.906Z"
   },
   {
    "duration": 11,
    "start_time": "2024-11-11T15:15:54.921Z"
   },
   {
    "duration": 10,
    "start_time": "2024-11-11T15:15:54.933Z"
   },
   {
    "duration": 380,
    "start_time": "2024-11-11T15:15:54.945Z"
   },
   {
    "duration": 379,
    "start_time": "2024-11-11T15:15:55.327Z"
   },
   {
    "duration": 219,
    "start_time": "2024-11-11T15:15:55.708Z"
   },
   {
    "duration": 362,
    "start_time": "2024-11-11T15:15:55.929Z"
   },
   {
    "duration": 42,
    "start_time": "2024-11-11T15:15:56.299Z"
   },
   {
    "duration": 3,
    "start_time": "2024-11-11T15:15:56.343Z"
   },
   {
    "duration": 22,
    "start_time": "2024-11-11T15:15:56.348Z"
   },
   {
    "duration": 12,
    "start_time": "2024-11-11T15:15:56.372Z"
   },
   {
    "duration": 28,
    "start_time": "2024-11-11T15:15:56.385Z"
   },
   {
    "duration": 6,
    "start_time": "2024-11-11T15:15:56.414Z"
   },
   {
    "duration": 4,
    "start_time": "2024-11-11T15:15:56.422Z"
   },
   {
    "duration": 189,
    "start_time": "2024-11-11T15:15:56.427Z"
   },
   {
    "duration": 0,
    "start_time": "2024-11-11T15:15:56.618Z"
   },
   {
    "duration": 0,
    "start_time": "2024-11-11T15:15:56.619Z"
   },
   {
    "duration": 0,
    "start_time": "2024-11-11T15:15:56.621Z"
   },
   {
    "duration": 0,
    "start_time": "2024-11-11T15:15:56.622Z"
   },
   {
    "duration": 0,
    "start_time": "2024-11-11T15:15:56.623Z"
   },
   {
    "duration": 0,
    "start_time": "2024-11-11T15:15:56.624Z"
   },
   {
    "duration": 0,
    "start_time": "2024-11-11T15:15:56.625Z"
   },
   {
    "duration": 4,
    "start_time": "2024-11-11T15:16:57.862Z"
   },
   {
    "duration": 6,
    "start_time": "2024-11-11T15:16:58.460Z"
   },
   {
    "duration": 3,
    "start_time": "2024-11-11T15:16:58.994Z"
   },
   {
    "duration": 17,
    "start_time": "2024-11-11T15:16:59.440Z"
   },
   {
    "duration": 7,
    "start_time": "2024-11-11T15:17:00.921Z"
   },
   {
    "duration": 3,
    "start_time": "2024-11-11T15:17:01.410Z"
   },
   {
    "duration": 458,
    "start_time": "2024-11-11T15:17:03.341Z"
   },
   {
    "duration": 17345,
    "start_time": "2024-11-11T15:17:06.075Z"
   },
   {
    "duration": 45779,
    "start_time": "2024-11-11T15:17:23.422Z"
   },
   {
    "duration": 3,
    "start_time": "2024-11-11T15:18:09.202Z"
   },
   {
    "duration": 5192,
    "start_time": "2024-11-11T15:18:09.207Z"
   },
   {
    "duration": 10,
    "start_time": "2024-11-11T15:18:14.402Z"
   },
   {
    "duration": 14,
    "start_time": "2024-11-11T15:18:14.414Z"
   },
   {
    "duration": 460,
    "start_time": "2024-11-11T15:18:14.430Z"
   }
  ],
  "kernelspec": {
   "display_name": "Python 3 (ipykernel)",
   "language": "python",
   "name": "python3"
  },
  "language_info": {
   "codemirror_mode": {
    "name": "ipython",
    "version": 3
   },
   "file_extension": ".py",
   "mimetype": "text/x-python",
   "name": "python",
   "nbconvert_exporter": "python",
   "pygments_lexer": "ipython3",
   "version": "3.9.5"
  },
  "toc": {
   "base_numbering": 1,
   "nav_menu": {},
   "number_sections": true,
   "sideBar": true,
   "skip_h1_title": true,
   "title_cell": "Содержание",
   "title_sidebar": "Contents",
   "toc_cell": true,
   "toc_position": {},
   "toc_section_display": true,
   "toc_window_display": false
  }
 },
 "nbformat": 4,
 "nbformat_minor": 2
}
